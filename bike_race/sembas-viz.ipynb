{
 "cells": [
  {
   "cell_type": "markdown",
   "metadata": {},
   "source": [
    "# Setup\n",
    "Specify the paths you chose for your models. Note: this will be relative to where\n",
    "this notebook is."
   ]
  },
  {
   "cell_type": "code",
   "execution_count": null,
   "metadata": {},
   "outputs": [],
   "source": [
    "import numpy as np\n",
    "import json\n",
    "\n",
    "from numpy import ndarray\n",
    "import matplotlib.pyplot as plt\n",
    "from matplotlib.axes import Axes\n",
    "\n",
    "BOUNDARY_PATH = \"\" # TODO set to the full path of your boundary folder\n",
    "\n",
    "\n",
    "def subplot_3d():\n",
    "    fig = plt.figure()\n",
    "    ax = fig.add_subplot(111, projection='3d')\n",
    "    return fig, ax\n",
    "\n",
    "def draw_arrows(ax: Axes, locs: ndarray, dirs: ndarray, scale: float = 0.1):\n",
    "    handles = []\n",
    "    for bp, s in zip(locs, dirs):\n",
    "        if is_3d:\n",
    "            handles.append(ax.quiver(*bp, *(s * scale), color='black'))\n",
    "        else:\n",
    "            print(bp)\n",
    "            print(s)\n",
    "            handles.append(ax.arrow(*bp, *(s * scale), head_width=scale * 0.1, head_length=scale*0.2))\n",
    "\n",
    "def subplot():\n",
    "    if is_3d:\n",
    "        fig, ax = subplot_3d()\n",
    "    else:\n",
    "        fig, ax = plt.subplots()\n",
    "\n",
    "    ax.set_xlim(0, 1)\n",
    "    ax.set_ylim(0, 1)\n",
    "    return fig, ax\n",
    "    \n",
    "def load_boundary(i: int, prefix=\"boundary\") -> ndarray:\n",
    "    with open(f\"{BOUNDARY_PATH}/{prefix}_{i}.json\") as f: # TODO\n",
    "        data = json.load(f)\n",
    "    return np.array(data[\"boundary_points\"]), np.array(data[\"boundary_surface\"])\n",
    "    \n",
    "# Load boundary\n",
    "bpoints, bdir = load_boundary(0)\n",
    "\n",
    "ndim = bdir.shape[1]\n",
    "is_3d = ndim == 3\n",
    "\n",
    "assert ndim <= 3, \"Cannot visualize more than 3 dimensions\"\n",
    "\n",
    "print(len(bpoints.T))\n",
    "print(bpoints.shape, bdir.shape)\n"
   ]
  },
  {
   "cell_type": "code",
   "execution_count": null,
   "metadata": {},
   "outputs": [],
   "source": [
    "# # Show boundary\n",
    "fig, ax = subplot()\n",
    "\n",
    "ax.scatter(*bpoints.T, color=\"red\")\n",
    "plt.show()"
   ]
  },
  {
   "cell_type": "code",
   "execution_count": null,
   "metadata": {},
   "outputs": [],
   "source": [
    "# show surface direction\n",
    "fig, ax = subplot()\n",
    "\n",
    "ax.scatter(*bpoints.T, color=\"red\")\n",
    "draw_arrows(ax, bpoints, bdir)\n",
    "plt.show()"
   ]
  }
 ],
 "metadata": {
  "kernelspec": {
   "display_name": ".venv",
   "language": "python",
   "name": "python3"
  },
  "language_info": {
   "codemirror_mode": {
    "name": "ipython",
    "version": 3
   },
   "file_extension": ".py",
   "mimetype": "text/x-python",
   "name": "python",
   "nbconvert_exporter": "python",
   "pygments_lexer": "ipython3",
   "version": "3.13.5"
  }
 },
 "nbformat": 4,
 "nbformat_minor": 2
}
