{
 "cells": [
  {
   "cell_type": "code",
   "execution_count": 7,
   "id": "da8ab82a",
   "metadata": {},
   "outputs": [
    {
     "data": {
      "application/vnd.plotly.v1+json": {
       "config": {
        "plotlyServerURL": "https://plot.ly"
       },
       "data": [
        {
         "hoverinfo": "text",
         "marker": {
          "color": [
           1,
           1,
           1,
           1,
           1,
           1,
           1,
           1,
           1,
           1,
           1,
           1,
           1,
           1,
           1,
           1,
           1,
           1,
           1,
           1,
           1,
           1,
           1,
           1,
           1,
           1,
           1,
           1,
           1,
           1,
           1,
           1,
           1,
           1,
           1,
           1,
           1,
           1,
           1,
           1,
           1,
           1,
           1,
           1,
           1,
           1,
           1,
           1,
           1,
           1
          ],
          "colorscale": [
           [
            0,
            "red"
           ],
           [
            1,
            "blue"
           ]
          ],
          "line": {
           "color": "black",
           "width": 2
          },
          "opacity": 1,
          "size": 10
         },
         "mode": "markers",
         "text": [
          "Point 1<br>Successful<br>(0.62, 0.15, 0.55)",
          "Point 2<br>Successful<br>(0.43, 0.92, 0.38)",
          "Point 3<br>Successful<br>(0.63, 0.30, 0.44)",
          "Point 4<br>Successful<br>(0.62, 0.28, 0.62)",
          "Point 5<br>Successful<br>(0.56, 0.80, 0.23)",
          "Point 6<br>Successful<br>(0.37, 0.36, 0.25)",
          "Point 7<br>Successful<br>(0.85, 0.59, 0.39)",
          "Point 8<br>Successful<br>(0.41, 0.99, 0.05)",
          "Point 9<br>Successful<br>(0.72, 0.64, 0.26)",
          "Point 10<br>Successful<br>(0.16, 0.76, 0.51)",
          "Point 11<br>Successful<br>(0.62, 0.69, 0.37)",
          "Point 12<br>Successful<br>(0.07, 0.86, 0.34)",
          "Point 13<br>Successful<br>(0.89, 0.72, 0.56)",
          "Point 14<br>Successful<br>(0.43, 0.94, 0.10)",
          "Point 15<br>Successful<br>(0.30, 0.27, 0.26)",
          "Point 16<br>Successful<br>(0.68, 0.04, 0.62)",
          "Point 17<br>Successful<br>(0.98, 0.11, 0.90)",
          "Point 18<br>Successful<br>(0.20, 0.55, 0.98)",
          "Point 19<br>Successful<br>(0.39, 0.37, 0.68)",
          "Point 20<br>Successful<br>(0.16, 0.01, 0.38)",
          "Point 21<br>Successful<br>(0.55, 0.54, 0.44)",
          "Point 22<br>Successful<br>(0.43, 0.47, 0.06)",
          "Point 23<br>Successful<br>(0.68, 0.06, 0.93)",
          "Point 24<br>Successful<br>(0.96, 0.65, 0.22)",
          "Point 25<br>Successful<br>(0.01, 0.80, 0.48)",
          "Point 26<br>Successful<br>(0.33, 0.66, 0.13)",
          "Point 27<br>Successful<br>(0.08, 0.38, 0.22)",
          "Point 28<br>Successful<br>(0.93, 0.32, 0.92)",
          "Point 29<br>Successful<br>(0.52, 0.59, 0.22)",
          "Point 30<br>Successful<br>(0.53, 0.23, 0.86)",
          "Point 31<br>Successful<br>(0.80, 0.16, 0.05)",
          "Point 32<br>Successful<br>(0.20, 0.47, 0.25)",
          "Point 33<br>Successful<br>(0.23, 0.17, 0.18)",
          "Point 34<br>Successful<br>(0.18, 1.00, 0.56)",
          "Point 35<br>Successful<br>(0.37, 0.59, 0.48)",
          "Point 36<br>Successful<br>(0.66, 0.43, 0.43)",
          "Point 37<br>Successful<br>(0.25, 0.87, 0.11)",
          "Point 38<br>Successful<br>(0.91, 0.72, 0.32)",
          "Point 39<br>Successful<br>(0.72, 1.00, 0.47)",
          "Point 40<br>Successful<br>(0.29, 0.85, 0.10)",
          "Point 41<br>Successful<br>(0.94, 0.42, 0.85)",
          "Point 42<br>Successful<br>(0.10, 0.32, 0.70)",
          "Point 43<br>Successful<br>(0.11, 0.26, 0.56)",
          "Point 44<br>Successful<br>(0.63, 0.33, 0.92)",
          "Point 45<br>Successful<br>(0.80, 0.91, 0.68)",
          "Point 46<br>Successful<br>(0.53, 0.61, 0.43)",
          "Point 47<br>Successful<br>(0.74, 0.20, 0.00)",
          "Point 48<br>Successful<br>(0.36, 0.96, 0.43)",
          "Point 49<br>Successful<br>(0.77, 0.34, 0.95)",
          "Point 50<br>Successful<br>(0.31, 0.44, 0.32)"
         ],
         "type": "scatter3d",
         "x": [
          0.6187038421630859,
          0.4309733510017395,
          0.633202075958252,
          0.6171934604644775,
          0.5640149116516113,
          0.36807411909103394,
          0.8483980298042297,
          0.41182270646095276,
          0.7155524492263794,
          0.15710684657096863,
          0.6151173710823059,
          0.07126164436340332,
          0.8857282400131226,
          0.43311676383018494,
          0.300484836101532,
          0.6845472455024719,
          0.9834809303283691,
          0.20092323422431946,
          0.38670825958251953,
          0.16330473124980927,
          0.553932785987854,
          0.42665812373161316,
          0.6798729300498962,
          0.9609898328781128,
          0.014662044122815132,
          0.3268008828163147,
          0.08314332365989685,
          0.9317308068275452,
          0.5203200578689575,
          0.5271678566932678,
          0.795424222946167,
          0.19910214841365814,
          0.2298857718706131,
          0.17861945927143097,
          0.3722141981124878,
          0.6631752848625183,
          0.2462480217218399,
          0.907467246055603,
          0.7159886360168457,
          0.2874554395675659,
          0.9418255686759949,
          0.10163471847772598,
          0.11168990284204483,
          0.6344100832939148,
          0.8012613654136658,
          0.5290498733520508,
          0.7412512898445129,
          0.3595631420612335,
          0.7664822340011597,
          0.3084098696708679
         ],
         "y": [
          0.1530042588710785,
          0.922994077205658,
          0.2978913187980652,
          0.2760917544364929,
          0.8019701838493347,
          0.3636828362941742,
          0.5896360874176025,
          0.9905396699905396,
          0.6365466713905334,
          0.759642481803894,
          0.6853414177894592,
          0.8599226474761963,
          0.7223174571990967,
          0.9355491399765015,
          0.26737815141677856,
          0.03678600490093231,
          0.11048614233732224,
          0.545847475528717,
          0.3657378852367401,
          0.012288601137697697,
          0.5393423438072205,
          0.4706273376941681,
          0.061592359095811844,
          0.6501597762107849,
          0.8036495447158813,
          0.6589164137840271,
          0.3802447021007538,
          0.3248792588710785,
          0.5899233222007751,
          0.23313072323799133,
          0.15845707058906555,
          0.4657752513885498,
          0.1725122034549713,
          0.9979071021080017,
          0.5931205153465271,
          0.4283774793148041,
          0.8676425814628601,
          0.7190986275672913,
          0.9977414608001709,
          0.8499425053596497,
          0.4230649769306183,
          0.31901615858078003,
          0.26036760210990906,
          0.3309231698513031,
          0.9118636846542358,
          0.6072548031806946,
          0.20158202946186066,
          0.9617940187454224,
          0.3444116413593292,
          0.4359925389289856
         ],
         "z": [
          0.5467185378074646,
          0.37547439336776733,
          0.44055160880088806,
          0.6204258799552917,
          0.23477290570735931,
          0.24676214158535004,
          0.38551363348960876,
          0.04790208116173744,
          0.2649681568145752,
          0.5102535486221313,
          0.36621415615081787,
          0.33686989545822144,
          0.5586579442024231,
          0.10445460677146912,
          0.2561188042163849,
          0.6245109438896179,
          0.8976757526397705,
          0.9813680052757263,
          0.6821339726448059,
          0.38225001096725464,
          0.4379022419452667,
          0.05570153519511223,
          0.9290456771850586,
          0.21910609304904938,
          0.4753222167491913,
          0.133392795920372,
          0.22161917388439178,
          0.9158852696418762,
          0.22478345036506653,
          0.8631775379180908,
          0.05110764876008034,
          0.24643972516059875,
          0.1771232783794403,
          0.5627447962760925,
          0.47558358311653137,
          0.43163424730300903,
          0.1146184504032135,
          0.3223641514778137,
          0.4730727970600128,
          0.102532297372818,
          0.8528536558151245,
          0.6952208876609802,
          0.559055745601654,
          0.9193447828292847,
          0.6810921430587769,
          0.42769160866737366,
          0.004603694658726454,
          0.4265846908092499,
          0.9497939348220825,
          0.3158806562423706
         ]
        }
       ],
       "layout": {
        "height": 800,
        "scene": {
         "xaxis": {
          "title": {
           "text": "Progress Weight"
          }
         },
         "yaxis": {
          "title": {
           "text": "Bounds Weight"
          }
         },
         "zaxis": {
          "title": {
           "text": "Proximity Weight"
          }
         }
        },
        "template": {
         "data": {
          "bar": [
           {
            "error_x": {
             "color": "#2a3f5f"
            },
            "error_y": {
             "color": "#2a3f5f"
            },
            "marker": {
             "line": {
              "color": "#E5ECF6",
              "width": 0.5
             },
             "pattern": {
              "fillmode": "overlay",
              "size": 10,
              "solidity": 0.2
             }
            },
            "type": "bar"
           }
          ],
          "barpolar": [
           {
            "marker": {
             "line": {
              "color": "#E5ECF6",
              "width": 0.5
             },
             "pattern": {
              "fillmode": "overlay",
              "size": 10,
              "solidity": 0.2
             }
            },
            "type": "barpolar"
           }
          ],
          "carpet": [
           {
            "aaxis": {
             "endlinecolor": "#2a3f5f",
             "gridcolor": "white",
             "linecolor": "white",
             "minorgridcolor": "white",
             "startlinecolor": "#2a3f5f"
            },
            "baxis": {
             "endlinecolor": "#2a3f5f",
             "gridcolor": "white",
             "linecolor": "white",
             "minorgridcolor": "white",
             "startlinecolor": "#2a3f5f"
            },
            "type": "carpet"
           }
          ],
          "choropleth": [
           {
            "colorbar": {
             "outlinewidth": 0,
             "ticks": ""
            },
            "type": "choropleth"
           }
          ],
          "contour": [
           {
            "colorbar": {
             "outlinewidth": 0,
             "ticks": ""
            },
            "colorscale": [
             [
              0,
              "#0d0887"
             ],
             [
              0.1111111111111111,
              "#46039f"
             ],
             [
              0.2222222222222222,
              "#7201a8"
             ],
             [
              0.3333333333333333,
              "#9c179e"
             ],
             [
              0.4444444444444444,
              "#bd3786"
             ],
             [
              0.5555555555555556,
              "#d8576b"
             ],
             [
              0.6666666666666666,
              "#ed7953"
             ],
             [
              0.7777777777777778,
              "#fb9f3a"
             ],
             [
              0.8888888888888888,
              "#fdca26"
             ],
             [
              1,
              "#f0f921"
             ]
            ],
            "type": "contour"
           }
          ],
          "contourcarpet": [
           {
            "colorbar": {
             "outlinewidth": 0,
             "ticks": ""
            },
            "type": "contourcarpet"
           }
          ],
          "heatmap": [
           {
            "colorbar": {
             "outlinewidth": 0,
             "ticks": ""
            },
            "colorscale": [
             [
              0,
              "#0d0887"
             ],
             [
              0.1111111111111111,
              "#46039f"
             ],
             [
              0.2222222222222222,
              "#7201a8"
             ],
             [
              0.3333333333333333,
              "#9c179e"
             ],
             [
              0.4444444444444444,
              "#bd3786"
             ],
             [
              0.5555555555555556,
              "#d8576b"
             ],
             [
              0.6666666666666666,
              "#ed7953"
             ],
             [
              0.7777777777777778,
              "#fb9f3a"
             ],
             [
              0.8888888888888888,
              "#fdca26"
             ],
             [
              1,
              "#f0f921"
             ]
            ],
            "type": "heatmap"
           }
          ],
          "heatmapgl": [
           {
            "colorbar": {
             "outlinewidth": 0,
             "ticks": ""
            },
            "colorscale": [
             [
              0,
              "#0d0887"
             ],
             [
              0.1111111111111111,
              "#46039f"
             ],
             [
              0.2222222222222222,
              "#7201a8"
             ],
             [
              0.3333333333333333,
              "#9c179e"
             ],
             [
              0.4444444444444444,
              "#bd3786"
             ],
             [
              0.5555555555555556,
              "#d8576b"
             ],
             [
              0.6666666666666666,
              "#ed7953"
             ],
             [
              0.7777777777777778,
              "#fb9f3a"
             ],
             [
              0.8888888888888888,
              "#fdca26"
             ],
             [
              1,
              "#f0f921"
             ]
            ],
            "type": "heatmapgl"
           }
          ],
          "histogram": [
           {
            "marker": {
             "pattern": {
              "fillmode": "overlay",
              "size": 10,
              "solidity": 0.2
             }
            },
            "type": "histogram"
           }
          ],
          "histogram2d": [
           {
            "colorbar": {
             "outlinewidth": 0,
             "ticks": ""
            },
            "colorscale": [
             [
              0,
              "#0d0887"
             ],
             [
              0.1111111111111111,
              "#46039f"
             ],
             [
              0.2222222222222222,
              "#7201a8"
             ],
             [
              0.3333333333333333,
              "#9c179e"
             ],
             [
              0.4444444444444444,
              "#bd3786"
             ],
             [
              0.5555555555555556,
              "#d8576b"
             ],
             [
              0.6666666666666666,
              "#ed7953"
             ],
             [
              0.7777777777777778,
              "#fb9f3a"
             ],
             [
              0.8888888888888888,
              "#fdca26"
             ],
             [
              1,
              "#f0f921"
             ]
            ],
            "type": "histogram2d"
           }
          ],
          "histogram2dcontour": [
           {
            "colorbar": {
             "outlinewidth": 0,
             "ticks": ""
            },
            "colorscale": [
             [
              0,
              "#0d0887"
             ],
             [
              0.1111111111111111,
              "#46039f"
             ],
             [
              0.2222222222222222,
              "#7201a8"
             ],
             [
              0.3333333333333333,
              "#9c179e"
             ],
             [
              0.4444444444444444,
              "#bd3786"
             ],
             [
              0.5555555555555556,
              "#d8576b"
             ],
             [
              0.6666666666666666,
              "#ed7953"
             ],
             [
              0.7777777777777778,
              "#fb9f3a"
             ],
             [
              0.8888888888888888,
              "#fdca26"
             ],
             [
              1,
              "#f0f921"
             ]
            ],
            "type": "histogram2dcontour"
           }
          ],
          "mesh3d": [
           {
            "colorbar": {
             "outlinewidth": 0,
             "ticks": ""
            },
            "type": "mesh3d"
           }
          ],
          "parcoords": [
           {
            "line": {
             "colorbar": {
              "outlinewidth": 0,
              "ticks": ""
             }
            },
            "type": "parcoords"
           }
          ],
          "pie": [
           {
            "automargin": true,
            "type": "pie"
           }
          ],
          "scatter": [
           {
            "fillpattern": {
             "fillmode": "overlay",
             "size": 10,
             "solidity": 0.2
            },
            "type": "scatter"
           }
          ],
          "scatter3d": [
           {
            "line": {
             "colorbar": {
              "outlinewidth": 0,
              "ticks": ""
             }
            },
            "marker": {
             "colorbar": {
              "outlinewidth": 0,
              "ticks": ""
             }
            },
            "type": "scatter3d"
           }
          ],
          "scattercarpet": [
           {
            "marker": {
             "colorbar": {
              "outlinewidth": 0,
              "ticks": ""
             }
            },
            "type": "scattercarpet"
           }
          ],
          "scattergeo": [
           {
            "marker": {
             "colorbar": {
              "outlinewidth": 0,
              "ticks": ""
             }
            },
            "type": "scattergeo"
           }
          ],
          "scattergl": [
           {
            "marker": {
             "colorbar": {
              "outlinewidth": 0,
              "ticks": ""
             }
            },
            "type": "scattergl"
           }
          ],
          "scattermapbox": [
           {
            "marker": {
             "colorbar": {
              "outlinewidth": 0,
              "ticks": ""
             }
            },
            "type": "scattermapbox"
           }
          ],
          "scatterpolar": [
           {
            "marker": {
             "colorbar": {
              "outlinewidth": 0,
              "ticks": ""
             }
            },
            "type": "scatterpolar"
           }
          ],
          "scatterpolargl": [
           {
            "marker": {
             "colorbar": {
              "outlinewidth": 0,
              "ticks": ""
             }
            },
            "type": "scatterpolargl"
           }
          ],
          "scatterternary": [
           {
            "marker": {
             "colorbar": {
              "outlinewidth": 0,
              "ticks": ""
             }
            },
            "type": "scatterternary"
           }
          ],
          "surface": [
           {
            "colorbar": {
             "outlinewidth": 0,
             "ticks": ""
            },
            "colorscale": [
             [
              0,
              "#0d0887"
             ],
             [
              0.1111111111111111,
              "#46039f"
             ],
             [
              0.2222222222222222,
              "#7201a8"
             ],
             [
              0.3333333333333333,
              "#9c179e"
             ],
             [
              0.4444444444444444,
              "#bd3786"
             ],
             [
              0.5555555555555556,
              "#d8576b"
             ],
             [
              0.6666666666666666,
              "#ed7953"
             ],
             [
              0.7777777777777778,
              "#fb9f3a"
             ],
             [
              0.8888888888888888,
              "#fdca26"
             ],
             [
              1,
              "#f0f921"
             ]
            ],
            "type": "surface"
           }
          ],
          "table": [
           {
            "cells": {
             "fill": {
              "color": "#EBF0F8"
             },
             "line": {
              "color": "white"
             }
            },
            "header": {
             "fill": {
              "color": "#C8D4E3"
             },
             "line": {
              "color": "white"
             }
            },
            "type": "table"
           }
          ]
         },
         "layout": {
          "annotationdefaults": {
           "arrowcolor": "#2a3f5f",
           "arrowhead": 0,
           "arrowwidth": 1
          },
          "autotypenumbers": "strict",
          "coloraxis": {
           "colorbar": {
            "outlinewidth": 0,
            "ticks": ""
           }
          },
          "colorscale": {
           "diverging": [
            [
             0,
             "#8e0152"
            ],
            [
             0.1,
             "#c51b7d"
            ],
            [
             0.2,
             "#de77ae"
            ],
            [
             0.3,
             "#f1b6da"
            ],
            [
             0.4,
             "#fde0ef"
            ],
            [
             0.5,
             "#f7f7f7"
            ],
            [
             0.6,
             "#e6f5d0"
            ],
            [
             0.7,
             "#b8e186"
            ],
            [
             0.8,
             "#7fbc41"
            ],
            [
             0.9,
             "#4d9221"
            ],
            [
             1,
             "#276419"
            ]
           ],
           "sequential": [
            [
             0,
             "#0d0887"
            ],
            [
             0.1111111111111111,
             "#46039f"
            ],
            [
             0.2222222222222222,
             "#7201a8"
            ],
            [
             0.3333333333333333,
             "#9c179e"
            ],
            [
             0.4444444444444444,
             "#bd3786"
            ],
            [
             0.5555555555555556,
             "#d8576b"
            ],
            [
             0.6666666666666666,
             "#ed7953"
            ],
            [
             0.7777777777777778,
             "#fb9f3a"
            ],
            [
             0.8888888888888888,
             "#fdca26"
            ],
            [
             1,
             "#f0f921"
            ]
           ],
           "sequentialminus": [
            [
             0,
             "#0d0887"
            ],
            [
             0.1111111111111111,
             "#46039f"
            ],
            [
             0.2222222222222222,
             "#7201a8"
            ],
            [
             0.3333333333333333,
             "#9c179e"
            ],
            [
             0.4444444444444444,
             "#bd3786"
            ],
            [
             0.5555555555555556,
             "#d8576b"
            ],
            [
             0.6666666666666666,
             "#ed7953"
            ],
            [
             0.7777777777777778,
             "#fb9f3a"
            ],
            [
             0.8888888888888888,
             "#fdca26"
            ],
            [
             1,
             "#f0f921"
            ]
           ]
          },
          "colorway": [
           "#636efa",
           "#EF553B",
           "#00cc96",
           "#ab63fa",
           "#FFA15A",
           "#19d3f3",
           "#FF6692",
           "#B6E880",
           "#FF97FF",
           "#FECB52"
          ],
          "font": {
           "color": "#2a3f5f"
          },
          "geo": {
           "bgcolor": "white",
           "lakecolor": "white",
           "landcolor": "#E5ECF6",
           "showlakes": true,
           "showland": true,
           "subunitcolor": "white"
          },
          "hoverlabel": {
           "align": "left"
          },
          "hovermode": "closest",
          "mapbox": {
           "style": "light"
          },
          "paper_bgcolor": "white",
          "plot_bgcolor": "#E5ECF6",
          "polar": {
           "angularaxis": {
            "gridcolor": "white",
            "linecolor": "white",
            "ticks": ""
           },
           "bgcolor": "#E5ECF6",
           "radialaxis": {
            "gridcolor": "white",
            "linecolor": "white",
            "ticks": ""
           }
          },
          "scene": {
           "xaxis": {
            "backgroundcolor": "#E5ECF6",
            "gridcolor": "white",
            "gridwidth": 2,
            "linecolor": "white",
            "showbackground": true,
            "ticks": "",
            "zerolinecolor": "white"
           },
           "yaxis": {
            "backgroundcolor": "#E5ECF6",
            "gridcolor": "white",
            "gridwidth": 2,
            "linecolor": "white",
            "showbackground": true,
            "ticks": "",
            "zerolinecolor": "white"
           },
           "zaxis": {
            "backgroundcolor": "#E5ECF6",
            "gridcolor": "white",
            "gridwidth": 2,
            "linecolor": "white",
            "showbackground": true,
            "ticks": "",
            "zerolinecolor": "white"
           }
          },
          "shapedefaults": {
           "line": {
            "color": "#2a3f5f"
           }
          },
          "ternary": {
           "aaxis": {
            "gridcolor": "white",
            "linecolor": "white",
            "ticks": ""
           },
           "baxis": {
            "gridcolor": "white",
            "linecolor": "white",
            "ticks": ""
           },
           "bgcolor": "#E5ECF6",
           "caxis": {
            "gridcolor": "white",
            "linecolor": "white",
            "ticks": ""
           }
          },
          "title": {
           "x": 0.05
          },
          "xaxis": {
           "automargin": true,
           "gridcolor": "white",
           "linecolor": "white",
           "ticks": "",
           "title": {
            "standoff": 15
           },
           "zerolinecolor": "white",
           "zerolinewidth": 2
          },
          "yaxis": {
           "automargin": true,
           "gridcolor": "white",
           "linecolor": "white",
           "ticks": "",
           "title": {
            "standoff": 15
           },
           "zerolinecolor": "white",
           "zerolinewidth": 2
          }
         }
        },
        "title": {
         "text": "Sembas Results - 3D Visualization"
        },
        "width": 1000
       }
      }
     },
     "metadata": {},
     "output_type": "display_data"
    },
    {
     "data": {
      "application/vnd.plotly.v1+json": {
       "config": {
        "plotlyServerURL": "https://plot.ly"
       },
       "data": [
        {
         "hoverinfo": "text",
         "marker": {
          "color": [
           1,
           1,
           1,
           1,
           1,
           1,
           1,
           1,
           1,
           1,
           1,
           1,
           1,
           1,
           1,
           1,
           1,
           1,
           1,
           1,
           1,
           1,
           1,
           1,
           1,
           1,
           1,
           1,
           1,
           1,
           1,
           1,
           1,
           1,
           1,
           1,
           1,
           1,
           1,
           1,
           1,
           1,
           1,
           1,
           1,
           1,
           1,
           1,
           1,
           1
          ],
          "colorscale": [
           [
            0,
            "red"
           ],
           [
            1,
            "blue"
           ]
          ],
          "line": {
           "color": "black",
           "width": 2
          },
          "opacity": 1,
          "size": 12
         },
         "mode": "markers",
         "text": [
          "Point 1<br>Successful<br>Progress Weight: 0.62<br>Bounds Weight: 0.15",
          "Point 2<br>Successful<br>Progress Weight: 0.43<br>Bounds Weight: 0.92",
          "Point 3<br>Successful<br>Progress Weight: 0.63<br>Bounds Weight: 0.30",
          "Point 4<br>Successful<br>Progress Weight: 0.62<br>Bounds Weight: 0.28",
          "Point 5<br>Successful<br>Progress Weight: 0.56<br>Bounds Weight: 0.80",
          "Point 6<br>Successful<br>Progress Weight: 0.37<br>Bounds Weight: 0.36",
          "Point 7<br>Successful<br>Progress Weight: 0.85<br>Bounds Weight: 0.59",
          "Point 8<br>Successful<br>Progress Weight: 0.41<br>Bounds Weight: 0.99",
          "Point 9<br>Successful<br>Progress Weight: 0.72<br>Bounds Weight: 0.64",
          "Point 10<br>Successful<br>Progress Weight: 0.16<br>Bounds Weight: 0.76",
          "Point 11<br>Successful<br>Progress Weight: 0.62<br>Bounds Weight: 0.69",
          "Point 12<br>Successful<br>Progress Weight: 0.07<br>Bounds Weight: 0.86",
          "Point 13<br>Successful<br>Progress Weight: 0.89<br>Bounds Weight: 0.72",
          "Point 14<br>Successful<br>Progress Weight: 0.43<br>Bounds Weight: 0.94",
          "Point 15<br>Successful<br>Progress Weight: 0.30<br>Bounds Weight: 0.27",
          "Point 16<br>Successful<br>Progress Weight: 0.68<br>Bounds Weight: 0.04",
          "Point 17<br>Successful<br>Progress Weight: 0.98<br>Bounds Weight: 0.11",
          "Point 18<br>Successful<br>Progress Weight: 0.20<br>Bounds Weight: 0.55",
          "Point 19<br>Successful<br>Progress Weight: 0.39<br>Bounds Weight: 0.37",
          "Point 20<br>Successful<br>Progress Weight: 0.16<br>Bounds Weight: 0.01",
          "Point 21<br>Successful<br>Progress Weight: 0.55<br>Bounds Weight: 0.54",
          "Point 22<br>Successful<br>Progress Weight: 0.43<br>Bounds Weight: 0.47",
          "Point 23<br>Successful<br>Progress Weight: 0.68<br>Bounds Weight: 0.06",
          "Point 24<br>Successful<br>Progress Weight: 0.96<br>Bounds Weight: 0.65",
          "Point 25<br>Successful<br>Progress Weight: 0.01<br>Bounds Weight: 0.80",
          "Point 26<br>Successful<br>Progress Weight: 0.33<br>Bounds Weight: 0.66",
          "Point 27<br>Successful<br>Progress Weight: 0.08<br>Bounds Weight: 0.38",
          "Point 28<br>Successful<br>Progress Weight: 0.93<br>Bounds Weight: 0.32",
          "Point 29<br>Successful<br>Progress Weight: 0.52<br>Bounds Weight: 0.59",
          "Point 30<br>Successful<br>Progress Weight: 0.53<br>Bounds Weight: 0.23",
          "Point 31<br>Successful<br>Progress Weight: 0.80<br>Bounds Weight: 0.16",
          "Point 32<br>Successful<br>Progress Weight: 0.20<br>Bounds Weight: 0.47",
          "Point 33<br>Successful<br>Progress Weight: 0.23<br>Bounds Weight: 0.17",
          "Point 34<br>Successful<br>Progress Weight: 0.18<br>Bounds Weight: 1.00",
          "Point 35<br>Successful<br>Progress Weight: 0.37<br>Bounds Weight: 0.59",
          "Point 36<br>Successful<br>Progress Weight: 0.66<br>Bounds Weight: 0.43",
          "Point 37<br>Successful<br>Progress Weight: 0.25<br>Bounds Weight: 0.87",
          "Point 38<br>Successful<br>Progress Weight: 0.91<br>Bounds Weight: 0.72",
          "Point 39<br>Successful<br>Progress Weight: 0.72<br>Bounds Weight: 1.00",
          "Point 40<br>Successful<br>Progress Weight: 0.29<br>Bounds Weight: 0.85",
          "Point 41<br>Successful<br>Progress Weight: 0.94<br>Bounds Weight: 0.42",
          "Point 42<br>Successful<br>Progress Weight: 0.10<br>Bounds Weight: 0.32",
          "Point 43<br>Successful<br>Progress Weight: 0.11<br>Bounds Weight: 0.26",
          "Point 44<br>Successful<br>Progress Weight: 0.63<br>Bounds Weight: 0.33",
          "Point 45<br>Successful<br>Progress Weight: 0.80<br>Bounds Weight: 0.91",
          "Point 46<br>Successful<br>Progress Weight: 0.53<br>Bounds Weight: 0.61",
          "Point 47<br>Successful<br>Progress Weight: 0.74<br>Bounds Weight: 0.20",
          "Point 48<br>Successful<br>Progress Weight: 0.36<br>Bounds Weight: 0.96",
          "Point 49<br>Successful<br>Progress Weight: 0.77<br>Bounds Weight: 0.34",
          "Point 50<br>Successful<br>Progress Weight: 0.31<br>Bounds Weight: 0.44"
         ],
         "type": "scatter",
         "x": [
          0.6187038421630859,
          0.4309733510017395,
          0.633202075958252,
          0.6171934604644775,
          0.5640149116516113,
          0.36807411909103394,
          0.8483980298042297,
          0.41182270646095276,
          0.7155524492263794,
          0.15710684657096863,
          0.6151173710823059,
          0.07126164436340332,
          0.8857282400131226,
          0.43311676383018494,
          0.300484836101532,
          0.6845472455024719,
          0.9834809303283691,
          0.20092323422431946,
          0.38670825958251953,
          0.16330473124980927,
          0.553932785987854,
          0.42665812373161316,
          0.6798729300498962,
          0.9609898328781128,
          0.014662044122815132,
          0.3268008828163147,
          0.08314332365989685,
          0.9317308068275452,
          0.5203200578689575,
          0.5271678566932678,
          0.795424222946167,
          0.19910214841365814,
          0.2298857718706131,
          0.17861945927143097,
          0.3722141981124878,
          0.6631752848625183,
          0.2462480217218399,
          0.907467246055603,
          0.7159886360168457,
          0.2874554395675659,
          0.9418255686759949,
          0.10163471847772598,
          0.11168990284204483,
          0.6344100832939148,
          0.8012613654136658,
          0.5290498733520508,
          0.7412512898445129,
          0.3595631420612335,
          0.7664822340011597,
          0.3084098696708679
         ],
         "y": [
          0.1530042588710785,
          0.922994077205658,
          0.2978913187980652,
          0.2760917544364929,
          0.8019701838493347,
          0.3636828362941742,
          0.5896360874176025,
          0.9905396699905396,
          0.6365466713905334,
          0.759642481803894,
          0.6853414177894592,
          0.8599226474761963,
          0.7223174571990967,
          0.9355491399765015,
          0.26737815141677856,
          0.03678600490093231,
          0.11048614233732224,
          0.545847475528717,
          0.3657378852367401,
          0.012288601137697697,
          0.5393423438072205,
          0.4706273376941681,
          0.061592359095811844,
          0.6501597762107849,
          0.8036495447158813,
          0.6589164137840271,
          0.3802447021007538,
          0.3248792588710785,
          0.5899233222007751,
          0.23313072323799133,
          0.15845707058906555,
          0.4657752513885498,
          0.1725122034549713,
          0.9979071021080017,
          0.5931205153465271,
          0.4283774793148041,
          0.8676425814628601,
          0.7190986275672913,
          0.9977414608001709,
          0.8499425053596497,
          0.4230649769306183,
          0.31901615858078003,
          0.26036760210990906,
          0.3309231698513031,
          0.9118636846542358,
          0.6072548031806946,
          0.20158202946186066,
          0.9617940187454224,
          0.3444116413593292,
          0.4359925389289856
         ]
        }
       ],
       "layout": {
        "height": 600,
        "showlegend": false,
        "template": {
         "data": {
          "bar": [
           {
            "error_x": {
             "color": "#2a3f5f"
            },
            "error_y": {
             "color": "#2a3f5f"
            },
            "marker": {
             "line": {
              "color": "#E5ECF6",
              "width": 0.5
             },
             "pattern": {
              "fillmode": "overlay",
              "size": 10,
              "solidity": 0.2
             }
            },
            "type": "bar"
           }
          ],
          "barpolar": [
           {
            "marker": {
             "line": {
              "color": "#E5ECF6",
              "width": 0.5
             },
             "pattern": {
              "fillmode": "overlay",
              "size": 10,
              "solidity": 0.2
             }
            },
            "type": "barpolar"
           }
          ],
          "carpet": [
           {
            "aaxis": {
             "endlinecolor": "#2a3f5f",
             "gridcolor": "white",
             "linecolor": "white",
             "minorgridcolor": "white",
             "startlinecolor": "#2a3f5f"
            },
            "baxis": {
             "endlinecolor": "#2a3f5f",
             "gridcolor": "white",
             "linecolor": "white",
             "minorgridcolor": "white",
             "startlinecolor": "#2a3f5f"
            },
            "type": "carpet"
           }
          ],
          "choropleth": [
           {
            "colorbar": {
             "outlinewidth": 0,
             "ticks": ""
            },
            "type": "choropleth"
           }
          ],
          "contour": [
           {
            "colorbar": {
             "outlinewidth": 0,
             "ticks": ""
            },
            "colorscale": [
             [
              0,
              "#0d0887"
             ],
             [
              0.1111111111111111,
              "#46039f"
             ],
             [
              0.2222222222222222,
              "#7201a8"
             ],
             [
              0.3333333333333333,
              "#9c179e"
             ],
             [
              0.4444444444444444,
              "#bd3786"
             ],
             [
              0.5555555555555556,
              "#d8576b"
             ],
             [
              0.6666666666666666,
              "#ed7953"
             ],
             [
              0.7777777777777778,
              "#fb9f3a"
             ],
             [
              0.8888888888888888,
              "#fdca26"
             ],
             [
              1,
              "#f0f921"
             ]
            ],
            "type": "contour"
           }
          ],
          "contourcarpet": [
           {
            "colorbar": {
             "outlinewidth": 0,
             "ticks": ""
            },
            "type": "contourcarpet"
           }
          ],
          "heatmap": [
           {
            "colorbar": {
             "outlinewidth": 0,
             "ticks": ""
            },
            "colorscale": [
             [
              0,
              "#0d0887"
             ],
             [
              0.1111111111111111,
              "#46039f"
             ],
             [
              0.2222222222222222,
              "#7201a8"
             ],
             [
              0.3333333333333333,
              "#9c179e"
             ],
             [
              0.4444444444444444,
              "#bd3786"
             ],
             [
              0.5555555555555556,
              "#d8576b"
             ],
             [
              0.6666666666666666,
              "#ed7953"
             ],
             [
              0.7777777777777778,
              "#fb9f3a"
             ],
             [
              0.8888888888888888,
              "#fdca26"
             ],
             [
              1,
              "#f0f921"
             ]
            ],
            "type": "heatmap"
           }
          ],
          "heatmapgl": [
           {
            "colorbar": {
             "outlinewidth": 0,
             "ticks": ""
            },
            "colorscale": [
             [
              0,
              "#0d0887"
             ],
             [
              0.1111111111111111,
              "#46039f"
             ],
             [
              0.2222222222222222,
              "#7201a8"
             ],
             [
              0.3333333333333333,
              "#9c179e"
             ],
             [
              0.4444444444444444,
              "#bd3786"
             ],
             [
              0.5555555555555556,
              "#d8576b"
             ],
             [
              0.6666666666666666,
              "#ed7953"
             ],
             [
              0.7777777777777778,
              "#fb9f3a"
             ],
             [
              0.8888888888888888,
              "#fdca26"
             ],
             [
              1,
              "#f0f921"
             ]
            ],
            "type": "heatmapgl"
           }
          ],
          "histogram": [
           {
            "marker": {
             "pattern": {
              "fillmode": "overlay",
              "size": 10,
              "solidity": 0.2
             }
            },
            "type": "histogram"
           }
          ],
          "histogram2d": [
           {
            "colorbar": {
             "outlinewidth": 0,
             "ticks": ""
            },
            "colorscale": [
             [
              0,
              "#0d0887"
             ],
             [
              0.1111111111111111,
              "#46039f"
             ],
             [
              0.2222222222222222,
              "#7201a8"
             ],
             [
              0.3333333333333333,
              "#9c179e"
             ],
             [
              0.4444444444444444,
              "#bd3786"
             ],
             [
              0.5555555555555556,
              "#d8576b"
             ],
             [
              0.6666666666666666,
              "#ed7953"
             ],
             [
              0.7777777777777778,
              "#fb9f3a"
             ],
             [
              0.8888888888888888,
              "#fdca26"
             ],
             [
              1,
              "#f0f921"
             ]
            ],
            "type": "histogram2d"
           }
          ],
          "histogram2dcontour": [
           {
            "colorbar": {
             "outlinewidth": 0,
             "ticks": ""
            },
            "colorscale": [
             [
              0,
              "#0d0887"
             ],
             [
              0.1111111111111111,
              "#46039f"
             ],
             [
              0.2222222222222222,
              "#7201a8"
             ],
             [
              0.3333333333333333,
              "#9c179e"
             ],
             [
              0.4444444444444444,
              "#bd3786"
             ],
             [
              0.5555555555555556,
              "#d8576b"
             ],
             [
              0.6666666666666666,
              "#ed7953"
             ],
             [
              0.7777777777777778,
              "#fb9f3a"
             ],
             [
              0.8888888888888888,
              "#fdca26"
             ],
             [
              1,
              "#f0f921"
             ]
            ],
            "type": "histogram2dcontour"
           }
          ],
          "mesh3d": [
           {
            "colorbar": {
             "outlinewidth": 0,
             "ticks": ""
            },
            "type": "mesh3d"
           }
          ],
          "parcoords": [
           {
            "line": {
             "colorbar": {
              "outlinewidth": 0,
              "ticks": ""
             }
            },
            "type": "parcoords"
           }
          ],
          "pie": [
           {
            "automargin": true,
            "type": "pie"
           }
          ],
          "scatter": [
           {
            "fillpattern": {
             "fillmode": "overlay",
             "size": 10,
             "solidity": 0.2
            },
            "type": "scatter"
           }
          ],
          "scatter3d": [
           {
            "line": {
             "colorbar": {
              "outlinewidth": 0,
              "ticks": ""
             }
            },
            "marker": {
             "colorbar": {
              "outlinewidth": 0,
              "ticks": ""
             }
            },
            "type": "scatter3d"
           }
          ],
          "scattercarpet": [
           {
            "marker": {
             "colorbar": {
              "outlinewidth": 0,
              "ticks": ""
             }
            },
            "type": "scattercarpet"
           }
          ],
          "scattergeo": [
           {
            "marker": {
             "colorbar": {
              "outlinewidth": 0,
              "ticks": ""
             }
            },
            "type": "scattergeo"
           }
          ],
          "scattergl": [
           {
            "marker": {
             "colorbar": {
              "outlinewidth": 0,
              "ticks": ""
             }
            },
            "type": "scattergl"
           }
          ],
          "scattermapbox": [
           {
            "marker": {
             "colorbar": {
              "outlinewidth": 0,
              "ticks": ""
             }
            },
            "type": "scattermapbox"
           }
          ],
          "scatterpolar": [
           {
            "marker": {
             "colorbar": {
              "outlinewidth": 0,
              "ticks": ""
             }
            },
            "type": "scatterpolar"
           }
          ],
          "scatterpolargl": [
           {
            "marker": {
             "colorbar": {
              "outlinewidth": 0,
              "ticks": ""
             }
            },
            "type": "scatterpolargl"
           }
          ],
          "scatterternary": [
           {
            "marker": {
             "colorbar": {
              "outlinewidth": 0,
              "ticks": ""
             }
            },
            "type": "scatterternary"
           }
          ],
          "surface": [
           {
            "colorbar": {
             "outlinewidth": 0,
             "ticks": ""
            },
            "colorscale": [
             [
              0,
              "#0d0887"
             ],
             [
              0.1111111111111111,
              "#46039f"
             ],
             [
              0.2222222222222222,
              "#7201a8"
             ],
             [
              0.3333333333333333,
              "#9c179e"
             ],
             [
              0.4444444444444444,
              "#bd3786"
             ],
             [
              0.5555555555555556,
              "#d8576b"
             ],
             [
              0.6666666666666666,
              "#ed7953"
             ],
             [
              0.7777777777777778,
              "#fb9f3a"
             ],
             [
              0.8888888888888888,
              "#fdca26"
             ],
             [
              1,
              "#f0f921"
             ]
            ],
            "type": "surface"
           }
          ],
          "table": [
           {
            "cells": {
             "fill": {
              "color": "#EBF0F8"
             },
             "line": {
              "color": "white"
             }
            },
            "header": {
             "fill": {
              "color": "#C8D4E3"
             },
             "line": {
              "color": "white"
             }
            },
            "type": "table"
           }
          ]
         },
         "layout": {
          "annotationdefaults": {
           "arrowcolor": "#2a3f5f",
           "arrowhead": 0,
           "arrowwidth": 1
          },
          "autotypenumbers": "strict",
          "coloraxis": {
           "colorbar": {
            "outlinewidth": 0,
            "ticks": ""
           }
          },
          "colorscale": {
           "diverging": [
            [
             0,
             "#8e0152"
            ],
            [
             0.1,
             "#c51b7d"
            ],
            [
             0.2,
             "#de77ae"
            ],
            [
             0.3,
             "#f1b6da"
            ],
            [
             0.4,
             "#fde0ef"
            ],
            [
             0.5,
             "#f7f7f7"
            ],
            [
             0.6,
             "#e6f5d0"
            ],
            [
             0.7,
             "#b8e186"
            ],
            [
             0.8,
             "#7fbc41"
            ],
            [
             0.9,
             "#4d9221"
            ],
            [
             1,
             "#276419"
            ]
           ],
           "sequential": [
            [
             0,
             "#0d0887"
            ],
            [
             0.1111111111111111,
             "#46039f"
            ],
            [
             0.2222222222222222,
             "#7201a8"
            ],
            [
             0.3333333333333333,
             "#9c179e"
            ],
            [
             0.4444444444444444,
             "#bd3786"
            ],
            [
             0.5555555555555556,
             "#d8576b"
            ],
            [
             0.6666666666666666,
             "#ed7953"
            ],
            [
             0.7777777777777778,
             "#fb9f3a"
            ],
            [
             0.8888888888888888,
             "#fdca26"
            ],
            [
             1,
             "#f0f921"
            ]
           ],
           "sequentialminus": [
            [
             0,
             "#0d0887"
            ],
            [
             0.1111111111111111,
             "#46039f"
            ],
            [
             0.2222222222222222,
             "#7201a8"
            ],
            [
             0.3333333333333333,
             "#9c179e"
            ],
            [
             0.4444444444444444,
             "#bd3786"
            ],
            [
             0.5555555555555556,
             "#d8576b"
            ],
            [
             0.6666666666666666,
             "#ed7953"
            ],
            [
             0.7777777777777778,
             "#fb9f3a"
            ],
            [
             0.8888888888888888,
             "#fdca26"
            ],
            [
             1,
             "#f0f921"
            ]
           ]
          },
          "colorway": [
           "#636efa",
           "#EF553B",
           "#00cc96",
           "#ab63fa",
           "#FFA15A",
           "#19d3f3",
           "#FF6692",
           "#B6E880",
           "#FF97FF",
           "#FECB52"
          ],
          "font": {
           "color": "#2a3f5f"
          },
          "geo": {
           "bgcolor": "white",
           "lakecolor": "white",
           "landcolor": "#E5ECF6",
           "showlakes": true,
           "showland": true,
           "subunitcolor": "white"
          },
          "hoverlabel": {
           "align": "left"
          },
          "hovermode": "closest",
          "mapbox": {
           "style": "light"
          },
          "paper_bgcolor": "white",
          "plot_bgcolor": "#E5ECF6",
          "polar": {
           "angularaxis": {
            "gridcolor": "white",
            "linecolor": "white",
            "ticks": ""
           },
           "bgcolor": "#E5ECF6",
           "radialaxis": {
            "gridcolor": "white",
            "linecolor": "white",
            "ticks": ""
           }
          },
          "scene": {
           "xaxis": {
            "backgroundcolor": "#E5ECF6",
            "gridcolor": "white",
            "gridwidth": 2,
            "linecolor": "white",
            "showbackground": true,
            "ticks": "",
            "zerolinecolor": "white"
           },
           "yaxis": {
            "backgroundcolor": "#E5ECF6",
            "gridcolor": "white",
            "gridwidth": 2,
            "linecolor": "white",
            "showbackground": true,
            "ticks": "",
            "zerolinecolor": "white"
           },
           "zaxis": {
            "backgroundcolor": "#E5ECF6",
            "gridcolor": "white",
            "gridwidth": 2,
            "linecolor": "white",
            "showbackground": true,
            "ticks": "",
            "zerolinecolor": "white"
           }
          },
          "shapedefaults": {
           "line": {
            "color": "#2a3f5f"
           }
          },
          "ternary": {
           "aaxis": {
            "gridcolor": "white",
            "linecolor": "white",
            "ticks": ""
           },
           "baxis": {
            "gridcolor": "white",
            "linecolor": "white",
            "ticks": ""
           },
           "bgcolor": "#E5ECF6",
           "caxis": {
            "gridcolor": "white",
            "linecolor": "white",
            "ticks": ""
           }
          },
          "title": {
           "x": 0.05
          },
          "xaxis": {
           "automargin": true,
           "gridcolor": "white",
           "linecolor": "white",
           "ticks": "",
           "title": {
            "standoff": 15
           },
           "zerolinecolor": "white",
           "zerolinewidth": 2
          },
          "yaxis": {
           "automargin": true,
           "gridcolor": "white",
           "linecolor": "white",
           "ticks": "",
           "title": {
            "standoff": 15
           },
           "zerolinecolor": "white",
           "zerolinewidth": 2
          }
         }
        },
        "title": {
         "text": "Sembas Results - 2D Visualization (Progress Weight vs Bounds Weight)"
        },
        "width": 800,
        "xaxis": {
         "title": {
          "text": "Progress Weight"
         }
        },
        "yaxis": {
         "title": {
          "text": "Bounds Weight"
         }
        }
       }
      }
     },
     "metadata": {},
     "output_type": "display_data"
    },
    {
     "data": {
      "application/vnd.plotly.v1+json": {
       "config": {
        "plotlyServerURL": "https://plot.ly"
       },
       "data": [
        {
         "hoverinfo": "text",
         "marker": {
          "color": [
           1,
           1,
           1,
           1,
           1,
           1,
           1,
           1,
           1,
           1,
           1,
           1,
           1,
           1,
           1,
           1,
           1,
           1,
           1,
           1,
           1,
           1,
           1,
           1,
           1,
           1,
           1,
           1,
           1,
           1,
           1,
           1,
           1,
           1,
           1,
           1,
           1,
           1,
           1,
           1,
           1,
           1,
           1,
           1,
           1,
           1,
           1,
           1,
           1,
           1
          ],
          "colorscale": [
           [
            0,
            "red"
           ],
           [
            1,
            "blue"
           ]
          ],
          "line": {
           "color": "black",
           "width": 2
          },
          "opacity": 1,
          "size": 12
         },
         "mode": "markers",
         "text": [
          "Point 1<br>Successful<br>Progress Weight: 0.62<br>Proximity Weight: 0.55",
          "Point 2<br>Successful<br>Progress Weight: 0.43<br>Proximity Weight: 0.38",
          "Point 3<br>Successful<br>Progress Weight: 0.63<br>Proximity Weight: 0.44",
          "Point 4<br>Successful<br>Progress Weight: 0.62<br>Proximity Weight: 0.62",
          "Point 5<br>Successful<br>Progress Weight: 0.56<br>Proximity Weight: 0.23",
          "Point 6<br>Successful<br>Progress Weight: 0.37<br>Proximity Weight: 0.25",
          "Point 7<br>Successful<br>Progress Weight: 0.85<br>Proximity Weight: 0.39",
          "Point 8<br>Successful<br>Progress Weight: 0.41<br>Proximity Weight: 0.05",
          "Point 9<br>Successful<br>Progress Weight: 0.72<br>Proximity Weight: 0.26",
          "Point 10<br>Successful<br>Progress Weight: 0.16<br>Proximity Weight: 0.51",
          "Point 11<br>Successful<br>Progress Weight: 0.62<br>Proximity Weight: 0.37",
          "Point 12<br>Successful<br>Progress Weight: 0.07<br>Proximity Weight: 0.34",
          "Point 13<br>Successful<br>Progress Weight: 0.89<br>Proximity Weight: 0.56",
          "Point 14<br>Successful<br>Progress Weight: 0.43<br>Proximity Weight: 0.10",
          "Point 15<br>Successful<br>Progress Weight: 0.30<br>Proximity Weight: 0.26",
          "Point 16<br>Successful<br>Progress Weight: 0.68<br>Proximity Weight: 0.62",
          "Point 17<br>Successful<br>Progress Weight: 0.98<br>Proximity Weight: 0.90",
          "Point 18<br>Successful<br>Progress Weight: 0.20<br>Proximity Weight: 0.98",
          "Point 19<br>Successful<br>Progress Weight: 0.39<br>Proximity Weight: 0.68",
          "Point 20<br>Successful<br>Progress Weight: 0.16<br>Proximity Weight: 0.38",
          "Point 21<br>Successful<br>Progress Weight: 0.55<br>Proximity Weight: 0.44",
          "Point 22<br>Successful<br>Progress Weight: 0.43<br>Proximity Weight: 0.06",
          "Point 23<br>Successful<br>Progress Weight: 0.68<br>Proximity Weight: 0.93",
          "Point 24<br>Successful<br>Progress Weight: 0.96<br>Proximity Weight: 0.22",
          "Point 25<br>Successful<br>Progress Weight: 0.01<br>Proximity Weight: 0.48",
          "Point 26<br>Successful<br>Progress Weight: 0.33<br>Proximity Weight: 0.13",
          "Point 27<br>Successful<br>Progress Weight: 0.08<br>Proximity Weight: 0.22",
          "Point 28<br>Successful<br>Progress Weight: 0.93<br>Proximity Weight: 0.92",
          "Point 29<br>Successful<br>Progress Weight: 0.52<br>Proximity Weight: 0.22",
          "Point 30<br>Successful<br>Progress Weight: 0.53<br>Proximity Weight: 0.86",
          "Point 31<br>Successful<br>Progress Weight: 0.80<br>Proximity Weight: 0.05",
          "Point 32<br>Successful<br>Progress Weight: 0.20<br>Proximity Weight: 0.25",
          "Point 33<br>Successful<br>Progress Weight: 0.23<br>Proximity Weight: 0.18",
          "Point 34<br>Successful<br>Progress Weight: 0.18<br>Proximity Weight: 0.56",
          "Point 35<br>Successful<br>Progress Weight: 0.37<br>Proximity Weight: 0.48",
          "Point 36<br>Successful<br>Progress Weight: 0.66<br>Proximity Weight: 0.43",
          "Point 37<br>Successful<br>Progress Weight: 0.25<br>Proximity Weight: 0.11",
          "Point 38<br>Successful<br>Progress Weight: 0.91<br>Proximity Weight: 0.32",
          "Point 39<br>Successful<br>Progress Weight: 0.72<br>Proximity Weight: 0.47",
          "Point 40<br>Successful<br>Progress Weight: 0.29<br>Proximity Weight: 0.10",
          "Point 41<br>Successful<br>Progress Weight: 0.94<br>Proximity Weight: 0.85",
          "Point 42<br>Successful<br>Progress Weight: 0.10<br>Proximity Weight: 0.70",
          "Point 43<br>Successful<br>Progress Weight: 0.11<br>Proximity Weight: 0.56",
          "Point 44<br>Successful<br>Progress Weight: 0.63<br>Proximity Weight: 0.92",
          "Point 45<br>Successful<br>Progress Weight: 0.80<br>Proximity Weight: 0.68",
          "Point 46<br>Successful<br>Progress Weight: 0.53<br>Proximity Weight: 0.43",
          "Point 47<br>Successful<br>Progress Weight: 0.74<br>Proximity Weight: 0.00",
          "Point 48<br>Successful<br>Progress Weight: 0.36<br>Proximity Weight: 0.43",
          "Point 49<br>Successful<br>Progress Weight: 0.77<br>Proximity Weight: 0.95",
          "Point 50<br>Successful<br>Progress Weight: 0.31<br>Proximity Weight: 0.32"
         ],
         "type": "scatter",
         "x": [
          0.6187038421630859,
          0.4309733510017395,
          0.633202075958252,
          0.6171934604644775,
          0.5640149116516113,
          0.36807411909103394,
          0.8483980298042297,
          0.41182270646095276,
          0.7155524492263794,
          0.15710684657096863,
          0.6151173710823059,
          0.07126164436340332,
          0.8857282400131226,
          0.43311676383018494,
          0.300484836101532,
          0.6845472455024719,
          0.9834809303283691,
          0.20092323422431946,
          0.38670825958251953,
          0.16330473124980927,
          0.553932785987854,
          0.42665812373161316,
          0.6798729300498962,
          0.9609898328781128,
          0.014662044122815132,
          0.3268008828163147,
          0.08314332365989685,
          0.9317308068275452,
          0.5203200578689575,
          0.5271678566932678,
          0.795424222946167,
          0.19910214841365814,
          0.2298857718706131,
          0.17861945927143097,
          0.3722141981124878,
          0.6631752848625183,
          0.2462480217218399,
          0.907467246055603,
          0.7159886360168457,
          0.2874554395675659,
          0.9418255686759949,
          0.10163471847772598,
          0.11168990284204483,
          0.6344100832939148,
          0.8012613654136658,
          0.5290498733520508,
          0.7412512898445129,
          0.3595631420612335,
          0.7664822340011597,
          0.3084098696708679
         ],
         "y": [
          0.5467185378074646,
          0.37547439336776733,
          0.44055160880088806,
          0.6204258799552917,
          0.23477290570735931,
          0.24676214158535004,
          0.38551363348960876,
          0.04790208116173744,
          0.2649681568145752,
          0.5102535486221313,
          0.36621415615081787,
          0.33686989545822144,
          0.5586579442024231,
          0.10445460677146912,
          0.2561188042163849,
          0.6245109438896179,
          0.8976757526397705,
          0.9813680052757263,
          0.6821339726448059,
          0.38225001096725464,
          0.4379022419452667,
          0.05570153519511223,
          0.9290456771850586,
          0.21910609304904938,
          0.4753222167491913,
          0.133392795920372,
          0.22161917388439178,
          0.9158852696418762,
          0.22478345036506653,
          0.8631775379180908,
          0.05110764876008034,
          0.24643972516059875,
          0.1771232783794403,
          0.5627447962760925,
          0.47558358311653137,
          0.43163424730300903,
          0.1146184504032135,
          0.3223641514778137,
          0.4730727970600128,
          0.102532297372818,
          0.8528536558151245,
          0.6952208876609802,
          0.559055745601654,
          0.9193447828292847,
          0.6810921430587769,
          0.42769160866737366,
          0.004603694658726454,
          0.4265846908092499,
          0.9497939348220825,
          0.3158806562423706
         ]
        }
       ],
       "layout": {
        "height": 600,
        "showlegend": false,
        "template": {
         "data": {
          "bar": [
           {
            "error_x": {
             "color": "#2a3f5f"
            },
            "error_y": {
             "color": "#2a3f5f"
            },
            "marker": {
             "line": {
              "color": "#E5ECF6",
              "width": 0.5
             },
             "pattern": {
              "fillmode": "overlay",
              "size": 10,
              "solidity": 0.2
             }
            },
            "type": "bar"
           }
          ],
          "barpolar": [
           {
            "marker": {
             "line": {
              "color": "#E5ECF6",
              "width": 0.5
             },
             "pattern": {
              "fillmode": "overlay",
              "size": 10,
              "solidity": 0.2
             }
            },
            "type": "barpolar"
           }
          ],
          "carpet": [
           {
            "aaxis": {
             "endlinecolor": "#2a3f5f",
             "gridcolor": "white",
             "linecolor": "white",
             "minorgridcolor": "white",
             "startlinecolor": "#2a3f5f"
            },
            "baxis": {
             "endlinecolor": "#2a3f5f",
             "gridcolor": "white",
             "linecolor": "white",
             "minorgridcolor": "white",
             "startlinecolor": "#2a3f5f"
            },
            "type": "carpet"
           }
          ],
          "choropleth": [
           {
            "colorbar": {
             "outlinewidth": 0,
             "ticks": ""
            },
            "type": "choropleth"
           }
          ],
          "contour": [
           {
            "colorbar": {
             "outlinewidth": 0,
             "ticks": ""
            },
            "colorscale": [
             [
              0,
              "#0d0887"
             ],
             [
              0.1111111111111111,
              "#46039f"
             ],
             [
              0.2222222222222222,
              "#7201a8"
             ],
             [
              0.3333333333333333,
              "#9c179e"
             ],
             [
              0.4444444444444444,
              "#bd3786"
             ],
             [
              0.5555555555555556,
              "#d8576b"
             ],
             [
              0.6666666666666666,
              "#ed7953"
             ],
             [
              0.7777777777777778,
              "#fb9f3a"
             ],
             [
              0.8888888888888888,
              "#fdca26"
             ],
             [
              1,
              "#f0f921"
             ]
            ],
            "type": "contour"
           }
          ],
          "contourcarpet": [
           {
            "colorbar": {
             "outlinewidth": 0,
             "ticks": ""
            },
            "type": "contourcarpet"
           }
          ],
          "heatmap": [
           {
            "colorbar": {
             "outlinewidth": 0,
             "ticks": ""
            },
            "colorscale": [
             [
              0,
              "#0d0887"
             ],
             [
              0.1111111111111111,
              "#46039f"
             ],
             [
              0.2222222222222222,
              "#7201a8"
             ],
             [
              0.3333333333333333,
              "#9c179e"
             ],
             [
              0.4444444444444444,
              "#bd3786"
             ],
             [
              0.5555555555555556,
              "#d8576b"
             ],
             [
              0.6666666666666666,
              "#ed7953"
             ],
             [
              0.7777777777777778,
              "#fb9f3a"
             ],
             [
              0.8888888888888888,
              "#fdca26"
             ],
             [
              1,
              "#f0f921"
             ]
            ],
            "type": "heatmap"
           }
          ],
          "heatmapgl": [
           {
            "colorbar": {
             "outlinewidth": 0,
             "ticks": ""
            },
            "colorscale": [
             [
              0,
              "#0d0887"
             ],
             [
              0.1111111111111111,
              "#46039f"
             ],
             [
              0.2222222222222222,
              "#7201a8"
             ],
             [
              0.3333333333333333,
              "#9c179e"
             ],
             [
              0.4444444444444444,
              "#bd3786"
             ],
             [
              0.5555555555555556,
              "#d8576b"
             ],
             [
              0.6666666666666666,
              "#ed7953"
             ],
             [
              0.7777777777777778,
              "#fb9f3a"
             ],
             [
              0.8888888888888888,
              "#fdca26"
             ],
             [
              1,
              "#f0f921"
             ]
            ],
            "type": "heatmapgl"
           }
          ],
          "histogram": [
           {
            "marker": {
             "pattern": {
              "fillmode": "overlay",
              "size": 10,
              "solidity": 0.2
             }
            },
            "type": "histogram"
           }
          ],
          "histogram2d": [
           {
            "colorbar": {
             "outlinewidth": 0,
             "ticks": ""
            },
            "colorscale": [
             [
              0,
              "#0d0887"
             ],
             [
              0.1111111111111111,
              "#46039f"
             ],
             [
              0.2222222222222222,
              "#7201a8"
             ],
             [
              0.3333333333333333,
              "#9c179e"
             ],
             [
              0.4444444444444444,
              "#bd3786"
             ],
             [
              0.5555555555555556,
              "#d8576b"
             ],
             [
              0.6666666666666666,
              "#ed7953"
             ],
             [
              0.7777777777777778,
              "#fb9f3a"
             ],
             [
              0.8888888888888888,
              "#fdca26"
             ],
             [
              1,
              "#f0f921"
             ]
            ],
            "type": "histogram2d"
           }
          ],
          "histogram2dcontour": [
           {
            "colorbar": {
             "outlinewidth": 0,
             "ticks": ""
            },
            "colorscale": [
             [
              0,
              "#0d0887"
             ],
             [
              0.1111111111111111,
              "#46039f"
             ],
             [
              0.2222222222222222,
              "#7201a8"
             ],
             [
              0.3333333333333333,
              "#9c179e"
             ],
             [
              0.4444444444444444,
              "#bd3786"
             ],
             [
              0.5555555555555556,
              "#d8576b"
             ],
             [
              0.6666666666666666,
              "#ed7953"
             ],
             [
              0.7777777777777778,
              "#fb9f3a"
             ],
             [
              0.8888888888888888,
              "#fdca26"
             ],
             [
              1,
              "#f0f921"
             ]
            ],
            "type": "histogram2dcontour"
           }
          ],
          "mesh3d": [
           {
            "colorbar": {
             "outlinewidth": 0,
             "ticks": ""
            },
            "type": "mesh3d"
           }
          ],
          "parcoords": [
           {
            "line": {
             "colorbar": {
              "outlinewidth": 0,
              "ticks": ""
             }
            },
            "type": "parcoords"
           }
          ],
          "pie": [
           {
            "automargin": true,
            "type": "pie"
           }
          ],
          "scatter": [
           {
            "fillpattern": {
             "fillmode": "overlay",
             "size": 10,
             "solidity": 0.2
            },
            "type": "scatter"
           }
          ],
          "scatter3d": [
           {
            "line": {
             "colorbar": {
              "outlinewidth": 0,
              "ticks": ""
             }
            },
            "marker": {
             "colorbar": {
              "outlinewidth": 0,
              "ticks": ""
             }
            },
            "type": "scatter3d"
           }
          ],
          "scattercarpet": [
           {
            "marker": {
             "colorbar": {
              "outlinewidth": 0,
              "ticks": ""
             }
            },
            "type": "scattercarpet"
           }
          ],
          "scattergeo": [
           {
            "marker": {
             "colorbar": {
              "outlinewidth": 0,
              "ticks": ""
             }
            },
            "type": "scattergeo"
           }
          ],
          "scattergl": [
           {
            "marker": {
             "colorbar": {
              "outlinewidth": 0,
              "ticks": ""
             }
            },
            "type": "scattergl"
           }
          ],
          "scattermapbox": [
           {
            "marker": {
             "colorbar": {
              "outlinewidth": 0,
              "ticks": ""
             }
            },
            "type": "scattermapbox"
           }
          ],
          "scatterpolar": [
           {
            "marker": {
             "colorbar": {
              "outlinewidth": 0,
              "ticks": ""
             }
            },
            "type": "scatterpolar"
           }
          ],
          "scatterpolargl": [
           {
            "marker": {
             "colorbar": {
              "outlinewidth": 0,
              "ticks": ""
             }
            },
            "type": "scatterpolargl"
           }
          ],
          "scatterternary": [
           {
            "marker": {
             "colorbar": {
              "outlinewidth": 0,
              "ticks": ""
             }
            },
            "type": "scatterternary"
           }
          ],
          "surface": [
           {
            "colorbar": {
             "outlinewidth": 0,
             "ticks": ""
            },
            "colorscale": [
             [
              0,
              "#0d0887"
             ],
             [
              0.1111111111111111,
              "#46039f"
             ],
             [
              0.2222222222222222,
              "#7201a8"
             ],
             [
              0.3333333333333333,
              "#9c179e"
             ],
             [
              0.4444444444444444,
              "#bd3786"
             ],
             [
              0.5555555555555556,
              "#d8576b"
             ],
             [
              0.6666666666666666,
              "#ed7953"
             ],
             [
              0.7777777777777778,
              "#fb9f3a"
             ],
             [
              0.8888888888888888,
              "#fdca26"
             ],
             [
              1,
              "#f0f921"
             ]
            ],
            "type": "surface"
           }
          ],
          "table": [
           {
            "cells": {
             "fill": {
              "color": "#EBF0F8"
             },
             "line": {
              "color": "white"
             }
            },
            "header": {
             "fill": {
              "color": "#C8D4E3"
             },
             "line": {
              "color": "white"
             }
            },
            "type": "table"
           }
          ]
         },
         "layout": {
          "annotationdefaults": {
           "arrowcolor": "#2a3f5f",
           "arrowhead": 0,
           "arrowwidth": 1
          },
          "autotypenumbers": "strict",
          "coloraxis": {
           "colorbar": {
            "outlinewidth": 0,
            "ticks": ""
           }
          },
          "colorscale": {
           "diverging": [
            [
             0,
             "#8e0152"
            ],
            [
             0.1,
             "#c51b7d"
            ],
            [
             0.2,
             "#de77ae"
            ],
            [
             0.3,
             "#f1b6da"
            ],
            [
             0.4,
             "#fde0ef"
            ],
            [
             0.5,
             "#f7f7f7"
            ],
            [
             0.6,
             "#e6f5d0"
            ],
            [
             0.7,
             "#b8e186"
            ],
            [
             0.8,
             "#7fbc41"
            ],
            [
             0.9,
             "#4d9221"
            ],
            [
             1,
             "#276419"
            ]
           ],
           "sequential": [
            [
             0,
             "#0d0887"
            ],
            [
             0.1111111111111111,
             "#46039f"
            ],
            [
             0.2222222222222222,
             "#7201a8"
            ],
            [
             0.3333333333333333,
             "#9c179e"
            ],
            [
             0.4444444444444444,
             "#bd3786"
            ],
            [
             0.5555555555555556,
             "#d8576b"
            ],
            [
             0.6666666666666666,
             "#ed7953"
            ],
            [
             0.7777777777777778,
             "#fb9f3a"
            ],
            [
             0.8888888888888888,
             "#fdca26"
            ],
            [
             1,
             "#f0f921"
            ]
           ],
           "sequentialminus": [
            [
             0,
             "#0d0887"
            ],
            [
             0.1111111111111111,
             "#46039f"
            ],
            [
             0.2222222222222222,
             "#7201a8"
            ],
            [
             0.3333333333333333,
             "#9c179e"
            ],
            [
             0.4444444444444444,
             "#bd3786"
            ],
            [
             0.5555555555555556,
             "#d8576b"
            ],
            [
             0.6666666666666666,
             "#ed7953"
            ],
            [
             0.7777777777777778,
             "#fb9f3a"
            ],
            [
             0.8888888888888888,
             "#fdca26"
            ],
            [
             1,
             "#f0f921"
            ]
           ]
          },
          "colorway": [
           "#636efa",
           "#EF553B",
           "#00cc96",
           "#ab63fa",
           "#FFA15A",
           "#19d3f3",
           "#FF6692",
           "#B6E880",
           "#FF97FF",
           "#FECB52"
          ],
          "font": {
           "color": "#2a3f5f"
          },
          "geo": {
           "bgcolor": "white",
           "lakecolor": "white",
           "landcolor": "#E5ECF6",
           "showlakes": true,
           "showland": true,
           "subunitcolor": "white"
          },
          "hoverlabel": {
           "align": "left"
          },
          "hovermode": "closest",
          "mapbox": {
           "style": "light"
          },
          "paper_bgcolor": "white",
          "plot_bgcolor": "#E5ECF6",
          "polar": {
           "angularaxis": {
            "gridcolor": "white",
            "linecolor": "white",
            "ticks": ""
           },
           "bgcolor": "#E5ECF6",
           "radialaxis": {
            "gridcolor": "white",
            "linecolor": "white",
            "ticks": ""
           }
          },
          "scene": {
           "xaxis": {
            "backgroundcolor": "#E5ECF6",
            "gridcolor": "white",
            "gridwidth": 2,
            "linecolor": "white",
            "showbackground": true,
            "ticks": "",
            "zerolinecolor": "white"
           },
           "yaxis": {
            "backgroundcolor": "#E5ECF6",
            "gridcolor": "white",
            "gridwidth": 2,
            "linecolor": "white",
            "showbackground": true,
            "ticks": "",
            "zerolinecolor": "white"
           },
           "zaxis": {
            "backgroundcolor": "#E5ECF6",
            "gridcolor": "white",
            "gridwidth": 2,
            "linecolor": "white",
            "showbackground": true,
            "ticks": "",
            "zerolinecolor": "white"
           }
          },
          "shapedefaults": {
           "line": {
            "color": "#2a3f5f"
           }
          },
          "ternary": {
           "aaxis": {
            "gridcolor": "white",
            "linecolor": "white",
            "ticks": ""
           },
           "baxis": {
            "gridcolor": "white",
            "linecolor": "white",
            "ticks": ""
           },
           "bgcolor": "#E5ECF6",
           "caxis": {
            "gridcolor": "white",
            "linecolor": "white",
            "ticks": ""
           }
          },
          "title": {
           "x": 0.05
          },
          "xaxis": {
           "automargin": true,
           "gridcolor": "white",
           "linecolor": "white",
           "ticks": "",
           "title": {
            "standoff": 15
           },
           "zerolinecolor": "white",
           "zerolinewidth": 2
          },
          "yaxis": {
           "automargin": true,
           "gridcolor": "white",
           "linecolor": "white",
           "ticks": "",
           "title": {
            "standoff": 15
           },
           "zerolinecolor": "white",
           "zerolinewidth": 2
          }
         }
        },
        "title": {
         "text": "Sembas Results - 2D Visualization (Progress Weight vs Proximity Weight)"
        },
        "width": 800,
        "xaxis": {
         "title": {
          "text": "Progress Weight"
         }
        },
        "yaxis": {
         "title": {
          "text": "Proximity Weight"
         }
        }
       }
      }
     },
     "metadata": {},
     "output_type": "display_data"
    },
    {
     "data": {
      "application/vnd.plotly.v1+json": {
       "config": {
        "plotlyServerURL": "https://plot.ly"
       },
       "data": [
        {
         "hoverinfo": "text",
         "marker": {
          "color": [
           1,
           1,
           1,
           1,
           1,
           1,
           1,
           1,
           1,
           1,
           1,
           1,
           1,
           1,
           1,
           1,
           1,
           1,
           1,
           1,
           1,
           1,
           1,
           1,
           1,
           1,
           1,
           1,
           1,
           1,
           1,
           1,
           1,
           1,
           1,
           1,
           1,
           1,
           1,
           1,
           1,
           1,
           1,
           1,
           1,
           1,
           1,
           1,
           1,
           1
          ],
          "colorscale": [
           [
            0,
            "red"
           ],
           [
            1,
            "blue"
           ]
          ],
          "line": {
           "color": "black",
           "width": 2
          },
          "opacity": 1,
          "size": 12
         },
         "mode": "markers",
         "text": [
          "Point 1<br>Successful<br>Bounds Weight: 0.15<br>Proximity Weight: 0.55",
          "Point 2<br>Successful<br>Bounds Weight: 0.92<br>Proximity Weight: 0.38",
          "Point 3<br>Successful<br>Bounds Weight: 0.30<br>Proximity Weight: 0.44",
          "Point 4<br>Successful<br>Bounds Weight: 0.28<br>Proximity Weight: 0.62",
          "Point 5<br>Successful<br>Bounds Weight: 0.80<br>Proximity Weight: 0.23",
          "Point 6<br>Successful<br>Bounds Weight: 0.36<br>Proximity Weight: 0.25",
          "Point 7<br>Successful<br>Bounds Weight: 0.59<br>Proximity Weight: 0.39",
          "Point 8<br>Successful<br>Bounds Weight: 0.99<br>Proximity Weight: 0.05",
          "Point 9<br>Successful<br>Bounds Weight: 0.64<br>Proximity Weight: 0.26",
          "Point 10<br>Successful<br>Bounds Weight: 0.76<br>Proximity Weight: 0.51",
          "Point 11<br>Successful<br>Bounds Weight: 0.69<br>Proximity Weight: 0.37",
          "Point 12<br>Successful<br>Bounds Weight: 0.86<br>Proximity Weight: 0.34",
          "Point 13<br>Successful<br>Bounds Weight: 0.72<br>Proximity Weight: 0.56",
          "Point 14<br>Successful<br>Bounds Weight: 0.94<br>Proximity Weight: 0.10",
          "Point 15<br>Successful<br>Bounds Weight: 0.27<br>Proximity Weight: 0.26",
          "Point 16<br>Successful<br>Bounds Weight: 0.04<br>Proximity Weight: 0.62",
          "Point 17<br>Successful<br>Bounds Weight: 0.11<br>Proximity Weight: 0.90",
          "Point 18<br>Successful<br>Bounds Weight: 0.55<br>Proximity Weight: 0.98",
          "Point 19<br>Successful<br>Bounds Weight: 0.37<br>Proximity Weight: 0.68",
          "Point 20<br>Successful<br>Bounds Weight: 0.01<br>Proximity Weight: 0.38",
          "Point 21<br>Successful<br>Bounds Weight: 0.54<br>Proximity Weight: 0.44",
          "Point 22<br>Successful<br>Bounds Weight: 0.47<br>Proximity Weight: 0.06",
          "Point 23<br>Successful<br>Bounds Weight: 0.06<br>Proximity Weight: 0.93",
          "Point 24<br>Successful<br>Bounds Weight: 0.65<br>Proximity Weight: 0.22",
          "Point 25<br>Successful<br>Bounds Weight: 0.80<br>Proximity Weight: 0.48",
          "Point 26<br>Successful<br>Bounds Weight: 0.66<br>Proximity Weight: 0.13",
          "Point 27<br>Successful<br>Bounds Weight: 0.38<br>Proximity Weight: 0.22",
          "Point 28<br>Successful<br>Bounds Weight: 0.32<br>Proximity Weight: 0.92",
          "Point 29<br>Successful<br>Bounds Weight: 0.59<br>Proximity Weight: 0.22",
          "Point 30<br>Successful<br>Bounds Weight: 0.23<br>Proximity Weight: 0.86",
          "Point 31<br>Successful<br>Bounds Weight: 0.16<br>Proximity Weight: 0.05",
          "Point 32<br>Successful<br>Bounds Weight: 0.47<br>Proximity Weight: 0.25",
          "Point 33<br>Successful<br>Bounds Weight: 0.17<br>Proximity Weight: 0.18",
          "Point 34<br>Successful<br>Bounds Weight: 1.00<br>Proximity Weight: 0.56",
          "Point 35<br>Successful<br>Bounds Weight: 0.59<br>Proximity Weight: 0.48",
          "Point 36<br>Successful<br>Bounds Weight: 0.43<br>Proximity Weight: 0.43",
          "Point 37<br>Successful<br>Bounds Weight: 0.87<br>Proximity Weight: 0.11",
          "Point 38<br>Successful<br>Bounds Weight: 0.72<br>Proximity Weight: 0.32",
          "Point 39<br>Successful<br>Bounds Weight: 1.00<br>Proximity Weight: 0.47",
          "Point 40<br>Successful<br>Bounds Weight: 0.85<br>Proximity Weight: 0.10",
          "Point 41<br>Successful<br>Bounds Weight: 0.42<br>Proximity Weight: 0.85",
          "Point 42<br>Successful<br>Bounds Weight: 0.32<br>Proximity Weight: 0.70",
          "Point 43<br>Successful<br>Bounds Weight: 0.26<br>Proximity Weight: 0.56",
          "Point 44<br>Successful<br>Bounds Weight: 0.33<br>Proximity Weight: 0.92",
          "Point 45<br>Successful<br>Bounds Weight: 0.91<br>Proximity Weight: 0.68",
          "Point 46<br>Successful<br>Bounds Weight: 0.61<br>Proximity Weight: 0.43",
          "Point 47<br>Successful<br>Bounds Weight: 0.20<br>Proximity Weight: 0.00",
          "Point 48<br>Successful<br>Bounds Weight: 0.96<br>Proximity Weight: 0.43",
          "Point 49<br>Successful<br>Bounds Weight: 0.34<br>Proximity Weight: 0.95",
          "Point 50<br>Successful<br>Bounds Weight: 0.44<br>Proximity Weight: 0.32"
         ],
         "type": "scatter",
         "x": [
          0.1530042588710785,
          0.922994077205658,
          0.2978913187980652,
          0.2760917544364929,
          0.8019701838493347,
          0.3636828362941742,
          0.5896360874176025,
          0.9905396699905396,
          0.6365466713905334,
          0.759642481803894,
          0.6853414177894592,
          0.8599226474761963,
          0.7223174571990967,
          0.9355491399765015,
          0.26737815141677856,
          0.03678600490093231,
          0.11048614233732224,
          0.545847475528717,
          0.3657378852367401,
          0.012288601137697697,
          0.5393423438072205,
          0.4706273376941681,
          0.061592359095811844,
          0.6501597762107849,
          0.8036495447158813,
          0.6589164137840271,
          0.3802447021007538,
          0.3248792588710785,
          0.5899233222007751,
          0.23313072323799133,
          0.15845707058906555,
          0.4657752513885498,
          0.1725122034549713,
          0.9979071021080017,
          0.5931205153465271,
          0.4283774793148041,
          0.8676425814628601,
          0.7190986275672913,
          0.9977414608001709,
          0.8499425053596497,
          0.4230649769306183,
          0.31901615858078003,
          0.26036760210990906,
          0.3309231698513031,
          0.9118636846542358,
          0.6072548031806946,
          0.20158202946186066,
          0.9617940187454224,
          0.3444116413593292,
          0.4359925389289856
         ],
         "y": [
          0.5467185378074646,
          0.37547439336776733,
          0.44055160880088806,
          0.6204258799552917,
          0.23477290570735931,
          0.24676214158535004,
          0.38551363348960876,
          0.04790208116173744,
          0.2649681568145752,
          0.5102535486221313,
          0.36621415615081787,
          0.33686989545822144,
          0.5586579442024231,
          0.10445460677146912,
          0.2561188042163849,
          0.6245109438896179,
          0.8976757526397705,
          0.9813680052757263,
          0.6821339726448059,
          0.38225001096725464,
          0.4379022419452667,
          0.05570153519511223,
          0.9290456771850586,
          0.21910609304904938,
          0.4753222167491913,
          0.133392795920372,
          0.22161917388439178,
          0.9158852696418762,
          0.22478345036506653,
          0.8631775379180908,
          0.05110764876008034,
          0.24643972516059875,
          0.1771232783794403,
          0.5627447962760925,
          0.47558358311653137,
          0.43163424730300903,
          0.1146184504032135,
          0.3223641514778137,
          0.4730727970600128,
          0.102532297372818,
          0.8528536558151245,
          0.6952208876609802,
          0.559055745601654,
          0.9193447828292847,
          0.6810921430587769,
          0.42769160866737366,
          0.004603694658726454,
          0.4265846908092499,
          0.9497939348220825,
          0.3158806562423706
         ]
        }
       ],
       "layout": {
        "height": 600,
        "showlegend": false,
        "template": {
         "data": {
          "bar": [
           {
            "error_x": {
             "color": "#2a3f5f"
            },
            "error_y": {
             "color": "#2a3f5f"
            },
            "marker": {
             "line": {
              "color": "#E5ECF6",
              "width": 0.5
             },
             "pattern": {
              "fillmode": "overlay",
              "size": 10,
              "solidity": 0.2
             }
            },
            "type": "bar"
           }
          ],
          "barpolar": [
           {
            "marker": {
             "line": {
              "color": "#E5ECF6",
              "width": 0.5
             },
             "pattern": {
              "fillmode": "overlay",
              "size": 10,
              "solidity": 0.2
             }
            },
            "type": "barpolar"
           }
          ],
          "carpet": [
           {
            "aaxis": {
             "endlinecolor": "#2a3f5f",
             "gridcolor": "white",
             "linecolor": "white",
             "minorgridcolor": "white",
             "startlinecolor": "#2a3f5f"
            },
            "baxis": {
             "endlinecolor": "#2a3f5f",
             "gridcolor": "white",
             "linecolor": "white",
             "minorgridcolor": "white",
             "startlinecolor": "#2a3f5f"
            },
            "type": "carpet"
           }
          ],
          "choropleth": [
           {
            "colorbar": {
             "outlinewidth": 0,
             "ticks": ""
            },
            "type": "choropleth"
           }
          ],
          "contour": [
           {
            "colorbar": {
             "outlinewidth": 0,
             "ticks": ""
            },
            "colorscale": [
             [
              0,
              "#0d0887"
             ],
             [
              0.1111111111111111,
              "#46039f"
             ],
             [
              0.2222222222222222,
              "#7201a8"
             ],
             [
              0.3333333333333333,
              "#9c179e"
             ],
             [
              0.4444444444444444,
              "#bd3786"
             ],
             [
              0.5555555555555556,
              "#d8576b"
             ],
             [
              0.6666666666666666,
              "#ed7953"
             ],
             [
              0.7777777777777778,
              "#fb9f3a"
             ],
             [
              0.8888888888888888,
              "#fdca26"
             ],
             [
              1,
              "#f0f921"
             ]
            ],
            "type": "contour"
           }
          ],
          "contourcarpet": [
           {
            "colorbar": {
             "outlinewidth": 0,
             "ticks": ""
            },
            "type": "contourcarpet"
           }
          ],
          "heatmap": [
           {
            "colorbar": {
             "outlinewidth": 0,
             "ticks": ""
            },
            "colorscale": [
             [
              0,
              "#0d0887"
             ],
             [
              0.1111111111111111,
              "#46039f"
             ],
             [
              0.2222222222222222,
              "#7201a8"
             ],
             [
              0.3333333333333333,
              "#9c179e"
             ],
             [
              0.4444444444444444,
              "#bd3786"
             ],
             [
              0.5555555555555556,
              "#d8576b"
             ],
             [
              0.6666666666666666,
              "#ed7953"
             ],
             [
              0.7777777777777778,
              "#fb9f3a"
             ],
             [
              0.8888888888888888,
              "#fdca26"
             ],
             [
              1,
              "#f0f921"
             ]
            ],
            "type": "heatmap"
           }
          ],
          "heatmapgl": [
           {
            "colorbar": {
             "outlinewidth": 0,
             "ticks": ""
            },
            "colorscale": [
             [
              0,
              "#0d0887"
             ],
             [
              0.1111111111111111,
              "#46039f"
             ],
             [
              0.2222222222222222,
              "#7201a8"
             ],
             [
              0.3333333333333333,
              "#9c179e"
             ],
             [
              0.4444444444444444,
              "#bd3786"
             ],
             [
              0.5555555555555556,
              "#d8576b"
             ],
             [
              0.6666666666666666,
              "#ed7953"
             ],
             [
              0.7777777777777778,
              "#fb9f3a"
             ],
             [
              0.8888888888888888,
              "#fdca26"
             ],
             [
              1,
              "#f0f921"
             ]
            ],
            "type": "heatmapgl"
           }
          ],
          "histogram": [
           {
            "marker": {
             "pattern": {
              "fillmode": "overlay",
              "size": 10,
              "solidity": 0.2
             }
            },
            "type": "histogram"
           }
          ],
          "histogram2d": [
           {
            "colorbar": {
             "outlinewidth": 0,
             "ticks": ""
            },
            "colorscale": [
             [
              0,
              "#0d0887"
             ],
             [
              0.1111111111111111,
              "#46039f"
             ],
             [
              0.2222222222222222,
              "#7201a8"
             ],
             [
              0.3333333333333333,
              "#9c179e"
             ],
             [
              0.4444444444444444,
              "#bd3786"
             ],
             [
              0.5555555555555556,
              "#d8576b"
             ],
             [
              0.6666666666666666,
              "#ed7953"
             ],
             [
              0.7777777777777778,
              "#fb9f3a"
             ],
             [
              0.8888888888888888,
              "#fdca26"
             ],
             [
              1,
              "#f0f921"
             ]
            ],
            "type": "histogram2d"
           }
          ],
          "histogram2dcontour": [
           {
            "colorbar": {
             "outlinewidth": 0,
             "ticks": ""
            },
            "colorscale": [
             [
              0,
              "#0d0887"
             ],
             [
              0.1111111111111111,
              "#46039f"
             ],
             [
              0.2222222222222222,
              "#7201a8"
             ],
             [
              0.3333333333333333,
              "#9c179e"
             ],
             [
              0.4444444444444444,
              "#bd3786"
             ],
             [
              0.5555555555555556,
              "#d8576b"
             ],
             [
              0.6666666666666666,
              "#ed7953"
             ],
             [
              0.7777777777777778,
              "#fb9f3a"
             ],
             [
              0.8888888888888888,
              "#fdca26"
             ],
             [
              1,
              "#f0f921"
             ]
            ],
            "type": "histogram2dcontour"
           }
          ],
          "mesh3d": [
           {
            "colorbar": {
             "outlinewidth": 0,
             "ticks": ""
            },
            "type": "mesh3d"
           }
          ],
          "parcoords": [
           {
            "line": {
             "colorbar": {
              "outlinewidth": 0,
              "ticks": ""
             }
            },
            "type": "parcoords"
           }
          ],
          "pie": [
           {
            "automargin": true,
            "type": "pie"
           }
          ],
          "scatter": [
           {
            "fillpattern": {
             "fillmode": "overlay",
             "size": 10,
             "solidity": 0.2
            },
            "type": "scatter"
           }
          ],
          "scatter3d": [
           {
            "line": {
             "colorbar": {
              "outlinewidth": 0,
              "ticks": ""
             }
            },
            "marker": {
             "colorbar": {
              "outlinewidth": 0,
              "ticks": ""
             }
            },
            "type": "scatter3d"
           }
          ],
          "scattercarpet": [
           {
            "marker": {
             "colorbar": {
              "outlinewidth": 0,
              "ticks": ""
             }
            },
            "type": "scattercarpet"
           }
          ],
          "scattergeo": [
           {
            "marker": {
             "colorbar": {
              "outlinewidth": 0,
              "ticks": ""
             }
            },
            "type": "scattergeo"
           }
          ],
          "scattergl": [
           {
            "marker": {
             "colorbar": {
              "outlinewidth": 0,
              "ticks": ""
             }
            },
            "type": "scattergl"
           }
          ],
          "scattermapbox": [
           {
            "marker": {
             "colorbar": {
              "outlinewidth": 0,
              "ticks": ""
             }
            },
            "type": "scattermapbox"
           }
          ],
          "scatterpolar": [
           {
            "marker": {
             "colorbar": {
              "outlinewidth": 0,
              "ticks": ""
             }
            },
            "type": "scatterpolar"
           }
          ],
          "scatterpolargl": [
           {
            "marker": {
             "colorbar": {
              "outlinewidth": 0,
              "ticks": ""
             }
            },
            "type": "scatterpolargl"
           }
          ],
          "scatterternary": [
           {
            "marker": {
             "colorbar": {
              "outlinewidth": 0,
              "ticks": ""
             }
            },
            "type": "scatterternary"
           }
          ],
          "surface": [
           {
            "colorbar": {
             "outlinewidth": 0,
             "ticks": ""
            },
            "colorscale": [
             [
              0,
              "#0d0887"
             ],
             [
              0.1111111111111111,
              "#46039f"
             ],
             [
              0.2222222222222222,
              "#7201a8"
             ],
             [
              0.3333333333333333,
              "#9c179e"
             ],
             [
              0.4444444444444444,
              "#bd3786"
             ],
             [
              0.5555555555555556,
              "#d8576b"
             ],
             [
              0.6666666666666666,
              "#ed7953"
             ],
             [
              0.7777777777777778,
              "#fb9f3a"
             ],
             [
              0.8888888888888888,
              "#fdca26"
             ],
             [
              1,
              "#f0f921"
             ]
            ],
            "type": "surface"
           }
          ],
          "table": [
           {
            "cells": {
             "fill": {
              "color": "#EBF0F8"
             },
             "line": {
              "color": "white"
             }
            },
            "header": {
             "fill": {
              "color": "#C8D4E3"
             },
             "line": {
              "color": "white"
             }
            },
            "type": "table"
           }
          ]
         },
         "layout": {
          "annotationdefaults": {
           "arrowcolor": "#2a3f5f",
           "arrowhead": 0,
           "arrowwidth": 1
          },
          "autotypenumbers": "strict",
          "coloraxis": {
           "colorbar": {
            "outlinewidth": 0,
            "ticks": ""
           }
          },
          "colorscale": {
           "diverging": [
            [
             0,
             "#8e0152"
            ],
            [
             0.1,
             "#c51b7d"
            ],
            [
             0.2,
             "#de77ae"
            ],
            [
             0.3,
             "#f1b6da"
            ],
            [
             0.4,
             "#fde0ef"
            ],
            [
             0.5,
             "#f7f7f7"
            ],
            [
             0.6,
             "#e6f5d0"
            ],
            [
             0.7,
             "#b8e186"
            ],
            [
             0.8,
             "#7fbc41"
            ],
            [
             0.9,
             "#4d9221"
            ],
            [
             1,
             "#276419"
            ]
           ],
           "sequential": [
            [
             0,
             "#0d0887"
            ],
            [
             0.1111111111111111,
             "#46039f"
            ],
            [
             0.2222222222222222,
             "#7201a8"
            ],
            [
             0.3333333333333333,
             "#9c179e"
            ],
            [
             0.4444444444444444,
             "#bd3786"
            ],
            [
             0.5555555555555556,
             "#d8576b"
            ],
            [
             0.6666666666666666,
             "#ed7953"
            ],
            [
             0.7777777777777778,
             "#fb9f3a"
            ],
            [
             0.8888888888888888,
             "#fdca26"
            ],
            [
             1,
             "#f0f921"
            ]
           ],
           "sequentialminus": [
            [
             0,
             "#0d0887"
            ],
            [
             0.1111111111111111,
             "#46039f"
            ],
            [
             0.2222222222222222,
             "#7201a8"
            ],
            [
             0.3333333333333333,
             "#9c179e"
            ],
            [
             0.4444444444444444,
             "#bd3786"
            ],
            [
             0.5555555555555556,
             "#d8576b"
            ],
            [
             0.6666666666666666,
             "#ed7953"
            ],
            [
             0.7777777777777778,
             "#fb9f3a"
            ],
            [
             0.8888888888888888,
             "#fdca26"
            ],
            [
             1,
             "#f0f921"
            ]
           ]
          },
          "colorway": [
           "#636efa",
           "#EF553B",
           "#00cc96",
           "#ab63fa",
           "#FFA15A",
           "#19d3f3",
           "#FF6692",
           "#B6E880",
           "#FF97FF",
           "#FECB52"
          ],
          "font": {
           "color": "#2a3f5f"
          },
          "geo": {
           "bgcolor": "white",
           "lakecolor": "white",
           "landcolor": "#E5ECF6",
           "showlakes": true,
           "showland": true,
           "subunitcolor": "white"
          },
          "hoverlabel": {
           "align": "left"
          },
          "hovermode": "closest",
          "mapbox": {
           "style": "light"
          },
          "paper_bgcolor": "white",
          "plot_bgcolor": "#E5ECF6",
          "polar": {
           "angularaxis": {
            "gridcolor": "white",
            "linecolor": "white",
            "ticks": ""
           },
           "bgcolor": "#E5ECF6",
           "radialaxis": {
            "gridcolor": "white",
            "linecolor": "white",
            "ticks": ""
           }
          },
          "scene": {
           "xaxis": {
            "backgroundcolor": "#E5ECF6",
            "gridcolor": "white",
            "gridwidth": 2,
            "linecolor": "white",
            "showbackground": true,
            "ticks": "",
            "zerolinecolor": "white"
           },
           "yaxis": {
            "backgroundcolor": "#E5ECF6",
            "gridcolor": "white",
            "gridwidth": 2,
            "linecolor": "white",
            "showbackground": true,
            "ticks": "",
            "zerolinecolor": "white"
           },
           "zaxis": {
            "backgroundcolor": "#E5ECF6",
            "gridcolor": "white",
            "gridwidth": 2,
            "linecolor": "white",
            "showbackground": true,
            "ticks": "",
            "zerolinecolor": "white"
           }
          },
          "shapedefaults": {
           "line": {
            "color": "#2a3f5f"
           }
          },
          "ternary": {
           "aaxis": {
            "gridcolor": "white",
            "linecolor": "white",
            "ticks": ""
           },
           "baxis": {
            "gridcolor": "white",
            "linecolor": "white",
            "ticks": ""
           },
           "bgcolor": "#E5ECF6",
           "caxis": {
            "gridcolor": "white",
            "linecolor": "white",
            "ticks": ""
           }
          },
          "title": {
           "x": 0.05
          },
          "xaxis": {
           "automargin": true,
           "gridcolor": "white",
           "linecolor": "white",
           "ticks": "",
           "title": {
            "standoff": 15
           },
           "zerolinecolor": "white",
           "zerolinewidth": 2
          },
          "yaxis": {
           "automargin": true,
           "gridcolor": "white",
           "linecolor": "white",
           "ticks": "",
           "title": {
            "standoff": 15
           },
           "zerolinecolor": "white",
           "zerolinewidth": 2
          }
         }
        },
        "title": {
         "text": "Sembas Results - 2D Visualization (Bounds Weight vs Proximity Weight)"
        },
        "width": 800,
        "xaxis": {
         "title": {
          "text": "Bounds Weight"
         }
        },
        "yaxis": {
         "title": {
          "text": "Proximity Weight"
         }
        }
       }
      }
     },
     "metadata": {},
     "output_type": "display_data"
    }
   ],
   "source": [
    "import json\n",
    "import plotly.graph_objects as go\n",
    "\n",
    "def plot_sembas_results(file):\n",
    "    \"\"\"\n",
    "    Simple 3D scatter plot using Plotly - automatically loads results.json\n",
    "    \"\"\"\n",
    "    # Load data from JSON file\n",
    "    with open(file, 'r') as f:\n",
    "        data = json.load(f)\n",
    "    \n",
    "    coords = data[\"requests\"]\n",
    "    results = data[\"results\"]\n",
    "    \n",
    "    # Extract coordinates\n",
    "    x = [pt[0] for pt in coords]\n",
    "    y = [pt[1] for pt in coords]\n",
    "    z = [pt[2] for pt in coords]\n",
    "    \n",
    "    # Create color mapping (0 = red/failed, 1 = blue/successful)\n",
    "    colors = [1 if res else 0 for res in results]\n",
    "    \n",
    "    # Create 3D scatter plot\n",
    "    fig = go.Figure(data=[go.Scatter3d(\n",
    "        x=x,\n",
    "        y=y,\n",
    "        z=z,\n",
    "        mode='markers',\n",
    "        marker=dict(\n",
    "            size=10,\n",
    "            color=colors,\n",
    "            colorscale=[[0, 'red'], [1, 'blue']],\n",
    "            opacity=1.0,\n",
    "            line=dict(width=2, color='black')\n",
    "        ),\n",
    "        text=[f'Point {i+1}<br>{\"Successful\" if res else \"Failed\"}<br>({x[i]:.2f}, {y[i]:.2f}, {z[i]:.2f})'\n",
    "              for i, res in enumerate(results)],\n",
    "        hoverinfo='text'\n",
    "    )])\n",
    "    \n",
    "    # Update layout\n",
    "    fig.update_layout(\n",
    "        title='Sembas Results - 3D Visualization',\n",
    "        scene=dict(\n",
    "            xaxis_title='Progress Weight',\n",
    "            yaxis_title='Bounds Weight',\n",
    "            zaxis_title='Proximity Weight'\n",
    "        ),\n",
    "        width=1000,\n",
    "        height=800\n",
    "    )\n",
    "    \n",
    "    fig.show()\n",
    "\n",
    "def plot_sembas_2d(file, dim1=0, dim2=1):\n",
    "    \"\"\"\n",
    "    2D scatter plot using Plotly - extract 2 dimensions of your choosing\n",
    "    \n",
    "    Parameters:\n",
    "    file: JSON file path\n",
    "    dim1: First dimension index (0=Progress Weight, 1=Bounds Weight, 2=Proximity Weight)\n",
    "    dim2: Second dimension index (0=Progress Weight, 1=Bounds Weight, 2=Proximity Weight)\n",
    "    \"\"\"\n",
    "    # Load data from JSON file\n",
    "    with open(file, 'r') as f:\n",
    "        data = json.load(f)\n",
    "    \n",
    "    coords = data[\"requests\"]\n",
    "    results = data[\"results\"]\n",
    "    \n",
    "    # Dimension labels\n",
    "    dim_labels = ['Progress Weight', 'Bounds Weight', 'Proximity Weight']\n",
    "    \n",
    "    # Validate dimension indices\n",
    "    if dim1 not in [0, 1, 2] or dim2 not in [0, 1, 2]:\n",
    "        raise ValueError(\"Dimension indices must be 0, 1, or 2\")\n",
    "    \n",
    "    if dim1 == dim2:\n",
    "        raise ValueError(\"Dimension indices must be different\")\n",
    "    \n",
    "    # Extract chosen dimensions\n",
    "    x = [pt[dim1] for pt in coords]\n",
    "    y = [pt[dim2] for pt in coords]\n",
    "    \n",
    "    # Create color mapping (0 = red/failed, 1 = blue/successful)\n",
    "    colors = [1 if res else 0 for res in results]\n",
    "    \n",
    "    # Create 2D scatter plot\n",
    "    fig = go.Figure(data=[go.Scatter(\n",
    "        x=x,\n",
    "        y=y,\n",
    "        mode='markers',\n",
    "        marker=dict(\n",
    "            size=12,\n",
    "            color=colors,\n",
    "            colorscale=[[0, 'red'], [1, 'blue']],\n",
    "            opacity=1.0,\n",
    "            line=dict(width=2, color='black')\n",
    "        ),\n",
    "        text=[f'Point {i+1}<br>{\"Successful\" if res else \"Failed\"}<br>{dim_labels[dim1]}: {x[i]:.2f}<br>{dim_labels[dim2]}: {y[i]:.2f}'\n",
    "              for i, res in enumerate(results)],\n",
    "        hoverinfo='text'\n",
    "    )])\n",
    "    \n",
    "    # Update layout\n",
    "    fig.update_layout(\n",
    "        title=f'Sembas Results - 2D Visualization ({dim_labels[dim1]} vs {dim_labels[dim2]})',\n",
    "        xaxis_title=dim_labels[dim1],\n",
    "        yaxis_title=dim_labels[dim2],\n",
    "        width=800,\n",
    "        height=600,\n",
    "        showlegend=False\n",
    "    )\n",
    "    \n",
    "    fig.show()\n",
    "\n",
    "if __name__ == \"__main__\":\n",
    "    # Example usage:\n",
    "\n",
    "    file = 'vector_collision_test.json' # Volume: 0.11426562679262726, points: 990\n",
    "    plot_sembas_results(file)  # 3D plot\n",
    "    \n",
    "    # 2D plots - choose any two dimensions:\n",
    "    plot_sembas_2d(file, dim1=0, dim2=1)  # Progress vs Bounds\n",
    "    plot_sembas_2d(file, dim1=0, dim2=2)  # Progress vs Proximity\n",
    "    plot_sembas_2d(file, dim1=1, dim2=2)  # Bounds vs Proximity"
   ]
  },
  {
   "cell_type": "code",
   "execution_count": 8,
   "id": "cd792a07",
   "metadata": {},
   "outputs": [
    {
     "data": {
      "application/vnd.plotly.v1+json": {
       "config": {
        "plotlyServerURL": "https://plot.ly"
       },
       "data": [
        {
         "hoverinfo": "text",
         "marker": {
          "color": [
           1,
           0,
           0,
           1,
           1,
           0,
           1,
           1,
           1,
           0,
           1,
           1,
           0,
           1,
           1,
           0,
           0,
           1,
           0,
           1,
           1,
           0,
           0,
           1,
           0,
           1,
           1,
           0,
           0,
           0,
           1,
           0,
           0,
           1,
           1,
           1,
           1,
           1,
           1,
           1,
           1,
           1,
           1,
           1,
           0,
           1,
           0,
           0,
           1,
           1
          ],
          "colorscale": [
           [
            0,
            "red"
           ],
           [
            1,
            "blue"
           ]
          ],
          "line": {
           "color": "black",
           "width": 2
          },
          "opacity": 1,
          "size": 10
         },
         "mode": "markers",
         "text": [
          "Point 1<br>Successful<br>(0.62, 0.15, 0.55)",
          "Point 2<br>Failed<br>(0.43, 0.92, 0.38)",
          "Point 3<br>Failed<br>(0.52, 0.54, 0.46)",
          "Point 4<br>Successful<br>(0.57, 0.35, 0.50)",
          "Point 5<br>Successful<br>(0.55, 0.44, 0.48)",
          "Point 6<br>Failed<br>(0.48, 0.43, 0.50)",
          "Point 7<br>Successful<br>(0.57, 0.37, 0.50)",
          "Point 8<br>Successful<br>(0.51, 0.38, 0.51)",
          "Point 9<br>Successful<br>(0.62, 0.45, 0.46)",
          "Point 10<br>Failed<br>(0.53, 0.51, 0.47)",
          "Point 11<br>Successful<br>(0.59, 0.50, 0.46)",
          "Point 12<br>Successful<br>(0.56, 0.46, 0.55)",
          "Point 13<br>Failed<br>(0.53, 0.51, 0.47)",
          "Point 14<br>Successful<br>(0.55, 0.51, 0.52)",
          "Point 15<br>Successful<br>(0.53, 0.42, 0.41)",
          "Point 16<br>Failed<br>(0.53, 0.51, 0.47)",
          "Point 17<br>Failed<br>(0.52, 0.48, 0.42)",
          "Point 18<br>Successful<br>(0.49, 0.41, 0.52)",
          "Point 19<br>Failed<br>(0.50, 0.50, 0.46)",
          "Point 20<br>Successful<br>(0.48, 0.46, 0.50)",
          "Point 21<br>Successful<br>(0.60, 0.47, 0.44)",
          "Point 22<br>Failed<br>(0.50, 0.50, 0.46)",
          "Point 23<br>Failed<br>(0.55, 0.50, 0.44)",
          "Point 24<br>Successful<br>(0.57, 0.48, 0.54)",
          "Point 25<br>Failed<br>(0.50, 0.50, 0.46)",
          "Point 26<br>Successful<br>(0.53, 0.51, 0.51)",
          "Point 27<br>Successful<br>(0.53, 0.40, 0.42)",
          "Point 28<br>Failed<br>(0.50, 0.50, 0.46)",
          "Point 29<br>Failed<br>(0.50, 0.45, 0.43)",
          "Point 30<br>Failed<br>(0.42, 0.49, 0.53)",
          "Point 31<br>Successful<br>(0.47, 0.40, 0.54)",
          "Point 32<br>Failed<br>(0.43, 0.43, 0.55)",
          "Point 33<br>Failed<br>(0.43, 0.42, 0.44)",
          "Point 34<br>Successful<br>(0.47, 0.40, 0.54)",
          "Point 35<br>Successful<br>(0.44, 0.39, 0.49)",
          "Point 36<br>Successful<br>(0.66, 0.51, 0.40)",
          "Point 37<br>Successful<br>(0.56, 0.53, 0.42)",
          "Point 38<br>Successful<br>(0.53, 0.49, 0.46)",
          "Point 39<br>Successful<br>(0.62, 0.51, 0.50)",
          "Point 40<br>Successful<br>(0.56, 0.53, 0.42)",
          "Point 41<br>Successful<br>(0.55, 0.48, 0.39)",
          "Point 42<br>Successful<br>(0.58, 0.43, 0.38)",
          "Point 43<br>Successful<br>(0.56, 0.53, 0.42)",
          "Point 44<br>Successful<br>(0.58, 0.54, 0.47)",
          "Point 45<br>Failed<br>(0.52, 0.58, 0.53)",
          "Point 46<br>Successful<br>(0.58, 0.50, 0.57)",
          "Point 47<br>Failed<br>(0.56, 0.55, 0.56)",
          "Point 48<br>Failed<br>(0.59, 0.53, 0.47)",
          "Point 49<br>Successful<br>(0.58, 0.50, 0.57)",
          "Point 50<br>Successful<br>(0.60, 0.52, 0.52)"
         ],
         "type": "scatter3d",
         "x": [
          0.6187038421630859,
          0.4309733510017395,
          0.5248386263847351,
          0.5717712044715881,
          0.5483049154281616,
          0.47708287835121155,
          0.5656694769859314,
          0.5102219581604004,
          0.6195269227027893,
          0.5309403538703918,
          0.5863878726959229,
          0.5641445517539978,
          0.5309403538703918,
          0.54722660779953,
          0.5324652791023254,
          0.5309403538703918,
          0.5248259902000427,
          0.49398425221443176,
          0.5008267164230347,
          0.4763222336769104,
          0.6026255488395691,
          0.5008267164230347,
          0.5531432628631592,
          0.5688008666038513,
          0.5008267164230347,
          0.5292255282402039,
          0.5278089642524719,
          0.5008267164230347,
          0.500239908695221,
          0.415132611989975,
          0.47148391604423523,
          0.42963340878486633,
          0.4332244396209717,
          0.47148391604423523,
          0.44242626428604126,
          0.6569462418556213,
          0.5551473498344421,
          0.5306428670883179,
          0.6231215000152588,
          0.5551473498344421,
          0.5545606017112732,
          0.5821296572685242,
          0.5551473498344421,
          0.5835462212562561,
          0.5194200277328491,
          0.5772905349731445,
          0.5562790632247925,
          0.5859583020210266,
          0.5772905349731445,
          0.6033287644386292
         ],
         "y": [
          0.1530042588710785,
          0.922994077205658,
          0.537999153137207,
          0.34550172090530396,
          0.4417504370212555,
          0.4287389814853668,
          0.3705284297466278,
          0.3821883797645569,
          0.45476192235946655,
          0.5129724740982056,
          0.5013124942779541,
          0.461324006319046,
          0.5129724740982056,
          0.5059526562690735,
          0.42217689752578735,
          0.5129724740982056,
          0.4782714247703552,
          0.4095359146595001,
          0.49607110023498535,
          0.45738184452056885,
          0.47396498918533325,
          0.49607110023498535,
          0.5029400587081909,
          0.48220399022102356,
          0.49607110023498535,
          0.5087659358978271,
          0.4012969136238098,
          0.49607110023498535,
          0.451555997133255,
          0.48548492789268494,
          0.39619219303131104,
          0.4339861273765564,
          0.4243508577346802,
          0.39619219303131104,
          0.39075779914855957,
          0.5061795115470886,
          0.5282856822013855,
          0.4895963668823242,
          0.5144185423851013,
          0.5282856822013855,
          0.4837705194950104,
          0.4335114657878876,
          0.5282856822013855,
          0.5409804582595825,
          0.5801962614059448,
          0.49896040558815,
          0.5523412823677063,
          0.5294191837310791,
          0.49896040558815,
          0.5164363980293274
         ],
         "z": [
          0.5467185378074646,
          0.37547439336776733,
          0.46109646558761597,
          0.5039075016975403,
          0.4825019836425781,
          0.5020755529403687,
          0.4983415901660919,
          0.5075428485870361,
          0.4629284143447876,
          0.46666234731674194,
          0.45746105909347534,
          0.5531488656997681,
          0.46666234731674194,
          0.5212565660476685,
          0.4118551015853882,
          0.46666234731674194,
          0.4213467836380005,
          0.5229555368423462,
          0.4620060324668884,
          0.49661412835121155,
          0.44204843044281006,
          0.4620060324668884,
          0.4394041895866394,
          0.5422382950782776,
          0.4620060324668884,
          0.5102490782737732,
          0.4227656424045563,
          0.4620060324668884,
          0.42576920986175537,
          0.5296450853347778,
          0.5397118926048279,
          0.5504453182220459,
          0.44487887620925903,
          0.5397118926048279,
          0.49050652980804443,
          0.401594877243042,
          0.42155247926712036,
          0.4561605751514435,
          0.5017847418785095,
          0.42155247926712036,
          0.3853156566619873,
          0.3823121190071106,
          0.42155247926712036,
          0.4697955548763275,
          0.5309023261070251,
          0.566981852054596,
          0.5649693012237549,
          0.4657537639141083,
          0.566981852054596,
          0.5189022421836853
         ]
        }
       ],
       "layout": {
        "height": 800,
        "scene": {
         "xaxis": {
          "title": {
           "text": "Progress Weight"
          }
         },
         "yaxis": {
          "title": {
           "text": "Bounds Weight"
          }
         },
         "zaxis": {
          "title": {
           "text": "Proximity Weight"
          }
         }
        },
        "template": {
         "data": {
          "bar": [
           {
            "error_x": {
             "color": "#2a3f5f"
            },
            "error_y": {
             "color": "#2a3f5f"
            },
            "marker": {
             "line": {
              "color": "#E5ECF6",
              "width": 0.5
             },
             "pattern": {
              "fillmode": "overlay",
              "size": 10,
              "solidity": 0.2
             }
            },
            "type": "bar"
           }
          ],
          "barpolar": [
           {
            "marker": {
             "line": {
              "color": "#E5ECF6",
              "width": 0.5
             },
             "pattern": {
              "fillmode": "overlay",
              "size": 10,
              "solidity": 0.2
             }
            },
            "type": "barpolar"
           }
          ],
          "carpet": [
           {
            "aaxis": {
             "endlinecolor": "#2a3f5f",
             "gridcolor": "white",
             "linecolor": "white",
             "minorgridcolor": "white",
             "startlinecolor": "#2a3f5f"
            },
            "baxis": {
             "endlinecolor": "#2a3f5f",
             "gridcolor": "white",
             "linecolor": "white",
             "minorgridcolor": "white",
             "startlinecolor": "#2a3f5f"
            },
            "type": "carpet"
           }
          ],
          "choropleth": [
           {
            "colorbar": {
             "outlinewidth": 0,
             "ticks": ""
            },
            "type": "choropleth"
           }
          ],
          "contour": [
           {
            "colorbar": {
             "outlinewidth": 0,
             "ticks": ""
            },
            "colorscale": [
             [
              0,
              "#0d0887"
             ],
             [
              0.1111111111111111,
              "#46039f"
             ],
             [
              0.2222222222222222,
              "#7201a8"
             ],
             [
              0.3333333333333333,
              "#9c179e"
             ],
             [
              0.4444444444444444,
              "#bd3786"
             ],
             [
              0.5555555555555556,
              "#d8576b"
             ],
             [
              0.6666666666666666,
              "#ed7953"
             ],
             [
              0.7777777777777778,
              "#fb9f3a"
             ],
             [
              0.8888888888888888,
              "#fdca26"
             ],
             [
              1,
              "#f0f921"
             ]
            ],
            "type": "contour"
           }
          ],
          "contourcarpet": [
           {
            "colorbar": {
             "outlinewidth": 0,
             "ticks": ""
            },
            "type": "contourcarpet"
           }
          ],
          "heatmap": [
           {
            "colorbar": {
             "outlinewidth": 0,
             "ticks": ""
            },
            "colorscale": [
             [
              0,
              "#0d0887"
             ],
             [
              0.1111111111111111,
              "#46039f"
             ],
             [
              0.2222222222222222,
              "#7201a8"
             ],
             [
              0.3333333333333333,
              "#9c179e"
             ],
             [
              0.4444444444444444,
              "#bd3786"
             ],
             [
              0.5555555555555556,
              "#d8576b"
             ],
             [
              0.6666666666666666,
              "#ed7953"
             ],
             [
              0.7777777777777778,
              "#fb9f3a"
             ],
             [
              0.8888888888888888,
              "#fdca26"
             ],
             [
              1,
              "#f0f921"
             ]
            ],
            "type": "heatmap"
           }
          ],
          "heatmapgl": [
           {
            "colorbar": {
             "outlinewidth": 0,
             "ticks": ""
            },
            "colorscale": [
             [
              0,
              "#0d0887"
             ],
             [
              0.1111111111111111,
              "#46039f"
             ],
             [
              0.2222222222222222,
              "#7201a8"
             ],
             [
              0.3333333333333333,
              "#9c179e"
             ],
             [
              0.4444444444444444,
              "#bd3786"
             ],
             [
              0.5555555555555556,
              "#d8576b"
             ],
             [
              0.6666666666666666,
              "#ed7953"
             ],
             [
              0.7777777777777778,
              "#fb9f3a"
             ],
             [
              0.8888888888888888,
              "#fdca26"
             ],
             [
              1,
              "#f0f921"
             ]
            ],
            "type": "heatmapgl"
           }
          ],
          "histogram": [
           {
            "marker": {
             "pattern": {
              "fillmode": "overlay",
              "size": 10,
              "solidity": 0.2
             }
            },
            "type": "histogram"
           }
          ],
          "histogram2d": [
           {
            "colorbar": {
             "outlinewidth": 0,
             "ticks": ""
            },
            "colorscale": [
             [
              0,
              "#0d0887"
             ],
             [
              0.1111111111111111,
              "#46039f"
             ],
             [
              0.2222222222222222,
              "#7201a8"
             ],
             [
              0.3333333333333333,
              "#9c179e"
             ],
             [
              0.4444444444444444,
              "#bd3786"
             ],
             [
              0.5555555555555556,
              "#d8576b"
             ],
             [
              0.6666666666666666,
              "#ed7953"
             ],
             [
              0.7777777777777778,
              "#fb9f3a"
             ],
             [
              0.8888888888888888,
              "#fdca26"
             ],
             [
              1,
              "#f0f921"
             ]
            ],
            "type": "histogram2d"
           }
          ],
          "histogram2dcontour": [
           {
            "colorbar": {
             "outlinewidth": 0,
             "ticks": ""
            },
            "colorscale": [
             [
              0,
              "#0d0887"
             ],
             [
              0.1111111111111111,
              "#46039f"
             ],
             [
              0.2222222222222222,
              "#7201a8"
             ],
             [
              0.3333333333333333,
              "#9c179e"
             ],
             [
              0.4444444444444444,
              "#bd3786"
             ],
             [
              0.5555555555555556,
              "#d8576b"
             ],
             [
              0.6666666666666666,
              "#ed7953"
             ],
             [
              0.7777777777777778,
              "#fb9f3a"
             ],
             [
              0.8888888888888888,
              "#fdca26"
             ],
             [
              1,
              "#f0f921"
             ]
            ],
            "type": "histogram2dcontour"
           }
          ],
          "mesh3d": [
           {
            "colorbar": {
             "outlinewidth": 0,
             "ticks": ""
            },
            "type": "mesh3d"
           }
          ],
          "parcoords": [
           {
            "line": {
             "colorbar": {
              "outlinewidth": 0,
              "ticks": ""
             }
            },
            "type": "parcoords"
           }
          ],
          "pie": [
           {
            "automargin": true,
            "type": "pie"
           }
          ],
          "scatter": [
           {
            "fillpattern": {
             "fillmode": "overlay",
             "size": 10,
             "solidity": 0.2
            },
            "type": "scatter"
           }
          ],
          "scatter3d": [
           {
            "line": {
             "colorbar": {
              "outlinewidth": 0,
              "ticks": ""
             }
            },
            "marker": {
             "colorbar": {
              "outlinewidth": 0,
              "ticks": ""
             }
            },
            "type": "scatter3d"
           }
          ],
          "scattercarpet": [
           {
            "marker": {
             "colorbar": {
              "outlinewidth": 0,
              "ticks": ""
             }
            },
            "type": "scattercarpet"
           }
          ],
          "scattergeo": [
           {
            "marker": {
             "colorbar": {
              "outlinewidth": 0,
              "ticks": ""
             }
            },
            "type": "scattergeo"
           }
          ],
          "scattergl": [
           {
            "marker": {
             "colorbar": {
              "outlinewidth": 0,
              "ticks": ""
             }
            },
            "type": "scattergl"
           }
          ],
          "scattermapbox": [
           {
            "marker": {
             "colorbar": {
              "outlinewidth": 0,
              "ticks": ""
             }
            },
            "type": "scattermapbox"
           }
          ],
          "scatterpolar": [
           {
            "marker": {
             "colorbar": {
              "outlinewidth": 0,
              "ticks": ""
             }
            },
            "type": "scatterpolar"
           }
          ],
          "scatterpolargl": [
           {
            "marker": {
             "colorbar": {
              "outlinewidth": 0,
              "ticks": ""
             }
            },
            "type": "scatterpolargl"
           }
          ],
          "scatterternary": [
           {
            "marker": {
             "colorbar": {
              "outlinewidth": 0,
              "ticks": ""
             }
            },
            "type": "scatterternary"
           }
          ],
          "surface": [
           {
            "colorbar": {
             "outlinewidth": 0,
             "ticks": ""
            },
            "colorscale": [
             [
              0,
              "#0d0887"
             ],
             [
              0.1111111111111111,
              "#46039f"
             ],
             [
              0.2222222222222222,
              "#7201a8"
             ],
             [
              0.3333333333333333,
              "#9c179e"
             ],
             [
              0.4444444444444444,
              "#bd3786"
             ],
             [
              0.5555555555555556,
              "#d8576b"
             ],
             [
              0.6666666666666666,
              "#ed7953"
             ],
             [
              0.7777777777777778,
              "#fb9f3a"
             ],
             [
              0.8888888888888888,
              "#fdca26"
             ],
             [
              1,
              "#f0f921"
             ]
            ],
            "type": "surface"
           }
          ],
          "table": [
           {
            "cells": {
             "fill": {
              "color": "#EBF0F8"
             },
             "line": {
              "color": "white"
             }
            },
            "header": {
             "fill": {
              "color": "#C8D4E3"
             },
             "line": {
              "color": "white"
             }
            },
            "type": "table"
           }
          ]
         },
         "layout": {
          "annotationdefaults": {
           "arrowcolor": "#2a3f5f",
           "arrowhead": 0,
           "arrowwidth": 1
          },
          "autotypenumbers": "strict",
          "coloraxis": {
           "colorbar": {
            "outlinewidth": 0,
            "ticks": ""
           }
          },
          "colorscale": {
           "diverging": [
            [
             0,
             "#8e0152"
            ],
            [
             0.1,
             "#c51b7d"
            ],
            [
             0.2,
             "#de77ae"
            ],
            [
             0.3,
             "#f1b6da"
            ],
            [
             0.4,
             "#fde0ef"
            ],
            [
             0.5,
             "#f7f7f7"
            ],
            [
             0.6,
             "#e6f5d0"
            ],
            [
             0.7,
             "#b8e186"
            ],
            [
             0.8,
             "#7fbc41"
            ],
            [
             0.9,
             "#4d9221"
            ],
            [
             1,
             "#276419"
            ]
           ],
           "sequential": [
            [
             0,
             "#0d0887"
            ],
            [
             0.1111111111111111,
             "#46039f"
            ],
            [
             0.2222222222222222,
             "#7201a8"
            ],
            [
             0.3333333333333333,
             "#9c179e"
            ],
            [
             0.4444444444444444,
             "#bd3786"
            ],
            [
             0.5555555555555556,
             "#d8576b"
            ],
            [
             0.6666666666666666,
             "#ed7953"
            ],
            [
             0.7777777777777778,
             "#fb9f3a"
            ],
            [
             0.8888888888888888,
             "#fdca26"
            ],
            [
             1,
             "#f0f921"
            ]
           ],
           "sequentialminus": [
            [
             0,
             "#0d0887"
            ],
            [
             0.1111111111111111,
             "#46039f"
            ],
            [
             0.2222222222222222,
             "#7201a8"
            ],
            [
             0.3333333333333333,
             "#9c179e"
            ],
            [
             0.4444444444444444,
             "#bd3786"
            ],
            [
             0.5555555555555556,
             "#d8576b"
            ],
            [
             0.6666666666666666,
             "#ed7953"
            ],
            [
             0.7777777777777778,
             "#fb9f3a"
            ],
            [
             0.8888888888888888,
             "#fdca26"
            ],
            [
             1,
             "#f0f921"
            ]
           ]
          },
          "colorway": [
           "#636efa",
           "#EF553B",
           "#00cc96",
           "#ab63fa",
           "#FFA15A",
           "#19d3f3",
           "#FF6692",
           "#B6E880",
           "#FF97FF",
           "#FECB52"
          ],
          "font": {
           "color": "#2a3f5f"
          },
          "geo": {
           "bgcolor": "white",
           "lakecolor": "white",
           "landcolor": "#E5ECF6",
           "showlakes": true,
           "showland": true,
           "subunitcolor": "white"
          },
          "hoverlabel": {
           "align": "left"
          },
          "hovermode": "closest",
          "mapbox": {
           "style": "light"
          },
          "paper_bgcolor": "white",
          "plot_bgcolor": "#E5ECF6",
          "polar": {
           "angularaxis": {
            "gridcolor": "white",
            "linecolor": "white",
            "ticks": ""
           },
           "bgcolor": "#E5ECF6",
           "radialaxis": {
            "gridcolor": "white",
            "linecolor": "white",
            "ticks": ""
           }
          },
          "scene": {
           "xaxis": {
            "backgroundcolor": "#E5ECF6",
            "gridcolor": "white",
            "gridwidth": 2,
            "linecolor": "white",
            "showbackground": true,
            "ticks": "",
            "zerolinecolor": "white"
           },
           "yaxis": {
            "backgroundcolor": "#E5ECF6",
            "gridcolor": "white",
            "gridwidth": 2,
            "linecolor": "white",
            "showbackground": true,
            "ticks": "",
            "zerolinecolor": "white"
           },
           "zaxis": {
            "backgroundcolor": "#E5ECF6",
            "gridcolor": "white",
            "gridwidth": 2,
            "linecolor": "white",
            "showbackground": true,
            "ticks": "",
            "zerolinecolor": "white"
           }
          },
          "shapedefaults": {
           "line": {
            "color": "#2a3f5f"
           }
          },
          "ternary": {
           "aaxis": {
            "gridcolor": "white",
            "linecolor": "white",
            "ticks": ""
           },
           "baxis": {
            "gridcolor": "white",
            "linecolor": "white",
            "ticks": ""
           },
           "bgcolor": "#E5ECF6",
           "caxis": {
            "gridcolor": "white",
            "linecolor": "white",
            "ticks": ""
           }
          },
          "title": {
           "x": 0.05
          },
          "xaxis": {
           "automargin": true,
           "gridcolor": "white",
           "linecolor": "white",
           "ticks": "",
           "title": {
            "standoff": 15
           },
           "zerolinecolor": "white",
           "zerolinewidth": 2
          },
          "yaxis": {
           "automargin": true,
           "gridcolor": "white",
           "linecolor": "white",
           "ticks": "",
           "title": {
            "standoff": 15
           },
           "zerolinecolor": "white",
           "zerolinewidth": 2
          }
         }
        },
        "title": {
         "text": "Sembas Results - 3D Visualization"
        },
        "width": 1000
       }
      }
     },
     "metadata": {},
     "output_type": "display_data"
    },
    {
     "data": {
      "application/vnd.plotly.v1+json": {
       "config": {
        "plotlyServerURL": "https://plot.ly"
       },
       "data": [
        {
         "hoverinfo": "text",
         "marker": {
          "color": [
           1,
           0,
           0,
           1,
           1,
           0,
           1,
           1,
           1,
           0,
           1,
           1,
           0,
           1,
           1,
           0,
           0,
           1,
           0,
           1,
           1,
           0,
           0,
           1,
           0,
           1,
           1,
           0,
           0,
           0,
           1,
           0,
           0,
           1,
           1,
           1,
           1,
           1,
           1,
           1,
           1,
           1,
           1,
           1,
           0,
           1,
           0,
           0,
           1,
           1
          ],
          "colorscale": [
           [
            0,
            "red"
           ],
           [
            1,
            "blue"
           ]
          ],
          "line": {
           "color": "black",
           "width": 2
          },
          "opacity": 1,
          "size": 12
         },
         "mode": "markers",
         "text": [
          "Point 1<br>Successful<br>Progress Weight: 0.62<br>Bounds Weight: 0.15",
          "Point 2<br>Failed<br>Progress Weight: 0.43<br>Bounds Weight: 0.92",
          "Point 3<br>Failed<br>Progress Weight: 0.52<br>Bounds Weight: 0.54",
          "Point 4<br>Successful<br>Progress Weight: 0.57<br>Bounds Weight: 0.35",
          "Point 5<br>Successful<br>Progress Weight: 0.55<br>Bounds Weight: 0.44",
          "Point 6<br>Failed<br>Progress Weight: 0.48<br>Bounds Weight: 0.43",
          "Point 7<br>Successful<br>Progress Weight: 0.57<br>Bounds Weight: 0.37",
          "Point 8<br>Successful<br>Progress Weight: 0.51<br>Bounds Weight: 0.38",
          "Point 9<br>Successful<br>Progress Weight: 0.62<br>Bounds Weight: 0.45",
          "Point 10<br>Failed<br>Progress Weight: 0.53<br>Bounds Weight: 0.51",
          "Point 11<br>Successful<br>Progress Weight: 0.59<br>Bounds Weight: 0.50",
          "Point 12<br>Successful<br>Progress Weight: 0.56<br>Bounds Weight: 0.46",
          "Point 13<br>Failed<br>Progress Weight: 0.53<br>Bounds Weight: 0.51",
          "Point 14<br>Successful<br>Progress Weight: 0.55<br>Bounds Weight: 0.51",
          "Point 15<br>Successful<br>Progress Weight: 0.53<br>Bounds Weight: 0.42",
          "Point 16<br>Failed<br>Progress Weight: 0.53<br>Bounds Weight: 0.51",
          "Point 17<br>Failed<br>Progress Weight: 0.52<br>Bounds Weight: 0.48",
          "Point 18<br>Successful<br>Progress Weight: 0.49<br>Bounds Weight: 0.41",
          "Point 19<br>Failed<br>Progress Weight: 0.50<br>Bounds Weight: 0.50",
          "Point 20<br>Successful<br>Progress Weight: 0.48<br>Bounds Weight: 0.46",
          "Point 21<br>Successful<br>Progress Weight: 0.60<br>Bounds Weight: 0.47",
          "Point 22<br>Failed<br>Progress Weight: 0.50<br>Bounds Weight: 0.50",
          "Point 23<br>Failed<br>Progress Weight: 0.55<br>Bounds Weight: 0.50",
          "Point 24<br>Successful<br>Progress Weight: 0.57<br>Bounds Weight: 0.48",
          "Point 25<br>Failed<br>Progress Weight: 0.50<br>Bounds Weight: 0.50",
          "Point 26<br>Successful<br>Progress Weight: 0.53<br>Bounds Weight: 0.51",
          "Point 27<br>Successful<br>Progress Weight: 0.53<br>Bounds Weight: 0.40",
          "Point 28<br>Failed<br>Progress Weight: 0.50<br>Bounds Weight: 0.50",
          "Point 29<br>Failed<br>Progress Weight: 0.50<br>Bounds Weight: 0.45",
          "Point 30<br>Failed<br>Progress Weight: 0.42<br>Bounds Weight: 0.49",
          "Point 31<br>Successful<br>Progress Weight: 0.47<br>Bounds Weight: 0.40",
          "Point 32<br>Failed<br>Progress Weight: 0.43<br>Bounds Weight: 0.43",
          "Point 33<br>Failed<br>Progress Weight: 0.43<br>Bounds Weight: 0.42",
          "Point 34<br>Successful<br>Progress Weight: 0.47<br>Bounds Weight: 0.40",
          "Point 35<br>Successful<br>Progress Weight: 0.44<br>Bounds Weight: 0.39",
          "Point 36<br>Successful<br>Progress Weight: 0.66<br>Bounds Weight: 0.51",
          "Point 37<br>Successful<br>Progress Weight: 0.56<br>Bounds Weight: 0.53",
          "Point 38<br>Successful<br>Progress Weight: 0.53<br>Bounds Weight: 0.49",
          "Point 39<br>Successful<br>Progress Weight: 0.62<br>Bounds Weight: 0.51",
          "Point 40<br>Successful<br>Progress Weight: 0.56<br>Bounds Weight: 0.53",
          "Point 41<br>Successful<br>Progress Weight: 0.55<br>Bounds Weight: 0.48",
          "Point 42<br>Successful<br>Progress Weight: 0.58<br>Bounds Weight: 0.43",
          "Point 43<br>Successful<br>Progress Weight: 0.56<br>Bounds Weight: 0.53",
          "Point 44<br>Successful<br>Progress Weight: 0.58<br>Bounds Weight: 0.54",
          "Point 45<br>Failed<br>Progress Weight: 0.52<br>Bounds Weight: 0.58",
          "Point 46<br>Successful<br>Progress Weight: 0.58<br>Bounds Weight: 0.50",
          "Point 47<br>Failed<br>Progress Weight: 0.56<br>Bounds Weight: 0.55",
          "Point 48<br>Failed<br>Progress Weight: 0.59<br>Bounds Weight: 0.53",
          "Point 49<br>Successful<br>Progress Weight: 0.58<br>Bounds Weight: 0.50",
          "Point 50<br>Successful<br>Progress Weight: 0.60<br>Bounds Weight: 0.52"
         ],
         "type": "scatter",
         "x": [
          0.6187038421630859,
          0.4309733510017395,
          0.5248386263847351,
          0.5717712044715881,
          0.5483049154281616,
          0.47708287835121155,
          0.5656694769859314,
          0.5102219581604004,
          0.6195269227027893,
          0.5309403538703918,
          0.5863878726959229,
          0.5641445517539978,
          0.5309403538703918,
          0.54722660779953,
          0.5324652791023254,
          0.5309403538703918,
          0.5248259902000427,
          0.49398425221443176,
          0.5008267164230347,
          0.4763222336769104,
          0.6026255488395691,
          0.5008267164230347,
          0.5531432628631592,
          0.5688008666038513,
          0.5008267164230347,
          0.5292255282402039,
          0.5278089642524719,
          0.5008267164230347,
          0.500239908695221,
          0.415132611989975,
          0.47148391604423523,
          0.42963340878486633,
          0.4332244396209717,
          0.47148391604423523,
          0.44242626428604126,
          0.6569462418556213,
          0.5551473498344421,
          0.5306428670883179,
          0.6231215000152588,
          0.5551473498344421,
          0.5545606017112732,
          0.5821296572685242,
          0.5551473498344421,
          0.5835462212562561,
          0.5194200277328491,
          0.5772905349731445,
          0.5562790632247925,
          0.5859583020210266,
          0.5772905349731445,
          0.6033287644386292
         ],
         "y": [
          0.1530042588710785,
          0.922994077205658,
          0.537999153137207,
          0.34550172090530396,
          0.4417504370212555,
          0.4287389814853668,
          0.3705284297466278,
          0.3821883797645569,
          0.45476192235946655,
          0.5129724740982056,
          0.5013124942779541,
          0.461324006319046,
          0.5129724740982056,
          0.5059526562690735,
          0.42217689752578735,
          0.5129724740982056,
          0.4782714247703552,
          0.4095359146595001,
          0.49607110023498535,
          0.45738184452056885,
          0.47396498918533325,
          0.49607110023498535,
          0.5029400587081909,
          0.48220399022102356,
          0.49607110023498535,
          0.5087659358978271,
          0.4012969136238098,
          0.49607110023498535,
          0.451555997133255,
          0.48548492789268494,
          0.39619219303131104,
          0.4339861273765564,
          0.4243508577346802,
          0.39619219303131104,
          0.39075779914855957,
          0.5061795115470886,
          0.5282856822013855,
          0.4895963668823242,
          0.5144185423851013,
          0.5282856822013855,
          0.4837705194950104,
          0.4335114657878876,
          0.5282856822013855,
          0.5409804582595825,
          0.5801962614059448,
          0.49896040558815,
          0.5523412823677063,
          0.5294191837310791,
          0.49896040558815,
          0.5164363980293274
         ]
        }
       ],
       "layout": {
        "height": 600,
        "showlegend": false,
        "template": {
         "data": {
          "bar": [
           {
            "error_x": {
             "color": "#2a3f5f"
            },
            "error_y": {
             "color": "#2a3f5f"
            },
            "marker": {
             "line": {
              "color": "#E5ECF6",
              "width": 0.5
             },
             "pattern": {
              "fillmode": "overlay",
              "size": 10,
              "solidity": 0.2
             }
            },
            "type": "bar"
           }
          ],
          "barpolar": [
           {
            "marker": {
             "line": {
              "color": "#E5ECF6",
              "width": 0.5
             },
             "pattern": {
              "fillmode": "overlay",
              "size": 10,
              "solidity": 0.2
             }
            },
            "type": "barpolar"
           }
          ],
          "carpet": [
           {
            "aaxis": {
             "endlinecolor": "#2a3f5f",
             "gridcolor": "white",
             "linecolor": "white",
             "minorgridcolor": "white",
             "startlinecolor": "#2a3f5f"
            },
            "baxis": {
             "endlinecolor": "#2a3f5f",
             "gridcolor": "white",
             "linecolor": "white",
             "minorgridcolor": "white",
             "startlinecolor": "#2a3f5f"
            },
            "type": "carpet"
           }
          ],
          "choropleth": [
           {
            "colorbar": {
             "outlinewidth": 0,
             "ticks": ""
            },
            "type": "choropleth"
           }
          ],
          "contour": [
           {
            "colorbar": {
             "outlinewidth": 0,
             "ticks": ""
            },
            "colorscale": [
             [
              0,
              "#0d0887"
             ],
             [
              0.1111111111111111,
              "#46039f"
             ],
             [
              0.2222222222222222,
              "#7201a8"
             ],
             [
              0.3333333333333333,
              "#9c179e"
             ],
             [
              0.4444444444444444,
              "#bd3786"
             ],
             [
              0.5555555555555556,
              "#d8576b"
             ],
             [
              0.6666666666666666,
              "#ed7953"
             ],
             [
              0.7777777777777778,
              "#fb9f3a"
             ],
             [
              0.8888888888888888,
              "#fdca26"
             ],
             [
              1,
              "#f0f921"
             ]
            ],
            "type": "contour"
           }
          ],
          "contourcarpet": [
           {
            "colorbar": {
             "outlinewidth": 0,
             "ticks": ""
            },
            "type": "contourcarpet"
           }
          ],
          "heatmap": [
           {
            "colorbar": {
             "outlinewidth": 0,
             "ticks": ""
            },
            "colorscale": [
             [
              0,
              "#0d0887"
             ],
             [
              0.1111111111111111,
              "#46039f"
             ],
             [
              0.2222222222222222,
              "#7201a8"
             ],
             [
              0.3333333333333333,
              "#9c179e"
             ],
             [
              0.4444444444444444,
              "#bd3786"
             ],
             [
              0.5555555555555556,
              "#d8576b"
             ],
             [
              0.6666666666666666,
              "#ed7953"
             ],
             [
              0.7777777777777778,
              "#fb9f3a"
             ],
             [
              0.8888888888888888,
              "#fdca26"
             ],
             [
              1,
              "#f0f921"
             ]
            ],
            "type": "heatmap"
           }
          ],
          "heatmapgl": [
           {
            "colorbar": {
             "outlinewidth": 0,
             "ticks": ""
            },
            "colorscale": [
             [
              0,
              "#0d0887"
             ],
             [
              0.1111111111111111,
              "#46039f"
             ],
             [
              0.2222222222222222,
              "#7201a8"
             ],
             [
              0.3333333333333333,
              "#9c179e"
             ],
             [
              0.4444444444444444,
              "#bd3786"
             ],
             [
              0.5555555555555556,
              "#d8576b"
             ],
             [
              0.6666666666666666,
              "#ed7953"
             ],
             [
              0.7777777777777778,
              "#fb9f3a"
             ],
             [
              0.8888888888888888,
              "#fdca26"
             ],
             [
              1,
              "#f0f921"
             ]
            ],
            "type": "heatmapgl"
           }
          ],
          "histogram": [
           {
            "marker": {
             "pattern": {
              "fillmode": "overlay",
              "size": 10,
              "solidity": 0.2
             }
            },
            "type": "histogram"
           }
          ],
          "histogram2d": [
           {
            "colorbar": {
             "outlinewidth": 0,
             "ticks": ""
            },
            "colorscale": [
             [
              0,
              "#0d0887"
             ],
             [
              0.1111111111111111,
              "#46039f"
             ],
             [
              0.2222222222222222,
              "#7201a8"
             ],
             [
              0.3333333333333333,
              "#9c179e"
             ],
             [
              0.4444444444444444,
              "#bd3786"
             ],
             [
              0.5555555555555556,
              "#d8576b"
             ],
             [
              0.6666666666666666,
              "#ed7953"
             ],
             [
              0.7777777777777778,
              "#fb9f3a"
             ],
             [
              0.8888888888888888,
              "#fdca26"
             ],
             [
              1,
              "#f0f921"
             ]
            ],
            "type": "histogram2d"
           }
          ],
          "histogram2dcontour": [
           {
            "colorbar": {
             "outlinewidth": 0,
             "ticks": ""
            },
            "colorscale": [
             [
              0,
              "#0d0887"
             ],
             [
              0.1111111111111111,
              "#46039f"
             ],
             [
              0.2222222222222222,
              "#7201a8"
             ],
             [
              0.3333333333333333,
              "#9c179e"
             ],
             [
              0.4444444444444444,
              "#bd3786"
             ],
             [
              0.5555555555555556,
              "#d8576b"
             ],
             [
              0.6666666666666666,
              "#ed7953"
             ],
             [
              0.7777777777777778,
              "#fb9f3a"
             ],
             [
              0.8888888888888888,
              "#fdca26"
             ],
             [
              1,
              "#f0f921"
             ]
            ],
            "type": "histogram2dcontour"
           }
          ],
          "mesh3d": [
           {
            "colorbar": {
             "outlinewidth": 0,
             "ticks": ""
            },
            "type": "mesh3d"
           }
          ],
          "parcoords": [
           {
            "line": {
             "colorbar": {
              "outlinewidth": 0,
              "ticks": ""
             }
            },
            "type": "parcoords"
           }
          ],
          "pie": [
           {
            "automargin": true,
            "type": "pie"
           }
          ],
          "scatter": [
           {
            "fillpattern": {
             "fillmode": "overlay",
             "size": 10,
             "solidity": 0.2
            },
            "type": "scatter"
           }
          ],
          "scatter3d": [
           {
            "line": {
             "colorbar": {
              "outlinewidth": 0,
              "ticks": ""
             }
            },
            "marker": {
             "colorbar": {
              "outlinewidth": 0,
              "ticks": ""
             }
            },
            "type": "scatter3d"
           }
          ],
          "scattercarpet": [
           {
            "marker": {
             "colorbar": {
              "outlinewidth": 0,
              "ticks": ""
             }
            },
            "type": "scattercarpet"
           }
          ],
          "scattergeo": [
           {
            "marker": {
             "colorbar": {
              "outlinewidth": 0,
              "ticks": ""
             }
            },
            "type": "scattergeo"
           }
          ],
          "scattergl": [
           {
            "marker": {
             "colorbar": {
              "outlinewidth": 0,
              "ticks": ""
             }
            },
            "type": "scattergl"
           }
          ],
          "scattermapbox": [
           {
            "marker": {
             "colorbar": {
              "outlinewidth": 0,
              "ticks": ""
             }
            },
            "type": "scattermapbox"
           }
          ],
          "scatterpolar": [
           {
            "marker": {
             "colorbar": {
              "outlinewidth": 0,
              "ticks": ""
             }
            },
            "type": "scatterpolar"
           }
          ],
          "scatterpolargl": [
           {
            "marker": {
             "colorbar": {
              "outlinewidth": 0,
              "ticks": ""
             }
            },
            "type": "scatterpolargl"
           }
          ],
          "scatterternary": [
           {
            "marker": {
             "colorbar": {
              "outlinewidth": 0,
              "ticks": ""
             }
            },
            "type": "scatterternary"
           }
          ],
          "surface": [
           {
            "colorbar": {
             "outlinewidth": 0,
             "ticks": ""
            },
            "colorscale": [
             [
              0,
              "#0d0887"
             ],
             [
              0.1111111111111111,
              "#46039f"
             ],
             [
              0.2222222222222222,
              "#7201a8"
             ],
             [
              0.3333333333333333,
              "#9c179e"
             ],
             [
              0.4444444444444444,
              "#bd3786"
             ],
             [
              0.5555555555555556,
              "#d8576b"
             ],
             [
              0.6666666666666666,
              "#ed7953"
             ],
             [
              0.7777777777777778,
              "#fb9f3a"
             ],
             [
              0.8888888888888888,
              "#fdca26"
             ],
             [
              1,
              "#f0f921"
             ]
            ],
            "type": "surface"
           }
          ],
          "table": [
           {
            "cells": {
             "fill": {
              "color": "#EBF0F8"
             },
             "line": {
              "color": "white"
             }
            },
            "header": {
             "fill": {
              "color": "#C8D4E3"
             },
             "line": {
              "color": "white"
             }
            },
            "type": "table"
           }
          ]
         },
         "layout": {
          "annotationdefaults": {
           "arrowcolor": "#2a3f5f",
           "arrowhead": 0,
           "arrowwidth": 1
          },
          "autotypenumbers": "strict",
          "coloraxis": {
           "colorbar": {
            "outlinewidth": 0,
            "ticks": ""
           }
          },
          "colorscale": {
           "diverging": [
            [
             0,
             "#8e0152"
            ],
            [
             0.1,
             "#c51b7d"
            ],
            [
             0.2,
             "#de77ae"
            ],
            [
             0.3,
             "#f1b6da"
            ],
            [
             0.4,
             "#fde0ef"
            ],
            [
             0.5,
             "#f7f7f7"
            ],
            [
             0.6,
             "#e6f5d0"
            ],
            [
             0.7,
             "#b8e186"
            ],
            [
             0.8,
             "#7fbc41"
            ],
            [
             0.9,
             "#4d9221"
            ],
            [
             1,
             "#276419"
            ]
           ],
           "sequential": [
            [
             0,
             "#0d0887"
            ],
            [
             0.1111111111111111,
             "#46039f"
            ],
            [
             0.2222222222222222,
             "#7201a8"
            ],
            [
             0.3333333333333333,
             "#9c179e"
            ],
            [
             0.4444444444444444,
             "#bd3786"
            ],
            [
             0.5555555555555556,
             "#d8576b"
            ],
            [
             0.6666666666666666,
             "#ed7953"
            ],
            [
             0.7777777777777778,
             "#fb9f3a"
            ],
            [
             0.8888888888888888,
             "#fdca26"
            ],
            [
             1,
             "#f0f921"
            ]
           ],
           "sequentialminus": [
            [
             0,
             "#0d0887"
            ],
            [
             0.1111111111111111,
             "#46039f"
            ],
            [
             0.2222222222222222,
             "#7201a8"
            ],
            [
             0.3333333333333333,
             "#9c179e"
            ],
            [
             0.4444444444444444,
             "#bd3786"
            ],
            [
             0.5555555555555556,
             "#d8576b"
            ],
            [
             0.6666666666666666,
             "#ed7953"
            ],
            [
             0.7777777777777778,
             "#fb9f3a"
            ],
            [
             0.8888888888888888,
             "#fdca26"
            ],
            [
             1,
             "#f0f921"
            ]
           ]
          },
          "colorway": [
           "#636efa",
           "#EF553B",
           "#00cc96",
           "#ab63fa",
           "#FFA15A",
           "#19d3f3",
           "#FF6692",
           "#B6E880",
           "#FF97FF",
           "#FECB52"
          ],
          "font": {
           "color": "#2a3f5f"
          },
          "geo": {
           "bgcolor": "white",
           "lakecolor": "white",
           "landcolor": "#E5ECF6",
           "showlakes": true,
           "showland": true,
           "subunitcolor": "white"
          },
          "hoverlabel": {
           "align": "left"
          },
          "hovermode": "closest",
          "mapbox": {
           "style": "light"
          },
          "paper_bgcolor": "white",
          "plot_bgcolor": "#E5ECF6",
          "polar": {
           "angularaxis": {
            "gridcolor": "white",
            "linecolor": "white",
            "ticks": ""
           },
           "bgcolor": "#E5ECF6",
           "radialaxis": {
            "gridcolor": "white",
            "linecolor": "white",
            "ticks": ""
           }
          },
          "scene": {
           "xaxis": {
            "backgroundcolor": "#E5ECF6",
            "gridcolor": "white",
            "gridwidth": 2,
            "linecolor": "white",
            "showbackground": true,
            "ticks": "",
            "zerolinecolor": "white"
           },
           "yaxis": {
            "backgroundcolor": "#E5ECF6",
            "gridcolor": "white",
            "gridwidth": 2,
            "linecolor": "white",
            "showbackground": true,
            "ticks": "",
            "zerolinecolor": "white"
           },
           "zaxis": {
            "backgroundcolor": "#E5ECF6",
            "gridcolor": "white",
            "gridwidth": 2,
            "linecolor": "white",
            "showbackground": true,
            "ticks": "",
            "zerolinecolor": "white"
           }
          },
          "shapedefaults": {
           "line": {
            "color": "#2a3f5f"
           }
          },
          "ternary": {
           "aaxis": {
            "gridcolor": "white",
            "linecolor": "white",
            "ticks": ""
           },
           "baxis": {
            "gridcolor": "white",
            "linecolor": "white",
            "ticks": ""
           },
           "bgcolor": "#E5ECF6",
           "caxis": {
            "gridcolor": "white",
            "linecolor": "white",
            "ticks": ""
           }
          },
          "title": {
           "x": 0.05
          },
          "xaxis": {
           "automargin": true,
           "gridcolor": "white",
           "linecolor": "white",
           "ticks": "",
           "title": {
            "standoff": 15
           },
           "zerolinecolor": "white",
           "zerolinewidth": 2
          },
          "yaxis": {
           "automargin": true,
           "gridcolor": "white",
           "linecolor": "white",
           "ticks": "",
           "title": {
            "standoff": 15
           },
           "zerolinecolor": "white",
           "zerolinewidth": 2
          }
         }
        },
        "title": {
         "text": "Sembas Results - 2D Visualization (Progress Weight vs Bounds Weight)"
        },
        "width": 800,
        "xaxis": {
         "title": {
          "text": "Progress Weight"
         }
        },
        "yaxis": {
         "title": {
          "text": "Bounds Weight"
         }
        }
       }
      }
     },
     "metadata": {},
     "output_type": "display_data"
    },
    {
     "data": {
      "application/vnd.plotly.v1+json": {
       "config": {
        "plotlyServerURL": "https://plot.ly"
       },
       "data": [
        {
         "hoverinfo": "text",
         "marker": {
          "color": [
           1,
           0,
           0,
           1,
           1,
           0,
           1,
           1,
           1,
           0,
           1,
           1,
           0,
           1,
           1,
           0,
           0,
           1,
           0,
           1,
           1,
           0,
           0,
           1,
           0,
           1,
           1,
           0,
           0,
           0,
           1,
           0,
           0,
           1,
           1,
           1,
           1,
           1,
           1,
           1,
           1,
           1,
           1,
           1,
           0,
           1,
           0,
           0,
           1,
           1
          ],
          "colorscale": [
           [
            0,
            "red"
           ],
           [
            1,
            "blue"
           ]
          ],
          "line": {
           "color": "black",
           "width": 2
          },
          "opacity": 1,
          "size": 12
         },
         "mode": "markers",
         "text": [
          "Point 1<br>Successful<br>Progress Weight: 0.62<br>Proximity Weight: 0.55",
          "Point 2<br>Failed<br>Progress Weight: 0.43<br>Proximity Weight: 0.38",
          "Point 3<br>Failed<br>Progress Weight: 0.52<br>Proximity Weight: 0.46",
          "Point 4<br>Successful<br>Progress Weight: 0.57<br>Proximity Weight: 0.50",
          "Point 5<br>Successful<br>Progress Weight: 0.55<br>Proximity Weight: 0.48",
          "Point 6<br>Failed<br>Progress Weight: 0.48<br>Proximity Weight: 0.50",
          "Point 7<br>Successful<br>Progress Weight: 0.57<br>Proximity Weight: 0.50",
          "Point 8<br>Successful<br>Progress Weight: 0.51<br>Proximity Weight: 0.51",
          "Point 9<br>Successful<br>Progress Weight: 0.62<br>Proximity Weight: 0.46",
          "Point 10<br>Failed<br>Progress Weight: 0.53<br>Proximity Weight: 0.47",
          "Point 11<br>Successful<br>Progress Weight: 0.59<br>Proximity Weight: 0.46",
          "Point 12<br>Successful<br>Progress Weight: 0.56<br>Proximity Weight: 0.55",
          "Point 13<br>Failed<br>Progress Weight: 0.53<br>Proximity Weight: 0.47",
          "Point 14<br>Successful<br>Progress Weight: 0.55<br>Proximity Weight: 0.52",
          "Point 15<br>Successful<br>Progress Weight: 0.53<br>Proximity Weight: 0.41",
          "Point 16<br>Failed<br>Progress Weight: 0.53<br>Proximity Weight: 0.47",
          "Point 17<br>Failed<br>Progress Weight: 0.52<br>Proximity Weight: 0.42",
          "Point 18<br>Successful<br>Progress Weight: 0.49<br>Proximity Weight: 0.52",
          "Point 19<br>Failed<br>Progress Weight: 0.50<br>Proximity Weight: 0.46",
          "Point 20<br>Successful<br>Progress Weight: 0.48<br>Proximity Weight: 0.50",
          "Point 21<br>Successful<br>Progress Weight: 0.60<br>Proximity Weight: 0.44",
          "Point 22<br>Failed<br>Progress Weight: 0.50<br>Proximity Weight: 0.46",
          "Point 23<br>Failed<br>Progress Weight: 0.55<br>Proximity Weight: 0.44",
          "Point 24<br>Successful<br>Progress Weight: 0.57<br>Proximity Weight: 0.54",
          "Point 25<br>Failed<br>Progress Weight: 0.50<br>Proximity Weight: 0.46",
          "Point 26<br>Successful<br>Progress Weight: 0.53<br>Proximity Weight: 0.51",
          "Point 27<br>Successful<br>Progress Weight: 0.53<br>Proximity Weight: 0.42",
          "Point 28<br>Failed<br>Progress Weight: 0.50<br>Proximity Weight: 0.46",
          "Point 29<br>Failed<br>Progress Weight: 0.50<br>Proximity Weight: 0.43",
          "Point 30<br>Failed<br>Progress Weight: 0.42<br>Proximity Weight: 0.53",
          "Point 31<br>Successful<br>Progress Weight: 0.47<br>Proximity Weight: 0.54",
          "Point 32<br>Failed<br>Progress Weight: 0.43<br>Proximity Weight: 0.55",
          "Point 33<br>Failed<br>Progress Weight: 0.43<br>Proximity Weight: 0.44",
          "Point 34<br>Successful<br>Progress Weight: 0.47<br>Proximity Weight: 0.54",
          "Point 35<br>Successful<br>Progress Weight: 0.44<br>Proximity Weight: 0.49",
          "Point 36<br>Successful<br>Progress Weight: 0.66<br>Proximity Weight: 0.40",
          "Point 37<br>Successful<br>Progress Weight: 0.56<br>Proximity Weight: 0.42",
          "Point 38<br>Successful<br>Progress Weight: 0.53<br>Proximity Weight: 0.46",
          "Point 39<br>Successful<br>Progress Weight: 0.62<br>Proximity Weight: 0.50",
          "Point 40<br>Successful<br>Progress Weight: 0.56<br>Proximity Weight: 0.42",
          "Point 41<br>Successful<br>Progress Weight: 0.55<br>Proximity Weight: 0.39",
          "Point 42<br>Successful<br>Progress Weight: 0.58<br>Proximity Weight: 0.38",
          "Point 43<br>Successful<br>Progress Weight: 0.56<br>Proximity Weight: 0.42",
          "Point 44<br>Successful<br>Progress Weight: 0.58<br>Proximity Weight: 0.47",
          "Point 45<br>Failed<br>Progress Weight: 0.52<br>Proximity Weight: 0.53",
          "Point 46<br>Successful<br>Progress Weight: 0.58<br>Proximity Weight: 0.57",
          "Point 47<br>Failed<br>Progress Weight: 0.56<br>Proximity Weight: 0.56",
          "Point 48<br>Failed<br>Progress Weight: 0.59<br>Proximity Weight: 0.47",
          "Point 49<br>Successful<br>Progress Weight: 0.58<br>Proximity Weight: 0.57",
          "Point 50<br>Successful<br>Progress Weight: 0.60<br>Proximity Weight: 0.52"
         ],
         "type": "scatter",
         "x": [
          0.6187038421630859,
          0.4309733510017395,
          0.5248386263847351,
          0.5717712044715881,
          0.5483049154281616,
          0.47708287835121155,
          0.5656694769859314,
          0.5102219581604004,
          0.6195269227027893,
          0.5309403538703918,
          0.5863878726959229,
          0.5641445517539978,
          0.5309403538703918,
          0.54722660779953,
          0.5324652791023254,
          0.5309403538703918,
          0.5248259902000427,
          0.49398425221443176,
          0.5008267164230347,
          0.4763222336769104,
          0.6026255488395691,
          0.5008267164230347,
          0.5531432628631592,
          0.5688008666038513,
          0.5008267164230347,
          0.5292255282402039,
          0.5278089642524719,
          0.5008267164230347,
          0.500239908695221,
          0.415132611989975,
          0.47148391604423523,
          0.42963340878486633,
          0.4332244396209717,
          0.47148391604423523,
          0.44242626428604126,
          0.6569462418556213,
          0.5551473498344421,
          0.5306428670883179,
          0.6231215000152588,
          0.5551473498344421,
          0.5545606017112732,
          0.5821296572685242,
          0.5551473498344421,
          0.5835462212562561,
          0.5194200277328491,
          0.5772905349731445,
          0.5562790632247925,
          0.5859583020210266,
          0.5772905349731445,
          0.6033287644386292
         ],
         "y": [
          0.5467185378074646,
          0.37547439336776733,
          0.46109646558761597,
          0.5039075016975403,
          0.4825019836425781,
          0.5020755529403687,
          0.4983415901660919,
          0.5075428485870361,
          0.4629284143447876,
          0.46666234731674194,
          0.45746105909347534,
          0.5531488656997681,
          0.46666234731674194,
          0.5212565660476685,
          0.4118551015853882,
          0.46666234731674194,
          0.4213467836380005,
          0.5229555368423462,
          0.4620060324668884,
          0.49661412835121155,
          0.44204843044281006,
          0.4620060324668884,
          0.4394041895866394,
          0.5422382950782776,
          0.4620060324668884,
          0.5102490782737732,
          0.4227656424045563,
          0.4620060324668884,
          0.42576920986175537,
          0.5296450853347778,
          0.5397118926048279,
          0.5504453182220459,
          0.44487887620925903,
          0.5397118926048279,
          0.49050652980804443,
          0.401594877243042,
          0.42155247926712036,
          0.4561605751514435,
          0.5017847418785095,
          0.42155247926712036,
          0.3853156566619873,
          0.3823121190071106,
          0.42155247926712036,
          0.4697955548763275,
          0.5309023261070251,
          0.566981852054596,
          0.5649693012237549,
          0.4657537639141083,
          0.566981852054596,
          0.5189022421836853
         ]
        }
       ],
       "layout": {
        "height": 600,
        "showlegend": false,
        "template": {
         "data": {
          "bar": [
           {
            "error_x": {
             "color": "#2a3f5f"
            },
            "error_y": {
             "color": "#2a3f5f"
            },
            "marker": {
             "line": {
              "color": "#E5ECF6",
              "width": 0.5
             },
             "pattern": {
              "fillmode": "overlay",
              "size": 10,
              "solidity": 0.2
             }
            },
            "type": "bar"
           }
          ],
          "barpolar": [
           {
            "marker": {
             "line": {
              "color": "#E5ECF6",
              "width": 0.5
             },
             "pattern": {
              "fillmode": "overlay",
              "size": 10,
              "solidity": 0.2
             }
            },
            "type": "barpolar"
           }
          ],
          "carpet": [
           {
            "aaxis": {
             "endlinecolor": "#2a3f5f",
             "gridcolor": "white",
             "linecolor": "white",
             "minorgridcolor": "white",
             "startlinecolor": "#2a3f5f"
            },
            "baxis": {
             "endlinecolor": "#2a3f5f",
             "gridcolor": "white",
             "linecolor": "white",
             "minorgridcolor": "white",
             "startlinecolor": "#2a3f5f"
            },
            "type": "carpet"
           }
          ],
          "choropleth": [
           {
            "colorbar": {
             "outlinewidth": 0,
             "ticks": ""
            },
            "type": "choropleth"
           }
          ],
          "contour": [
           {
            "colorbar": {
             "outlinewidth": 0,
             "ticks": ""
            },
            "colorscale": [
             [
              0,
              "#0d0887"
             ],
             [
              0.1111111111111111,
              "#46039f"
             ],
             [
              0.2222222222222222,
              "#7201a8"
             ],
             [
              0.3333333333333333,
              "#9c179e"
             ],
             [
              0.4444444444444444,
              "#bd3786"
             ],
             [
              0.5555555555555556,
              "#d8576b"
             ],
             [
              0.6666666666666666,
              "#ed7953"
             ],
             [
              0.7777777777777778,
              "#fb9f3a"
             ],
             [
              0.8888888888888888,
              "#fdca26"
             ],
             [
              1,
              "#f0f921"
             ]
            ],
            "type": "contour"
           }
          ],
          "contourcarpet": [
           {
            "colorbar": {
             "outlinewidth": 0,
             "ticks": ""
            },
            "type": "contourcarpet"
           }
          ],
          "heatmap": [
           {
            "colorbar": {
             "outlinewidth": 0,
             "ticks": ""
            },
            "colorscale": [
             [
              0,
              "#0d0887"
             ],
             [
              0.1111111111111111,
              "#46039f"
             ],
             [
              0.2222222222222222,
              "#7201a8"
             ],
             [
              0.3333333333333333,
              "#9c179e"
             ],
             [
              0.4444444444444444,
              "#bd3786"
             ],
             [
              0.5555555555555556,
              "#d8576b"
             ],
             [
              0.6666666666666666,
              "#ed7953"
             ],
             [
              0.7777777777777778,
              "#fb9f3a"
             ],
             [
              0.8888888888888888,
              "#fdca26"
             ],
             [
              1,
              "#f0f921"
             ]
            ],
            "type": "heatmap"
           }
          ],
          "heatmapgl": [
           {
            "colorbar": {
             "outlinewidth": 0,
             "ticks": ""
            },
            "colorscale": [
             [
              0,
              "#0d0887"
             ],
             [
              0.1111111111111111,
              "#46039f"
             ],
             [
              0.2222222222222222,
              "#7201a8"
             ],
             [
              0.3333333333333333,
              "#9c179e"
             ],
             [
              0.4444444444444444,
              "#bd3786"
             ],
             [
              0.5555555555555556,
              "#d8576b"
             ],
             [
              0.6666666666666666,
              "#ed7953"
             ],
             [
              0.7777777777777778,
              "#fb9f3a"
             ],
             [
              0.8888888888888888,
              "#fdca26"
             ],
             [
              1,
              "#f0f921"
             ]
            ],
            "type": "heatmapgl"
           }
          ],
          "histogram": [
           {
            "marker": {
             "pattern": {
              "fillmode": "overlay",
              "size": 10,
              "solidity": 0.2
             }
            },
            "type": "histogram"
           }
          ],
          "histogram2d": [
           {
            "colorbar": {
             "outlinewidth": 0,
             "ticks": ""
            },
            "colorscale": [
             [
              0,
              "#0d0887"
             ],
             [
              0.1111111111111111,
              "#46039f"
             ],
             [
              0.2222222222222222,
              "#7201a8"
             ],
             [
              0.3333333333333333,
              "#9c179e"
             ],
             [
              0.4444444444444444,
              "#bd3786"
             ],
             [
              0.5555555555555556,
              "#d8576b"
             ],
             [
              0.6666666666666666,
              "#ed7953"
             ],
             [
              0.7777777777777778,
              "#fb9f3a"
             ],
             [
              0.8888888888888888,
              "#fdca26"
             ],
             [
              1,
              "#f0f921"
             ]
            ],
            "type": "histogram2d"
           }
          ],
          "histogram2dcontour": [
           {
            "colorbar": {
             "outlinewidth": 0,
             "ticks": ""
            },
            "colorscale": [
             [
              0,
              "#0d0887"
             ],
             [
              0.1111111111111111,
              "#46039f"
             ],
             [
              0.2222222222222222,
              "#7201a8"
             ],
             [
              0.3333333333333333,
              "#9c179e"
             ],
             [
              0.4444444444444444,
              "#bd3786"
             ],
             [
              0.5555555555555556,
              "#d8576b"
             ],
             [
              0.6666666666666666,
              "#ed7953"
             ],
             [
              0.7777777777777778,
              "#fb9f3a"
             ],
             [
              0.8888888888888888,
              "#fdca26"
             ],
             [
              1,
              "#f0f921"
             ]
            ],
            "type": "histogram2dcontour"
           }
          ],
          "mesh3d": [
           {
            "colorbar": {
             "outlinewidth": 0,
             "ticks": ""
            },
            "type": "mesh3d"
           }
          ],
          "parcoords": [
           {
            "line": {
             "colorbar": {
              "outlinewidth": 0,
              "ticks": ""
             }
            },
            "type": "parcoords"
           }
          ],
          "pie": [
           {
            "automargin": true,
            "type": "pie"
           }
          ],
          "scatter": [
           {
            "fillpattern": {
             "fillmode": "overlay",
             "size": 10,
             "solidity": 0.2
            },
            "type": "scatter"
           }
          ],
          "scatter3d": [
           {
            "line": {
             "colorbar": {
              "outlinewidth": 0,
              "ticks": ""
             }
            },
            "marker": {
             "colorbar": {
              "outlinewidth": 0,
              "ticks": ""
             }
            },
            "type": "scatter3d"
           }
          ],
          "scattercarpet": [
           {
            "marker": {
             "colorbar": {
              "outlinewidth": 0,
              "ticks": ""
             }
            },
            "type": "scattercarpet"
           }
          ],
          "scattergeo": [
           {
            "marker": {
             "colorbar": {
              "outlinewidth": 0,
              "ticks": ""
             }
            },
            "type": "scattergeo"
           }
          ],
          "scattergl": [
           {
            "marker": {
             "colorbar": {
              "outlinewidth": 0,
              "ticks": ""
             }
            },
            "type": "scattergl"
           }
          ],
          "scattermapbox": [
           {
            "marker": {
             "colorbar": {
              "outlinewidth": 0,
              "ticks": ""
             }
            },
            "type": "scattermapbox"
           }
          ],
          "scatterpolar": [
           {
            "marker": {
             "colorbar": {
              "outlinewidth": 0,
              "ticks": ""
             }
            },
            "type": "scatterpolar"
           }
          ],
          "scatterpolargl": [
           {
            "marker": {
             "colorbar": {
              "outlinewidth": 0,
              "ticks": ""
             }
            },
            "type": "scatterpolargl"
           }
          ],
          "scatterternary": [
           {
            "marker": {
             "colorbar": {
              "outlinewidth": 0,
              "ticks": ""
             }
            },
            "type": "scatterternary"
           }
          ],
          "surface": [
           {
            "colorbar": {
             "outlinewidth": 0,
             "ticks": ""
            },
            "colorscale": [
             [
              0,
              "#0d0887"
             ],
             [
              0.1111111111111111,
              "#46039f"
             ],
             [
              0.2222222222222222,
              "#7201a8"
             ],
             [
              0.3333333333333333,
              "#9c179e"
             ],
             [
              0.4444444444444444,
              "#bd3786"
             ],
             [
              0.5555555555555556,
              "#d8576b"
             ],
             [
              0.6666666666666666,
              "#ed7953"
             ],
             [
              0.7777777777777778,
              "#fb9f3a"
             ],
             [
              0.8888888888888888,
              "#fdca26"
             ],
             [
              1,
              "#f0f921"
             ]
            ],
            "type": "surface"
           }
          ],
          "table": [
           {
            "cells": {
             "fill": {
              "color": "#EBF0F8"
             },
             "line": {
              "color": "white"
             }
            },
            "header": {
             "fill": {
              "color": "#C8D4E3"
             },
             "line": {
              "color": "white"
             }
            },
            "type": "table"
           }
          ]
         },
         "layout": {
          "annotationdefaults": {
           "arrowcolor": "#2a3f5f",
           "arrowhead": 0,
           "arrowwidth": 1
          },
          "autotypenumbers": "strict",
          "coloraxis": {
           "colorbar": {
            "outlinewidth": 0,
            "ticks": ""
           }
          },
          "colorscale": {
           "diverging": [
            [
             0,
             "#8e0152"
            ],
            [
             0.1,
             "#c51b7d"
            ],
            [
             0.2,
             "#de77ae"
            ],
            [
             0.3,
             "#f1b6da"
            ],
            [
             0.4,
             "#fde0ef"
            ],
            [
             0.5,
             "#f7f7f7"
            ],
            [
             0.6,
             "#e6f5d0"
            ],
            [
             0.7,
             "#b8e186"
            ],
            [
             0.8,
             "#7fbc41"
            ],
            [
             0.9,
             "#4d9221"
            ],
            [
             1,
             "#276419"
            ]
           ],
           "sequential": [
            [
             0,
             "#0d0887"
            ],
            [
             0.1111111111111111,
             "#46039f"
            ],
            [
             0.2222222222222222,
             "#7201a8"
            ],
            [
             0.3333333333333333,
             "#9c179e"
            ],
            [
             0.4444444444444444,
             "#bd3786"
            ],
            [
             0.5555555555555556,
             "#d8576b"
            ],
            [
             0.6666666666666666,
             "#ed7953"
            ],
            [
             0.7777777777777778,
             "#fb9f3a"
            ],
            [
             0.8888888888888888,
             "#fdca26"
            ],
            [
             1,
             "#f0f921"
            ]
           ],
           "sequentialminus": [
            [
             0,
             "#0d0887"
            ],
            [
             0.1111111111111111,
             "#46039f"
            ],
            [
             0.2222222222222222,
             "#7201a8"
            ],
            [
             0.3333333333333333,
             "#9c179e"
            ],
            [
             0.4444444444444444,
             "#bd3786"
            ],
            [
             0.5555555555555556,
             "#d8576b"
            ],
            [
             0.6666666666666666,
             "#ed7953"
            ],
            [
             0.7777777777777778,
             "#fb9f3a"
            ],
            [
             0.8888888888888888,
             "#fdca26"
            ],
            [
             1,
             "#f0f921"
            ]
           ]
          },
          "colorway": [
           "#636efa",
           "#EF553B",
           "#00cc96",
           "#ab63fa",
           "#FFA15A",
           "#19d3f3",
           "#FF6692",
           "#B6E880",
           "#FF97FF",
           "#FECB52"
          ],
          "font": {
           "color": "#2a3f5f"
          },
          "geo": {
           "bgcolor": "white",
           "lakecolor": "white",
           "landcolor": "#E5ECF6",
           "showlakes": true,
           "showland": true,
           "subunitcolor": "white"
          },
          "hoverlabel": {
           "align": "left"
          },
          "hovermode": "closest",
          "mapbox": {
           "style": "light"
          },
          "paper_bgcolor": "white",
          "plot_bgcolor": "#E5ECF6",
          "polar": {
           "angularaxis": {
            "gridcolor": "white",
            "linecolor": "white",
            "ticks": ""
           },
           "bgcolor": "#E5ECF6",
           "radialaxis": {
            "gridcolor": "white",
            "linecolor": "white",
            "ticks": ""
           }
          },
          "scene": {
           "xaxis": {
            "backgroundcolor": "#E5ECF6",
            "gridcolor": "white",
            "gridwidth": 2,
            "linecolor": "white",
            "showbackground": true,
            "ticks": "",
            "zerolinecolor": "white"
           },
           "yaxis": {
            "backgroundcolor": "#E5ECF6",
            "gridcolor": "white",
            "gridwidth": 2,
            "linecolor": "white",
            "showbackground": true,
            "ticks": "",
            "zerolinecolor": "white"
           },
           "zaxis": {
            "backgroundcolor": "#E5ECF6",
            "gridcolor": "white",
            "gridwidth": 2,
            "linecolor": "white",
            "showbackground": true,
            "ticks": "",
            "zerolinecolor": "white"
           }
          },
          "shapedefaults": {
           "line": {
            "color": "#2a3f5f"
           }
          },
          "ternary": {
           "aaxis": {
            "gridcolor": "white",
            "linecolor": "white",
            "ticks": ""
           },
           "baxis": {
            "gridcolor": "white",
            "linecolor": "white",
            "ticks": ""
           },
           "bgcolor": "#E5ECF6",
           "caxis": {
            "gridcolor": "white",
            "linecolor": "white",
            "ticks": ""
           }
          },
          "title": {
           "x": 0.05
          },
          "xaxis": {
           "automargin": true,
           "gridcolor": "white",
           "linecolor": "white",
           "ticks": "",
           "title": {
            "standoff": 15
           },
           "zerolinecolor": "white",
           "zerolinewidth": 2
          },
          "yaxis": {
           "automargin": true,
           "gridcolor": "white",
           "linecolor": "white",
           "ticks": "",
           "title": {
            "standoff": 15
           },
           "zerolinecolor": "white",
           "zerolinewidth": 2
          }
         }
        },
        "title": {
         "text": "Sembas Results - 2D Visualization (Progress Weight vs Proximity Weight)"
        },
        "width": 800,
        "xaxis": {
         "title": {
          "text": "Progress Weight"
         }
        },
        "yaxis": {
         "title": {
          "text": "Proximity Weight"
         }
        }
       }
      }
     },
     "metadata": {},
     "output_type": "display_data"
    },
    {
     "data": {
      "application/vnd.plotly.v1+json": {
       "config": {
        "plotlyServerURL": "https://plot.ly"
       },
       "data": [
        {
         "hoverinfo": "text",
         "marker": {
          "color": [
           1,
           0,
           0,
           1,
           1,
           0,
           1,
           1,
           1,
           0,
           1,
           1,
           0,
           1,
           1,
           0,
           0,
           1,
           0,
           1,
           1,
           0,
           0,
           1,
           0,
           1,
           1,
           0,
           0,
           0,
           1,
           0,
           0,
           1,
           1,
           1,
           1,
           1,
           1,
           1,
           1,
           1,
           1,
           1,
           0,
           1,
           0,
           0,
           1,
           1
          ],
          "colorscale": [
           [
            0,
            "red"
           ],
           [
            1,
            "blue"
           ]
          ],
          "line": {
           "color": "black",
           "width": 2
          },
          "opacity": 1,
          "size": 12
         },
         "mode": "markers",
         "text": [
          "Point 1<br>Successful<br>Bounds Weight: 0.15<br>Proximity Weight: 0.55",
          "Point 2<br>Failed<br>Bounds Weight: 0.92<br>Proximity Weight: 0.38",
          "Point 3<br>Failed<br>Bounds Weight: 0.54<br>Proximity Weight: 0.46",
          "Point 4<br>Successful<br>Bounds Weight: 0.35<br>Proximity Weight: 0.50",
          "Point 5<br>Successful<br>Bounds Weight: 0.44<br>Proximity Weight: 0.48",
          "Point 6<br>Failed<br>Bounds Weight: 0.43<br>Proximity Weight: 0.50",
          "Point 7<br>Successful<br>Bounds Weight: 0.37<br>Proximity Weight: 0.50",
          "Point 8<br>Successful<br>Bounds Weight: 0.38<br>Proximity Weight: 0.51",
          "Point 9<br>Successful<br>Bounds Weight: 0.45<br>Proximity Weight: 0.46",
          "Point 10<br>Failed<br>Bounds Weight: 0.51<br>Proximity Weight: 0.47",
          "Point 11<br>Successful<br>Bounds Weight: 0.50<br>Proximity Weight: 0.46",
          "Point 12<br>Successful<br>Bounds Weight: 0.46<br>Proximity Weight: 0.55",
          "Point 13<br>Failed<br>Bounds Weight: 0.51<br>Proximity Weight: 0.47",
          "Point 14<br>Successful<br>Bounds Weight: 0.51<br>Proximity Weight: 0.52",
          "Point 15<br>Successful<br>Bounds Weight: 0.42<br>Proximity Weight: 0.41",
          "Point 16<br>Failed<br>Bounds Weight: 0.51<br>Proximity Weight: 0.47",
          "Point 17<br>Failed<br>Bounds Weight: 0.48<br>Proximity Weight: 0.42",
          "Point 18<br>Successful<br>Bounds Weight: 0.41<br>Proximity Weight: 0.52",
          "Point 19<br>Failed<br>Bounds Weight: 0.50<br>Proximity Weight: 0.46",
          "Point 20<br>Successful<br>Bounds Weight: 0.46<br>Proximity Weight: 0.50",
          "Point 21<br>Successful<br>Bounds Weight: 0.47<br>Proximity Weight: 0.44",
          "Point 22<br>Failed<br>Bounds Weight: 0.50<br>Proximity Weight: 0.46",
          "Point 23<br>Failed<br>Bounds Weight: 0.50<br>Proximity Weight: 0.44",
          "Point 24<br>Successful<br>Bounds Weight: 0.48<br>Proximity Weight: 0.54",
          "Point 25<br>Failed<br>Bounds Weight: 0.50<br>Proximity Weight: 0.46",
          "Point 26<br>Successful<br>Bounds Weight: 0.51<br>Proximity Weight: 0.51",
          "Point 27<br>Successful<br>Bounds Weight: 0.40<br>Proximity Weight: 0.42",
          "Point 28<br>Failed<br>Bounds Weight: 0.50<br>Proximity Weight: 0.46",
          "Point 29<br>Failed<br>Bounds Weight: 0.45<br>Proximity Weight: 0.43",
          "Point 30<br>Failed<br>Bounds Weight: 0.49<br>Proximity Weight: 0.53",
          "Point 31<br>Successful<br>Bounds Weight: 0.40<br>Proximity Weight: 0.54",
          "Point 32<br>Failed<br>Bounds Weight: 0.43<br>Proximity Weight: 0.55",
          "Point 33<br>Failed<br>Bounds Weight: 0.42<br>Proximity Weight: 0.44",
          "Point 34<br>Successful<br>Bounds Weight: 0.40<br>Proximity Weight: 0.54",
          "Point 35<br>Successful<br>Bounds Weight: 0.39<br>Proximity Weight: 0.49",
          "Point 36<br>Successful<br>Bounds Weight: 0.51<br>Proximity Weight: 0.40",
          "Point 37<br>Successful<br>Bounds Weight: 0.53<br>Proximity Weight: 0.42",
          "Point 38<br>Successful<br>Bounds Weight: 0.49<br>Proximity Weight: 0.46",
          "Point 39<br>Successful<br>Bounds Weight: 0.51<br>Proximity Weight: 0.50",
          "Point 40<br>Successful<br>Bounds Weight: 0.53<br>Proximity Weight: 0.42",
          "Point 41<br>Successful<br>Bounds Weight: 0.48<br>Proximity Weight: 0.39",
          "Point 42<br>Successful<br>Bounds Weight: 0.43<br>Proximity Weight: 0.38",
          "Point 43<br>Successful<br>Bounds Weight: 0.53<br>Proximity Weight: 0.42",
          "Point 44<br>Successful<br>Bounds Weight: 0.54<br>Proximity Weight: 0.47",
          "Point 45<br>Failed<br>Bounds Weight: 0.58<br>Proximity Weight: 0.53",
          "Point 46<br>Successful<br>Bounds Weight: 0.50<br>Proximity Weight: 0.57",
          "Point 47<br>Failed<br>Bounds Weight: 0.55<br>Proximity Weight: 0.56",
          "Point 48<br>Failed<br>Bounds Weight: 0.53<br>Proximity Weight: 0.47",
          "Point 49<br>Successful<br>Bounds Weight: 0.50<br>Proximity Weight: 0.57",
          "Point 50<br>Successful<br>Bounds Weight: 0.52<br>Proximity Weight: 0.52"
         ],
         "type": "scatter",
         "x": [
          0.1530042588710785,
          0.922994077205658,
          0.537999153137207,
          0.34550172090530396,
          0.4417504370212555,
          0.4287389814853668,
          0.3705284297466278,
          0.3821883797645569,
          0.45476192235946655,
          0.5129724740982056,
          0.5013124942779541,
          0.461324006319046,
          0.5129724740982056,
          0.5059526562690735,
          0.42217689752578735,
          0.5129724740982056,
          0.4782714247703552,
          0.4095359146595001,
          0.49607110023498535,
          0.45738184452056885,
          0.47396498918533325,
          0.49607110023498535,
          0.5029400587081909,
          0.48220399022102356,
          0.49607110023498535,
          0.5087659358978271,
          0.4012969136238098,
          0.49607110023498535,
          0.451555997133255,
          0.48548492789268494,
          0.39619219303131104,
          0.4339861273765564,
          0.4243508577346802,
          0.39619219303131104,
          0.39075779914855957,
          0.5061795115470886,
          0.5282856822013855,
          0.4895963668823242,
          0.5144185423851013,
          0.5282856822013855,
          0.4837705194950104,
          0.4335114657878876,
          0.5282856822013855,
          0.5409804582595825,
          0.5801962614059448,
          0.49896040558815,
          0.5523412823677063,
          0.5294191837310791,
          0.49896040558815,
          0.5164363980293274
         ],
         "y": [
          0.5467185378074646,
          0.37547439336776733,
          0.46109646558761597,
          0.5039075016975403,
          0.4825019836425781,
          0.5020755529403687,
          0.4983415901660919,
          0.5075428485870361,
          0.4629284143447876,
          0.46666234731674194,
          0.45746105909347534,
          0.5531488656997681,
          0.46666234731674194,
          0.5212565660476685,
          0.4118551015853882,
          0.46666234731674194,
          0.4213467836380005,
          0.5229555368423462,
          0.4620060324668884,
          0.49661412835121155,
          0.44204843044281006,
          0.4620060324668884,
          0.4394041895866394,
          0.5422382950782776,
          0.4620060324668884,
          0.5102490782737732,
          0.4227656424045563,
          0.4620060324668884,
          0.42576920986175537,
          0.5296450853347778,
          0.5397118926048279,
          0.5504453182220459,
          0.44487887620925903,
          0.5397118926048279,
          0.49050652980804443,
          0.401594877243042,
          0.42155247926712036,
          0.4561605751514435,
          0.5017847418785095,
          0.42155247926712036,
          0.3853156566619873,
          0.3823121190071106,
          0.42155247926712036,
          0.4697955548763275,
          0.5309023261070251,
          0.566981852054596,
          0.5649693012237549,
          0.4657537639141083,
          0.566981852054596,
          0.5189022421836853
         ]
        }
       ],
       "layout": {
        "height": 600,
        "showlegend": false,
        "template": {
         "data": {
          "bar": [
           {
            "error_x": {
             "color": "#2a3f5f"
            },
            "error_y": {
             "color": "#2a3f5f"
            },
            "marker": {
             "line": {
              "color": "#E5ECF6",
              "width": 0.5
             },
             "pattern": {
              "fillmode": "overlay",
              "size": 10,
              "solidity": 0.2
             }
            },
            "type": "bar"
           }
          ],
          "barpolar": [
           {
            "marker": {
             "line": {
              "color": "#E5ECF6",
              "width": 0.5
             },
             "pattern": {
              "fillmode": "overlay",
              "size": 10,
              "solidity": 0.2
             }
            },
            "type": "barpolar"
           }
          ],
          "carpet": [
           {
            "aaxis": {
             "endlinecolor": "#2a3f5f",
             "gridcolor": "white",
             "linecolor": "white",
             "minorgridcolor": "white",
             "startlinecolor": "#2a3f5f"
            },
            "baxis": {
             "endlinecolor": "#2a3f5f",
             "gridcolor": "white",
             "linecolor": "white",
             "minorgridcolor": "white",
             "startlinecolor": "#2a3f5f"
            },
            "type": "carpet"
           }
          ],
          "choropleth": [
           {
            "colorbar": {
             "outlinewidth": 0,
             "ticks": ""
            },
            "type": "choropleth"
           }
          ],
          "contour": [
           {
            "colorbar": {
             "outlinewidth": 0,
             "ticks": ""
            },
            "colorscale": [
             [
              0,
              "#0d0887"
             ],
             [
              0.1111111111111111,
              "#46039f"
             ],
             [
              0.2222222222222222,
              "#7201a8"
             ],
             [
              0.3333333333333333,
              "#9c179e"
             ],
             [
              0.4444444444444444,
              "#bd3786"
             ],
             [
              0.5555555555555556,
              "#d8576b"
             ],
             [
              0.6666666666666666,
              "#ed7953"
             ],
             [
              0.7777777777777778,
              "#fb9f3a"
             ],
             [
              0.8888888888888888,
              "#fdca26"
             ],
             [
              1,
              "#f0f921"
             ]
            ],
            "type": "contour"
           }
          ],
          "contourcarpet": [
           {
            "colorbar": {
             "outlinewidth": 0,
             "ticks": ""
            },
            "type": "contourcarpet"
           }
          ],
          "heatmap": [
           {
            "colorbar": {
             "outlinewidth": 0,
             "ticks": ""
            },
            "colorscale": [
             [
              0,
              "#0d0887"
             ],
             [
              0.1111111111111111,
              "#46039f"
             ],
             [
              0.2222222222222222,
              "#7201a8"
             ],
             [
              0.3333333333333333,
              "#9c179e"
             ],
             [
              0.4444444444444444,
              "#bd3786"
             ],
             [
              0.5555555555555556,
              "#d8576b"
             ],
             [
              0.6666666666666666,
              "#ed7953"
             ],
             [
              0.7777777777777778,
              "#fb9f3a"
             ],
             [
              0.8888888888888888,
              "#fdca26"
             ],
             [
              1,
              "#f0f921"
             ]
            ],
            "type": "heatmap"
           }
          ],
          "heatmapgl": [
           {
            "colorbar": {
             "outlinewidth": 0,
             "ticks": ""
            },
            "colorscale": [
             [
              0,
              "#0d0887"
             ],
             [
              0.1111111111111111,
              "#46039f"
             ],
             [
              0.2222222222222222,
              "#7201a8"
             ],
             [
              0.3333333333333333,
              "#9c179e"
             ],
             [
              0.4444444444444444,
              "#bd3786"
             ],
             [
              0.5555555555555556,
              "#d8576b"
             ],
             [
              0.6666666666666666,
              "#ed7953"
             ],
             [
              0.7777777777777778,
              "#fb9f3a"
             ],
             [
              0.8888888888888888,
              "#fdca26"
             ],
             [
              1,
              "#f0f921"
             ]
            ],
            "type": "heatmapgl"
           }
          ],
          "histogram": [
           {
            "marker": {
             "pattern": {
              "fillmode": "overlay",
              "size": 10,
              "solidity": 0.2
             }
            },
            "type": "histogram"
           }
          ],
          "histogram2d": [
           {
            "colorbar": {
             "outlinewidth": 0,
             "ticks": ""
            },
            "colorscale": [
             [
              0,
              "#0d0887"
             ],
             [
              0.1111111111111111,
              "#46039f"
             ],
             [
              0.2222222222222222,
              "#7201a8"
             ],
             [
              0.3333333333333333,
              "#9c179e"
             ],
             [
              0.4444444444444444,
              "#bd3786"
             ],
             [
              0.5555555555555556,
              "#d8576b"
             ],
             [
              0.6666666666666666,
              "#ed7953"
             ],
             [
              0.7777777777777778,
              "#fb9f3a"
             ],
             [
              0.8888888888888888,
              "#fdca26"
             ],
             [
              1,
              "#f0f921"
             ]
            ],
            "type": "histogram2d"
           }
          ],
          "histogram2dcontour": [
           {
            "colorbar": {
             "outlinewidth": 0,
             "ticks": ""
            },
            "colorscale": [
             [
              0,
              "#0d0887"
             ],
             [
              0.1111111111111111,
              "#46039f"
             ],
             [
              0.2222222222222222,
              "#7201a8"
             ],
             [
              0.3333333333333333,
              "#9c179e"
             ],
             [
              0.4444444444444444,
              "#bd3786"
             ],
             [
              0.5555555555555556,
              "#d8576b"
             ],
             [
              0.6666666666666666,
              "#ed7953"
             ],
             [
              0.7777777777777778,
              "#fb9f3a"
             ],
             [
              0.8888888888888888,
              "#fdca26"
             ],
             [
              1,
              "#f0f921"
             ]
            ],
            "type": "histogram2dcontour"
           }
          ],
          "mesh3d": [
           {
            "colorbar": {
             "outlinewidth": 0,
             "ticks": ""
            },
            "type": "mesh3d"
           }
          ],
          "parcoords": [
           {
            "line": {
             "colorbar": {
              "outlinewidth": 0,
              "ticks": ""
             }
            },
            "type": "parcoords"
           }
          ],
          "pie": [
           {
            "automargin": true,
            "type": "pie"
           }
          ],
          "scatter": [
           {
            "fillpattern": {
             "fillmode": "overlay",
             "size": 10,
             "solidity": 0.2
            },
            "type": "scatter"
           }
          ],
          "scatter3d": [
           {
            "line": {
             "colorbar": {
              "outlinewidth": 0,
              "ticks": ""
             }
            },
            "marker": {
             "colorbar": {
              "outlinewidth": 0,
              "ticks": ""
             }
            },
            "type": "scatter3d"
           }
          ],
          "scattercarpet": [
           {
            "marker": {
             "colorbar": {
              "outlinewidth": 0,
              "ticks": ""
             }
            },
            "type": "scattercarpet"
           }
          ],
          "scattergeo": [
           {
            "marker": {
             "colorbar": {
              "outlinewidth": 0,
              "ticks": ""
             }
            },
            "type": "scattergeo"
           }
          ],
          "scattergl": [
           {
            "marker": {
             "colorbar": {
              "outlinewidth": 0,
              "ticks": ""
             }
            },
            "type": "scattergl"
           }
          ],
          "scattermapbox": [
           {
            "marker": {
             "colorbar": {
              "outlinewidth": 0,
              "ticks": ""
             }
            },
            "type": "scattermapbox"
           }
          ],
          "scatterpolar": [
           {
            "marker": {
             "colorbar": {
              "outlinewidth": 0,
              "ticks": ""
             }
            },
            "type": "scatterpolar"
           }
          ],
          "scatterpolargl": [
           {
            "marker": {
             "colorbar": {
              "outlinewidth": 0,
              "ticks": ""
             }
            },
            "type": "scatterpolargl"
           }
          ],
          "scatterternary": [
           {
            "marker": {
             "colorbar": {
              "outlinewidth": 0,
              "ticks": ""
             }
            },
            "type": "scatterternary"
           }
          ],
          "surface": [
           {
            "colorbar": {
             "outlinewidth": 0,
             "ticks": ""
            },
            "colorscale": [
             [
              0,
              "#0d0887"
             ],
             [
              0.1111111111111111,
              "#46039f"
             ],
             [
              0.2222222222222222,
              "#7201a8"
             ],
             [
              0.3333333333333333,
              "#9c179e"
             ],
             [
              0.4444444444444444,
              "#bd3786"
             ],
             [
              0.5555555555555556,
              "#d8576b"
             ],
             [
              0.6666666666666666,
              "#ed7953"
             ],
             [
              0.7777777777777778,
              "#fb9f3a"
             ],
             [
              0.8888888888888888,
              "#fdca26"
             ],
             [
              1,
              "#f0f921"
             ]
            ],
            "type": "surface"
           }
          ],
          "table": [
           {
            "cells": {
             "fill": {
              "color": "#EBF0F8"
             },
             "line": {
              "color": "white"
             }
            },
            "header": {
             "fill": {
              "color": "#C8D4E3"
             },
             "line": {
              "color": "white"
             }
            },
            "type": "table"
           }
          ]
         },
         "layout": {
          "annotationdefaults": {
           "arrowcolor": "#2a3f5f",
           "arrowhead": 0,
           "arrowwidth": 1
          },
          "autotypenumbers": "strict",
          "coloraxis": {
           "colorbar": {
            "outlinewidth": 0,
            "ticks": ""
           }
          },
          "colorscale": {
           "diverging": [
            [
             0,
             "#8e0152"
            ],
            [
             0.1,
             "#c51b7d"
            ],
            [
             0.2,
             "#de77ae"
            ],
            [
             0.3,
             "#f1b6da"
            ],
            [
             0.4,
             "#fde0ef"
            ],
            [
             0.5,
             "#f7f7f7"
            ],
            [
             0.6,
             "#e6f5d0"
            ],
            [
             0.7,
             "#b8e186"
            ],
            [
             0.8,
             "#7fbc41"
            ],
            [
             0.9,
             "#4d9221"
            ],
            [
             1,
             "#276419"
            ]
           ],
           "sequential": [
            [
             0,
             "#0d0887"
            ],
            [
             0.1111111111111111,
             "#46039f"
            ],
            [
             0.2222222222222222,
             "#7201a8"
            ],
            [
             0.3333333333333333,
             "#9c179e"
            ],
            [
             0.4444444444444444,
             "#bd3786"
            ],
            [
             0.5555555555555556,
             "#d8576b"
            ],
            [
             0.6666666666666666,
             "#ed7953"
            ],
            [
             0.7777777777777778,
             "#fb9f3a"
            ],
            [
             0.8888888888888888,
             "#fdca26"
            ],
            [
             1,
             "#f0f921"
            ]
           ],
           "sequentialminus": [
            [
             0,
             "#0d0887"
            ],
            [
             0.1111111111111111,
             "#46039f"
            ],
            [
             0.2222222222222222,
             "#7201a8"
            ],
            [
             0.3333333333333333,
             "#9c179e"
            ],
            [
             0.4444444444444444,
             "#bd3786"
            ],
            [
             0.5555555555555556,
             "#d8576b"
            ],
            [
             0.6666666666666666,
             "#ed7953"
            ],
            [
             0.7777777777777778,
             "#fb9f3a"
            ],
            [
             0.8888888888888888,
             "#fdca26"
            ],
            [
             1,
             "#f0f921"
            ]
           ]
          },
          "colorway": [
           "#636efa",
           "#EF553B",
           "#00cc96",
           "#ab63fa",
           "#FFA15A",
           "#19d3f3",
           "#FF6692",
           "#B6E880",
           "#FF97FF",
           "#FECB52"
          ],
          "font": {
           "color": "#2a3f5f"
          },
          "geo": {
           "bgcolor": "white",
           "lakecolor": "white",
           "landcolor": "#E5ECF6",
           "showlakes": true,
           "showland": true,
           "subunitcolor": "white"
          },
          "hoverlabel": {
           "align": "left"
          },
          "hovermode": "closest",
          "mapbox": {
           "style": "light"
          },
          "paper_bgcolor": "white",
          "plot_bgcolor": "#E5ECF6",
          "polar": {
           "angularaxis": {
            "gridcolor": "white",
            "linecolor": "white",
            "ticks": ""
           },
           "bgcolor": "#E5ECF6",
           "radialaxis": {
            "gridcolor": "white",
            "linecolor": "white",
            "ticks": ""
           }
          },
          "scene": {
           "xaxis": {
            "backgroundcolor": "#E5ECF6",
            "gridcolor": "white",
            "gridwidth": 2,
            "linecolor": "white",
            "showbackground": true,
            "ticks": "",
            "zerolinecolor": "white"
           },
           "yaxis": {
            "backgroundcolor": "#E5ECF6",
            "gridcolor": "white",
            "gridwidth": 2,
            "linecolor": "white",
            "showbackground": true,
            "ticks": "",
            "zerolinecolor": "white"
           },
           "zaxis": {
            "backgroundcolor": "#E5ECF6",
            "gridcolor": "white",
            "gridwidth": 2,
            "linecolor": "white",
            "showbackground": true,
            "ticks": "",
            "zerolinecolor": "white"
           }
          },
          "shapedefaults": {
           "line": {
            "color": "#2a3f5f"
           }
          },
          "ternary": {
           "aaxis": {
            "gridcolor": "white",
            "linecolor": "white",
            "ticks": ""
           },
           "baxis": {
            "gridcolor": "white",
            "linecolor": "white",
            "ticks": ""
           },
           "bgcolor": "#E5ECF6",
           "caxis": {
            "gridcolor": "white",
            "linecolor": "white",
            "ticks": ""
           }
          },
          "title": {
           "x": 0.05
          },
          "xaxis": {
           "automargin": true,
           "gridcolor": "white",
           "linecolor": "white",
           "ticks": "",
           "title": {
            "standoff": 15
           },
           "zerolinecolor": "white",
           "zerolinewidth": 2
          },
          "yaxis": {
           "automargin": true,
           "gridcolor": "white",
           "linecolor": "white",
           "ticks": "",
           "title": {
            "standoff": 15
           },
           "zerolinecolor": "white",
           "zerolinewidth": 2
          }
         }
        },
        "title": {
         "text": "Sembas Results - 2D Visualization (Bounds Weight vs Proximity Weight)"
        },
        "width": 800,
        "xaxis": {
         "title": {
          "text": "Bounds Weight"
         }
        },
        "yaxis": {
         "title": {
          "text": "Proximity Weight"
         }
        }
       }
      }
     },
     "metadata": {},
     "output_type": "display_data"
    }
   ],
   "source": [
    "file = 'scalar_match_test.json' # Volume: 0.06827375846096506, points: 980\n",
    "plot_sembas_results(file)  # 3D plot\n",
    "\n",
    "# 2D plots - choose any two dimensions:\n",
    "plot_sembas_2d(file, dim1=0, dim2=1)  # Progress vs Bounds\n",
    "plot_sembas_2d(file, dim1=0, dim2=2)  # Progress vs Proximity\n",
    "plot_sembas_2d(file, dim1=1, dim2=2)  # Bounds vs Proximity"
   ]
  },
  {
   "cell_type": "code",
   "execution_count": null,
   "id": "886e564f",
   "metadata": {},
   "outputs": [],
   "source": []
  }
 ],
 "metadata": {
  "kernelspec": {
   "display_name": "Python 3",
   "language": "python",
   "name": "python3"
  },
  "language_info": {
   "codemirror_mode": {
    "name": "ipython",
    "version": 3
   },
   "file_extension": ".py",
   "mimetype": "text/x-python",
   "name": "python",
   "nbconvert_exporter": "python",
   "pygments_lexer": "ipython3",
   "version": "3.10.12"
  }
 },
 "nbformat": 4,
 "nbformat_minor": 5
}
