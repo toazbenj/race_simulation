{
 "cells": [
  {
   "cell_type": "markdown",
   "metadata": {},
   "source": [
    "# Setup\n",
    "Specify the paths you chose for your models. Note: this will be relative to where\n",
    "this notebook is."
   ]
  },
  {
   "cell_type": "code",
   "execution_count": 5,
   "metadata": {},
   "outputs": [],
   "source": [
    "import numpy as np\n",
    "import json\n",
    "\n",
    "from numpy import ndarray\n",
    "import matplotlib.pyplot as plt\n",
    "from matplotlib.axes import Axes\n",
    "\n",
    "def subplot_3d():\n",
    "    fig = plt.figure()\n",
    "    ax = fig.add_subplot(111, projection='3d')\n",
    "    return fig, ax\n",
    "\n",
    "def draw_arrows(ax: Axes, locs: ndarray, dirs: ndarray, scale: float = 0.1):\n",
    "    handles = []\n",
    "    for bp, s in zip(locs, dirs):\n",
    "        if is_3d:\n",
    "            handles.append(ax.quiver(*bp, *(s * scale), color='black'))\n",
    "        else:\n",
    "            print(bp)\n",
    "            print(s)\n",
    "            handles.append(ax.arrow(*bp, *(s * scale), head_width=scale * 0.1, head_length=scale*0.2))\n",
    "\n",
    "def subplot():\n",
    "    if is_3d:\n",
    "        fig, ax = subplot_3d()\n",
    "    else:\n",
    "        fig, ax = plt.subplots()\n",
    "\n",
    "    ax.set_xlim(0, 1)\n",
    "    ax.set_ylim(0, 1)\n",
    "    return fig, ax\n",
    "    \n",
    "def load_boundary(path) -> ndarray:\n",
    "    with open(path) as f: # TODO\n",
    "        data = json.load(f)\n",
    "    return np.array(data['boundary'][\"boundary_points\"]), np.array(data['boundary'][\"boundary_surface\"])\n",
    "    \n"
   ]
  },
  {
   "cell_type": "code",
   "execution_count": 6,
   "metadata": {},
   "outputs": [
    {
     "ename": "FileNotFoundError",
     "evalue": "[Errno 2] No such file or directory: '/home/bentoaz/SEMBAS/.results/old_bounds/vector_pass/boundary1.json'",
     "output_type": "error",
     "traceback": [
      "\u001b[0;31m---------------------------------------------------------------------------\u001b[0m",
      "\u001b[0;31mFileNotFoundError\u001b[0m                         Traceback (most recent call last)",
      "Cell \u001b[0;32mIn[6], line 3\u001b[0m\n\u001b[1;32m      1\u001b[0m \u001b[38;5;66;03m# Load boundary\u001b[39;00m\n\u001b[1;32m      2\u001b[0m path \u001b[38;5;241m=\u001b[39m \u001b[38;5;124m\"\u001b[39m\u001b[38;5;124m/home/bentoaz/SEMBAS/.results/old_bounds/vector_pass/boundary1.json\u001b[39m\u001b[38;5;124m\"\u001b[39m \u001b[38;5;66;03m# TODO set to the full path of your boundary folder\u001b[39;00m\n\u001b[0;32m----> 3\u001b[0m bpoints, bdir \u001b[38;5;241m=\u001b[39m \u001b[43mload_boundary\u001b[49m\u001b[43m(\u001b[49m\u001b[43mpath\u001b[49m\u001b[43m)\u001b[49m\n\u001b[1;32m      5\u001b[0m ndim \u001b[38;5;241m=\u001b[39m bdir\u001b[38;5;241m.\u001b[39mshape[\u001b[38;5;241m1\u001b[39m]\n\u001b[1;32m      6\u001b[0m is_3d \u001b[38;5;241m=\u001b[39m ndim \u001b[38;5;241m==\u001b[39m \u001b[38;5;241m3\u001b[39m\n",
      "Cell \u001b[0;32mIn[5], line 34\u001b[0m, in \u001b[0;36mload_boundary\u001b[0;34m(path)\u001b[0m\n\u001b[1;32m     33\u001b[0m \u001b[38;5;28;01mdef\u001b[39;00m\u001b[38;5;250m \u001b[39m\u001b[38;5;21mload_boundary\u001b[39m(path) \u001b[38;5;241m-\u001b[39m\u001b[38;5;241m>\u001b[39m ndarray:\n\u001b[0;32m---> 34\u001b[0m     \u001b[38;5;28;01mwith\u001b[39;00m \u001b[38;5;28;43mopen\u001b[39;49m\u001b[43m(\u001b[49m\u001b[43mpath\u001b[49m\u001b[43m)\u001b[49m \u001b[38;5;28;01mas\u001b[39;00m f: \u001b[38;5;66;03m# TODO\u001b[39;00m\n\u001b[1;32m     35\u001b[0m         data \u001b[38;5;241m=\u001b[39m json\u001b[38;5;241m.\u001b[39mload(f)\n\u001b[1;32m     36\u001b[0m     \u001b[38;5;28;01mreturn\u001b[39;00m np\u001b[38;5;241m.\u001b[39marray(data[\u001b[38;5;124m'\u001b[39m\u001b[38;5;124mboundary\u001b[39m\u001b[38;5;124m'\u001b[39m][\u001b[38;5;124m\"\u001b[39m\u001b[38;5;124mboundary_points\u001b[39m\u001b[38;5;124m\"\u001b[39m]), np\u001b[38;5;241m.\u001b[39marray(data[\u001b[38;5;124m'\u001b[39m\u001b[38;5;124mboundary\u001b[39m\u001b[38;5;124m'\u001b[39m][\u001b[38;5;124m\"\u001b[39m\u001b[38;5;124mboundary_surface\u001b[39m\u001b[38;5;124m\"\u001b[39m])\n",
      "File \u001b[0;32m~/.local/lib/python3.10/site-packages/IPython/core/interactiveshell.py:324\u001b[0m, in \u001b[0;36m_modified_open\u001b[0;34m(file, *args, **kwargs)\u001b[0m\n\u001b[1;32m    317\u001b[0m \u001b[38;5;28;01mif\u001b[39;00m file \u001b[38;5;129;01min\u001b[39;00m {\u001b[38;5;241m0\u001b[39m, \u001b[38;5;241m1\u001b[39m, \u001b[38;5;241m2\u001b[39m}:\n\u001b[1;32m    318\u001b[0m     \u001b[38;5;28;01mraise\u001b[39;00m \u001b[38;5;167;01mValueError\u001b[39;00m(\n\u001b[1;32m    319\u001b[0m         \u001b[38;5;124mf\u001b[39m\u001b[38;5;124m\"\u001b[39m\u001b[38;5;124mIPython won\u001b[39m\u001b[38;5;124m'\u001b[39m\u001b[38;5;124mt let you open fd=\u001b[39m\u001b[38;5;132;01m{\u001b[39;00mfile\u001b[38;5;132;01m}\u001b[39;00m\u001b[38;5;124m by default \u001b[39m\u001b[38;5;124m\"\u001b[39m\n\u001b[1;32m    320\u001b[0m         \u001b[38;5;124m\"\u001b[39m\u001b[38;5;124mas it is likely to crash IPython. If you know what you are doing, \u001b[39m\u001b[38;5;124m\"\u001b[39m\n\u001b[1;32m    321\u001b[0m         \u001b[38;5;124m\"\u001b[39m\u001b[38;5;124myou can use builtins\u001b[39m\u001b[38;5;124m'\u001b[39m\u001b[38;5;124m open.\u001b[39m\u001b[38;5;124m\"\u001b[39m\n\u001b[1;32m    322\u001b[0m     )\n\u001b[0;32m--> 324\u001b[0m \u001b[38;5;28;01mreturn\u001b[39;00m \u001b[43mio_open\u001b[49m\u001b[43m(\u001b[49m\u001b[43mfile\u001b[49m\u001b[43m,\u001b[49m\u001b[43m \u001b[49m\u001b[38;5;241;43m*\u001b[39;49m\u001b[43margs\u001b[49m\u001b[43m,\u001b[49m\u001b[43m \u001b[49m\u001b[38;5;241;43m*\u001b[39;49m\u001b[38;5;241;43m*\u001b[39;49m\u001b[43mkwargs\u001b[49m\u001b[43m)\u001b[49m\n",
      "\u001b[0;31mFileNotFoundError\u001b[0m: [Errno 2] No such file or directory: '/home/bentoaz/SEMBAS/.results/old_bounds/vector_pass/boundary1.json'"
     ]
    }
   ],
   "source": [
    "# Load boundary\n",
    "path = \"/home/bentoaz/SEMBAS/.results/old_bounds/vector_pass/boundary1.json\" # TODO set to the full path of your boundary folder\n",
    "bpoints, bdir = load_boundary(path)\n",
    "\n",
    "ndim = bdir.shape[1]\n",
    "is_3d = ndim == 3\n",
    "\n",
    "assert ndim <= 3, \"Cannot visualize more than 3 dimensions\"\n",
    "\n",
    "print(len(bpoints.T))\n",
    "print(bpoints.shape, bdir.shape)"
   ]
  },
  {
   "cell_type": "code",
   "execution_count": null,
   "metadata": {},
   "outputs": [],
   "source": [
    "# # Show boundary\n",
    "fig, ax = subplot()\n",
    "\n",
    "ax.scatter(*bpoints.T, color=\"red\")\n",
    "plt.show()\n",
    "\n",
    "# show surface direction\n",
    "fig, ax = subplot()\n",
    "\n",
    "ax.scatter(*bpoints.T, color=\"red\")\n",
    "draw_arrows(ax, bpoints, bdir)\n",
    "plt.show()"
   ]
  },
  {
   "cell_type": "code",
   "execution_count": null,
   "metadata": {},
   "outputs": [],
   "source": [
    "import numpy as np\n",
    "import json\n",
    "import math\n",
    "from numpy import ndarray\n",
    "import matplotlib.pyplot as plt\n",
    "from matplotlib.axes import Axes\n",
    "\n",
    "# Global variable to control 2D/3D plotting\n",
    "is_3d = True\n",
    "\n",
    "def subplot_3d():\n",
    "    fig = plt.figure()\n",
    "    ax = fig.add_subplot(111, projection='3d')\n",
    "    return fig, ax\n",
    "\n",
    "def draw_arrows(ax: Axes, locs: ndarray, dirs: ndarray, scale: float = 0.1):\n",
    "    handles = []\n",
    "    for bp, s in zip(locs, dirs):\n",
    "        if is_3d:\n",
    "            handles.append(ax.quiver(*bp, *(s * scale), color='black'))\n",
    "        else:\n",
    "            print(bp)\n",
    "            print(s)\n",
    "            handles.append(ax.arrow(*bp, *(s * scale), head_width=scale * 0.1, head_length=scale*0.2))\n",
    "    return handles\n",
    "\n",
    "def subplot():\n",
    "    if is_3d:\n",
    "        fig, ax = subplot_3d()\n",
    "    else:\n",
    "        fig, ax = plt.subplots()\n",
    "        ax.set_xlim(0, 1)\n",
    "        ax.set_ylim(0, 1)\n",
    "    return fig, ax\n",
    "\n",
    "def load_boundary(path) -> tuple:\n",
    "    with open(path) as f:\n",
    "        data = json.load(f)\n",
    "    return np.array(data['boundary'][\"boundary_points\"]), np.array(data['boundary'][\"boundary_surface\"])\n",
    "\n",
    "def plot_all_jsons_in_directory(directory_path, start_index=0, num_plots=None):\n",
    "    \"\"\"\n",
    "    Plot all JSON files in a directory in one shot\n",
    "    \"\"\"\n",
    "    import os\n",
    "    import glob\n",
    "    \n",
    "    # Find all JSON files in the directory\n",
    "    json_files = glob.glob(os.path.join(directory_path, \"*.json\"))\n",
    "    \n",
    "    if not json_files:\n",
    "        print(f\"No JSON files found in directory: {directory_path}\")\n",
    "        return\n",
    "    \n",
    "    print(f\"Found {len(json_files)} JSON files:\")\n",
    "    for file in json_files:\n",
    "        print(f\"  - {os.path.basename(file)}\")\n",
    "    \n",
    "    # Combine all data from all JSON files\n",
    "    all_data = []\n",
    "    file_sources = []  # Keep track of which file each data point came from\n",
    "    \n",
    "    for json_file in sorted(json_files):  # Sort for consistent ordering\n",
    "        try:\n",
    "            with open(json_file, 'r') as f:\n",
    "                data = json.load(f)\n",
    "            \n",
    "            # Handle both single objects and arrays\n",
    "            if isinstance(data, list):\n",
    "                all_data.extend(data)\n",
    "                file_sources.extend([os.path.basename(json_file)] * len(data))\n",
    "            else:\n",
    "                all_data.append(data)\n",
    "                file_sources.append(os.path.basename(json_file))\n",
    "                \n",
    "        except (json.JSONDecodeError, KeyError) as e:\n",
    "            print(f\"Warning: Could not load {json_file}: {e}\")\n",
    "            continue\n",
    "    \n",
    "    if not all_data:\n",
    "        print(\"No valid data found in JSON files\")\n",
    "        return\n",
    "    \n",
    "    print(f\"\\nLoaded {len(all_data)} data points total\")\n",
    "    \n",
    "    # Determine number of plots\n",
    "    if num_plots is None:\n",
    "        num_plots = len(all_data) - start_index\n",
    "    \n",
    "    # Group plots into pages of 4\n",
    "    plots_per_page = 4\n",
    "    num_pages = math.ceil(num_plots / plots_per_page)\n",
    "    \n",
    "    for page in range(num_pages):\n",
    "        # Calculate which plots go on this page\n",
    "        page_start = start_index + (page * plots_per_page)\n",
    "        page_end = min(page_start + plots_per_page, start_index + num_plots)\n",
    "        \n",
    "        # Create subplot grid: 2 rows, 2 columns\n",
    "        fig, axes = plt.subplots(2, 2, figsize=(16, 12))\n",
    "        if is_3d:\n",
    "            # For 3D plots, we need to recreate the subplots with 3D projection\n",
    "            fig = plt.figure(figsize=(16, 12))\n",
    "            axes = []\n",
    "            for i in range(4):\n",
    "                row = i // 2\n",
    "                col = i % 2\n",
    "                ax = fig.add_subplot(2, 2, i+1, projection='3d')\n",
    "                axes.append(ax)\n",
    "            axes = np.array(axes).reshape(2, 2)\n",
    "        \n",
    "        fig.suptitle(f\"All JSON Results Grid - Page {page + 1}/{num_pages}\", fontsize=16)\n",
    "        \n",
    "        # Plot positions for 2x2 grid\n",
    "        positions = [(0, 0), (0, 1), (1, 0), (1, 1)]\n",
    "        \n",
    "        # Use original function logic in a for loop\n",
    "        for idx, plot_num in enumerate(range(page_start, page_end)):\n",
    "            if plot_num >= len(all_data):\n",
    "                break\n",
    "            \n",
    "            # Original function logic starts here\n",
    "            data_point = all_data[plot_num]\n",
    "            source_file = file_sources[plot_num]\n",
    "            \n",
    "            # Handle different data structures\n",
    "            if \"requests\" in data_point and \"results\" in data_point:\n",
    "                # Original structure with requests/results\n",
    "                coords = data_point[\"requests\"]\n",
    "                results = data_point[\"results\"]\n",
    "                description = data_point.get(\"description\", f\"Data from {source_file}\")\n",
    "                \n",
    "                # Extract coordinates\n",
    "                x = [pt[0] for pt in coords]\n",
    "                y = [pt[1] for pt in coords]\n",
    "                z = [pt[2] for pt in coords] if is_3d else None\n",
    "                \n",
    "                # Create color mapping (0 = red/failed, 1 = blue/successful)\n",
    "                colors = ['red' if not res else 'blue' for res in results]\n",
    "                \n",
    "            elif \"boundary\" in data_point:\n",
    "                # Boundary structure with boundary_points\n",
    "                boundary_points = data_point[\"boundary\"][\"boundary_points\"]\n",
    "                description = data_point.get(\"description\", f\"Boundary from {source_file}\")\n",
    "                volume = data_point.get(\"volume\", \"Unknown\")\n",
    "                \n",
    "                # Extract coordinates from boundary points\n",
    "                x = [pt[0] for pt in boundary_points]\n",
    "                y = [pt[1] for pt in boundary_points]\n",
    "                z = [pt[2] for pt in boundary_points] if is_3d else None\n",
    "                \n",
    "                # Use a single color for boundary points (or gradient based on index)\n",
    "                colors = ['blue'] * len(boundary_points)  # All blue for boundary points\n",
    "                # Or create a gradient: colors = plt.cm.viridis(np.linspace(0, 1, len(boundary_points)))\n",
    "                \n",
    "                # Update description to include volume\n",
    "                description = f\"{description}\\nVolume: {volume}\"\n",
    "                \n",
    "            else:\n",
    "                # Fallback for unknown structure\n",
    "                print(f\"Warning: Unknown data structure in {source_file}\")\n",
    "                continue\n",
    "            \n",
    "            # Get the appropriate subplot\n",
    "            row, col = positions[idx]\n",
    "            ax = axes[row, col] if isinstance(axes, np.ndarray) else axes[idx]\n",
    "            \n",
    "            # Create the same scatter plot as original function\n",
    "            if is_3d:\n",
    "                scatter = ax.scatter(x, y, z, c=colors, s=60, alpha=1.0, \n",
    "                                  edgecolors='black', linewidth=1)\n",
    "                ax.set_xlabel('Progress Weight')\n",
    "                ax.set_ylabel('Bounds Weight')\n",
    "                ax.set_zlabel('Proximity Weight')\n",
    "            else:\n",
    "                scatter = ax.scatter(x, y, c=colors, s=60, alpha=1.0, \n",
    "                                  edgecolors='black', linewidth=1)\n",
    "                ax.set_xlabel('Progress Weight')\n",
    "                ax.set_ylabel('Bounds Weight')\n",
    "                ax.set_xlim(0, 1)\n",
    "                ax.set_ylim(0, 1)\n",
    "            \n",
    "            # Include source file in title\n",
    "            title = f\"{description}\\n(from {source_file})\"\n",
    "            ax.set_title(title, fontsize=9, pad=10)\n",
    "            \n",
    "            # Add arrows if needed (using your draw_arrows function)\n",
    "            # Uncomment and modify as needed:\n",
    "            if 'arrows' in data_point:\n",
    "                arrow_locs = np.array(data_point['arrow_locs'])\n",
    "                arrow_dirs = np.array(data_point['arrow_dirs'])\n",
    "                draw_arrows(ax, arrow_locs, arrow_dirs)\n",
    "        \n",
    "        # Hide empty subplots\n",
    "        total_plots_this_page = page_end - page_start\n",
    "        for idx in range(total_plots_this_page, 4):\n",
    "            row, col = positions[idx]\n",
    "            if isinstance(axes, np.ndarray):\n",
    "                axes[row, col].set_visible(False)\n",
    "            else:\n",
    "                axes[idx].set_visible(False)\n",
    "        \n",
    "        plt.tight_layout()\n",
    "        plt.show()"
   ]
  },
  {
   "cell_type": "code",
   "execution_count": null,
   "metadata": {},
   "outputs": [],
   "source": [
    "path = \"/home/bentoaz/SEMBAS/.results/old_bounds/scalar_pass\"\n",
    "plot_all_jsons_in_directory(path)"
   ]
  },
  {
   "cell_type": "code",
   "execution_count": 8,
   "metadata": {},
   "outputs": [],
   "source": [
    "import numpy as np\n",
    "import json\n",
    "import math\n",
    "from numpy import ndarray\n",
    "import plotly.graph_objects as go\n",
    "from plotly.subplots import make_subplots\n",
    "import os\n",
    "import glob\n",
    "\n",
    "def draw_arrows(fig, locs: ndarray, dirs: ndarray, scale: float = 0.1, row=None, col=None):\n",
    "    \"\"\"Add 3D arrows to plotly figure\"\"\"\n",
    "    for bp, s in zip(locs, dirs):\n",
    "        end_point = bp + (s * scale)\n",
    "        \n",
    "        # Arrow line\n",
    "        fig.add_trace(\n",
    "            go.Scatter3d(\n",
    "                x=[bp[0], end_point[0]],\n",
    "                y=[bp[1], end_point[1]], \n",
    "                z=[bp[2], end_point[2]],\n",
    "                mode='lines',\n",
    "                line=dict(color='black', width=4),\n",
    "                showlegend=False,\n",
    "                hoverinfo='skip'\n",
    "            ),\n",
    "            row=row, col=col\n",
    "        )\n",
    "        \n",
    "        # Arrow head\n",
    "        fig.add_trace(\n",
    "            go.Scatter3d(\n",
    "                x=[end_point[0]],\n",
    "                y=[end_point[1]],\n",
    "                z=[end_point[2]],\n",
    "                mode='markers',\n",
    "                marker=dict(color='black', size=8, symbol='diamond'),\n",
    "                showlegend=False,\n",
    "                hoverinfo='skip'\n",
    "            ),\n",
    "            row=row, col=col\n",
    "        )\n",
    "\n",
    "def load_boundary(path) -> tuple:\n",
    "    with open(path) as f:\n",
    "        data = json.load(f)\n",
    "    return np.array(data['boundary'][\"boundary_points\"]), np.array(data['boundary'][\"boundary_surface\"])\n",
    "\n",
    "def plot_single_json(data_point, source_file=\"\"):\n",
    "    \"\"\"Create interactive 3D plot for a single data point\"\"\"\n",
    "    \n",
    "    # Handle different data structures\n",
    "    if \"requests\" in data_point and \"results\" in data_point:\n",
    "        coords = data_point[\"requests\"]\n",
    "        results = data_point[\"results\"]\n",
    "        description = data_point.get(\"description\", f\"Data from {source_file}\")\n",
    "        \n",
    "        x = [pt[0] for pt in coords]\n",
    "        y = [pt[1] for pt in coords]\n",
    "        z = [pt[2] for pt in coords]\n",
    "        \n",
    "        colors = ['red' if not res else 'blue' for res in results]\n",
    "        hover_text = [f\"Point {i}<br>({pt[0]:.3f}, {pt[1]:.3f}, {pt[2]:.3f})<br>{'Success' if res else 'Failed'}\"\n",
    "                     for i, (pt, res) in enumerate(zip(coords, results))]\n",
    "        \n",
    "    elif \"boundary\" in data_point:\n",
    "        boundary_points = data_point[\"boundary\"][\"boundary_points\"]\n",
    "        description = data_point.get(\"description\", f\"Boundary from {source_file}\")\n",
    "        volume = data_point.get(\"volume\", \"Unknown\")\n",
    "        \n",
    "        x = [pt[0] for pt in boundary_points]\n",
    "        y = [pt[1] for pt in boundary_points]\n",
    "        z = [pt[2] for pt in boundary_points]\n",
    "        \n",
    "        colors = ['blue'] * len(boundary_points)\n",
    "        hover_text = [f\"Boundary {i}<br>({pt[0]:.3f}, {pt[1]:.3f}, {pt[2]:.3f})\"\n",
    "                     for i, pt in enumerate(boundary_points)]\n",
    "        \n",
    "        description = f\"{description}<br>Volume: {volume}\"\n",
    "        \n",
    "    else:\n",
    "        raise ValueError(f\"Unknown data structure in {source_file}\")\n",
    "    \n",
    "    # Create 3D scatter plot\n",
    "    fig = go.Figure(data=go.Scatter3d(\n",
    "        x=x, y=y, z=z,\n",
    "        mode='markers',\n",
    "        marker=dict(\n",
    "            color=colors,\n",
    "            size=8,\n",
    "            line=dict(color='black', width=1)\n",
    "        ),\n",
    "        text=hover_text,\n",
    "        hoverinfo='text'\n",
    "    ))\n",
    "    \n",
    "    # Add arrows if present\n",
    "    if 'arrows' in data_point:\n",
    "        arrow_locs = np.array(data_point['arrow_locs'])\n",
    "        arrow_dirs = np.array(data_point['arrow_dirs'])\n",
    "        draw_arrows(fig, arrow_locs, arrow_dirs)\n",
    "    \n",
    "    # Set layout\n",
    "    title = description\n",
    "    if source_file:\n",
    "        title += f\"<br><sub>{source_file}</sub>\"\n",
    "        \n",
    "    fig.update_layout(\n",
    "        title=title,\n",
    "        scene=dict(\n",
    "            xaxis_title='Progress Weight',\n",
    "            yaxis_title='Bounds Weight',\n",
    "            zaxis_title='Proximity Weight'\n",
    "        ),\n",
    "        width=800,\n",
    "        height=600\n",
    "    )\n",
    "    \n",
    "    return fig\n",
    "\n",
    "def plot_all_jsons_in_directory(directory_path, start_index=0, num_plots=None):\n",
    "    \"\"\"Plot all JSON files in directory as individual interactive 3D plots\"\"\"\n",
    "    \n",
    "    # Find JSON files\n",
    "    json_files = glob.glob(os.path.join(directory_path, \"*.json\"))\n",
    "    \n",
    "    if not json_files:\n",
    "        print(f\"No JSON files found in directory: {directory_path}\")\n",
    "        return []\n",
    "    \n",
    "    print(f\"Found {len(json_files)} JSON files\")\n",
    "    \n",
    "    # Load all data\n",
    "    all_data = []\n",
    "    file_sources = []\n",
    "    \n",
    "    for json_file in sorted(json_files):\n",
    "        try:\n",
    "            with open(json_file, 'r') as f:\n",
    "                data = json.load(f)\n",
    "            \n",
    "            if isinstance(data, list):\n",
    "                all_data.extend(data)\n",
    "                file_sources.extend([os.path.basename(json_file)] * len(data))\n",
    "            else:\n",
    "                all_data.append(data)\n",
    "                file_sources.append(os.path.basename(json_file))\n",
    "                \n",
    "        except Exception as e:\n",
    "            print(f\"Warning: Could not load {json_file}: {e}\")\n",
    "            continue\n",
    "    \n",
    "    if not all_data:\n",
    "        print(\"No valid data found\")\n",
    "        return []\n",
    "    \n",
    "    print(f\"Loaded {len(all_data)} data points total\")\n",
    "    \n",
    "    # Create plots\n",
    "    if num_plots is None:\n",
    "        num_plots = len(all_data) - start_index\n",
    "    \n",
    "    figures = []\n",
    "    for plot_num in range(start_index, min(start_index + num_plots, len(all_data))):\n",
    "        data_point = all_data[plot_num]\n",
    "        source_file = file_sources[plot_num]\n",
    "        \n",
    "        try:\n",
    "            fig = plot_single_json(data_point, source_file)\n",
    "            figures.append(fig)\n",
    "        except Exception as e:\n",
    "            print(f\"Warning: Could not plot data point {plot_num}: {e}\")\n",
    "            continue\n",
    "    \n",
    "    return figures\n",
    "\n",
    "# Simple usage\n",
    "def show_plots(directory_path, start_index=0, num_plots=None):\n",
    "    \"\"\"Show all plots\"\"\"\n",
    "    figures = plot_all_jsons_in_directory(directory_path, start_index, num_plots)\n",
    "    \n",
    "    for i, fig in enumerate(figures):\n",
    "        print(f\"Showing plot {i + 1}/{len(figures)}\")\n",
    "        fig.show()\n",
    "\n",
    "# Example usage:\n",
    "# show_plots(\"path/to/json/directory\")\n",
    "# \n",
    "# Or for a single file:\n",
    "# with open(\"data.json\") as f:\n",
    "#     data = json.load(f)\n",
    "# fig = plot_single_json(data, \"data.json\")\n",
    "# fig.show()"
   ]
  },
  {
   "cell_type": "code",
   "execution_count": 9,
   "metadata": {},
   "outputs": [
    {
     "name": "stdout",
     "output_type": "stream",
     "text": [
      "Found 3 JSON files\n",
      "Loaded 3 data points total\n",
      "Showing plot 1/3\n"
     ]
    },
    {
     "data": {
      "application/vnd.plotly.v1+json": {
       "config": {
        "plotlyServerURL": "https://plot.ly"
       },
       "data": [
        {
         "hoverinfo": "text",
         "marker": {
          "color": [
           "blue",
           "blue",
           "blue",
           "blue",
           "blue",
           "blue",
           "blue",
           "blue",
           "blue",
           "blue",
           "blue",
           "blue",
           "blue"
          ],
          "line": {
           "color": "black",
           "width": 1
          },
          "size": 8
         },
         "mode": "markers",
         "text": [
          "Boundary 0<br>(0.105, 0.816, 0.350)",
          "Boundary 1<br>(0.043, 0.844, 0.336)",
          "Boundary 2<br>(0.043, 0.844, 0.336)",
          "Boundary 3<br>(0.084, 0.901, 0.333)",
          "Boundary 4<br>(0.086, 0.933, 0.271)",
          "Boundary 5<br>(0.115, 0.930, 0.389)",
          "Boundary 6<br>(0.026, 0.969, 0.264)",
          "Boundary 7<br>(0.108, 0.979, 0.319)",
          "Boundary 8<br>(0.119, 0.999, 0.403)",
          "Boundary 9<br>(0.097, 0.917, 0.455)",
          "Boundary 10<br>(0.045, 0.953, 0.198)",
          "Boundary 11<br>(0.101, 0.986, 0.470)",
          "Boundary 12<br>(0.030, 0.925, 0.439)"
         ],
         "type": "scatter3d",
         "x": [
          0.10547678373212349,
          0.043244370551105055,
          0.043244370551105034,
          0.08430111068685558,
          0.08640844404817984,
          0.11505328446631802,
          0.02632952429472271,
          0.10770653259348519,
          0.11898331139100005,
          0.0974344079498793,
          0.04528276792204726,
          0.10136443487456126,
          0.02980209260677008
         ],
         "y": [
          0.8157402667684888,
          0.8444384710224501,
          0.8444384710224501,
          0.9010814109932292,
          0.9333087900279474,
          0.930326293283922,
          0.9685058585994726,
          0.9794887297551848,
          0.9987370127449376,
          0.9174347694732014,
          0.9530561293483651,
          0.985845488934217,
          0.9247683959065451
         ],
         "z": [
          0.3499854348621374,
          0.33571869654306385,
          0.33571869654306385,
          0.33328529544744434,
          0.27118090601596484,
          0.3889543233502312,
          0.263991346555955,
          0.319282928749994,
          0.40325566423832604,
          0.4554628476470167,
          0.198401100161611,
          0.4697641885351116,
          0.43896776217690175
         ]
        }
       ],
       "layout": {
        "height": 600,
        "scene": {
         "xaxis": {
          "title": {
           "text": "Progress Weight"
          }
         },
         "yaxis": {
          "title": {
           "text": "Bounds Weight"
          }
         },
         "zaxis": {
          "title": {
           "text": "Proximity Weight"
          }
         }
        },
        "template": {
         "data": {
          "bar": [
           {
            "error_x": {
             "color": "#2a3f5f"
            },
            "error_y": {
             "color": "#2a3f5f"
            },
            "marker": {
             "line": {
              "color": "#E5ECF6",
              "width": 0.5
             },
             "pattern": {
              "fillmode": "overlay",
              "size": 10,
              "solidity": 0.2
             }
            },
            "type": "bar"
           }
          ],
          "barpolar": [
           {
            "marker": {
             "line": {
              "color": "#E5ECF6",
              "width": 0.5
             },
             "pattern": {
              "fillmode": "overlay",
              "size": 10,
              "solidity": 0.2
             }
            },
            "type": "barpolar"
           }
          ],
          "carpet": [
           {
            "aaxis": {
             "endlinecolor": "#2a3f5f",
             "gridcolor": "white",
             "linecolor": "white",
             "minorgridcolor": "white",
             "startlinecolor": "#2a3f5f"
            },
            "baxis": {
             "endlinecolor": "#2a3f5f",
             "gridcolor": "white",
             "linecolor": "white",
             "minorgridcolor": "white",
             "startlinecolor": "#2a3f5f"
            },
            "type": "carpet"
           }
          ],
          "choropleth": [
           {
            "colorbar": {
             "outlinewidth": 0,
             "ticks": ""
            },
            "type": "choropleth"
           }
          ],
          "contour": [
           {
            "colorbar": {
             "outlinewidth": 0,
             "ticks": ""
            },
            "colorscale": [
             [
              0,
              "#0d0887"
             ],
             [
              0.1111111111111111,
              "#46039f"
             ],
             [
              0.2222222222222222,
              "#7201a8"
             ],
             [
              0.3333333333333333,
              "#9c179e"
             ],
             [
              0.4444444444444444,
              "#bd3786"
             ],
             [
              0.5555555555555556,
              "#d8576b"
             ],
             [
              0.6666666666666666,
              "#ed7953"
             ],
             [
              0.7777777777777778,
              "#fb9f3a"
             ],
             [
              0.8888888888888888,
              "#fdca26"
             ],
             [
              1,
              "#f0f921"
             ]
            ],
            "type": "contour"
           }
          ],
          "contourcarpet": [
           {
            "colorbar": {
             "outlinewidth": 0,
             "ticks": ""
            },
            "type": "contourcarpet"
           }
          ],
          "heatmap": [
           {
            "colorbar": {
             "outlinewidth": 0,
             "ticks": ""
            },
            "colorscale": [
             [
              0,
              "#0d0887"
             ],
             [
              0.1111111111111111,
              "#46039f"
             ],
             [
              0.2222222222222222,
              "#7201a8"
             ],
             [
              0.3333333333333333,
              "#9c179e"
             ],
             [
              0.4444444444444444,
              "#bd3786"
             ],
             [
              0.5555555555555556,
              "#d8576b"
             ],
             [
              0.6666666666666666,
              "#ed7953"
             ],
             [
              0.7777777777777778,
              "#fb9f3a"
             ],
             [
              0.8888888888888888,
              "#fdca26"
             ],
             [
              1,
              "#f0f921"
             ]
            ],
            "type": "heatmap"
           }
          ],
          "histogram": [
           {
            "marker": {
             "pattern": {
              "fillmode": "overlay",
              "size": 10,
              "solidity": 0.2
             }
            },
            "type": "histogram"
           }
          ],
          "histogram2d": [
           {
            "colorbar": {
             "outlinewidth": 0,
             "ticks": ""
            },
            "colorscale": [
             [
              0,
              "#0d0887"
             ],
             [
              0.1111111111111111,
              "#46039f"
             ],
             [
              0.2222222222222222,
              "#7201a8"
             ],
             [
              0.3333333333333333,
              "#9c179e"
             ],
             [
              0.4444444444444444,
              "#bd3786"
             ],
             [
              0.5555555555555556,
              "#d8576b"
             ],
             [
              0.6666666666666666,
              "#ed7953"
             ],
             [
              0.7777777777777778,
              "#fb9f3a"
             ],
             [
              0.8888888888888888,
              "#fdca26"
             ],
             [
              1,
              "#f0f921"
             ]
            ],
            "type": "histogram2d"
           }
          ],
          "histogram2dcontour": [
           {
            "colorbar": {
             "outlinewidth": 0,
             "ticks": ""
            },
            "colorscale": [
             [
              0,
              "#0d0887"
             ],
             [
              0.1111111111111111,
              "#46039f"
             ],
             [
              0.2222222222222222,
              "#7201a8"
             ],
             [
              0.3333333333333333,
              "#9c179e"
             ],
             [
              0.4444444444444444,
              "#bd3786"
             ],
             [
              0.5555555555555556,
              "#d8576b"
             ],
             [
              0.6666666666666666,
              "#ed7953"
             ],
             [
              0.7777777777777778,
              "#fb9f3a"
             ],
             [
              0.8888888888888888,
              "#fdca26"
             ],
             [
              1,
              "#f0f921"
             ]
            ],
            "type": "histogram2dcontour"
           }
          ],
          "mesh3d": [
           {
            "colorbar": {
             "outlinewidth": 0,
             "ticks": ""
            },
            "type": "mesh3d"
           }
          ],
          "parcoords": [
           {
            "line": {
             "colorbar": {
              "outlinewidth": 0,
              "ticks": ""
             }
            },
            "type": "parcoords"
           }
          ],
          "pie": [
           {
            "automargin": true,
            "type": "pie"
           }
          ],
          "scatter": [
           {
            "fillpattern": {
             "fillmode": "overlay",
             "size": 10,
             "solidity": 0.2
            },
            "type": "scatter"
           }
          ],
          "scatter3d": [
           {
            "line": {
             "colorbar": {
              "outlinewidth": 0,
              "ticks": ""
             }
            },
            "marker": {
             "colorbar": {
              "outlinewidth": 0,
              "ticks": ""
             }
            },
            "type": "scatter3d"
           }
          ],
          "scattercarpet": [
           {
            "marker": {
             "colorbar": {
              "outlinewidth": 0,
              "ticks": ""
             }
            },
            "type": "scattercarpet"
           }
          ],
          "scattergeo": [
           {
            "marker": {
             "colorbar": {
              "outlinewidth": 0,
              "ticks": ""
             }
            },
            "type": "scattergeo"
           }
          ],
          "scattergl": [
           {
            "marker": {
             "colorbar": {
              "outlinewidth": 0,
              "ticks": ""
             }
            },
            "type": "scattergl"
           }
          ],
          "scattermap": [
           {
            "marker": {
             "colorbar": {
              "outlinewidth": 0,
              "ticks": ""
             }
            },
            "type": "scattermap"
           }
          ],
          "scattermapbox": [
           {
            "marker": {
             "colorbar": {
              "outlinewidth": 0,
              "ticks": ""
             }
            },
            "type": "scattermapbox"
           }
          ],
          "scatterpolar": [
           {
            "marker": {
             "colorbar": {
              "outlinewidth": 0,
              "ticks": ""
             }
            },
            "type": "scatterpolar"
           }
          ],
          "scatterpolargl": [
           {
            "marker": {
             "colorbar": {
              "outlinewidth": 0,
              "ticks": ""
             }
            },
            "type": "scatterpolargl"
           }
          ],
          "scatterternary": [
           {
            "marker": {
             "colorbar": {
              "outlinewidth": 0,
              "ticks": ""
             }
            },
            "type": "scatterternary"
           }
          ],
          "surface": [
           {
            "colorbar": {
             "outlinewidth": 0,
             "ticks": ""
            },
            "colorscale": [
             [
              0,
              "#0d0887"
             ],
             [
              0.1111111111111111,
              "#46039f"
             ],
             [
              0.2222222222222222,
              "#7201a8"
             ],
             [
              0.3333333333333333,
              "#9c179e"
             ],
             [
              0.4444444444444444,
              "#bd3786"
             ],
             [
              0.5555555555555556,
              "#d8576b"
             ],
             [
              0.6666666666666666,
              "#ed7953"
             ],
             [
              0.7777777777777778,
              "#fb9f3a"
             ],
             [
              0.8888888888888888,
              "#fdca26"
             ],
             [
              1,
              "#f0f921"
             ]
            ],
            "type": "surface"
           }
          ],
          "table": [
           {
            "cells": {
             "fill": {
              "color": "#EBF0F8"
             },
             "line": {
              "color": "white"
             }
            },
            "header": {
             "fill": {
              "color": "#C8D4E3"
             },
             "line": {
              "color": "white"
             }
            },
            "type": "table"
           }
          ]
         },
         "layout": {
          "annotationdefaults": {
           "arrowcolor": "#2a3f5f",
           "arrowhead": 0,
           "arrowwidth": 1
          },
          "autotypenumbers": "strict",
          "coloraxis": {
           "colorbar": {
            "outlinewidth": 0,
            "ticks": ""
           }
          },
          "colorscale": {
           "diverging": [
            [
             0,
             "#8e0152"
            ],
            [
             0.1,
             "#c51b7d"
            ],
            [
             0.2,
             "#de77ae"
            ],
            [
             0.3,
             "#f1b6da"
            ],
            [
             0.4,
             "#fde0ef"
            ],
            [
             0.5,
             "#f7f7f7"
            ],
            [
             0.6,
             "#e6f5d0"
            ],
            [
             0.7,
             "#b8e186"
            ],
            [
             0.8,
             "#7fbc41"
            ],
            [
             0.9,
             "#4d9221"
            ],
            [
             1,
             "#276419"
            ]
           ],
           "sequential": [
            [
             0,
             "#0d0887"
            ],
            [
             0.1111111111111111,
             "#46039f"
            ],
            [
             0.2222222222222222,
             "#7201a8"
            ],
            [
             0.3333333333333333,
             "#9c179e"
            ],
            [
             0.4444444444444444,
             "#bd3786"
            ],
            [
             0.5555555555555556,
             "#d8576b"
            ],
            [
             0.6666666666666666,
             "#ed7953"
            ],
            [
             0.7777777777777778,
             "#fb9f3a"
            ],
            [
             0.8888888888888888,
             "#fdca26"
            ],
            [
             1,
             "#f0f921"
            ]
           ],
           "sequentialminus": [
            [
             0,
             "#0d0887"
            ],
            [
             0.1111111111111111,
             "#46039f"
            ],
            [
             0.2222222222222222,
             "#7201a8"
            ],
            [
             0.3333333333333333,
             "#9c179e"
            ],
            [
             0.4444444444444444,
             "#bd3786"
            ],
            [
             0.5555555555555556,
             "#d8576b"
            ],
            [
             0.6666666666666666,
             "#ed7953"
            ],
            [
             0.7777777777777778,
             "#fb9f3a"
            ],
            [
             0.8888888888888888,
             "#fdca26"
            ],
            [
             1,
             "#f0f921"
            ]
           ]
          },
          "colorway": [
           "#636efa",
           "#EF553B",
           "#00cc96",
           "#ab63fa",
           "#FFA15A",
           "#19d3f3",
           "#FF6692",
           "#B6E880",
           "#FF97FF",
           "#FECB52"
          ],
          "font": {
           "color": "#2a3f5f"
          },
          "geo": {
           "bgcolor": "white",
           "lakecolor": "white",
           "landcolor": "#E5ECF6",
           "showlakes": true,
           "showland": true,
           "subunitcolor": "white"
          },
          "hoverlabel": {
           "align": "left"
          },
          "hovermode": "closest",
          "mapbox": {
           "style": "light"
          },
          "paper_bgcolor": "white",
          "plot_bgcolor": "#E5ECF6",
          "polar": {
           "angularaxis": {
            "gridcolor": "white",
            "linecolor": "white",
            "ticks": ""
           },
           "bgcolor": "#E5ECF6",
           "radialaxis": {
            "gridcolor": "white",
            "linecolor": "white",
            "ticks": ""
           }
          },
          "scene": {
           "xaxis": {
            "backgroundcolor": "#E5ECF6",
            "gridcolor": "white",
            "gridwidth": 2,
            "linecolor": "white",
            "showbackground": true,
            "ticks": "",
            "zerolinecolor": "white"
           },
           "yaxis": {
            "backgroundcolor": "#E5ECF6",
            "gridcolor": "white",
            "gridwidth": 2,
            "linecolor": "white",
            "showbackground": true,
            "ticks": "",
            "zerolinecolor": "white"
           },
           "zaxis": {
            "backgroundcolor": "#E5ECF6",
            "gridcolor": "white",
            "gridwidth": 2,
            "linecolor": "white",
            "showbackground": true,
            "ticks": "",
            "zerolinecolor": "white"
           }
          },
          "shapedefaults": {
           "line": {
            "color": "#2a3f5f"
           }
          },
          "ternary": {
           "aaxis": {
            "gridcolor": "white",
            "linecolor": "white",
            "ticks": ""
           },
           "baxis": {
            "gridcolor": "white",
            "linecolor": "white",
            "ticks": ""
           },
           "bgcolor": "#E5ECF6",
           "caxis": {
            "gridcolor": "white",
            "linecolor": "white",
            "ticks": ""
           }
          },
          "title": {
           "x": 0.05
          },
          "xaxis": {
           "automargin": true,
           "gridcolor": "white",
           "linecolor": "white",
           "ticks": "",
           "title": {
            "standoff": 15
           },
           "zerolinecolor": "white",
           "zerolinewidth": 2
          },
          "yaxis": {
           "automargin": true,
           "gridcolor": "white",
           "linecolor": "white",
           "ticks": "",
           "title": {
            "standoff": 15
           },
           "zerolinecolor": "white",
           "zerolinewidth": 2
          }
         }
        },
        "title": {
         "text": "Is Vector Cost: 1, Metric: <function bounds_test at 0x7c8559d0cb80>, Scenario: far_tail - full<br>Volume: 0.982<br><sub>far_tail_full.json</sub>"
        },
        "width": 800
       }
      }
     },
     "metadata": {},
     "output_type": "display_data"
    },
    {
     "name": "stdout",
     "output_type": "stream",
     "text": [
      "Showing plot 2/3\n"
     ]
    },
    {
     "data": {
      "application/vnd.plotly.v1+json": {
       "config": {
        "plotlyServerURL": "https://plot.ly"
       },
       "data": [
        {
         "hoverinfo": "text",
         "marker": {
          "color": [
           "blue",
           "blue",
           "blue",
           "blue",
           "blue",
           "blue",
           "blue",
           "blue",
           "blue",
           "blue",
           "blue",
           "blue",
           "blue",
           "blue",
           "blue",
           "blue",
           "blue",
           "blue",
           "blue",
           "blue",
           "blue",
           "blue",
           "blue",
           "blue",
           "blue",
           "blue",
           "blue",
           "blue",
           "blue",
           "blue",
           "blue",
           "blue",
           "blue",
           "blue",
           "blue",
           "blue",
           "blue",
           "blue",
           "blue",
           "blue",
           "blue",
           "blue",
           "blue",
           "blue",
           "blue",
           "blue",
           "blue",
           "blue",
           "blue",
           "blue",
           "blue",
           "blue",
           "blue",
           "blue",
           "blue",
           "blue",
           "blue",
           "blue",
           "blue",
           "blue",
           "blue",
           "blue",
           "blue",
           "blue",
           "blue",
           "blue",
           "blue",
           "blue",
           "blue",
           "blue",
           "blue",
           "blue",
           "blue",
           "blue",
           "blue",
           "blue",
           "blue",
           "blue",
           "blue",
           "blue",
           "blue",
           "blue",
           "blue",
           "blue",
           "blue",
           "blue",
           "blue",
           "blue",
           "blue",
           "blue",
           "blue",
           "blue",
           "blue",
           "blue",
           "blue",
           "blue",
           "blue",
           "blue",
           "blue",
           "blue",
           "blue",
           "blue",
           "blue",
           "blue",
           "blue",
           "blue",
           "blue",
           "blue",
           "blue",
           "blue",
           "blue",
           "blue",
           "blue",
           "blue",
           "blue",
           "blue",
           "blue",
           "blue",
           "blue",
           "blue",
           "blue",
           "blue",
           "blue",
           "blue",
           "blue",
           "blue",
           "blue",
           "blue",
           "blue",
           "blue",
           "blue",
           "blue",
           "blue",
           "blue",
           "blue",
           "blue",
           "blue",
           "blue",
           "blue",
           "blue",
           "blue",
           "blue",
           "blue",
           "blue",
           "blue",
           "blue",
           "blue",
           "blue",
           "blue",
           "blue",
           "blue",
           "blue",
           "blue",
           "blue",
           "blue",
           "blue",
           "blue",
           "blue",
           "blue",
           "blue",
           "blue",
           "blue",
           "blue",
           "blue",
           "blue",
           "blue",
           "blue",
           "blue",
           "blue",
           "blue",
           "blue",
           "blue",
           "blue",
           "blue",
           "blue",
           "blue",
           "blue",
           "blue",
           "blue",
           "blue",
           "blue",
           "blue",
           "blue",
           "blue",
           "blue",
           "blue",
           "blue",
           "blue",
           "blue",
           "blue",
           "blue",
           "blue",
           "blue",
           "blue",
           "blue",
           "blue",
           "blue",
           "blue",
           "blue",
           "blue",
           "blue",
           "blue",
           "blue",
           "blue",
           "blue",
           "blue",
           "blue",
           "blue",
           "blue",
           "blue",
           "blue",
           "blue",
           "blue",
           "blue",
           "blue",
           "blue",
           "blue",
           "blue",
           "blue",
           "blue",
           "blue",
           "blue",
           "blue",
           "blue",
           "blue",
           "blue",
           "blue",
           "blue",
           "blue",
           "blue",
           "blue",
           "blue",
           "blue",
           "blue",
           "blue",
           "blue",
           "blue",
           "blue",
           "blue",
           "blue",
           "blue",
           "blue",
           "blue",
           "blue",
           "blue",
           "blue",
           "blue",
           "blue",
           "blue",
           "blue"
          ],
          "line": {
           "color": "black",
           "width": 1
          },
          "size": 8
         },
         "mode": "markers",
         "text": [
          "Boundary 0<br>(0.215, 0.684, 0.515)",
          "Boundary 1<br>(0.179, 0.623, 0.517)",
          "Boundary 2<br>(0.250, 0.744, 0.513)",
          "Boundary 3<br>(0.215, 0.686, 0.585)",
          "Boundary 4<br>(0.214, 0.682, 0.445)",
          "Boundary 5<br>(0.197, 0.556, 0.518)",
          "Boundary 6<br>(0.180, 0.625, 0.587)",
          "Boundary 7<br>(0.179, 0.622, 0.447)",
          "Boundary 8<br>(0.232, 0.812, 0.511)",
          "Boundary 9<br>(0.208, 0.771, 0.562)",
          "Boundary 10<br>(0.207, 0.768, 0.463)",
          "Boundary 11<br>(0.216, 0.688, 0.655)",
          "Boundary 12<br>(0.214, 0.680, 0.375)",
          "Boundary 13<br>(0.162, 0.496, 0.524)",
          "Boundary 14<br>(0.149, 0.549, 0.568)",
          "Boundary 15<br>(0.150, 0.538, 0.470)",
          "Boundary 16<br>(0.180, 0.627, 0.657)",
          "Boundary 17<br>(0.178, 0.620, 0.377)",
          "Boundary 18<br>(0.268, 0.872, 0.505)",
          "Boundary 19<br>(0.231, 0.819, 0.581)",
          "Boundary 20<br>(0.203, 0.723, 0.613)",
          "Boundary 21<br>(0.218, 0.781, 0.395)",
          "Boundary 22<br>(0.202, 0.716, 0.416)",
          "Boundary 23<br>(0.251, 0.748, 0.653)",
          "Boundary 24<br>(0.216, 0.690, 0.725)",
          "Boundary 25<br>(0.213, 0.678, 0.305)",
          "Boundary 26<br>(0.127, 0.438, 0.542)",
          "Boundary 27<br>(0.157, 0.479, 0.457)",
          "Boundary 28<br>(0.169, 0.522, 0.630)",
          "Boundary 29<br>(0.196, 0.566, 0.617)",
          "Boundary 30<br>(0.149, 0.555, 0.402)",
          "Boundary 31<br>(0.198, 0.560, 0.658)",
          "Boundary 32<br>(0.181, 0.629, 0.727)",
          "Boundary 33<br>(0.178, 0.618, 0.307)",
          "Boundary 34<br>(0.303, 0.930, 0.488)",
          "Boundary 35<br>(0.273, 0.889, 0.573)",
          "Boundary 36<br>(0.263, 0.855, 0.437)",
          "Boundary 37<br>(0.267, 0.880, 0.575)",
          "Boundary 38<br>(0.230, 0.827, 0.650)",
          "Boundary 39<br>(0.236, 0.779, 0.640)",
          "Boundary 40<br>(0.220, 0.785, 0.325)",
          "Boundary 41<br>(0.233, 0.816, 0.651)",
          "Boundary 42<br>(0.209, 0.774, 0.702)",
          "Boundary 43<br>(0.217, 0.691, 0.795)",
          "Boundary 44<br>(0.249, 0.738, 0.303)",
          "Boundary 45<br>(0.213, 0.676, 0.235)",
          "Boundary 46<br>(0.145, 0.372, 0.557)",
          "Boundary 47<br>(0.066, 0.473, 0.537)",
          "Boundary 48<br>(0.066, 0.473, 0.537)",
          "Boundary 49<br>(0.122, 0.420, 0.474)",
          "Boundary 50<br>(0.152, 0.461, 0.389)",
          "Boundary 51<br>(0.174, 0.454, 0.613)",
          "Boundary 52<br>(0.165, 0.590, 0.646)",
          "Boundary 53<br>(0.142, 0.473, 0.672)",
          "Boundary 54<br>(0.163, 0.499, 0.664)",
          "Boundary 55<br>(0.150, 0.552, 0.708)",
          "Boundary 56<br>(0.182, 0.631, 0.797)",
          "Boundary 57<br>(0.196, 0.550, 0.309)",
          "Boundary 58<br>(0.177, 0.616, 0.237)",
          "Boundary 59<br>(0.285, 0.996, 0.473)",
          "Boundary 60<br>(0.264, 0.967, 0.533)",
          "Boundary 61<br>(0.257, 0.943, 0.437)",
          "Boundary 62<br>(0.277, 0.906, 0.641)",
          "Boundary 63<br>(0.258, 0.838, 0.370)",
          "Boundary 64<br>(0.266, 0.887, 0.644)",
          "Boundary 65<br>(0.230, 0.835, 0.720)",
          "Boundary 66<br>(0.219, 0.715, 0.321)",
          "Boundary 67<br>(0.222, 0.789, 0.255)",
          "Boundary 68<br>(0.204, 0.727, 0.753)",
          "Boundary 69<br>(0.252, 0.752, 0.793)",
          "Boundary 70<br>(0.217, 0.693, 0.865)",
          "Boundary 71<br>(0.231, 0.806, 0.301)",
          "Boundary 72<br>(0.206, 0.762, 0.253)",
          "Boundary 73<br>(0.212, 0.674, 0.165)",
          "Boundary 74<br>(0.108, 0.334, 0.604)",
          "Boundary 75<br>(0.103, 0.319, 0.536)",
          "Boundary 76<br>(0.071, 0.490, 0.605)",
          "Boundary 77<br>(0.140, 0.355, 0.489)",
          "Boundary 78<br>(0.062, 0.455, 0.469)",
          "Boundary 79<br>(0.117, 0.403, 0.406)",
          "Boundary 80<br>(0.188, 0.520, 0.372)",
          "Boundary 81<br>(0.148, 0.444, 0.321)",
          "Boundary 82<br>(0.129, 0.400, 0.618)",
          "Boundary 83<br>(0.116, 0.424, 0.714)",
          "Boundary 84<br>(0.180, 0.499, 0.725)",
          "Boundary 85<br>(0.197, 0.570, 0.757)",
          "Boundary 86<br>(0.199, 0.563, 0.798)",
          "Boundary 87<br>(0.182, 0.633, 0.867)",
          "Boundary 88<br>(0.160, 0.490, 0.315)",
          "Boundary 89<br>(0.148, 0.532, 0.260)",
          "Boundary 90<br>(0.177, 0.614, 0.167)",
          "Boundary 91<br>(0.260, 0.939, 0.597)",
          "Boundary 92<br>(0.259, 0.935, 0.367)",
          "Boundary 93<br>(0.253, 0.879, 0.409)",
          "Boundary 94<br>(0.312, 0.964, 0.623)",
          "Boundary 95<br>(0.282, 0.923, 0.708)",
          "Boundary 96<br>(0.265, 0.895, 0.714)",
          "Boundary 97<br>(0.229, 0.842, 0.790)",
          "Boundary 98<br>(0.272, 0.837, 0.259)",
          "Boundary 99<br>(0.223, 0.792, 0.186)",
          "Boundary 100<br>(0.237, 0.782, 0.780)",
          "Boundary 101<br>(0.235, 0.819, 0.791)",
          "Boundary 102<br>(0.210, 0.778, 0.842)",
          "Boundary 103<br>(0.218, 0.695, 0.935)",
          "Boundary 104<br>(0.266, 0.866, 0.295)",
          "Boundary 105<br>(0.201, 0.710, 0.206)",
          "Boundary 106<br>(0.248, 0.735, 0.163)",
          "Boundary 107<br>(0.212, 0.672, 0.095)",
          "Boundary 108<br>(0.126, 0.292, 0.656)",
          "Boundary 109<br>(0.121, 0.311, 0.468)",
          "Boundary 110<br>(0.049, 0.349, 0.569)",
          "Boundary 111<br>(0.036, 0.429, 0.607)",
          "Boundary 112<br>(0.072, 0.451, 0.663)",
          "Boundary 113<br>(0.066, 0.473, 0.537)",
          "Boundary 114<br>(0.135, 0.337, 0.422)",
          "Boundary 115<br>(0.057, 0.438, 0.401)",
          "Boundary 116<br>(0.170, 0.585, 0.357)",
          "Boundary 117<br>(0.113, 0.386, 0.338)",
          "Boundary 118<br>(0.143, 0.427, 0.254)",
          "Boundary 119<br>(0.125, 0.406, 0.782)",
          "Boundary 120<br>(0.127, 0.376, 0.664)",
          "Boundary 121<br>(0.052, 0.435, 0.689)",
          "Boundary 122<br>(0.162, 0.455, 0.777)",
          "Boundary 123<br>(0.164, 0.503, 0.804)",
          "Boundary 124<br>(0.151, 0.556, 0.848)",
          "Boundary 125<br>(0.183, 0.635, 0.937)",
          "Boundary 126<br>(0.147, 0.549, 0.192)",
          "Boundary 127<br>(0.176, 0.612, 0.097)",
          "Boundary 128<br>(0.301, 0.955, 0.651)",
          "Boundary 129<br>(0.287, 0.940, 0.776)",
          "Boundary 130<br>(0.264, 0.902, 0.783)",
          "Boundary 131<br>(0.228, 0.850, 0.859)",
          "Boundary 132<br>(0.273, 0.907, 0.263)",
          "Boundary 133<br>(0.239, 0.875, 0.211)",
          "Boundary 134<br>(0.225, 0.796, 0.116)",
          "Boundary 135<br>(0.205, 0.730, 0.893)",
          "Boundary 136<br>(0.253, 0.756, 0.933)",
          "Boundary 137<br>(0.230, 0.802, 0.161)",
          "Boundary 138<br>(0.205, 0.758, 0.113)",
          "Boundary 139<br>(0.211, 0.671, 0.025)",
          "Boundary 140<br>(0.095, 0.232, 0.676)",
          "Boundary 141<br>(0.122, 0.316, 0.722)",
          "Boundary 142<br>(0.082, 0.259, 0.613)",
          "Boundary 143<br>(0.101, 0.255, 0.432)",
          "Boundary 144<br>(0.048, 0.348, 0.639)",
          "Boundary 145<br>(0.050, 0.349, 0.499)",
          "Boundary 146<br>(0.055, 0.362, 0.617)",
          "Boundary 147<br>(0.032, 0.412, 0.540)",
          "Boundary 148<br>(0.094, 0.285, 0.400)",
          "Boundary 149<br>(0.062, 0.455, 0.469)",
          "Boundary 150<br>(0.131, 0.320, 0.354)",
          "Boundary 151<br>(0.052, 0.421, 0.334)",
          "Boundary 152<br>(0.108, 0.369, 0.271)",
          "Boundary 153<br>(0.178, 0.485, 0.237)",
          "Boundary 154<br>(0.138, 0.410, 0.186)",
          "Boundary 155<br>(0.131, 0.339, 0.764)",
          "Boundary 156<br>(0.056, 0.399, 0.788)",
          "Boundary 157<br>(0.099, 0.357, 0.824)",
          "Boundary 158<br>(0.026, 0.372, 0.675)",
          "Boundary 159<br>(0.025, 0.422, 0.626)",
          "Boundary 160<br>(0.171, 0.529, 0.909)",
          "Boundary 161<br>(0.198, 0.574, 0.897)",
          "Boundary 162<br>(0.200, 0.567, 0.938)",
          "Boundary 163<br>(0.078, 0.556, 0.195)",
          "Boundary 164<br>(0.194, 0.544, 0.099)",
          "Boundary 165<br>(0.176, 0.610, 0.027)",
          "Boundary 166<br>(0.292, 0.959, 0.720)",
          "Boundary 167<br>(0.291, 0.957, 0.844)",
          "Boundary 168<br>(0.263, 0.910, 0.853)",
          "Boundary 169<br>(0.275, 0.868, 0.908)",
          "Boundary 170<br>(0.275, 0.976, 0.254)",
          "Boundary 171<br>(0.241, 0.879, 0.141)",
          "Boundary 172<br>(0.227, 0.800, 0.046)",
          "Boundary 173<br>(0.238, 0.786, 0.920)",
          "Boundary 174<br>(0.236, 0.823, 0.931)",
          "Boundary 175<br>(0.200, 0.707, 0.066)",
          "Boundary 176<br>(0.247, 0.731, 0.023)",
          "Boundary 177<br>(0.032, 0.260, 0.662)",
          "Boundary 178<br>(0.032, 0.260, 0.662)",
          "Boundary 179<br>(0.091, 0.256, 0.742)",
          "Boundary 180<br>(0.043, 0.288, 0.412)",
          "Boundary 181<br>(0.052, 0.350, 0.429)",
          "Boundary 182<br>(0.111, 0.277, 0.333)",
          "Boundary 183<br>(0.040, 0.314, 0.434)",
          "Boundary 184<br>(0.057, 0.438, 0.401)",
          "Boundary 185<br>(0.126, 0.303, 0.286)",
          "Boundary 186<br>(0.048, 0.404, 0.266)",
          "Boundary 187<br>(0.160, 0.551, 0.221)",
          "Boundary 188<br>(0.173, 0.468, 0.169)",
          "Boundary 189<br>(0.103, 0.352, 0.203)",
          "Boundary 190<br>(0.134, 0.393, 0.118)",
          "Boundary 191<br>(0.107, 0.341, 0.891)",
          "Boundary 192<br>(0.176, 0.461, 0.893)",
          "Boundary 193<br>(0.167, 0.597, 0.926)",
          "Boundary 194<br>(0.144, 0.481, 0.952)",
          "Boundary 195<br>(0.165, 0.507, 0.944)",
          "Boundary 196<br>(0.085, 0.607, 0.242)",
          "Boundary 197<br>(0.085, 0.607, 0.242)",
          "Boundary 198<br>(0.071, 0.504, 0.147)",
          "Boundary 199<br>(0.159, 0.484, 0.105)",
          "Boundary 200<br>(0.147, 0.526, 0.050)",
          "Boundary 201<br>(0.296, 0.975, 0.911)",
          "Boundary 202<br>(0.268, 0.927, 0.921)",
          "Boundary 203<br>(0.276, 0.851, 0.976)",
          "Boundary 204<br>(0.274, 0.986, 0.323)",
          "Boundary 205<br>(0.276, 0.967, 0.184)",
          "Boundary 206<br>(0.291, 0.928, 0.145)",
          "Boundary 207<br>(0.242, 0.883, 0.071)",
          "Boundary 208<br>(0.225, 0.730, 0.042)",
          "Boundary 209<br>(0.239, 0.789, 0.990)",
          "Boundary 210<br>(0.271, 0.883, 0.925)",
          "Boundary 211<br>(0.230, 0.760, 0.032)",
          "Boundary 212<br>(0.229, 0.799, 0.021)",
          "Boundary 213<br>(0.028, 0.284, 0.728)",
          "Boundary 214<br>(0.030, 0.311, 0.477)",
          "Boundary 215<br>(0.053, 0.351, 0.359)",
          "Boundary 216<br>(0.092, 0.221, 0.296)",
          "Boundary 217<br>(0.084, 0.251, 0.265)",
          "Boundary 218<br>(0.052, 0.421, 0.334)",
          "Boundary 219<br>(0.156, 0.534, 0.153)",
          "Boundary 220<br>(0.121, 0.286, 0.218)",
          "Boundary 221<br>(0.043, 0.387, 0.198)",
          "Boundary 222<br>(0.099, 0.335, 0.135)",
          "Boundary 223<br>(0.129, 0.376, 0.050)",
          "Boundary 224<br>(0.113, 0.273, 0.874)",
          "Boundary 225<br>(0.038, 0.333, 0.897)",
          "Boundary 226<br>(0.081, 0.291, 0.934)",
          "Boundary 227<br>(0.131, 0.408, 0.898)",
          "Boundary 228<br>(0.173, 0.599, 0.996)",
          "Boundary 229<br>(0.119, 0.431, 0.994)",
          "Boundary 230<br>(0.074, 0.674, 0.226)",
          "Boundary 231<br>(0.053, 0.616, 0.304)",
          "Boundary 232<br>(0.071, 0.626, 0.176)",
          "Boundary 233<br>(0.060, 0.439, 0.169)",
          "Boundary 234<br>(0.076, 0.519, 0.079)",
          "Boundary 235<br>(0.154, 0.467, 0.037)",
          "Boundary 236<br>(0.272, 0.944, 0.988)",
          "Boundary 237<br>(0.272, 0.996, 0.392)",
          "Boundary 238<br>(0.293, 0.998, 0.149)",
          "Boundary 239<br>(0.258, 0.966, 0.097)",
          "Boundary 240<br>(0.244, 0.887, 0.001)",
          "Boundary 241<br>(0.203, 0.729, 0.992)",
          "Boundary 242<br>(0.054, 0.352, 0.289)",
          "Boundary 243<br>(0.033, 0.253, 0.277)",
          "Boundary 244<br>(0.102, 0.243, 0.197)",
          "Boundary 245<br>(0.099, 0.187, 0.240)",
          "Boundary 246<br>(0.117, 0.269, 0.151)",
          "Boundary 247<br>(0.094, 0.318, 0.068)",
          "Boundary 248<br>(0.105, 0.289, 0.807)",
          "Boundary 249<br>(0.068, 0.220, 0.866)"
         ],
         "type": "scatter3d",
         "x": [
          0.21480647657217006,
          0.17944663634260205,
          0.25016631680173806,
          0.2153217384586864,
          0.2142912146856537,
          0.1971600557176389,
          0.1799618982291184,
          0.1789313744560857,
          0.2324528974267012,
          0.20781405979274348,
          0.20708536944465814,
          0.21583700034520273,
          0.21377595279913736,
          0.16178637263954937,
          0.14858260217433986,
          0.14996727088562245,
          0.18047716011563472,
          0.17841611256956935,
          0.2678265805047905,
          0.23147378879125644,
          0.20303310171413852,
          0.21840305216059022,
          0.20230441136605318,
          0.25119684057477065,
          0.21635226223171908,
          0.213260690912621,
          0.12670997317004903,
          0.15710638241678668,
          0.16930721189655365,
          0.19577538700635633,
          0.14903737463671027,
          0.19819057949067156,
          0.18099242200215107,
          0.177900850683053,
          0.30290297997429066,
          0.27250657072755313,
          0.2631465902820279,
          0.2668474718693459,
          0.2304946801558117,
          0.23571652907472063,
          0.2200373811113146,
          0.23348342119973373,
          0.20884458356577598,
          0.21686752411823543,
          0.2486205311421889,
          0.21274542902610466,
          0.14461402705653392,
          0.066313417872823,
          0.06631341787282298,
          0.12202998294728634,
          0.15242639219402399,
          0.17369924673944112,
          0.16491517705366618,
          0.1420046994588741,
          0.16281689641258207,
          0.14961312594737253,
          0.18150768388866742,
          0.1956142700580899,
          0.17738558879653665,
          0.28499892608780547,
          0.2635054189857159,
          0.25688691334091157,
          0.27718656095031574,
          0.2584666000592653,
          0.265868363233901,
          0.229515571520367,
          0.21876688985520026,
          0.221671710062039,
          0.20406362548717108,
          0.25222736434780335,
          0.21738278600475175,
          0.23090711176715192,
          0.20553958378510892,
          0.2122301671395883,
          0.1083972915324703,
          0.10308434228471769,
          0.07099340809558566,
          0.13993403683377129,
          0.061633427650060316,
          0.11734999272452368,
          0.1875027916635243,
          0.14774640197126127,
          0.1289372912019236,
          0.11647576794168468,
          0.1797787325411834,
          0.19680591077938903,
          0.19922110326370424,
          0.18202294577518374,
          0.1602405869800005,
          0.1484214852260734,
          0.1768703269100203,
          0.2598440326888921,
          0.2586602084204651,
          0.25322552704408785,
          0.31226296041981594,
          0.28186655117307835,
          0.26488925459845625,
          0.2285364628849223,
          0.27204590957061137,
          0.22330603901276339,
          0.23674705284775333,
          0.23451394497276631,
          0.20987510733880874,
          0.2178980478912681,
          0.26628079484524114,
          0.200758625706504,
          0.2475900073691562,
          0.211714905253072,
          0.12597642610451293,
          0.12066347685676036,
          0.049141072289807505,
          0.03634951782115796,
          0.07211999378214402,
          0.06631341787282304,
          0.1352540466110086,
          0.05695343742729762,
          0.16959873777703932,
          0.11267000250176099,
          0.14306641174849852,
          0.12513436229469893,
          0.1273247533744352,
          0.05220623261840243,
          0.1622283391738263,
          0.16384742018561482,
          0.15064364972040525,
          0.1825382076617001,
          0.1474915889771612,
          0.17635506502350395,
          0.3012359750735958,
          0.28654654139584096,
          0.2639101459630116,
          0.2275573542494776,
          0.2733164008267257,
          0.23885210784111688,
          0.2249403679634878,
          0.2050941492602039,
          0.25325788812083605,
          0.22987658799411922,
          0.20450906001207622,
          0.21119964336655564,
          0.09493522999458909,
          0.12193193201951828,
          0.08201042131910093,
          0.10125864188249226,
          0.04787345635848879,
          0.05040868822112622,
          0.05482241787413257,
          0.03166952759839533,
          0.0937243618391925,
          0.06163342765006032,
          0.130574056388246,
          0.05227344720453491,
          0.10799001227899827,
          0.17814281121799877,
          0.13838642152573577,
          0.13113552589606817,
          0.05583023409383098,
          0.09900211226707148,
          0.026073982590774925,
          0.02454401939356926,
          0.1713682594426195,
          0.19783643455242184,
          0.20025162703673702,
          0.0778627991017666,
          0.19406848439854088,
          0.1758398031369876,
          0.29161452555804535,
          0.29122653161860357,
          0.2629310373275668,
          0.27475013908149404,
          0.27487820560952014,
          0.24069242656200893,
          0.22657469691421217,
          0.23777757662078627,
          0.23554446874579912,
          0.1997281019334713,
          0.2465594835961235,
          0.032324638145751705,
          0.03232463814575176,
          0.09089073590959432,
          0.0425504724289793,
          0.05167630415244494,
          0.11130349641123505,
          0.0397810918442822,
          0.05695343742729765,
          0.12589406616548326,
          0.04759345698177218,
          0.16023875733151371,
          0.17346282099523602,
          0.10331002205623556,
          0.13370643130297302,
          0.10689547959405846,
          0.17576029428550732,
          0.16697622459973166,
          0.1440657470049407,
          0.16487794395864752,
          0.0845716049254627,
          0.08457160492546272,
          0.0711539932780705,
          0.15869480132045166,
          0.14687569956652446,
          0.2959065218413662,
          0.26761102755032923,
          0.2756800353304062,
          0.27351955003452216,
          0.2762368611845181,
          0.29126393108649995,
          0.24234300905738188,
          0.2253042056580978,
          0.2385217803559219,
          0.27091815182388834,
          0.2295269787030777,
          0.22884606422108633,
          0.02828014406075703,
          0.030354112045320056,
          0.052943920083763654,
          0.09189866143696646,
          0.08436438139366717,
          0.052273447204534904,
          0.15555876710875102,
          0.12121407594272063,
          0.04291346675900944,
          0.09863003183347281,
          0.12902644108021025,
          0.11300825250973504,
          0.037604184661257145,
          0.08084474067252023,
          0.1309983387479902,
          0.17298467902869963,
          0.11853681548775227,
          0.07362315909775648,
          0.05303225158585815,
          0.07063626747379059,
          0.06007344672544952,
          0.07558349592134563,
          0.15401481109768916,
          0.27229101777309167,
          0.2721608944595244,
          0.2928195948206731,
          0.2582272791119854,
          0.24399359155275488,
          0.2028760639047887,
          0.05421153601508237,
          0.03319049198345322,
          0.1019435159657097,
          0.09858811631716984,
          0.11653408571995794,
          0.09395004161070997,
          0.10518256576211434,
          0.06834059563099892
         ],
         "y": [
          0.6838127049999773,
          0.6234299925512725,
          0.744195417448682,
          0.6857126355977762,
          0.6819127744021783,
          0.5557297843043555,
          0.6253299231490714,
          0.6215300619534736,
          0.811895625695599,
          0.7705420540661699,
          0.767855146447195,
          0.6876125661955751,
          0.6800128438043794,
          0.49563051261571855,
          0.5485906727731912,
          0.537846023616383,
          0.6272298537468703,
          0.6196301313556747,
          0.8719948973842361,
          0.8194932399758481,
          0.7228355828674993,
          0.7809695751284004,
          0.7161310637760154,
          0.74799527864428,
          0.689512496793374,
          0.6781129132065805,
          0.43751462942761893,
          0.4785369371698618,
          0.5216547878097507,
          0.5664744334611636,
          0.5546510577907457,
          0.5595296454999533,
          0.6291297843446693,
          0.6177302007578758,
          0.9301107805723359,
          0.8890884728300926,
          0.8549013219383795,
          0.8795925116644852,
          0.827090854256097,
          0.7786289799037276,
          0.7848126295847334,
          0.8156954868911969,
          0.7743419152617677,
          0.6914124273911729,
          0.7384956256552854,
          0.6762129826087816,
          0.3716177344061765,
          0.47259102889711924,
          0.47259102889711924,
          0.42042105398176216,
          0.46144336172400496,
          0.4538026270329543,
          0.5895069485865471,
          0.47332310412117623,
          0.4994303738113164,
          0.5523905339687889,
          0.6310297149424682,
          0.5500299925109587,
          0.6158302701600769,
          0.9960076755937783,
          0.9670005236093167,
          0.9428265573843386,
          0.9061820482759492,
          0.837807746492523,
          0.887190125944734,
          0.8346884685363457,
          0.7149314090210213,
          0.7886556840410665,
          0.7266354440630971,
          0.7517951398398778,
          0.6933123579889718,
          0.8061958339022023,
          0.7621553546537982,
          0.6743130520109827,
          0.3342379112996257,
          0.3194956312192316,
          0.48968460434297595,
          0.3545241589603197,
          0.4554974534512625,
          0.4033274785359054,
          0.5195592449121046,
          0.4443497862781481,
          0.40026085138934026,
          0.42354674383612845,
          0.4988520356383656,
          0.5702742946567612,
          0.5633295066955512,
          0.6329296455402671,
          0.48993072082232175,
          0.5321462318229866,
          0.6139303395622779,
          0.9388168140622741,
          0.9347948684093393,
          0.8787461512129777,
          0.964297931464049,
          0.9232756237218057,
          0.8947877402249828,
          0.8422860828165945,
          0.8371084544088814,
          0.7924987384973995,
          0.7824288410993255,
          0.8194953480867947,
          0.7781417764573656,
          0.6952122885867708,
          0.8662951055908393,
          0.7104312719826188,
          0.7346957644596875,
          0.6724131214131838,
          0.2916346750432041,
          0.3111812762697525,
          0.34857825068757725,
          0.4289160882772689,
          0.4512705849597407,
          0.47259102889711924,
          0.337430583514463,
          0.4384038780054057,
          0.5854561399335471,
          0.3862339030900485,
          0.4272562108322911,
          0.406401222528038,
          0.3757411759989825,
          0.43524895048877116,
          0.45511078489407786,
          0.5032302350069141,
          0.5561903951643863,
          0.634829576138066,
          0.5489512659973501,
          0.612030408964479,
          0.9548337134702415,
          0.9403691991676623,
          0.9023853545052315,
          0.8498836970968432,
          0.9069896749725935,
          0.8754458423447793,
          0.7963417929537325,
          0.7304353052586953,
          0.7555950010354756,
          0.8023959727066045,
          0.7583554934582005,
          0.6705131908153847,
          0.23208555395230382,
          0.31553105858818187,
          0.25895268232325896,
          0.2547897597488268,
          0.34783021068492387,
          0.34932629069023063,
          0.36216812361595824,
          0.41182251283141214,
          0.2853084803275177,
          0.4554974534512625,
          0.3203370080686061,
          0.4213103025595488,
          0.3691403276441915,
          0.48537209402039067,
          0.4101626353864341,
          0.33880402797475595,
          0.3986931252790829,
          0.35710373817105434,
          0.3719357448312721,
          0.422337878478458,
          0.5292545102009448,
          0.5740741558523581,
          0.567129367891149,
          0.5556600718210463,
          0.5443302007175621,
          0.6101304783666801,
          0.9593063069795051,
          0.9574627746135188,
          0.9099829687854802,
          0.8677674577848153,
          0.9763003605158485,
          0.879486201817031,
          0.8001848474100656,
          0.7862287022949239,
          0.8232952092823926,
          0.7066314107870211,
          0.7308959032640897,
          0.2600652793042906,
          0.2600652793042906,
          0.2559819374972816,
          0.287604439680818,
          0.350074330692884,
          0.27699412537803747,
          0.3143910997958637,
          0.4384038780054057,
          0.3032434326227491,
          0.4042167271136918,
          0.551268989041833,
          0.4682785185745336,
          0.3520467521983345,
          0.39306905994057706,
          0.34056560448301065,
          0.46140234942414887,
          0.5971066709777408,
          0.4809228265123691,
          0.507030096202512,
          0.6069069683810513,
          0.6069069683810513,
          0.5044131752610412,
          0.484230929028925,
          0.5264464400295898,
          0.9745563500593754,
          0.9270765442313362,
          0.8509624236104515,
          0.9860051492592213,
          0.9665955717724756,
          0.927731701329546,
          0.8833455679459835,
          0.7303036268463534,
          0.7889466358473646,
          0.8833944809710297,
          0.7601497638883867,
          0.7985961115110067,
          0.2839616628492685,
          0.31113187423029076,
          0.3508223706955374,
          0.22060260885711033,
          0.2511213294358038,
          0.4213103025595487,
          0.534175413595976,
          0.2861498571768921,
          0.3871231516678347,
          0.33495317675247743,
          0.3759754844947199,
          0.2729872233821534,
          0.33273991773538997,
          0.2912033596962827,
          0.40786057378053436,
          0.5991725524337171,
          0.43114646622732,
          0.6742338067748944,
          0.6162099386583362,
          0.625617357257445,
          0.43861506128097105,
          0.5189241181384054,
          0.46713735358306874,
          0.9441701196771921,
          0.9957099380026004,
          0.9976058749806513,
          0.9662201390744837,
          0.8872049340749361,
          0.7287636171802195,
          0.3515704106981908,
          0.25341728878910086,
          0.24280697448632368,
          0.18723205993152472,
          0.2690562817310351,
          0.31785960130662044,
          0.2894002827863409,
          0.21965524801741093
         ],
         "z": [
          0.5148116812699881,
          0.516711611867787,
          0.5129117506721892,
          0.5847839955729455,
          0.44483936696703075,
          0.5184194108513172,
          0.5866839261707444,
          0.44673929756482966,
          0.5112039516886591,
          0.5620253034370841,
          0.46306950755920895,
          0.6547563098759028,
          0.3748670526640734,
          0.5244840697853625,
          0.5683119362814276,
          0.4699115541324893,
          0.6566562404737017,
          0.3767669832618723,
          0.5051392927546139,
          0.5807835291775211,
          0.6130276077538602,
          0.3952467840934923,
          0.41614657380954223,
          0.6528563792781039,
          0.7247286241788602,
          0.304894738361116,
          0.5415776452312193,
          0.45676474189448896,
          0.6295079218776922,
          0.6168197930002555,
          0.40196505959918194,
          0.6583640394572319,
          0.7266285547766591,
          0.30679466895891494,
          0.4880457173087574,
          0.5728586206454875,
          0.43741996486374024,
          0.574718870243476,
          0.6503631066663831,
          0.6398397397676211,
          0.3253714672689763,
          0.6511485802945739,
          0.7019699320429988,
          0.7947009384818176,
          0.3029948077633171,
          0.23492242405815866,
          0.5569738811661107,
          0.5368976550084567,
          0.5368976550084567,
          0.4738583173403458,
          0.38904541400361536,
          0.6128707854696849,
          0.6461450582856996,
          0.6721532166523557,
          0.664428698391277,
          0.7082565648873423,
          0.7966008690796165,
          0.308502467942445,
          0.23682235465595758,
          0.47264948137386625,
          0.5326212604553873,
          0.43685166851732316,
          0.6405779485363612,
          0.3697006369728666,
          0.6442984477323381,
          0.7199426841552451,
          0.32149837231868733,
          0.25549615044446033,
          0.752972236359775,
          0.7928010078840186,
          0.8646732527847749,
          0.301287008779787,
          0.25315256465033686,
          0.1649501097552013,
          0.603783035105303,
          0.5355595952307114,
          0.6046169828993303,
          0.48925455327523715,
          0.4691783271175831,
          0.40613898944947224,
          0.3719518385577585,
          0.3213260861127418,
          0.6183155625437443,
          0.7142315675274051,
          0.7252700320716489,
          0.7567644216061703,
          0.7983086680631465,
          0.8665731833825738,
          0.31456712687649,
          0.2599946112236171,
          0.16685004035300022,
          0.5965921348167198,
          0.36733658096958494,
          0.4089178933464151,
          0.6234843730905046,
          0.7082972764272348,
          0.7138780252212001,
          0.7895222616441071,
          0.2593392049007934,
          0.18562083361994436,
          0.7797843683735355,
          0.7910932089004884,
          0.8419145606489136,
          0.9346455670877323,
          0.29522234984574175,
          0.20622963090067015,
          0.16305017915740241,
          0.09497779545224393,
          0.6564702089541397,
          0.4683149260778924,
          0.5693874663892047,
          0.6072605263215795,
          0.6631241954420184,
          0.5368976550084568,
          0.4215352253843638,
          0.4014589992267095,
          0.356555602622867,
          0.3384196615585988,
          0.2536067582218683,
          0.7815447151503159,
          0.6642623049868391,
          0.6890823093119384,
          0.777026062406059,
          0.8043733269971912,
          0.848201193493257,
          0.9365454976855312,
          0.19204811669030997,
          0.09687772605004284,
          0.6507231429264569,
          0.7760166043181085,
          0.7834576027100622,
          0.8591018391329691,
          0.2632122998510824,
          0.21108553962036639,
          0.1157455167954284,
          0.8929168649656899,
          0.9327456364899334,
          0.16134238017387237,
          0.11320793604442213,
          0.025005481149286565,
          0.6762273929985967,
          0.7221406354874564,
          0.6128940942229869,
          0.4316618328374634,
          0.6393719902927442,
          0.49940294248566514,
          0.6174321130810403,
          0.5395411984307059,
          0.40012093944896504,
          0.4691783271175831,
          0.35381589749349035,
          0.3337396713358361,
          0.2707003336677253,
          0.2365131827760113,
          0.18588743033099475,
          0.7643806444223289,
          0.787670321334059,
          0.8238160239136665,
          0.6746412741044195,
          0.6260894035284426,
          0.909397179089521,
          0.8967090502120849,
          0.9382532966690613,
          0.19466030828130954,
          0.09858552503357293,
          0.026905411747085467,
          0.719914353470287,
          0.8437359322089821,
          0.8530371801989242,
          0.9076096958517971,
          0.25353812622516086,
          0.14122647634049895,
          0.045870199970912434,
          0.9197289969794499,
          0.9310378375064032,
          0.06628500229475531,
          0.02310555055148745,
          0.6621899873420769,
          0.6621899873420769,
          0.7418978195319134,
          0.41225699786319525,
          0.4294184185821256,
          0.33287627029614614,
          0.43394881060745794,
          0.40145899922670963,
          0.28609656960261687,
          0.26602034344496256,
          0.22111694684111965,
          0.16879385488513776,
          0.2029810057768518,
          0.11816810244012124,
          0.891374775281329,
          0.892760042681512,
          0.92603431549753,
          0.9520424738641836,
          0.9443179556031066,
          0.2418699208341371,
          0.2418699208341371,
          0.14745069572848196,
          0.10465018396761802,
          0.05007766831474503,
          0.9114552600998558,
          0.9207565080897979,
          0.9755561903851041,
          0.322848811768409,
          0.1842274406819127,
          0.14508584246945144,
          0.0713524406011153,
          0.04199710502062343,
          0.989672252537117,
          0.9249731785723581,
          0.03240561586897488,
          0.021397751567957174,
          0.7278604138753936,
          0.4770467240311008,
          0.35943389467858605,
          0.29622317705571954,
          0.2646822836672182,
          0.3337396713358361,
          0.15339761895024606,
          0.21837724171174344,
          0.19830101555408905,
          0.1352616778859784,
          0.05044877454924776,
          0.8741760423318159,
          0.8974964640567938,
          0.9336208140454191,
          0.8982048197555704,
          0.9957453663372992,
          0.994120824739232,
          0.22614642358170917,
          0.3036657454094232,
          0.17587198360726505,
          0.16861268251519204,
          0.07911467270150817,
          0.0369308560767443,
          0.9884758359806718,
          0.39215949731165634,
          0.14898196450570145,
          0.0968445760446481,
          0.0014784048617316609,
          0.9923901860895576,
          0.2894493707750465,
          0.2768183420814509,
          0.19743761451439926,
          0.23986602675696822,
          0.15065791382087007,
          0.067542349995105,
          0.80657892621047,
          0.8663978142136646
         ]
        }
       ],
       "layout": {
        "height": 600,
        "scene": {
         "xaxis": {
          "title": {
           "text": "Progress Weight"
          }
         },
         "yaxis": {
          "title": {
           "text": "Bounds Weight"
          }
         },
         "zaxis": {
          "title": {
           "text": "Proximity Weight"
          }
         }
        },
        "template": {
         "data": {
          "bar": [
           {
            "error_x": {
             "color": "#2a3f5f"
            },
            "error_y": {
             "color": "#2a3f5f"
            },
            "marker": {
             "line": {
              "color": "#E5ECF6",
              "width": 0.5
             },
             "pattern": {
              "fillmode": "overlay",
              "size": 10,
              "solidity": 0.2
             }
            },
            "type": "bar"
           }
          ],
          "barpolar": [
           {
            "marker": {
             "line": {
              "color": "#E5ECF6",
              "width": 0.5
             },
             "pattern": {
              "fillmode": "overlay",
              "size": 10,
              "solidity": 0.2
             }
            },
            "type": "barpolar"
           }
          ],
          "carpet": [
           {
            "aaxis": {
             "endlinecolor": "#2a3f5f",
             "gridcolor": "white",
             "linecolor": "white",
             "minorgridcolor": "white",
             "startlinecolor": "#2a3f5f"
            },
            "baxis": {
             "endlinecolor": "#2a3f5f",
             "gridcolor": "white",
             "linecolor": "white",
             "minorgridcolor": "white",
             "startlinecolor": "#2a3f5f"
            },
            "type": "carpet"
           }
          ],
          "choropleth": [
           {
            "colorbar": {
             "outlinewidth": 0,
             "ticks": ""
            },
            "type": "choropleth"
           }
          ],
          "contour": [
           {
            "colorbar": {
             "outlinewidth": 0,
             "ticks": ""
            },
            "colorscale": [
             [
              0,
              "#0d0887"
             ],
             [
              0.1111111111111111,
              "#46039f"
             ],
             [
              0.2222222222222222,
              "#7201a8"
             ],
             [
              0.3333333333333333,
              "#9c179e"
             ],
             [
              0.4444444444444444,
              "#bd3786"
             ],
             [
              0.5555555555555556,
              "#d8576b"
             ],
             [
              0.6666666666666666,
              "#ed7953"
             ],
             [
              0.7777777777777778,
              "#fb9f3a"
             ],
             [
              0.8888888888888888,
              "#fdca26"
             ],
             [
              1,
              "#f0f921"
             ]
            ],
            "type": "contour"
           }
          ],
          "contourcarpet": [
           {
            "colorbar": {
             "outlinewidth": 0,
             "ticks": ""
            },
            "type": "contourcarpet"
           }
          ],
          "heatmap": [
           {
            "colorbar": {
             "outlinewidth": 0,
             "ticks": ""
            },
            "colorscale": [
             [
              0,
              "#0d0887"
             ],
             [
              0.1111111111111111,
              "#46039f"
             ],
             [
              0.2222222222222222,
              "#7201a8"
             ],
             [
              0.3333333333333333,
              "#9c179e"
             ],
             [
              0.4444444444444444,
              "#bd3786"
             ],
             [
              0.5555555555555556,
              "#d8576b"
             ],
             [
              0.6666666666666666,
              "#ed7953"
             ],
             [
              0.7777777777777778,
              "#fb9f3a"
             ],
             [
              0.8888888888888888,
              "#fdca26"
             ],
             [
              1,
              "#f0f921"
             ]
            ],
            "type": "heatmap"
           }
          ],
          "histogram": [
           {
            "marker": {
             "pattern": {
              "fillmode": "overlay",
              "size": 10,
              "solidity": 0.2
             }
            },
            "type": "histogram"
           }
          ],
          "histogram2d": [
           {
            "colorbar": {
             "outlinewidth": 0,
             "ticks": ""
            },
            "colorscale": [
             [
              0,
              "#0d0887"
             ],
             [
              0.1111111111111111,
              "#46039f"
             ],
             [
              0.2222222222222222,
              "#7201a8"
             ],
             [
              0.3333333333333333,
              "#9c179e"
             ],
             [
              0.4444444444444444,
              "#bd3786"
             ],
             [
              0.5555555555555556,
              "#d8576b"
             ],
             [
              0.6666666666666666,
              "#ed7953"
             ],
             [
              0.7777777777777778,
              "#fb9f3a"
             ],
             [
              0.8888888888888888,
              "#fdca26"
             ],
             [
              1,
              "#f0f921"
             ]
            ],
            "type": "histogram2d"
           }
          ],
          "histogram2dcontour": [
           {
            "colorbar": {
             "outlinewidth": 0,
             "ticks": ""
            },
            "colorscale": [
             [
              0,
              "#0d0887"
             ],
             [
              0.1111111111111111,
              "#46039f"
             ],
             [
              0.2222222222222222,
              "#7201a8"
             ],
             [
              0.3333333333333333,
              "#9c179e"
             ],
             [
              0.4444444444444444,
              "#bd3786"
             ],
             [
              0.5555555555555556,
              "#d8576b"
             ],
             [
              0.6666666666666666,
              "#ed7953"
             ],
             [
              0.7777777777777778,
              "#fb9f3a"
             ],
             [
              0.8888888888888888,
              "#fdca26"
             ],
             [
              1,
              "#f0f921"
             ]
            ],
            "type": "histogram2dcontour"
           }
          ],
          "mesh3d": [
           {
            "colorbar": {
             "outlinewidth": 0,
             "ticks": ""
            },
            "type": "mesh3d"
           }
          ],
          "parcoords": [
           {
            "line": {
             "colorbar": {
              "outlinewidth": 0,
              "ticks": ""
             }
            },
            "type": "parcoords"
           }
          ],
          "pie": [
           {
            "automargin": true,
            "type": "pie"
           }
          ],
          "scatter": [
           {
            "fillpattern": {
             "fillmode": "overlay",
             "size": 10,
             "solidity": 0.2
            },
            "type": "scatter"
           }
          ],
          "scatter3d": [
           {
            "line": {
             "colorbar": {
              "outlinewidth": 0,
              "ticks": ""
             }
            },
            "marker": {
             "colorbar": {
              "outlinewidth": 0,
              "ticks": ""
             }
            },
            "type": "scatter3d"
           }
          ],
          "scattercarpet": [
           {
            "marker": {
             "colorbar": {
              "outlinewidth": 0,
              "ticks": ""
             }
            },
            "type": "scattercarpet"
           }
          ],
          "scattergeo": [
           {
            "marker": {
             "colorbar": {
              "outlinewidth": 0,
              "ticks": ""
             }
            },
            "type": "scattergeo"
           }
          ],
          "scattergl": [
           {
            "marker": {
             "colorbar": {
              "outlinewidth": 0,
              "ticks": ""
             }
            },
            "type": "scattergl"
           }
          ],
          "scattermap": [
           {
            "marker": {
             "colorbar": {
              "outlinewidth": 0,
              "ticks": ""
             }
            },
            "type": "scattermap"
           }
          ],
          "scattermapbox": [
           {
            "marker": {
             "colorbar": {
              "outlinewidth": 0,
              "ticks": ""
             }
            },
            "type": "scattermapbox"
           }
          ],
          "scatterpolar": [
           {
            "marker": {
             "colorbar": {
              "outlinewidth": 0,
              "ticks": ""
             }
            },
            "type": "scatterpolar"
           }
          ],
          "scatterpolargl": [
           {
            "marker": {
             "colorbar": {
              "outlinewidth": 0,
              "ticks": ""
             }
            },
            "type": "scatterpolargl"
           }
          ],
          "scatterternary": [
           {
            "marker": {
             "colorbar": {
              "outlinewidth": 0,
              "ticks": ""
             }
            },
            "type": "scatterternary"
           }
          ],
          "surface": [
           {
            "colorbar": {
             "outlinewidth": 0,
             "ticks": ""
            },
            "colorscale": [
             [
              0,
              "#0d0887"
             ],
             [
              0.1111111111111111,
              "#46039f"
             ],
             [
              0.2222222222222222,
              "#7201a8"
             ],
             [
              0.3333333333333333,
              "#9c179e"
             ],
             [
              0.4444444444444444,
              "#bd3786"
             ],
             [
              0.5555555555555556,
              "#d8576b"
             ],
             [
              0.6666666666666666,
              "#ed7953"
             ],
             [
              0.7777777777777778,
              "#fb9f3a"
             ],
             [
              0.8888888888888888,
              "#fdca26"
             ],
             [
              1,
              "#f0f921"
             ]
            ],
            "type": "surface"
           }
          ],
          "table": [
           {
            "cells": {
             "fill": {
              "color": "#EBF0F8"
             },
             "line": {
              "color": "white"
             }
            },
            "header": {
             "fill": {
              "color": "#C8D4E3"
             },
             "line": {
              "color": "white"
             }
            },
            "type": "table"
           }
          ]
         },
         "layout": {
          "annotationdefaults": {
           "arrowcolor": "#2a3f5f",
           "arrowhead": 0,
           "arrowwidth": 1
          },
          "autotypenumbers": "strict",
          "coloraxis": {
           "colorbar": {
            "outlinewidth": 0,
            "ticks": ""
           }
          },
          "colorscale": {
           "diverging": [
            [
             0,
             "#8e0152"
            ],
            [
             0.1,
             "#c51b7d"
            ],
            [
             0.2,
             "#de77ae"
            ],
            [
             0.3,
             "#f1b6da"
            ],
            [
             0.4,
             "#fde0ef"
            ],
            [
             0.5,
             "#f7f7f7"
            ],
            [
             0.6,
             "#e6f5d0"
            ],
            [
             0.7,
             "#b8e186"
            ],
            [
             0.8,
             "#7fbc41"
            ],
            [
             0.9,
             "#4d9221"
            ],
            [
             1,
             "#276419"
            ]
           ],
           "sequential": [
            [
             0,
             "#0d0887"
            ],
            [
             0.1111111111111111,
             "#46039f"
            ],
            [
             0.2222222222222222,
             "#7201a8"
            ],
            [
             0.3333333333333333,
             "#9c179e"
            ],
            [
             0.4444444444444444,
             "#bd3786"
            ],
            [
             0.5555555555555556,
             "#d8576b"
            ],
            [
             0.6666666666666666,
             "#ed7953"
            ],
            [
             0.7777777777777778,
             "#fb9f3a"
            ],
            [
             0.8888888888888888,
             "#fdca26"
            ],
            [
             1,
             "#f0f921"
            ]
           ],
           "sequentialminus": [
            [
             0,
             "#0d0887"
            ],
            [
             0.1111111111111111,
             "#46039f"
            ],
            [
             0.2222222222222222,
             "#7201a8"
            ],
            [
             0.3333333333333333,
             "#9c179e"
            ],
            [
             0.4444444444444444,
             "#bd3786"
            ],
            [
             0.5555555555555556,
             "#d8576b"
            ],
            [
             0.6666666666666666,
             "#ed7953"
            ],
            [
             0.7777777777777778,
             "#fb9f3a"
            ],
            [
             0.8888888888888888,
             "#fdca26"
            ],
            [
             1,
             "#f0f921"
            ]
           ]
          },
          "colorway": [
           "#636efa",
           "#EF553B",
           "#00cc96",
           "#ab63fa",
           "#FFA15A",
           "#19d3f3",
           "#FF6692",
           "#B6E880",
           "#FF97FF",
           "#FECB52"
          ],
          "font": {
           "color": "#2a3f5f"
          },
          "geo": {
           "bgcolor": "white",
           "lakecolor": "white",
           "landcolor": "#E5ECF6",
           "showlakes": true,
           "showland": true,
           "subunitcolor": "white"
          },
          "hoverlabel": {
           "align": "left"
          },
          "hovermode": "closest",
          "mapbox": {
           "style": "light"
          },
          "paper_bgcolor": "white",
          "plot_bgcolor": "#E5ECF6",
          "polar": {
           "angularaxis": {
            "gridcolor": "white",
            "linecolor": "white",
            "ticks": ""
           },
           "bgcolor": "#E5ECF6",
           "radialaxis": {
            "gridcolor": "white",
            "linecolor": "white",
            "ticks": ""
           }
          },
          "scene": {
           "xaxis": {
            "backgroundcolor": "#E5ECF6",
            "gridcolor": "white",
            "gridwidth": 2,
            "linecolor": "white",
            "showbackground": true,
            "ticks": "",
            "zerolinecolor": "white"
           },
           "yaxis": {
            "backgroundcolor": "#E5ECF6",
            "gridcolor": "white",
            "gridwidth": 2,
            "linecolor": "white",
            "showbackground": true,
            "ticks": "",
            "zerolinecolor": "white"
           },
           "zaxis": {
            "backgroundcolor": "#E5ECF6",
            "gridcolor": "white",
            "gridwidth": 2,
            "linecolor": "white",
            "showbackground": true,
            "ticks": "",
            "zerolinecolor": "white"
           }
          },
          "shapedefaults": {
           "line": {
            "color": "#2a3f5f"
           }
          },
          "ternary": {
           "aaxis": {
            "gridcolor": "white",
            "linecolor": "white",
            "ticks": ""
           },
           "baxis": {
            "gridcolor": "white",
            "linecolor": "white",
            "ticks": ""
           },
           "bgcolor": "#E5ECF6",
           "caxis": {
            "gridcolor": "white",
            "linecolor": "white",
            "ticks": ""
           }
          },
          "title": {
           "x": 0.05
          },
          "xaxis": {
           "automargin": true,
           "gridcolor": "white",
           "linecolor": "white",
           "ticks": "",
           "title": {
            "standoff": 15
           },
           "zerolinecolor": "white",
           "zerolinewidth": 2
          },
          "yaxis": {
           "automargin": true,
           "gridcolor": "white",
           "linecolor": "white",
           "ticks": "",
           "title": {
            "standoff": 15
           },
           "zerolinecolor": "white",
           "zerolinewidth": 2
          }
         }
        },
        "title": {
         "text": "Is Vector Cost: 1, Metric: <function bounds_test at 0x7c8559d0cb80>, Scenario: far_tail - latest, BOUNDS = np.array([[0.0, 0.1], [0.0, 0.3], [0.0, 1.0]])<br>Volume: 0.857<br><sub>far_tail_limited.json</sub>"
        },
        "width": 800
       }
      }
     },
     "metadata": {},
     "output_type": "display_data"
    },
    {
     "name": "stdout",
     "output_type": "stream",
     "text": [
      "Showing plot 3/3\n"
     ]
    },
    {
     "data": {
      "application/vnd.plotly.v1+json": {
       "config": {
        "plotlyServerURL": "https://plot.ly"
       },
       "data": [
        {
         "hoverinfo": "text",
         "marker": {
          "color": [
           "blue",
           "blue",
           "blue",
           "blue",
           "blue",
           "blue",
           "blue",
           "blue",
           "blue",
           "blue",
           "blue",
           "blue",
           "blue",
           "blue",
           "blue",
           "blue",
           "blue",
           "blue",
           "blue",
           "blue",
           "blue",
           "blue",
           "blue",
           "blue",
           "blue",
           "blue",
           "blue",
           "blue",
           "blue",
           "blue",
           "blue",
           "blue",
           "blue",
           "blue",
           "blue",
           "blue",
           "blue",
           "blue",
           "blue",
           "blue",
           "blue",
           "blue",
           "blue",
           "blue",
           "blue",
           "blue",
           "blue",
           "blue",
           "blue",
           "blue",
           "blue",
           "blue",
           "blue",
           "blue",
           "blue",
           "blue",
           "blue",
           "blue",
           "blue",
           "blue",
           "blue",
           "blue",
           "blue",
           "blue",
           "blue",
           "blue",
           "blue",
           "blue",
           "blue",
           "blue",
           "blue",
           "blue",
           "blue",
           "blue",
           "blue",
           "blue",
           "blue",
           "blue",
           "blue",
           "blue",
           "blue",
           "blue",
           "blue",
           "blue",
           "blue",
           "blue",
           "blue",
           "blue",
           "blue",
           "blue",
           "blue",
           "blue",
           "blue",
           "blue",
           "blue",
           "blue",
           "blue",
           "blue",
           "blue",
           "blue",
           "blue",
           "blue",
           "blue",
           "blue",
           "blue",
           "blue",
           "blue",
           "blue",
           "blue",
           "blue",
           "blue",
           "blue",
           "blue",
           "blue",
           "blue",
           "blue",
           "blue",
           "blue",
           "blue",
           "blue",
           "blue",
           "blue",
           "blue",
           "blue",
           "blue",
           "blue",
           "blue",
           "blue",
           "blue",
           "blue",
           "blue",
           "blue",
           "blue",
           "blue",
           "blue",
           "blue",
           "blue",
           "blue",
           "blue",
           "blue",
           "blue",
           "blue",
           "blue",
           "blue",
           "blue",
           "blue",
           "blue",
           "blue",
           "blue",
           "blue",
           "blue",
           "blue",
           "blue",
           "blue",
           "blue",
           "blue",
           "blue",
           "blue",
           "blue",
           "blue",
           "blue",
           "blue",
           "blue",
           "blue",
           "blue",
           "blue",
           "blue",
           "blue",
           "blue",
           "blue",
           "blue",
           "blue",
           "blue",
           "blue",
           "blue"
          ],
          "line": {
           "color": "black",
           "width": 1
          },
          "size": 8
         },
         "mode": "markers",
         "text": [
          "Boundary 0<br>(0.685, 0.155, 0.361)",
          "Boundary 1<br>(0.684, 0.225, 0.361)",
          "Boundary 2<br>(0.686, 0.085, 0.360)",
          "Boundary 3<br>(0.751, 0.156, 0.384)",
          "Boundary 4<br>(0.619, 0.155, 0.337)",
          "Boundary 5<br>(0.684, 0.295, 0.362)",
          "Boundary 6<br>(0.750, 0.226, 0.385)",
          "Boundary 7<br>(0.618, 0.225, 0.338)",
          "Boundary 8<br>(0.670, 0.035, 0.407)",
          "Boundary 9<br>(0.752, 0.086, 0.384)",
          "Boundary 10<br>(0.620, 0.085, 0.337)",
          "Boundary 11<br>(0.817, 0.156, 0.408)",
          "Boundary 12<br>(0.553, 0.154, 0.314)",
          "Boundary 13<br>(0.707, 0.296, 0.296)",
          "Boundary 14<br>(0.707, 0.296, 0.296)",
          "Boundary 15<br>(0.749, 0.296, 0.385)",
          "Boundary 16<br>(0.816, 0.226, 0.408)",
          "Boundary 17<br>(0.634, 0.275, 0.292)",
          "Boundary 18<br>(0.552, 0.224, 0.314)",
          "Boundary 19<br>(0.691, 0.051, 0.471)",
          "Boundary 20<br>(0.728, 0.085, 0.450)",
          "Boundary 21<br>(0.818, 0.086, 0.407)",
          "Boundary 22<br>(0.604, 0.035, 0.383)",
          "Boundary 23<br>(0.554, 0.084, 0.313)",
          "Boundary 24<br>(0.883, 0.157, 0.431)",
          "Boundary 25<br>(0.487, 0.154, 0.290)",
          "Boundary 26<br>(0.756, 0.346, 0.296)",
          "Boundary 27<br>(0.707, 0.296, 0.226)",
          "Boundary 28<br>(0.641, 0.295, 0.272)",
          "Boundary 29<br>(0.766, 0.346, 0.339)",
          "Boundary 30<br>(0.815, 0.296, 0.409)",
          "Boundary 31<br>(0.882, 0.227, 0.432)",
          "Boundary 32<br>(0.613, 0.259, 0.227)",
          "Boundary 33<br>(0.568, 0.274, 0.268)",
          "Boundary 34<br>(0.522, 0.224, 0.251)",
          "Boundary 35<br>(0.621, 0.057, 0.473)",
          "Boundary 36<br>(0.729, 0.084, 0.520)",
          "Boundary 37<br>(0.794, 0.085, 0.473)",
          "Boundary 38<br>(0.883, 0.087, 0.431)",
          "Boundary 39<br>(0.538, 0.034, 0.360)",
          "Boundary 40<br>(0.488, 0.084, 0.290)",
          "Boundary 41<br>(0.913, 0.156, 0.495)",
          "Boundary 42<br>(0.457, 0.154, 0.227)",
          "Boundary 43<br>(0.826, 0.347, 0.295)",
          "Boundary 44<br>(0.755, 0.346, 0.226)",
          "Boundary 45<br>(0.706, 0.297, 0.156)",
          "Boundary 46<br>(0.831, 0.346, 0.363)",
          "Boundary 47<br>(0.881, 0.297, 0.432)",
          "Boundary 48<br>(0.948, 0.227, 0.455)",
          "Boundary 49<br>(0.612, 0.259, 0.157)",
          "Boundary 50<br>(0.547, 0.258, 0.203)",
          "Boundary 51<br>(0.546, 0.225, 0.185)",
          "Boundary 52<br>(0.659, 0.084, 0.520)",
          "Boundary 53<br>(0.729, 0.084, 0.590)",
          "Boundary 54<br>(0.795, 0.085, 0.543)",
          "Boundary 55<br>(0.860, 0.086, 0.497)",
          "Boundary 56<br>(0.913, 0.086, 0.494)",
          "Boundary 57<br>(0.472, 0.034, 0.336)",
          "Boundary 58<br>(0.458, 0.084, 0.227)",
          "Boundary 59<br>(0.979, 0.157, 0.518)",
          "Boundary 60<br>(0.456, 0.224, 0.227)",
          "Boundary 61<br>(0.391, 0.153, 0.204)",
          "Boundary 62<br>(0.875, 0.397, 0.295)",
          "Boundary 63<br>(0.826, 0.347, 0.225)",
          "Boundary 64<br>(0.755, 0.346, 0.156)",
          "Boundary 65<br>(0.705, 0.297, 0.086)",
          "Boundary 66<br>(0.881, 0.367, 0.433)",
          "Boundary 67<br>(0.947, 0.297, 0.456)",
          "Boundary 68<br>(0.610, 0.260, 0.087)",
          "Boundary 69<br>(0.546, 0.259, 0.133)",
          "Boundary 70<br>(0.480, 0.224, 0.162)",
          "Boundary 71<br>(0.610, 0.034, 0.520)",
          "Boundary 72<br>(0.659, 0.083, 0.590)",
          "Boundary 73<br>(0.730, 0.083, 0.660)",
          "Boundary 74<br>(0.795, 0.084, 0.613)",
          "Boundary 75<br>(0.860, 0.085, 0.567)",
          "Boundary 76<br>(0.850, 0.086, 0.524)",
          "Boundary 77<br>(0.979, 0.087, 0.518)",
          "Boundary 78<br>(0.414, 0.034, 0.248)",
          "Boundary 79<br>(0.392, 0.083, 0.203)",
          "Boundary 80<br>(0.520, 0.225, 0.197)",
          "Boundary 81<br>(0.408, 0.203, 0.157)",
          "Boundary 82<br>(0.361, 0.153, 0.140)",
          "Boundary 83<br>(0.945, 0.397, 0.295)",
          "Boundary 84<br>(0.875, 0.396, 0.365)",
          "Boundary 85<br>(0.875, 0.397, 0.225)",
          "Boundary 86<br>(0.825, 0.347, 0.155)",
          "Boundary 87<br>(0.754, 0.347, 0.086)",
          "Boundary 88<br>(0.705, 0.298, 0.016)",
          "Boundary 89<br>(0.897, 0.417, 0.387)",
          "Boundary 90<br>(0.947, 0.367, 0.456)",
          "Boundary 91<br>(0.540, 0.266, 0.089)",
          "Boundary 92<br>(0.608, 0.261, 0.017)",
          "Boundary 93<br>(0.480, 0.224, 0.092)",
          "Boundary 94<br>(0.610, 0.033, 0.590)",
          "Boundary 95<br>(0.660, 0.083, 0.660)",
          "Boundary 96<br>(0.730, 0.083, 0.730)",
          "Boundary 97<br>(0.796, 0.084, 0.683)",
          "Boundary 98<br>(0.930, 0.086, 0.566)",
          "Boundary 99<br>(0.861, 0.085, 0.637)",
          "Boundary 100<br>(0.956, 0.087, 0.584)",
          "Boundary 101<br>(0.326, 0.083, 0.180)",
          "Boundary 102<br>(0.386, 0.187, 0.092)",
          "Boundary 103<br>(0.331, 0.153, 0.077)",
          "Boundary 104<br>(0.945, 0.397, 0.365)",
          "Boundary 105<br>(0.945, 0.397, 0.225)",
          "Boundary 106<br>(0.874, 0.397, 0.155)",
          "Boundary 107<br>(0.825, 0.347, 0.085)",
          "Boundary 108<br>(0.753, 0.347, 0.016)",
          "Boundary 109<br>(0.943, 0.412, 0.335)",
          "Boundary 110<br>(0.876, 0.401, 0.322)",
          "Boundary 111<br>(0.963, 0.417, 0.410)",
          "Boundary 112<br>(0.540, 0.266, 0.019)",
          "Boundary 113<br>(0.480, 0.224, 0.022)",
          "Boundary 114<br>(0.611, 0.033, 0.660)",
          "Boundary 115<br>(0.660, 0.082, 0.730)",
          "Boundary 116<br>(0.731, 0.082, 0.800)",
          "Boundary 117<br>(0.796, 0.083, 0.753)",
          "Boundary 118<br>(0.931, 0.086, 0.636)",
          "Boundary 119<br>(0.862, 0.084, 0.707)",
          "Boundary 120<br>(0.310, 0.033, 0.226)",
          "Boundary 121<br>(0.260, 0.082, 0.156)",
          "Boundary 122<br>(0.385, 0.187, 0.022)",
          "Boundary 123<br>(0.376, 0.203, 0.056)",
          "Boundary 124<br>(0.268, 0.152, 0.107)",
          "Boundary 125<br>(0.355, 0.153, 0.011)",
          "Boundary 126<br>(0.945, 0.398, 0.155)",
          "Boundary 127<br>(0.874, 0.397, 0.085)",
          "Boundary 128<br>(0.825, 0.348, 0.015)",
          "Boundary 129<br>(0.611, 0.032, 0.730)",
          "Boundary 130<br>(0.661, 0.082, 0.800)",
          "Boundary 131<br>(0.731, 0.082, 0.870)",
          "Boundary 132<br>(0.797, 0.083, 0.823)",
          "Boundary 133<br>(0.932, 0.085, 0.706)",
          "Boundary 134<br>(0.862, 0.084, 0.777)",
          "Boundary 135<br>(0.331, 0.049, 0.291)",
          "Boundary 136<br>(0.244, 0.032, 0.202)",
          "Boundary 137<br>(0.194, 0.082, 0.133)",
          "Boundary 138<br>(0.442, 0.203, 0.034)",
          "Boundary 139<br>(0.219, 0.102, 0.107)",
          "Boundary 140<br>(0.269, 0.103, 0.156)",
          "Boundary 141<br>(0.268, 0.152, 0.037)",
          "Boundary 142<br>(0.944, 0.398, 0.085)",
          "Boundary 143<br>(0.873, 0.397, 0.015)",
          "Boundary 144<br>(0.591, 0.081, 0.801)",
          "Boundary 145<br>(0.661, 0.081, 0.870)",
          "Boundary 146<br>(0.732, 0.081, 0.940)",
          "Boundary 147<br>(0.797, 0.082, 0.893)",
          "Boundary 148<br>(0.932, 0.085, 0.776)",
          "Boundary 149<br>(0.863, 0.083, 0.847)",
          "Boundary 150<br>(0.261, 0.055, 0.292)",
          "Boundary 151<br>(0.210, 0.132, 0.086)",
          "Boundary 152<br>(0.195, 0.012, 0.132)",
          "Boundary 153<br>(0.164, 0.082, 0.069)",
          "Boundary 154<br>(0.219, 0.102, 0.037)",
          "Boundary 155<br>(0.944, 0.398, 0.015)",
          "Boundary 156<br>(0.542, 0.031, 0.801)",
          "Boundary 157<br>(0.592, 0.031, 0.850)",
          "Boundary 158<br>(0.662, 0.081, 0.940)",
          "Boundary 159<br>(0.798, 0.082, 0.963)",
          "Boundary 160<br>(0.933, 0.084, 0.846)",
          "Boundary 161<br>(0.863, 0.083, 0.917)",
          "Boundary 162<br>(0.189, 0.116, 0.021)",
          "Boundary 163<br>(0.129, 0.012, 0.109)",
          "Boundary 164<br>(0.188, 0.082, 0.003)",
          "Boundary 165<br>(0.592, 0.080, 0.941)",
          "Boundary 166<br>(0.933, 0.084, 0.916)",
          "Boundary 167<br>(0.864, 0.082, 0.987)",
          "Boundary 168<br>(0.136, 0.071, 0.022)",
          "Boundary 169<br>(0.063, 0.011, 0.085)",
          "Boundary 170<br>(0.543, 0.030, 0.941)",
          "Boundary 171<br>(0.934, 0.083, 0.986)",
          "Boundary 172<br>(0.066, 0.076, 0.024)",
          "Boundary 173<br>(0.079, 0.061, 0.039)",
          "Boundary 174<br>(0.062, 0.027, 0.073)"
         ],
         "type": "scatter3d",
         "x": [
          0.6849739911452495,
          0.6842486130175901,
          0.6856993692729089,
          0.7509043235214642,
          0.6190436587690348,
          0.6835232348899307,
          0.7501789453938048,
          0.6183182806413754,
          0.6695890357842212,
          0.7516297016491236,
          0.6197690368966942,
          0.8168346558976789,
          0.5531133263928201,
          0.7070320651316456,
          0.7070320651316456,
          0.7494535672661454,
          0.8161092777700195,
          0.634428614130063,
          0.5523879482651607,
          0.6906928192041718,
          0.7281208714074087,
          0.8175600340253383,
          0.6036587034080065,
          0.5538387045204795,
          0.8827649882738936,
          0.48718299401660536,
          0.7560126411375986,
          0.7065206222985848,
          0.6411017327554309,
          0.765563900754833,
          0.8153838996423601,
          0.8820396101462342,
          0.6133248307101125,
          0.5684982817538483,
          0.5223914164377362,
          0.6209392395239982,
          0.7286323142404694,
          0.7940512037836234,
          0.883490366401553,
          0.5377283710317918,
          0.48790837214426475,
          0.912761520101318,
          0.45718646218918096,
          0.8260051649242806,
          0.7552930896429292,
          0.706009179465524,
          0.8314942331310478,
          0.8813142320185748,
          0.9479699425224489,
          0.6116896281841784,
          0.5473944983338977,
          0.545903060175389,
          0.6586379412323452,
          0.7291437570735301,
          0.7945626466166841,
          0.8599815361598381,
          0.9134868982289773,
          0.4717980386555771,
          0.45791184031684035,
          0.9786890389815948,
          0.4563118977007421,
          0.39125894330890415,
          0.8749852829306656,
          0.8257040205293055,
          0.7545735381482598,
          0.7054977366324632,
          0.8805888538909155,
          0.9472445643947895,
          0.6100544256582443,
          0.5457592958079637,
          0.4799755412951122,
          0.6096573652263922,
          0.6591493840654059,
          0.7296551999065908,
          0.7950740894497448,
          0.8604929789928988,
          0.850243859838193,
          0.9794144171092541,
          0.41381066948823564,
          0.39198432143656353,
          0.5195549360915265,
          0.4075453345283632,
          0.3612635201854555,
          0.9449802163404576,
          0.8754089626023379,
          0.8745616032589932,
          0.8254028761343304,
          0.7538539866535904,
          0.7049862937994024,
          0.8966991873796031,
          0.9465191862671302,
          0.5403008459780707,
          0.6084192231323102,
          0.480106609618261,
          0.610168808059453,
          0.6596608268984666,
          0.7301666427396515,
          0.7955855322828055,
          0.930487352001023,
          0.8610044218259595,
          0.9559027733716013,
          0.32605274350861013,
          0.38640603563284387,
          0.33126983353543765,
          0.9451575324804489,
          0.9448029002004663,
          0.8741379235873209,
          0.8251017317393553,
          0.753134435158921,
          0.9434507890045226,
          0.8755954039596525,
          0.9626295197558178,
          0.5396790002963886,
          0.4802376779414098,
          0.6106802508925138,
          0.6601722697315273,
          0.7306780855727122,
          0.7960969751158662,
          0.9309987948340837,
          0.8615158646590202,
          0.30976635228915106,
          0.26012116558065673,
          0.3849145292560934,
          0.375582904174892,
          0.268023924964516,
          0.3547827051452287,
          0.944625584060475,
          0.8737142439156486,
          0.8248005873443802,
          0.6111916937255745,
          0.660683712564588,
          0.7311895284057729,
          0.7966084179489269,
          0.9315102376671444,
          0.8620273074920809,
          0.3309056511846704,
          0.2438347743611977,
          0.19418958765270333,
          0.4422046058508628,
          0.21893676193213554,
          0.2685244276554353,
          0.267893870353222,
          0.9444482679204838,
          0.8732905642439762,
          0.5906893395564639,
          0.6611951553976487,
          0.7317009712388336,
          0.7971198607819876,
          0.9320216805002051,
          0.8625387503251416,
          0.26117156742725894,
          0.21047597887216238,
          0.19466879604568305,
          0.16419416452925467,
          0.2187535930238964,
          0.9442709517804925,
          0.541708763550511,
          0.5915639040449027,
          0.6617065982307094,
          0.7976313036150483,
          0.9325331233332658,
          0.8630501931582023,
          0.189336679976643,
          0.12873721811772965,
          0.18770703613904574,
          0.5917122252225853,
          0.9330445661663265,
          0.863561635991263,
          0.13584794399340222,
          0.06280564018977625,
          0.5427316492166324,
          0.9335560089993872,
          0.06611386023599075,
          0.07909203140923526,
          0.06233384875720606
         ],
         "y": [
          0.1550490603956421,
          0.22504343340376629,
          0.0850546873875179,
          0.15556050322870282,
          0.15453761756258136,
          0.2950378064118905,
          0.22555487623682705,
          0.22453199057070553,
          0.035048271795580274,
          0.08556613022057864,
          0.08454324455445715,
          0.15607194606176356,
          0.1540261747295206,
          0.2957631845395499,
          0.29576318453954986,
          0.29554924924495124,
          0.2260663190698878,
          0.27453840616264313,
          0.22402054773764477,
          0.05100880005759612,
          0.08484075209291925,
          0.08607757305363939,
          0.03453682896251953,
          0.0840318017213964,
          0.1565833888948243,
          0.15351473189645984,
          0.345772215325531,
          0.2962693411890764,
          0.2952517417064891,
          0.3455556648368889,
          0.296060692078012,
          0.22657776190294857,
          0.2585778779006273,
          0.2740269633295824,
          0.2241718228351906,
          0.05662838396134746,
          0.08433459544339282,
          0.08535219492598001,
          0.08658901588670014,
          0.03402538612945878,
          0.08352035888833564,
          0.15643211379727845,
          0.15366600699400568,
          0.3465024934083165,
          0.34606588433259394,
          0.29677549783860285,
          0.34606710766994964,
          0.29657213491107276,
          0.22708920473600933,
          0.2593336578298234,
          0.25806643506756655,
          0.22465103122817034,
          0.08360551887284896,
          0.0838284387938664,
          0.0848460382764536,
          0.08586363775904075,
          0.0864377407891543,
          0.03351394329639802,
          0.08367163398588148,
          0.15718972636501885,
          0.22366026663373112,
          0.15290839442626525,
          0.39651197286199813,
          0.34680052255112215,
          0.3463595533396569,
          0.2972816544881293,
          0.366566507919197,
          0.2970835777441335,
          0.26008943775901955,
          0.25882221499676267,
          0.2238934186604299,
          0.03359648808686793,
          0.08309936222332259,
          0.08332228214433997,
          0.08433988162692718,
          0.08535748110951434,
          0.08556317630071543,
          0.08719535335689471,
          0.03355980787013967,
          0.08291402141814105,
          0.22453483112217,
          0.20274298414017022,
          0.15300833435261182,
          0.3972408989863131,
          0.39633905608032904,
          0.3966848896436672,
          0.3470985516939278,
          0.34665322234671986,
          0.2977878111376558,
          0.4165729235111346,
          0.36707795075225774,
          0.26570902166277094,
          0.26084521768821567,
          0.22376376152772773,
          0.033090331437341546,
          0.08259320557379622,
          0.08281612549481354,
          0.08383372497740077,
          0.08608655768005818,
          0.08485132445998793,
          0.08671614496391498,
          0.08257614942442323,
          0.1867133842606673,
          0.15287827974131785,
          0.3970654176771421,
          0.3974163802954841,
          0.3968578064253363,
          0.3473965808367334,
          0.3469468913537828,
          0.411967319859944,
          0.4006123952491188,
          0.4170843663441954,
          0.266383096308853,
          0.22363410439502557,
          0.032584174787815154,
          0.08208704892426985,
          0.08230996884528712,
          0.08332756832787436,
          0.08558040103053183,
          0.08434516781046152,
          0.03274155971051825,
          0.08223827743070541,
          0.1874063286378983,
          0.2027825231603958,
          0.15230051665910949,
          0.15319485743709604,
          0.3975918616046551,
          0.3970307232070054,
          0.34769460997953905,
          0.032078018138288776,
          0.08158089227474348,
          0.08180381219576069,
          0.08282141167834794,
          0.08507424438100547,
          0.0838390111609351,
          0.048771159590021165,
          0.032403687716800425,
          0.0819004054369876,
          0.20277115163489967,
          0.1023961037794769,
          0.10271360702271172,
          0.15242950200205235,
          0.3977673429138261,
          0.3972036399886745,
          0.08085181570419957,
          0.08107473562521711,
          0.08129765554623426,
          0.08231525502882153,
          0.08456808773147911,
          0.08333285451140869,
          0.054667908691521,
          0.1317349951508926,
          0.011902861181264157,
          0.08200034536333417,
          0.10247109037515449,
          0.3979428242229971,
          0.030842784918218492,
          0.03100041310603153,
          0.08056857897569074,
          0.08180909837929512,
          0.08406193108195276,
          0.08282669786188228,
          0.11570539527138968,
          0.011564989187546336,
          0.08231692305911238,
          0.0798395024051468,
          0.0835557744324264,
          0.08232054121235587,
          0.0705559218414013,
          0.011227117193828514,
          0.029830471619165695,
          0.08304961778290004,
          0.07645267094290109,
          0.06106170690773351,
          0.02669903465367259
         ],
         "z": [
          0.36086443872801144,
          0.3613758815610722,
          0.3603529958949507,
          0.3843788959616022,
          0.3373499814944207,
          0.36188732439413296,
          0.38489033879466295,
          0.33786142432748145,
          0.40661113630860857,
          0.3838674531285414,
          0.33683853866135993,
          0.40789335319519293,
          0.31383552426082995,
          0.29595699201791825,
          0.29595699201791825,
          0.3854017816277237,
          0.4084047960282537,
          0.2916032839138236,
          0.3143469670938907,
          0.47141770899195,
          0.44979778550475613,
          0.40738191036213217,
          0.3830966790750178,
          0.3133240814277692,
          0.4314078104287837,
          0.2903210670272392,
          0.29596072991414196,
          0.22596069046080275,
          0.2724425347843275,
          0.33914364121406587,
          0.40891623886131445,
          0.43191925326184444,
          0.22679671123048223,
          0.2680888266802329,
          0.2510999498189932,
          0.47310838889967055,
          0.5197940870618717,
          0.4733122427383469,
          0.4308963675957229,
          0.3595822218414271,
          0.28980962419417844,
          0.4946548277036812,
          0.22707404975234172,
          0.29524427482652976,
          0.22596504430309297,
          0.15596438890368725,
          0.36265809844765656,
          0.4324306960949052,
          0.4554337104954352,
          0.15681989428802762,
          0.20328225399689143,
          0.18516837189103982,
          0.5203002437113982,
          0.5897903886189872,
          0.5433085442954624,
          0.4968266999719376,
          0.4941433848706204,
          0.33606776460783633,
          0.22656260691928096,
          0.5181705304890107,
          0.22727091123222565,
          0.20355834696701233,
          0.2952464776424639,
          0.22524555704767746,
          0.15596935869204398,
          0.08596808734657173,
          0.43294213892796596,
          0.45594515332849594,
          0.08684307734557299,
          0.13330543705443682,
          0.16165266910571044,
          0.5202965058151744,
          0.5902965452685137,
          0.6597866901761028,
          0.6133048458525779,
          0.5668230015290532,
          0.5241359378139316,
          0.5176590876559498,
          0.2476313424032126,
          0.20304690413395157,
          0.1972783582889143,
          0.15717659269775808,
          0.14031070192265982,
          0.2948246202446744,
          0.3652449818787862,
          0.22524797340614164,
          0.15524683926882515,
          0.08597367308099499,
          0.01597178578945621,
          0.38668399851430807,
          0.4564565961615567,
          0.0885337572532936,
          0.016866260403118366,
          0.09165291189097,
          0.59029280737229,
          0.6602928468256293,
          0.7297829917332184,
          0.6833011474096935,
          0.5663168448795268,
          0.6368193030861687,
          0.5835906655839032,
          0.1795328046520222,
          0.09239864915283735,
          0.07706228813275813,
          0.36482417570966735,
          0.2248250647796814,
          0.15524946916981935,
          0.08524812148997284,
          0.015977987469945998,
          0.33478914173145374,
          0.3218774258309667,
          0.4101984557478988,
          0.018539765144544126,
          0.021653154676229552,
          0.6602891089294055,
          0.7302891483827448,
          0.7997792932903339,
          0.7532974489668091,
          0.6363131464366424,
          0.7068156046432843,
          0.2259145589212765,
          0.15601870517009284,
          0.02241797155667387,
          0.055945511407316656,
          0.10705597478277597,
          0.011130166619613885,
          0.15482550931468841,
          0.08525096493349707,
          0.015249403711120518,
          0.7302854104865211,
          0.8002854499398604,
          0.8697755948474495,
          0.8232937505239246,
          0.7063094479937579,
          0.7768119062003999,
          0.29069250246619716,
          0.20240045943934712,
          0.13250460568816347,
          0.03446182605106653,
          0.10705521869587398,
          0.15646131750770914,
          0.03705621443619059,
          0.08482595384969542,
          0.015252460697174786,
          0.8007916065893868,
          0.870281751496976,
          0.939771896404565,
          0.8932900520810402,
          0.7763057495508735,
          0.8468082077575154,
          0.29223714240750553,
          0.0861228514189092,
          0.13216673369444565,
          0.06925696064381097,
          0.0370554985095652,
          0.014826398384702427,
          0.800787868693163,
          0.8499248213829551,
          0.9402780530540915,
          0.9632863536381557,
          0.8463020511079891,
          0.916804509314631,
          0.021344907873988475,
          0.1086526342125163,
          0.003324839130666696,
          0.9407842097036179,
          0.9162983526651046,
          0.9868008108717465,
          0.02203785225121949,
          0.08513853473058697,
          0.9407804718073941,
          0.9862946542222202,
          0.023582492192527907,
          0.03875678046133268,
          0.07267716796515547
         ]
        }
       ],
       "layout": {
        "height": 600,
        "scene": {
         "xaxis": {
          "title": {
           "text": "Progress Weight"
          }
         },
         "yaxis": {
          "title": {
           "text": "Bounds Weight"
          }
         },
         "zaxis": {
          "title": {
           "text": "Proximity Weight"
          }
         }
        },
        "template": {
         "data": {
          "bar": [
           {
            "error_x": {
             "color": "#2a3f5f"
            },
            "error_y": {
             "color": "#2a3f5f"
            },
            "marker": {
             "line": {
              "color": "#E5ECF6",
              "width": 0.5
             },
             "pattern": {
              "fillmode": "overlay",
              "size": 10,
              "solidity": 0.2
             }
            },
            "type": "bar"
           }
          ],
          "barpolar": [
           {
            "marker": {
             "line": {
              "color": "#E5ECF6",
              "width": 0.5
             },
             "pattern": {
              "fillmode": "overlay",
              "size": 10,
              "solidity": 0.2
             }
            },
            "type": "barpolar"
           }
          ],
          "carpet": [
           {
            "aaxis": {
             "endlinecolor": "#2a3f5f",
             "gridcolor": "white",
             "linecolor": "white",
             "minorgridcolor": "white",
             "startlinecolor": "#2a3f5f"
            },
            "baxis": {
             "endlinecolor": "#2a3f5f",
             "gridcolor": "white",
             "linecolor": "white",
             "minorgridcolor": "white",
             "startlinecolor": "#2a3f5f"
            },
            "type": "carpet"
           }
          ],
          "choropleth": [
           {
            "colorbar": {
             "outlinewidth": 0,
             "ticks": ""
            },
            "type": "choropleth"
           }
          ],
          "contour": [
           {
            "colorbar": {
             "outlinewidth": 0,
             "ticks": ""
            },
            "colorscale": [
             [
              0,
              "#0d0887"
             ],
             [
              0.1111111111111111,
              "#46039f"
             ],
             [
              0.2222222222222222,
              "#7201a8"
             ],
             [
              0.3333333333333333,
              "#9c179e"
             ],
             [
              0.4444444444444444,
              "#bd3786"
             ],
             [
              0.5555555555555556,
              "#d8576b"
             ],
             [
              0.6666666666666666,
              "#ed7953"
             ],
             [
              0.7777777777777778,
              "#fb9f3a"
             ],
             [
              0.8888888888888888,
              "#fdca26"
             ],
             [
              1,
              "#f0f921"
             ]
            ],
            "type": "contour"
           }
          ],
          "contourcarpet": [
           {
            "colorbar": {
             "outlinewidth": 0,
             "ticks": ""
            },
            "type": "contourcarpet"
           }
          ],
          "heatmap": [
           {
            "colorbar": {
             "outlinewidth": 0,
             "ticks": ""
            },
            "colorscale": [
             [
              0,
              "#0d0887"
             ],
             [
              0.1111111111111111,
              "#46039f"
             ],
             [
              0.2222222222222222,
              "#7201a8"
             ],
             [
              0.3333333333333333,
              "#9c179e"
             ],
             [
              0.4444444444444444,
              "#bd3786"
             ],
             [
              0.5555555555555556,
              "#d8576b"
             ],
             [
              0.6666666666666666,
              "#ed7953"
             ],
             [
              0.7777777777777778,
              "#fb9f3a"
             ],
             [
              0.8888888888888888,
              "#fdca26"
             ],
             [
              1,
              "#f0f921"
             ]
            ],
            "type": "heatmap"
           }
          ],
          "histogram": [
           {
            "marker": {
             "pattern": {
              "fillmode": "overlay",
              "size": 10,
              "solidity": 0.2
             }
            },
            "type": "histogram"
           }
          ],
          "histogram2d": [
           {
            "colorbar": {
             "outlinewidth": 0,
             "ticks": ""
            },
            "colorscale": [
             [
              0,
              "#0d0887"
             ],
             [
              0.1111111111111111,
              "#46039f"
             ],
             [
              0.2222222222222222,
              "#7201a8"
             ],
             [
              0.3333333333333333,
              "#9c179e"
             ],
             [
              0.4444444444444444,
              "#bd3786"
             ],
             [
              0.5555555555555556,
              "#d8576b"
             ],
             [
              0.6666666666666666,
              "#ed7953"
             ],
             [
              0.7777777777777778,
              "#fb9f3a"
             ],
             [
              0.8888888888888888,
              "#fdca26"
             ],
             [
              1,
              "#f0f921"
             ]
            ],
            "type": "histogram2d"
           }
          ],
          "histogram2dcontour": [
           {
            "colorbar": {
             "outlinewidth": 0,
             "ticks": ""
            },
            "colorscale": [
             [
              0,
              "#0d0887"
             ],
             [
              0.1111111111111111,
              "#46039f"
             ],
             [
              0.2222222222222222,
              "#7201a8"
             ],
             [
              0.3333333333333333,
              "#9c179e"
             ],
             [
              0.4444444444444444,
              "#bd3786"
             ],
             [
              0.5555555555555556,
              "#d8576b"
             ],
             [
              0.6666666666666666,
              "#ed7953"
             ],
             [
              0.7777777777777778,
              "#fb9f3a"
             ],
             [
              0.8888888888888888,
              "#fdca26"
             ],
             [
              1,
              "#f0f921"
             ]
            ],
            "type": "histogram2dcontour"
           }
          ],
          "mesh3d": [
           {
            "colorbar": {
             "outlinewidth": 0,
             "ticks": ""
            },
            "type": "mesh3d"
           }
          ],
          "parcoords": [
           {
            "line": {
             "colorbar": {
              "outlinewidth": 0,
              "ticks": ""
             }
            },
            "type": "parcoords"
           }
          ],
          "pie": [
           {
            "automargin": true,
            "type": "pie"
           }
          ],
          "scatter": [
           {
            "fillpattern": {
             "fillmode": "overlay",
             "size": 10,
             "solidity": 0.2
            },
            "type": "scatter"
           }
          ],
          "scatter3d": [
           {
            "line": {
             "colorbar": {
              "outlinewidth": 0,
              "ticks": ""
             }
            },
            "marker": {
             "colorbar": {
              "outlinewidth": 0,
              "ticks": ""
             }
            },
            "type": "scatter3d"
           }
          ],
          "scattercarpet": [
           {
            "marker": {
             "colorbar": {
              "outlinewidth": 0,
              "ticks": ""
             }
            },
            "type": "scattercarpet"
           }
          ],
          "scattergeo": [
           {
            "marker": {
             "colorbar": {
              "outlinewidth": 0,
              "ticks": ""
             }
            },
            "type": "scattergeo"
           }
          ],
          "scattergl": [
           {
            "marker": {
             "colorbar": {
              "outlinewidth": 0,
              "ticks": ""
             }
            },
            "type": "scattergl"
           }
          ],
          "scattermap": [
           {
            "marker": {
             "colorbar": {
              "outlinewidth": 0,
              "ticks": ""
             }
            },
            "type": "scattermap"
           }
          ],
          "scattermapbox": [
           {
            "marker": {
             "colorbar": {
              "outlinewidth": 0,
              "ticks": ""
             }
            },
            "type": "scattermapbox"
           }
          ],
          "scatterpolar": [
           {
            "marker": {
             "colorbar": {
              "outlinewidth": 0,
              "ticks": ""
             }
            },
            "type": "scatterpolar"
           }
          ],
          "scatterpolargl": [
           {
            "marker": {
             "colorbar": {
              "outlinewidth": 0,
              "ticks": ""
             }
            },
            "type": "scatterpolargl"
           }
          ],
          "scatterternary": [
           {
            "marker": {
             "colorbar": {
              "outlinewidth": 0,
              "ticks": ""
             }
            },
            "type": "scatterternary"
           }
          ],
          "surface": [
           {
            "colorbar": {
             "outlinewidth": 0,
             "ticks": ""
            },
            "colorscale": [
             [
              0,
              "#0d0887"
             ],
             [
              0.1111111111111111,
              "#46039f"
             ],
             [
              0.2222222222222222,
              "#7201a8"
             ],
             [
              0.3333333333333333,
              "#9c179e"
             ],
             [
              0.4444444444444444,
              "#bd3786"
             ],
             [
              0.5555555555555556,
              "#d8576b"
             ],
             [
              0.6666666666666666,
              "#ed7953"
             ],
             [
              0.7777777777777778,
              "#fb9f3a"
             ],
             [
              0.8888888888888888,
              "#fdca26"
             ],
             [
              1,
              "#f0f921"
             ]
            ],
            "type": "surface"
           }
          ],
          "table": [
           {
            "cells": {
             "fill": {
              "color": "#EBF0F8"
             },
             "line": {
              "color": "white"
             }
            },
            "header": {
             "fill": {
              "color": "#C8D4E3"
             },
             "line": {
              "color": "white"
             }
            },
            "type": "table"
           }
          ]
         },
         "layout": {
          "annotationdefaults": {
           "arrowcolor": "#2a3f5f",
           "arrowhead": 0,
           "arrowwidth": 1
          },
          "autotypenumbers": "strict",
          "coloraxis": {
           "colorbar": {
            "outlinewidth": 0,
            "ticks": ""
           }
          },
          "colorscale": {
           "diverging": [
            [
             0,
             "#8e0152"
            ],
            [
             0.1,
             "#c51b7d"
            ],
            [
             0.2,
             "#de77ae"
            ],
            [
             0.3,
             "#f1b6da"
            ],
            [
             0.4,
             "#fde0ef"
            ],
            [
             0.5,
             "#f7f7f7"
            ],
            [
             0.6,
             "#e6f5d0"
            ],
            [
             0.7,
             "#b8e186"
            ],
            [
             0.8,
             "#7fbc41"
            ],
            [
             0.9,
             "#4d9221"
            ],
            [
             1,
             "#276419"
            ]
           ],
           "sequential": [
            [
             0,
             "#0d0887"
            ],
            [
             0.1111111111111111,
             "#46039f"
            ],
            [
             0.2222222222222222,
             "#7201a8"
            ],
            [
             0.3333333333333333,
             "#9c179e"
            ],
            [
             0.4444444444444444,
             "#bd3786"
            ],
            [
             0.5555555555555556,
             "#d8576b"
            ],
            [
             0.6666666666666666,
             "#ed7953"
            ],
            [
             0.7777777777777778,
             "#fb9f3a"
            ],
            [
             0.8888888888888888,
             "#fdca26"
            ],
            [
             1,
             "#f0f921"
            ]
           ],
           "sequentialminus": [
            [
             0,
             "#0d0887"
            ],
            [
             0.1111111111111111,
             "#46039f"
            ],
            [
             0.2222222222222222,
             "#7201a8"
            ],
            [
             0.3333333333333333,
             "#9c179e"
            ],
            [
             0.4444444444444444,
             "#bd3786"
            ],
            [
             0.5555555555555556,
             "#d8576b"
            ],
            [
             0.6666666666666666,
             "#ed7953"
            ],
            [
             0.7777777777777778,
             "#fb9f3a"
            ],
            [
             0.8888888888888888,
             "#fdca26"
            ],
            [
             1,
             "#f0f921"
            ]
           ]
          },
          "colorway": [
           "#636efa",
           "#EF553B",
           "#00cc96",
           "#ab63fa",
           "#FFA15A",
           "#19d3f3",
           "#FF6692",
           "#B6E880",
           "#FF97FF",
           "#FECB52"
          ],
          "font": {
           "color": "#2a3f5f"
          },
          "geo": {
           "bgcolor": "white",
           "lakecolor": "white",
           "landcolor": "#E5ECF6",
           "showlakes": true,
           "showland": true,
           "subunitcolor": "white"
          },
          "hoverlabel": {
           "align": "left"
          },
          "hovermode": "closest",
          "mapbox": {
           "style": "light"
          },
          "paper_bgcolor": "white",
          "plot_bgcolor": "#E5ECF6",
          "polar": {
           "angularaxis": {
            "gridcolor": "white",
            "linecolor": "white",
            "ticks": ""
           },
           "bgcolor": "#E5ECF6",
           "radialaxis": {
            "gridcolor": "white",
            "linecolor": "white",
            "ticks": ""
           }
          },
          "scene": {
           "xaxis": {
            "backgroundcolor": "#E5ECF6",
            "gridcolor": "white",
            "gridwidth": 2,
            "linecolor": "white",
            "showbackground": true,
            "ticks": "",
            "zerolinecolor": "white"
           },
           "yaxis": {
            "backgroundcolor": "#E5ECF6",
            "gridcolor": "white",
            "gridwidth": 2,
            "linecolor": "white",
            "showbackground": true,
            "ticks": "",
            "zerolinecolor": "white"
           },
           "zaxis": {
            "backgroundcolor": "#E5ECF6",
            "gridcolor": "white",
            "gridwidth": 2,
            "linecolor": "white",
            "showbackground": true,
            "ticks": "",
            "zerolinecolor": "white"
           }
          },
          "shapedefaults": {
           "line": {
            "color": "#2a3f5f"
           }
          },
          "ternary": {
           "aaxis": {
            "gridcolor": "white",
            "linecolor": "white",
            "ticks": ""
           },
           "baxis": {
            "gridcolor": "white",
            "linecolor": "white",
            "ticks": ""
           },
           "bgcolor": "#E5ECF6",
           "caxis": {
            "gridcolor": "white",
            "linecolor": "white",
            "ticks": ""
           }
          },
          "title": {
           "x": 0.05
          },
          "xaxis": {
           "automargin": true,
           "gridcolor": "white",
           "linecolor": "white",
           "ticks": "",
           "title": {
            "standoff": 15
           },
           "zerolinecolor": "white",
           "zerolinewidth": 2
          },
          "yaxis": {
           "automargin": true,
           "gridcolor": "white",
           "linecolor": "white",
           "ticks": "",
           "title": {
            "standoff": 15
           },
           "zerolinecolor": "white",
           "zerolinewidth": 2
          }
         }
        },
        "title": {
         "text": "Is Vector Cost: 1, Metric: <function bounds_test at 0x7b3fa6734b80>, Scenario: inside_edge - small range<br>Volume: 0.891<br><sub>inside_edge.json</sub>"
        },
        "width": 800
       }
      }
     },
     "metadata": {},
     "output_type": "display_data"
    }
   ],
   "source": [
    "# Show all JSON files in a directory\n",
    "path = \"/home/bentoaz/SEMBAS/.results/old_bounds/vector_bounds\"\n",
    "show_plots(path)\n",
    "\n",
    "# Show specific range\n",
    "# show_plots(\"path/to/json/directory\", start_index=2, num_plots=5)"
   ]
  }
 ],
 "metadata": {
  "kernelspec": {
   "display_name": "Python 3",
   "language": "python",
   "name": "python3"
  },
  "language_info": {
   "codemirror_mode": {
    "name": "ipython",
    "version": 3
   },
   "file_extension": ".py",
   "mimetype": "text/x-python",
   "name": "python",
   "nbconvert_exporter": "python",
   "pygments_lexer": "ipython3",
   "version": "3.10.12"
  }
 },
 "nbformat": 4,
 "nbformat_minor": 2
}
