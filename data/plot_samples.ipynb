{
 "cells": [
  {
   "cell_type": "code",
   "execution_count": 1,
   "id": "da8ab82a",
   "metadata": {},
   "outputs": [],
   "source": [
    "import json\n",
    "import plotly.graph_objects as go\n",
    "from plotly.subplots import make_subplots\n",
    "import math\n",
    "\n",
    "def plot_sembas_results(file, num):\n",
    "    \"\"\"\n",
    "    Simple 3D scatter plot using Plotly - automatically loads results.json\n",
    "    \"\"\"\n",
    "    # Load data from JSON file\n",
    "    with open(file, 'r') as f:\n",
    "        data = json.load(f)\n",
    "    \n",
    "    coords = data[num][\"requests\"]\n",
    "    results = data[num][\"results\"]\n",
    "    description = data[num][\"description\"]\n",
    "\n",
    "    # Extract coordinates\n",
    "    x = [pt[0] for pt in coords]\n",
    "    y = [pt[1] for pt in coords]\n",
    "    z = [pt[2] for pt in coords]\n",
    "    \n",
    "    # Create color mapping (0 = red/failed, 1 = blue/successful)\n",
    "    colors = [1 if res else 0 for res in results]\n",
    "    \n",
    "    # Create 3D scatter plot\n",
    "    fig = go.Figure(data=[go.Scatter3d(\n",
    "        x=x,\n",
    "        y=y,\n",
    "        z=z,\n",
    "        mode='markers',\n",
    "        marker=dict(\n",
    "            size=10,\n",
    "            color=colors,\n",
    "            colorscale=[[0, 'red'], [1, 'blue']],\n",
    "            opacity=1.0,\n",
    "            line=dict(width=2, color='black')\n",
    "        ),\n",
    "        text=[f'Point {i+1}<br>{\"Successful\" if res else \"Failed\"}<br>({x[i]:.2f}, {y[i]:.2f}, {z[i]:.2f})'\n",
    "              for i, res in enumerate(results)],\n",
    "        hoverinfo='text'\n",
    "    )])\n",
    "    \n",
    "    # Update layout\n",
    "    fig.update_layout(\n",
    "        title=description,\n",
    "        scene=dict(\n",
    "            xaxis_title='Progress Weight',\n",
    "            yaxis_title='Bounds Weight',\n",
    "            zaxis_title='Proximity Weight'\n",
    "        ),\n",
    "        width=1000,\n",
    "        height=800\n",
    "    )\n",
    "    \n",
    "    fig.show()\n",
    "    # fig.write_image(\"images/\"+str(num)+'.png')\n",
    "\n",
    "\n",
    "def plot_sembas_grid_html(files_and_params, output_filename=\"combined_sembas_results.html\"):\n",
    "    \"\"\"\n",
    "    Create a single HTML file with multiple datasets\n",
    "    \n",
    "    Args:\n",
    "        files_and_params: List of tuples [(file, start_index, num_plots), ...]\n",
    "        output_filename: Name of the output HTML file\n",
    "    \"\"\"\n",
    "    all_figures = []\n",
    "    dataset_names = []\n",
    "    \n",
    "    # Process each dataset\n",
    "    for file, start_index, num_plots in files_and_params:\n",
    "        print(f\"Processing {file}...\")\n",
    "        figures = plot_sembas_grid(file, start_index, num_plots, save_html=False)\n",
    "        all_figures.extend(figures)\n",
    "        dataset_names.extend([f\"{file.split('/')[-1]} - Page {i+1}\" for i in range(len(figures))])\n",
    "    \n",
    "    # Create combined HTML\n",
    "    html_content = \"\"\"\n",
    "<!DOCTYPE html>\n",
    "<html>\n",
    "<head>\n",
    "    <title>Combined Sembas Results Visualization</title>\n",
    "    <script src=\"https://cdn.plot.ly/plotly-latest.min.js\"></script>\n",
    "    <style>\n",
    "        body { font-family: Arial, sans-serif; margin: 20px; }\n",
    "        .page { margin-bottom: 50px; page-break-after: always; }\n",
    "        h1 { text-align: center; color: #333; }\n",
    "        h2 { color: #666; border-bottom: 2px solid #ccc; padding-bottom: 10px; }\n",
    "        .plot-container { width: 100%; height: 1700px; }\n",
    "        .dataset-section { margin-bottom: 60px; }\n",
    "    </style>\n",
    "</head>\n",
    "<body>\n",
    "    <h1>Combined Sembas Results Visualization</h1>\n",
    "\"\"\"\n",
    "    \n",
    "    # Add each figure to HTML\n",
    "    for i, (fig, name) in enumerate(zip(all_figures, dataset_names)):\n",
    "        html_content += f\"\"\"\n",
    "    <div class=\"dataset-section\">\n",
    "        <h2>{name}</h2>\n",
    "        <div id=\"plot{i}\" class=\"plot-container\"></div>\n",
    "        <script>\n",
    "            Plotly.newPlot('plot{i}', {fig.to_json()});\n",
    "        </script>\n",
    "    </div>\n",
    "\"\"\"\n",
    "    \n",
    "    html_content += \"\"\"\n",
    "</body>\n",
    "</html>\n",
    "\"\"\"\n",
    "    \n",
    "    # Save HTML file\n",
    "    with open(output_filename, 'w') as f:\n",
    "        f.write(html_content)\n",
    "    \n",
    "    print(f\"Combined HTML file saved as: {output_filename}\")\n",
    "    return output_filename\n",
    "\n",
    "\n",
    "def plot_sembas_grid(file, start_index=0, num_plots=None):\n",
    "    \"\"\"\n",
    "    Create a grid of 3D plots using the original function logic in a for loop\n",
    "    \"\"\"\n",
    "    # Load data from JSON file\n",
    "    with open(file, 'r') as f:\n",
    "        data = json.load(f)\n",
    "    \n",
    "    # Determine number of plots\n",
    "    if num_plots is None:\n",
    "        num_plots = len(data) - start_index\n",
    "    \n",
    "    # Group plots into pages of 4\n",
    "    plots_per_page = 4\n",
    "    num_pages = math.ceil(num_plots / plots_per_page)\n",
    "    \n",
    "    for page in range(num_pages):\n",
    "        # Calculate which plots go on this page\n",
    "        page_start = start_index + (page * plots_per_page)\n",
    "        page_end = min(page_start + plots_per_page, start_index + num_plots)\n",
    "        \n",
    "        # Get descriptions for subplot titles\n",
    "        subplot_titles = []\n",
    "        for i in range(page_start, page_end):\n",
    "            if i < len(data):\n",
    "                subplot_titles.append(data[i][\"description\"])\n",
    "        \n",
    "        # Create subplot grid: 2 rows, 2 columns\n",
    "        fig = make_subplots(\n",
    "            rows=2, cols=2,\n",
    "            specs=[[{'type': 'scatter3d'}, {'type': 'scatter3d'}],\n",
    "                   [{'type': 'scatter3d'}, {'type': 'scatter3d'}]],\n",
    "            subplot_titles=subplot_titles\n",
    "        )\n",
    "        \n",
    "        # Plot positions for 2x2 grid\n",
    "        positions = [(1, 1), (1, 2), (2, 1), (2, 2)]\n",
    "        \n",
    "        # Use original function logic in a for loop\n",
    "        for idx, plot_num in enumerate(range(page_start, page_end)):\n",
    "            if plot_num >= len(data):\n",
    "                break\n",
    "            \n",
    "            # Original function logic starts here\n",
    "            coords = data[plot_num][\"requests\"]\n",
    "            results = data[plot_num][\"results\"]\n",
    "            description = data[plot_num][\"description\"]\n",
    "            \n",
    "            # Extract coordinates\n",
    "            x = [pt[0] for pt in coords]\n",
    "            y = [pt[1] for pt in coords]\n",
    "            z = [pt[2] for pt in coords]\n",
    "            \n",
    "            # Create color mapping (0 = red/failed, 1 = blue/successful)\n",
    "            colors = [1 if res else 0 for res in results]\n",
    "            \n",
    "            # Create the same scatter plot as original function\n",
    "            row, col = positions[idx]\n",
    "            fig.add_trace(\n",
    "                go.Scatter3d(\n",
    "                    x=x,\n",
    "                    y=y,\n",
    "                    z=z,\n",
    "                    mode='markers',\n",
    "                    marker=dict(\n",
    "                        size=8,  # Slightly smaller for grid view\n",
    "                        color=colors,\n",
    "                        colorscale=[[0, 'red'], [1, 'blue']],\n",
    "                        opacity=1.0,\n",
    "                        line=dict(width=2, color='black')\n",
    "                    ),\n",
    "                    text=[f'Point {i+1}<br>{\"Successful\" if res else \"Failed\"}<br>({x[i]:.2f}, {y[i]:.2f}, {z[i]:.2f})'\n",
    "                          for i, res in enumerate(results)],\n",
    "                    hoverinfo='text',\n",
    "                    showlegend=False\n",
    "                ),\n",
    "                row=row, col=col\n",
    "            )\n",
    "            \n",
    "            # Update the scene for this subplot (same as original function)\n",
    "            scene_name = f'scene{idx+1}' if idx > 0 else 'scene'\n",
    "            fig.update_layout(**{\n",
    "                scene_name: dict(\n",
    "                    xaxis_title='Progress Weight',\n",
    "                    yaxis_title='Bounds Weight',\n",
    "                    zaxis_title='Proximity Weight'\n",
    "                )\n",
    "            })\n",
    "        \n",
    "        # Overall layout\n",
    "        fig.update_layout(\n",
    "            title_text=f\"Sembas Results Grid - Page {page + 1}/{num_pages}\",\n",
    "            width=1400,\n",
    "            height=1000\n",
    "        )\n",
    "        \n",
    "        fig.show()"
   ]
  },
  {
   "cell_type": "code",
   "execution_count": 2,
   "id": "a08d7c44",
   "metadata": {},
   "outputs": [
    {
     "data": {
      "application/vnd.plotly.v1+json": {
       "config": {
        "plotlyServerURL": "https://plot.ly"
       },
       "data": [
        {
         "hoverinfo": "text",
         "marker": {
          "color": [
           1,
           1,
           1,
           1,
           1,
           1,
           1,
           1,
           1,
           1,
           1,
           1,
           1,
           1,
           1,
           1,
           1,
           1,
           1,
           1,
           1,
           1,
           1,
           1,
           1,
           1,
           1,
           1,
           1,
           1,
           1,
           1,
           1,
           1,
           1,
           1,
           1,
           1,
           1,
           1,
           1,
           1,
           1,
           1,
           1,
           1,
           1,
           1,
           1,
           1,
           1,
           1,
           1,
           1,
           1,
           1,
           1,
           1,
           1,
           1,
           1,
           1,
           1,
           1,
           1,
           1,
           1,
           1,
           1,
           1,
           0,
           1,
           1,
           1,
           1,
           1,
           0,
           0,
           1,
           0,
           1,
           1,
           0,
           0,
           0,
           1,
           1,
           1,
           0,
           1,
           1,
           0,
           0,
           1,
           0,
           0,
           0,
           1,
           1,
           1,
           0,
           1,
           1,
           0,
           1,
           1,
           0,
           0,
           1,
           0,
           1,
           1,
           0,
           0,
           1,
           0,
           0,
           1,
           0,
           1,
           1,
           0,
           0,
           1,
           0,
           0,
           1,
           0,
           0,
           1,
           0,
           0,
           0,
           1,
           1,
           1,
           0,
           0,
           1,
           0,
           0,
           1,
           1,
           1,
           0,
           1,
           1,
           1,
           1,
           1,
           1,
           1,
           0,
           0,
           1,
           0,
           1,
           1,
           0,
           0,
           0,
           1,
           1,
           0,
           1,
           1,
           1,
           0,
           0,
           0,
           1,
           1,
           0,
           1,
           0,
           1,
           0,
           0,
           1,
           0,
           0,
           1,
           1,
           0,
           1,
           1,
           0,
           1,
           1,
           0,
           0,
           1,
           0,
           1,
           1,
           0,
           1,
           1,
           0,
           1,
           1,
           0,
           0,
           1,
           0,
           0,
           0,
           1,
           0,
           1,
           0,
           1,
           1,
           0,
           0,
           1,
           0,
           0,
           1,
           0,
           0,
           1,
           0,
           0,
           1,
           0,
           0,
           1,
           0,
           1,
           1,
           1,
           0,
           0,
           1,
           0,
           1,
           1,
           0,
           1,
           1,
           1,
           0,
           1,
           1,
           0,
           1,
           0,
           1,
           1,
           1,
           0,
           1,
           1,
           0,
           1,
           0,
           1,
           1,
           1,
           0,
           1,
           0,
           1,
           1,
           1,
           1,
           1,
           1,
           0,
           1,
           0,
           0,
           1,
           1,
           1,
           1,
           1,
           1
          ],
          "colorscale": [
           [
            0,
            "red"
           ],
           [
            1,
            "blue"
           ]
          ],
          "line": {
           "color": "black",
           "width": 2
          },
          "opacity": 1,
          "size": 10
         },
         "mode": "markers",
         "text": [
          "Point 1<br>Successful<br>(0.12, 0.15, 0.55)",
          "Point 2<br>Successful<br>(0.09, 0.92, 0.38)",
          "Point 3<br>Successful<br>(0.13, 0.30, 0.44)",
          "Point 4<br>Successful<br>(0.12, 0.28, 0.62)",
          "Point 5<br>Successful<br>(0.11, 0.80, 0.23)",
          "Point 6<br>Successful<br>(0.07, 0.36, 0.25)",
          "Point 7<br>Successful<br>(0.17, 0.59, 0.39)",
          "Point 8<br>Successful<br>(0.08, 0.99, 0.05)",
          "Point 9<br>Successful<br>(0.14, 0.64, 0.26)",
          "Point 10<br>Successful<br>(0.03, 0.76, 0.51)",
          "Point 11<br>Successful<br>(0.12, 0.69, 0.37)",
          "Point 12<br>Successful<br>(0.01, 0.86, 0.34)",
          "Point 13<br>Successful<br>(0.18, 0.72, 0.56)",
          "Point 14<br>Successful<br>(0.09, 0.94, 0.10)",
          "Point 15<br>Successful<br>(0.06, 0.27, 0.26)",
          "Point 16<br>Successful<br>(0.14, 0.04, 0.62)",
          "Point 17<br>Successful<br>(0.20, 0.11, 0.90)",
          "Point 18<br>Successful<br>(0.04, 0.55, 0.98)",
          "Point 19<br>Successful<br>(0.08, 0.37, 0.68)",
          "Point 20<br>Successful<br>(0.03, 0.01, 0.38)",
          "Point 21<br>Successful<br>(0.11, 0.54, 0.44)",
          "Point 22<br>Successful<br>(0.09, 0.47, 0.06)",
          "Point 23<br>Successful<br>(0.14, 0.06, 0.93)",
          "Point 24<br>Successful<br>(0.19, 0.65, 0.22)",
          "Point 25<br>Successful<br>(0.00, 0.80, 0.48)",
          "Point 26<br>Successful<br>(0.07, 0.66, 0.13)",
          "Point 27<br>Successful<br>(0.02, 0.38, 0.22)",
          "Point 28<br>Successful<br>(0.19, 0.32, 0.92)",
          "Point 29<br>Successful<br>(0.10, 0.59, 0.22)",
          "Point 30<br>Successful<br>(0.11, 0.23, 0.86)",
          "Point 31<br>Successful<br>(0.16, 0.16, 0.05)",
          "Point 32<br>Successful<br>(0.04, 0.47, 0.25)",
          "Point 33<br>Successful<br>(0.05, 0.17, 0.18)",
          "Point 34<br>Successful<br>(0.04, 1.00, 0.56)",
          "Point 35<br>Successful<br>(0.07, 0.59, 0.48)",
          "Point 36<br>Successful<br>(0.13, 0.43, 0.43)",
          "Point 37<br>Successful<br>(0.05, 0.87, 0.11)",
          "Point 38<br>Successful<br>(0.18, 0.72, 0.32)",
          "Point 39<br>Successful<br>(0.14, 1.00, 0.47)",
          "Point 40<br>Successful<br>(0.06, 0.85, 0.10)",
          "Point 41<br>Successful<br>(0.19, 0.42, 0.85)",
          "Point 42<br>Successful<br>(0.02, 0.32, 0.70)",
          "Point 43<br>Successful<br>(0.02, 0.26, 0.56)",
          "Point 44<br>Successful<br>(0.13, 0.33, 0.92)",
          "Point 45<br>Successful<br>(0.16, 0.91, 0.68)",
          "Point 46<br>Successful<br>(0.11, 0.61, 0.43)",
          "Point 47<br>Successful<br>(0.15, 0.20, 0.00)",
          "Point 48<br>Successful<br>(0.07, 0.96, 0.43)",
          "Point 49<br>Successful<br>(0.15, 0.34, 0.95)",
          "Point 50<br>Successful<br>(0.06, 0.44, 0.32)",
          "Point 51<br>Successful<br>(0.18, 0.88, 0.26)",
          "Point 52<br>Successful<br>(0.12, 0.81, 0.02)",
          "Point 53<br>Successful<br>(0.18, 0.16, 0.28)",
          "Point 54<br>Successful<br>(0.07, 0.27, 0.88)",
          "Point 55<br>Successful<br>(0.06, 0.82, 0.96)",
          "Point 56<br>Successful<br>(0.14, 0.21, 0.44)",
          "Point 57<br>Successful<br>(0.20, 0.66, 0.13)",
          "Point 58<br>Successful<br>(0.18, 0.33, 0.12)",
          "Point 59<br>Successful<br>(0.13, 0.14, 0.00)",
          "Point 60<br>Successful<br>(0.04, 0.06, 0.98)",
          "Point 61<br>Successful<br>(0.02, 0.94, 0.70)",
          "Point 62<br>Successful<br>(0.05, 0.90, 0.27)",
          "Point 63<br>Successful<br>(0.02, 0.67, 0.78)",
          "Point 64<br>Successful<br>(0.11, 0.88, 0.59)",
          "Point 65<br>Successful<br>(0.00, 0.27, 0.43)",
          "Point 66<br>Successful<br>(0.03, 0.62, 0.64)",
          "Point 67<br>Successful<br>(0.09, 0.81, 0.27)",
          "Point 68<br>Successful<br>(0.07, 0.13, 0.63)",
          "Point 69<br>Successful<br>(0.17, 0.33, 0.95)",
          "Point 70<br>Successful<br>(0.12, 0.07, 0.10)",
          "Point 71<br>Failed<br>(0.01, 0.92, 0.29)",
          "Point 72<br>Successful<br>(0.07, 0.54, 0.42)",
          "Point 73<br>Successful<br>(0.04, 0.73, 0.35)",
          "Point 74<br>Successful<br>(0.03, 0.83, 0.32)",
          "Point 75<br>Successful<br>(0.02, 0.87, 0.30)",
          "Point 76<br>Successful<br>(0.01, 0.85, 0.34)",
          "Point 77<br>Failed<br>(0.01, 0.93, 0.29)",
          "Point 78<br>Failed<br>(0.01, 0.89, 0.31)",
          "Point 79<br>Successful<br>(0.03, 0.90, 0.27)",
          "Point 80<br>Failed<br>(0.01, 0.93, 0.29)",
          "Point 81<br>Successful<br>(0.02, 0.93, 0.27)",
          "Point 82<br>Successful<br>(0.02, 0.91, 0.36)",
          "Point 83<br>Failed<br>(0.01, 0.93, 0.29)",
          "Point 84<br>Failed<br>(0.02, 0.94, 0.33)",
          "Point 85<br>Failed<br>(0.02, 0.84, 0.25)",
          "Point 86<br>Successful<br>(0.03, 0.82, 0.32)",
          "Point 87<br>Successful<br>(0.02, 0.81, 0.28)",
          "Point 88<br>Successful<br>(0.01, 0.85, 0.36)",
          "Point 89<br>Failed<br>(0.01, 0.91, 0.28)",
          "Point 90<br>Successful<br>(0.01, 0.89, 0.33)",
          "Point 91<br>Successful<br>(0.03, 0.90, 0.25)",
          "Point 92<br>Failed<br>(0.01, 0.91, 0.28)",
          "Point 93<br>Failed<br>(0.02, 0.92, 0.25)",
          "Point 94<br>Successful<br>(0.02, 0.93, 0.34)",
          "Point 95<br>Failed<br>(0.01, 0.91, 0.28)",
          "Point 96<br>Failed<br>(0.01, 0.94, 0.32)",
          "Point 97<br>Failed<br>(0.01, 0.82, 0.26)",
          "Point 98<br>Successful<br>(0.03, 0.83, 0.33)",
          "Point 99<br>Successful<br>(0.02, 0.81, 0.29)",
          "Point 100<br>Successful<br>(0.03, 0.92, 0.20)",
          "Point 101<br>Failed<br>(0.02, 0.94, 0.23)",
          "Point 102<br>Successful<br>(0.03, 0.94, 0.20)",
          "Point 103<br>Successful<br>(0.03, 0.95, 0.29)",
          "Point 104<br>Failed<br>(0.02, 0.94, 0.23)",
          "Point 105<br>Successful<br>(0.02, 0.96, 0.26)",
          "Point 106<br>Successful<br>(0.02, 0.84, 0.21)",
          "Point 107<br>Failed<br>(0.02, 0.94, 0.23)",
          "Point 108<br>Failed<br>(0.02, 0.89, 0.21)",
          "Point 109<br>Successful<br>(0.02, 0.90, 0.40)",
          "Point 110<br>Failed<br>(0.01, 0.97, 0.32)",
          "Point 111<br>Successful<br>(0.01, 0.94, 0.37)",
          "Point 112<br>Successful<br>(0.03, 0.98, 0.38)",
          "Point 113<br>Failed<br>(0.01, 0.97, 0.32)",
          "Point 114<br>Failed<br>(0.02, 0.99, 0.36)",
          "Point 115<br>Successful<br>(0.02, 0.74, 0.32)",
          "Point 116<br>Failed<br>(0.01, 0.80, 0.25)",
          "Point 117<br>Failed<br>(0.01, 0.76, 0.28)",
          "Point 118<br>Successful<br>(0.03, 0.78, 0.24)",
          "Point 119<br>Failed<br>(0.01, 0.80, 0.25)",
          "Point 120<br>Successful<br>(0.02, 0.79, 0.23)",
          "Point 121<br>Successful<br>(0.01, 0.83, 0.34)",
          "Point 122<br>Failed<br>(0.01, 0.80, 0.25)",
          "Point 123<br>Failed<br>(0.01, 0.82, 0.29)",
          "Point 124<br>Successful<br>(0.02, 0.98, 0.14)",
          "Point 125<br>Failed<br>(0.01, 0.95, 0.22)",
          "Point 126<br>Failed<br>(0.01, 0.98, 0.17)",
          "Point 127<br>Successful<br>(0.02, 0.88, 0.17)",
          "Point 128<br>Failed<br>(0.01, 0.95, 0.22)",
          "Point 129<br>Failed<br>(0.01, 0.91, 0.19)",
          "Point 130<br>Successful<br>(0.03, 1.00, 0.23)",
          "Point 131<br>Failed<br>(0.01, 0.95, 0.22)",
          "Point 132<br>Failed<br>(0.02, 0.99, 0.24)",
          "Point 133<br>Failed<br>(0.01, 0.99, 0.31)",
          "Point 134<br>Successful<br>(0.03, 0.97, 0.31)",
          "Point 135<br>Successful<br>(0.02, 0.98, 0.33)",
          "Point 136<br>Successful<br>(0.02, 0.79, 0.17)",
          "Point 137<br>Failed<br>(0.01, 0.88, 0.19)",
          "Point 138<br>Failed<br>(0.01, 0.84, 0.17)",
          "Point 139<br>Successful<br>(0.00, 0.98, 0.40)",
          "Point 140<br>Failed<br>(0.01, 0.98, 0.31)",
          "Point 141<br>Failed<br>(0.00, 1.00, 0.36)",
          "Point 142<br>Successful<br>(0.02, 0.96, 0.44)",
          "Point 143<br>Successful<br>(0.02, 0.68, 0.34)",
          "Point 144<br>Successful<br>(0.01, 0.73, 0.27)",
          "Point 145<br>Failed<br>(0.02, 0.78, 0.27)",
          "Point 146<br>Successful<br>(0.03, 0.72, 0.27)",
          "Point 147<br>Successful<br>(0.01, 0.73, 0.27)",
          "Point 148<br>Successful<br>(0.01, 0.75, 0.32)",
          "Point 149<br>Successful<br>(0.01, 0.77, 0.36)",
          "Point 150<br>Successful<br>(0.01, 0.73, 0.27)",
          "Point 151<br>Successful<br>(0.02, 0.72, 0.25)",
          "Point 152<br>Successful<br>(0.02, 0.73, 0.19)",
          "Point 153<br>Failed<br>(0.01, 0.80, 0.23)",
          "Point 154<br>Failed<br>(0.01, 0.75, 0.20)",
          "Point 155<br>Successful<br>(0.01, 0.77, 0.36)",
          "Point 156<br>Failed<br>(0.00, 0.82, 0.30)",
          "Point 157<br>Successful<br>(0.01, 0.78, 0.33)",
          "Point 158<br>Successful<br>(0.01, 0.85, 0.39)",
          "Point 159<br>Failed<br>(0.00, 0.82, 0.30)",
          "Point 160<br>Failed<br>(0.00, 0.84, 0.34)",
          "Point 161<br>Failed<br>(0.02, 0.92, 0.11)",
          "Point 162<br>Successful<br>(0.04, 0.96, 0.12)",
          "Point 163<br>Successful<br>(0.03, 0.93, 0.10)",
          "Point 164<br>Failed<br>(0.01, 0.77, 0.22)",
          "Point 165<br>Successful<br>(0.03, 0.75, 0.19)",
          "Point 166<br>Successful<br>(0.02, 0.75, 0.22)",
          "Point 167<br>Successful<br>(0.03, 0.81, 0.12)",
          "Point 168<br>Failed<br>(0.01, 0.83, 0.15)",
          "Point 169<br>Failed<br>(0.02, 0.84, 0.12)",
          "Point 170<br>Failed<br>(0.01, 0.74, 0.13)",
          "Point 171<br>Successful<br>(0.03, 0.75, 0.19)",
          "Point 172<br>Successful<br>(0.02, 0.73, 0.16)",
          "Point 173<br>Failed<br>(0.01, 0.71, 0.21)",
          "Point 174<br>Successful<br>(0.01, 0.67, 0.29)",
          "Point 175<br>Failed<br>(0.01, 0.67, 0.24)",
          "Point 176<br>Successful<br>(0.02, 0.67, 0.15)",
          "Point 177<br>Failed<br>(0.01, 0.74, 0.19)",
          "Point 178<br>Failed<br>(0.01, 0.69, 0.17)",
          "Point 179<br>Successful<br>(0.02, 0.69, 0.25)",
          "Point 180<br>Failed<br>(0.01, 0.74, 0.19)",
          "Point 181<br>Failed<br>(0.01, 0.71, 0.23)",
          "Point 182<br>Successful<br>(0.00, 0.79, 0.41)",
          "Point 183<br>Successful<br>(0.04, 0.87, 0.07)",
          "Point 184<br>Failed<br>(0.02, 0.89, 0.09)",
          "Point 185<br>Successful<br>(0.03, 0.86, 0.08)",
          "Point 186<br>Successful<br>(0.03, 0.95, 0.04)",
          "Point 187<br>Failed<br>(0.02, 0.89, 0.09)",
          "Point 188<br>Successful<br>(0.02, 0.92, 0.05)",
          "Point 189<br>Successful<br>(0.02, 0.76, 0.08)",
          "Point 190<br>Failed<br>(0.02, 0.85, 0.10)",
          "Point 191<br>Failed<br>(0.02, 0.81, 0.07)",
          "Point 192<br>Successful<br>(0.03, 0.70, 0.11)",
          "Point 193<br>Failed<br>(0.01, 0.72, 0.11)",
          "Point 194<br>Successful<br>(0.02, 0.70, 0.09)",
          "Point 195<br>Successful<br>(0.01, 0.61, 0.32)",
          "Point 196<br>Failed<br>(0.00, 0.65, 0.23)",
          "Point 197<br>Successful<br>(0.00, 0.61, 0.27)",
          "Point 198<br>Successful<br>(0.02, 0.64, 0.28)",
          "Point 199<br>Failed<br>(0.00, 0.65, 0.23)",
          "Point 200<br>Successful<br>(0.01, 0.64, 0.24)",
          "Point 201<br>Successful<br>(0.02, 0.61, 0.12)",
          "Point 202<br>Failed<br>(0.00, 0.68, 0.16)",
          "Point 203<br>Failed<br>(0.01, 0.63, 0.13)",
          "Point 204<br>Successful<br>(0.02, 0.86, 0.01)",
          "Point 205<br>Failed<br>(0.01, 0.88, 0.09)",
          "Point 206<br>Failed<br>(0.01, 0.87, 0.04)",
          "Point 207<br>Failed<br>(0.01, 0.98, 0.07)",
          "Point 208<br>Successful<br>(0.03, 0.97, 0.01)",
          "Point 209<br>Failed<br>(0.02, 0.99, 0.04)",
          "Point 210<br>Successful<br>(0.03, 0.78, 0.03)",
          "Point 211<br>Failed<br>(0.01, 0.80, 0.06)",
          "Point 212<br>Successful<br>(0.02, 0.81, 0.03)",
          "Point 213<br>Successful<br>(0.02, 0.71, 0.04)",
          "Point 214<br>Failed<br>(0.01, 0.80, 0.06)",
          "Point 215<br>Failed<br>(0.01, 0.75, 0.03)",
          "Point 216<br>Successful<br>(0.02, 0.64, 0.06)",
          "Point 217<br>Failed<br>(0.01, 0.71, 0.10)",
          "Point 218<br>Failed<br>(0.01, 0.67, 0.07)",
          "Point 219<br>Successful<br>(0.01, 0.55, 0.24)",
          "Point 220<br>Failed<br>(0.00, 0.64, 0.21)",
          "Point 221<br>Failed<br>(0.01, 0.59, 0.20)",
          "Point 222<br>Successful<br>(0.01, 0.55, 0.08)",
          "Point 223<br>Failed<br>(0.00, 0.62, 0.12)",
          "Point 224<br>Failed<br>(0.00, 0.57, 0.09)",
          "Point 225<br>Successful<br>(0.02, 0.57, 0.18)",
          "Point 226<br>Failed<br>(0.00, 0.62, 0.12)",
          "Point 227<br>Failed<br>(0.01, 0.59, 0.16)",
          "Point 228<br>Successful<br>(0.04, 0.99, 0.05)",
          "Point 229<br>Failed<br>(0.01, 0.69, 0.09)",
          "Point 230<br>Successful<br>(0.03, 0.67, 0.06)",
          "Point 231<br>Successful<br>(0.02, 0.66, 0.09)",
          "Point 232<br>Successful<br>(0.02, 0.59, 0.02)",
          "Point 233<br>Failed<br>(0.00, 0.65, 0.06)",
          "Point 234<br>Failed<br>(0.01, 0.61, 0.03)",
          "Point 235<br>Successful<br>(0.01, 0.50, 0.21)",
          "Point 236<br>Failed<br>(0.01, 0.58, 0.18)",
          "Point 237<br>Successful<br>(0.01, 0.54, 0.18)",
          "Point 238<br>Successful<br>(0.02, 0.58, 0.25)",
          "Point 239<br>Failed<br>(0.01, 0.58, 0.18)",
          "Point 240<br>Successful<br>(0.02, 0.60, 0.20)",
          "Point 241<br>Successful<br>(0.01, 0.49, 0.04)",
          "Point 242<br>Successful<br>(0.00, 0.53, 0.21)",
          "Point 243<br>Failed<br>(0.01, 0.60, 0.15)",
          "Point 244<br>Successful<br>(0.00, 0.57, 0.18)",
          "Point 245<br>Successful<br>(0.02, 0.55, 0.14)",
          "Point 246<br>Failed<br>(0.01, 0.60, 0.15)",
          "Point 247<br>Successful<br>(0.02, 0.59, 0.14)",
          "Point 248<br>Failed<br>(0.01, 0.50, 0.12)",
          "Point 249<br>Successful<br>(0.02, 0.47, 0.20)",
          "Point 250<br>Successful<br>(0.01, 0.47, 0.15)",
          "Point 251<br>Successful<br>(0.02, 0.41, 0.12)",
          "Point 252<br>Failed<br>(0.01, 0.49, 0.09)",
          "Point 253<br>Successful<br>(0.01, 0.44, 0.09)",
          "Point 254<br>Successful<br>(0.02, 0.50, 0.13)",
          "Point 255<br>Failed<br>(0.01, 0.49, 0.09)",
          "Point 256<br>Successful<br>(0.02, 0.51, 0.10)",
          "Point 257<br>Failed<br>(0.00, 0.44, 0.18)",
          "Point 258<br>Successful<br>(0.02, 0.45, 0.21)",
          "Point 259<br>Successful<br>(0.01, 0.43, 0.21)",
          "Point 260<br>Successful<br>(0.02, 0.47, 0.06)",
          "Point 261<br>Failed<br>(0.00, 0.50, 0.07)",
          "Point 262<br>Successful<br>(0.01, 0.50, 0.05)",
          "Point 263<br>Failed<br>(0.01, 0.41, 0.03)",
          "Point 264<br>Successful<br>(0.02, 0.39, 0.11)",
          "Point 265<br>Successful<br>(0.01, 0.38, 0.06)",
          "Point 266<br>Successful<br>(0.01, 0.38, 0.25)",
          "Point 267<br>Successful<br>(0.01, 0.39, 0.16)",
          "Point 268<br>Successful<br>(0.00, 0.47, 0.26)",
          "Point 269<br>Successful<br>(0.02, 0.32, 0.03)",
          "Point 270<br>Failed<br>(0.01, 0.40, 0.00)",
          "Point 271<br>Successful<br>(0.02, 0.41, 0.03)",
          "Point 272<br>Failed<br>(0.01, 0.40, 0.00)",
          "Point 273<br>Failed<br>(0.00, 0.35, 0.09)",
          "Point 274<br>Successful<br>(0.02, 0.36, 0.11)",
          "Point 275<br>Successful<br>(0.01, 0.35, 0.12)",
          "Point 276<br>Successful<br>(0.01, 0.31, 0.18)",
          "Point 277<br>Successful<br>(0.01, 0.29, 0.08)",
          "Point 278<br>Successful<br>(0.01, 0.40, 0.15)",
          "Point 279<br>Successful<br>(0.12, 0.15, 0.55)"
         ],
         "type": "scatter3d",
         "x": [
          0.12374076843261719,
          0.0861946702003479,
          0.1266404151916504,
          0.12343869209289551,
          0.11280298233032227,
          0.07361482381820679,
          0.16967960596084597,
          0.08236454129219056,
          0.14311048984527588,
          0.031421369314193724,
          0.12302347421646119,
          0.014252328872680665,
          0.17714564800262453,
          0.086623352766037,
          0.0600969672203064,
          0.13690944910049438,
          0.19669618606567385,
          0.04018464684486389,
          0.07734165191650391,
          0.03266094624996185,
          0.1107865571975708,
          0.08533162474632264,
          0.13597458600997925,
          0.19219796657562258,
          0.0029324088245630264,
          0.06536017656326294,
          0.01662866473197937,
          0.18634616136550905,
          0.10406401157379151,
          0.10543357133865357,
          0.15908484458923342,
          0.03982042968273163,
          0.04597715437412262,
          0.0357238918542862,
          0.07444283962249756,
          0.13263505697250366,
          0.04924960434436798,
          0.18149344921112062,
          0.14319772720336915,
          0.057491087913513185,
          0.18836511373519899,
          0.020326943695545198,
          0.022337980568408966,
          0.12688201665878296,
          0.16025227308273315,
          0.10580997467041016,
          0.1482502579689026,
          0.0719126284122467,
          0.15329644680023194,
          0.06168197393417359,
          0.18054630756378176,
          0.11529320478439331,
          0.18316960334777832,
          0.06530909538269043,
          0.05563350319862366,
          0.13716952800750734,
          0.1980814814567566,
          0.17599794864654542,
          0.13343367576599122,
          0.04458723366260529,
          0.02490769773721695,
          0.04802254140377045,
          0.019052962958812716,
          0.11294170618057252,
          0.0008296375162899494,
          0.031434532999992375,
          0.0865527093410492,
          0.066755872964859,
          0.16831361055374147,
          0.11753036975860597,
          0.011924972385168077,
          0.06783286929130554,
          0.03987892270088196,
          0.02590194642543793,
          0.018913459777832032,
          0.007988897711038589,
          0.01096745952963829,
          0.005569957196712494,
          0.029838022589683533,
          0.01096745952963829,
          0.021019621193408968,
          0.022589737176895143,
          0.01096745952963829,
          0.01589431017637253,
          0.015237182378768921,
          0.026859459280967713,
          0.021932609379291534,
          0.010883494466543199,
          0.008385801315307617,
          0.005791238322854043,
          0.026943424344062807,
          0.008385801315307617,
          0.017147324979305267,
          0.02346187382936478,
          0.008385801315307617,
          0.01468549519777298,
          0.014365045726299286,
          0.029441118240356445,
          0.023141424357891086,
          0.03497339189052582,
          0.01641576737165451,
          0.025177291035652163,
          0.03149183988571167,
          0.01641576737165451,
          0.022715461254119874,
          0.02239501178264618,
          0.01641576737165451,
          0.016283032298088074,
          0.015431907773017884,
          0.012934215366840363,
          0.010339652001857758,
          0.028010287880897523,
          0.012934215366840363,
          0.019233909249305726,
          0.02138180881738663,
          0.012481031566858293,
          0.01435915231704712,
          0.03204421997070313,
          0.012481031566858293,
          0.021898615360260013,
          0.014238627254962923,
          0.012481031566858293,
          0.009308160841464996,
          0.02273051291704178,
          0.012055068463087083,
          0.01416834443807602,
          0.020955845713615417,
          0.012055068463087083,
          0.01291346698999405,
          0.029398733377456666,
          0.012055068463087083,
          0.018883489072322845,
          0.013812664151191712,
          0.033375853300094606,
          0.02395826876163483,
          0.017846597731113436,
          0.011867353320121767,
          0.011734618991613389,
          0.001430343557149172,
          0.008573516458272935,
          0.002790973149240017,
          0.01998032182455063,
          0.019622194766998294,
          0.010721416771411897,
          0.015088008344173433,
          0.03028460443019867,
          0.010721416771411897,
          0.007548546046018601,
          0.012479013204574585,
          0.010721416771411897,
          0.020139001309871674,
          0.01982594132423401,
          0.008065351843833923,
          0.010651419311761856,
          0.012479013204574585,
          0.00357823520898819,
          0.005456356331706047,
          0.005335831642150879,
          0.00357823520898819,
          0.000405364204198122,
          0.018509069085121156,
          0.03585273325443268,
          0.029024311900138856,
          0.009816632419824601,
          0.02837425470352173,
          0.0196127325296402,
          0.025876563787460328,
          0.00731893926858902,
          0.01608046144247055,
          0.013298183679580688,
          0.02837425470352173,
          0.022074562311172486,
          0.006030598282814026,
          0.0089618019759655,
          0.006160271912813187,
          0.01775326728820801,
          0.005992678180336952,
          0.008578745275735855,
          0.019238711893558504,
          0.005992678180336952,
          0.009629113227128984,
          0.003576216846704483,
          0.035614794492721556,
          0.016760489344596865,
          0.025012657046318054,
          0.027553197741508485,
          0.016760489344596865,
          0.019312244653701783,
          0.021328149735927584,
          0.015348905324935914,
          0.015216170251369477,
          0.03097735941410065,
          0.011414168775081635,
          0.020831753313541413,
          0.005070687457919121,
          0.00427098385989666,
          0.002893459051847458,
          0.02156558930873871,
          0.00427098385989666,
          0.014557115733623505,
          0.015680593252182008,
          0.003920004144310952,
          0.006506071239709855,
          0.021882420778274538,
          0.011680647730827332,
          0.013372093439102173,
          0.011334408074617386,
          0.026943841576576234,
          0.01906741708517075,
          0.029358115792274476,
          0.010800491273403169,
          0.0195620134472847,
          0.016779735684394836,
          0.010800491273403169,
          0.010667756199836731,
          0.01875907927751541,
          0.006998489797115326,
          0.009584557265043259,
          0.008891458064317704,
          0.0023279832676053047,
          0.006734833121299744,
          0.013607919216156006,
          0.0018473301082849503,
          0.004433397576212883,
          0.0150933638215065,
          0.0018473301082849503,
          0.005483765155076981,
          0.037728375196456915,
          0.008749769628047943,
          0.027307394146919253,
          0.0185458704829216,
          0.01668640524148941,
          0.004925815761089325,
          0.007511883229017258,
          0.014889456331729889,
          0.008325982093811036,
          0.01273283213376999,
          0.02152887284755707,
          0.008325982093811036,
          0.017427606880664828,
          0.011535245925188065,
          0.000485655153170228,
          0.008091753721237183,
          0.0007910327985882759,
          0.024980007112026217,
          0.008091753721237183,
          0.018111155927181245,
          0.007786411046981812,
          0.017373909056186677,
          0.012516921758651734,
          0.016599927842617036,
          0.005737536773085594,
          0.010610293596982956,
          0.024065470695495608,
          0.005737536773085594,
          0.015889230370521545,
          0.0009683715179562569,
          0.019296306371688846,
          0.009144612401723862,
          0.02176434397697449,
          0.002929423563182354,
          0.013066202402114868,
          0.007061856985092163,
          0.018291164934635163,
          0.013532365858554841,
          0.007414112240076065,
          0.014149488508701326,
          0.004139736667275429,
          0.016990554332733155,
          0.005592046678066254,
          0.024532014131546022,
          0.005592046678066254,
          0.00253271758556366,
          0.021472685039043427,
          0.011369093507528306,
          0.00937563106417656,
          0.014927874505519868,
          0.007810311764478684,
          0.12374076843261719
         ],
         "y": [
          0.1530042588710785,
          0.922994077205658,
          0.2978913187980652,
          0.2760917544364929,
          0.8019701838493347,
          0.3636828362941742,
          0.5896360874176025,
          0.9905396699905396,
          0.6365466713905334,
          0.759642481803894,
          0.6853414177894592,
          0.8599226474761963,
          0.7223174571990967,
          0.9355491399765015,
          0.26737815141677856,
          0.03678600490093231,
          0.11048614233732224,
          0.545847475528717,
          0.3657378852367401,
          0.012288601137697697,
          0.5393423438072205,
          0.4706273376941681,
          0.061592359095811844,
          0.6501597762107849,
          0.8036495447158813,
          0.6589164137840271,
          0.3802447021007538,
          0.3248792588710785,
          0.5899233222007751,
          0.23313072323799133,
          0.15845707058906555,
          0.4657752513885498,
          0.1725122034549713,
          0.9979071021080017,
          0.5931205153465271,
          0.4283774793148041,
          0.8676425814628601,
          0.7190986275672913,
          0.9977414608001709,
          0.8499425053596497,
          0.4230649769306183,
          0.31901615858078003,
          0.26036760210990906,
          0.3309231698513031,
          0.9118636846542358,
          0.6072548031806946,
          0.20158202946186066,
          0.9617940187454224,
          0.3444116413593292,
          0.4359925389289856,
          0.8840184211730957,
          0.8141913414001465,
          0.16224634647369385,
          0.2682916820049286,
          0.8200501799583435,
          0.20823483169078827,
          0.6616999506950378,
          0.332597553730011,
          0.13619449734687805,
          0.060645025223493576,
          0.9379892945289612,
          0.897036612033844,
          0.6692938208580017,
          0.8772966265678406,
          0.26773613691329956,
          0.621711015701294,
          0.8114612698554993,
          0.13012486696243286,
          0.3280629813671112,
          0.07256411761045456,
          0.9216542840003967,
          0.5373292565345764,
          0.7294917702674866,
          0.8255730271339417,
          0.8736136555671692,
          0.8450457453727722,
          0.9282364845275879,
          0.8920372128486633,
          0.9021816253662109,
          0.9282364845275879,
          0.9324384331703186,
          0.9067832231521606,
          0.9282364845275879,
          0.9356922507286072,
          0.8404440879821777,
          0.8189908266067505,
          0.8115350604057312,
          0.8507651686668396,
          0.9137634634971619,
          0.8858475685119629,
          0.8964621424674988,
          0.9137634634971619,
          0.9181602001190186,
          0.9262058138847351,
          0.9137634634971619,
          0.9391921758651733,
          0.8210214972496033,
          0.8334638476371765,
          0.808035135269165,
          0.9193106889724731,
          0.9366120100021362,
          0.9410086870193481,
          0.9490543603897095,
          0.9366120100021362,
          0.9620406627655029,
          0.8438699841499329,
          0.9366120100021362,
          0.8876640796661377,
          0.9033573269844055,
          0.9663556814193726,
          0.9384397268295288,
          0.9787980318069458,
          0.9663556814193726,
          0.9917843341827393,
          0.7426707744598389,
          0.799237072467804,
          0.7555943727493286,
          0.7845810651779175,
          0.799237072467804,
          0.7852294445037842,
          0.8314892649650574,
          0.799237072467804,
          0.8183985352516174,
          0.9769071936607361,
          0.9532425999641418,
          0.9750434160232544,
          0.8821730613708496,
          0.9532425999641418,
          0.9080563187599182,
          0.9998443126678467,
          0.9532425999641418,
          0.9912624359130859,
          0.9854947328567505,
          0.970838725566864,
          0.9848464131355286,
          0.7912778258323669,
          0.8840197920799255,
          0.8350719213485718,
          0.9759986996650696,
          0.9829862713813782,
          0.9964970946311951,
          0.9559495449066162,
          0.6773064136505127,
          0.7338727116584778,
          0.782669186592102,
          0.7192167043685913,
          0.7338727116584778,
          0.7530341744422913,
          0.7661249041557312,
          0.7338727116584778,
          0.719865083694458,
          0.7264039516448975,
          0.7955927848815918,
          0.7509615421295166,
          0.7661249041557312,
          0.8226912021636963,
          0.779048502445221,
          0.8549433350563049,
          0.8226912021636963,
          0.841852605342865,
          0.9180715084075928,
          0.9646732807159424,
          0.9266534447669983,
          0.7684292793273926,
          0.7511279582977295,
          0.7467312812805176,
          0.8141263127326965,
          0.8314276337623596,
          0.8358243703842163,
          0.7386856079101562,
          0.7511279582977295,
          0.7256993055343628,
          0.7144171595573425,
          0.6685083508491516,
          0.6738959550857544,
          0.6675784587860107,
          0.7367673516273499,
          0.6921360492706299,
          0.6899051666259766,
          0.7367673516273499,
          0.707923412322998,
          0.7895789742469788,
          0.871566891670227,
          0.8937010169029236,
          0.8644005060195923,
          0.9545750021934509,
          0.8937010169029236,
          0.9230960607528687,
          0.7615340948104858,
          0.8542761206626892,
          0.8053282499313354,
          0.7022451758384705,
          0.7169012427330017,
          0.7028935551643372,
          0.6066405177116394,
          0.6490527987480164,
          0.6110040545463562,
          0.6421672701835632,
          0.6490527987480164,
          0.6361252665519714,
          0.6087530255317688,
          0.6779418587684631,
          0.6333106160163879,
          0.8610585927963257,
          0.8800516724586487,
          0.873104453086853,
          0.9770187735557556,
          0.9661405086517334,
          0.9916621446609497,
          0.7843826413154602,
          0.8016839623451233,
          0.8060806393623352,
          0.7089419364929199,
          0.8016839623451233,
          0.7527360320091248,
          0.6440681219100952,
          0.7132569551467896,
          0.6686257123947144,
          0.5543934106826782,
          0.6409940123558044,
          0.5921804308891296,
          0.5499275326728821,
          0.6191163659095764,
          0.5744851231575012,
          0.5722541809082031,
          0.6191163659095764,
          0.5902724266052246,
          0.9927055835723877,
          0.6860934495925903,
          0.6687921285629272,
          0.6643953919410706,
          0.5852426290512085,
          0.6544314622879028,
          0.6098002195358276,
          0.49778279662132263,
          0.5843834280967712,
          0.5355697870254517,
          0.5826039910316467,
          0.5843834280967712,
          0.5955474376678467,
          0.49110206961631775,
          0.5254359245300293,
          0.5968056917190552,
          0.5717043876647949,
          0.545703649520874,
          0.5968056917190552,
          0.5860358476638794,
          0.5032051205635071,
          0.47433391213417053,
          0.46938422322273254,
          0.4109281897544861,
          0.48979923129081726,
          0.44248518347740173,
          0.5020357370376587,
          0.48979923129081726,
          0.5069079399108887,
          0.4367327094078064,
          0.44896918535232544,
          0.4318605065345764,
          0.4709266126155853,
          0.4982554316520691,
          0.5020318031311035,
          0.41116800904273987,
          0.3867149353027344,
          0.3809050917625427,
          0.376255065202713,
          0.39022910594940186,
          0.4734918773174286,
          0.32077282667160034,
          0.3981960117816925,
          0.412291944026947,
          0.3981960117816925,
          0.3495182394981384,
          0.36361414194107056,
          0.3464846909046173,
          0.309195876121521,
          0.28808778524398804,
          0.4048815965652466,
          0.1530042588710785
         ],
         "z": [
          0.5467185378074646,
          0.37547439336776733,
          0.44055160880088806,
          0.6204258799552917,
          0.23477290570735931,
          0.24676214158535004,
          0.38551363348960876,
          0.04790208116173744,
          0.2649681568145752,
          0.5102535486221313,
          0.36621415615081787,
          0.33686989545822144,
          0.5586579442024231,
          0.10445460677146912,
          0.2561188042163849,
          0.6245109438896179,
          0.8976757526397705,
          0.9813680052757263,
          0.6821339726448059,
          0.38225001096725464,
          0.4379022419452667,
          0.05570153519511223,
          0.9290456771850586,
          0.21910609304904938,
          0.4753222167491913,
          0.133392795920372,
          0.22161917388439178,
          0.9158852696418762,
          0.22478345036506653,
          0.8631775379180908,
          0.05110764876008034,
          0.24643972516059875,
          0.1771232783794403,
          0.5627447962760925,
          0.47558358311653137,
          0.43163424730300903,
          0.1146184504032135,
          0.3223641514778137,
          0.4730727970600128,
          0.102532297372818,
          0.8528536558151245,
          0.6952208876609802,
          0.559055745601654,
          0.9193447828292847,
          0.6810921430587769,
          0.42769160866737366,
          0.004603694658726454,
          0.4265846908092499,
          0.9497939348220825,
          0.3158806562423706,
          0.26285162568092346,
          0.024766109883785248,
          0.27947795391082764,
          0.8761372566223145,
          0.9643412828445435,
          0.44446685910224915,
          0.12736199796199799,
          0.11517103016376495,
          0.0016349982470273972,
          0.9750586748123169,
          0.6973064541816711,
          0.2711080312728882,
          0.7790168523788452,
          0.5888751149177551,
          0.4340980648994446,
          0.6403225660324097,
          0.2720603942871094,
          0.6297158002853394,
          0.9519827365875244,
          0.09988545626401901,
          0.288056343793869,
          0.4173874258995056,
          0.3527218997478485,
          0.32038912177085876,
          0.3042227327823639,
          0.33739230036735535,
          0.28584134578704834,
          0.3146795630455017,
          0.27105313539505005,
          0.28584134578704834,
          0.2677706778049469,
          0.36306068301200867,
          0.28584134578704834,
          0.3328298330307007,
          0.24538478255271912,
          0.32260411977767944,
          0.2756156325340271,
          0.3568149209022522,
          0.28148066997528076,
          0.3253299593925476,
          0.2516305446624756,
          0.28148066997528076,
          0.2509533762931824,
          0.3444329500198364,
          0.28148066997528076,
          0.3165745735168457,
          0.26401251554489136,
          0.326964795589447,
          0.2918708920478821,
          0.19903837144374847,
          0.22888848185539246,
          0.19836118817329407,
          0.2918407618999481,
          0.22888848185539246,
          0.2639823853969574,
          0.21142034232616425,
          0.22888848185539246,
          0.20711655914783478,
          0.39702510833740234,
          0.3216908574104309,
          0.36554014682769775,
          0.3846431374549866,
          0.3216908574104309,
          0.35678476095199585,
          0.315324991941452,
          0.24735690653324127,
          0.2769792973995209,
          0.24320456385612488,
          0.24735690653324127,
          0.2259824573993683,
          0.3405372202396393,
          0.24735690653324127,
          0.2948070466518402,
          0.13952554762363434,
          0.2194683998823166,
          0.1716831624507904,
          0.16685162484645844,
          0.2194683998823166,
          0.1910056173801422,
          0.2298707664012909,
          0.2194683998823166,
          0.2355668693780899,
          0.3126487135887146,
          0.308496356010437,
          0.3298708200454712,
          0.1712101399898529,
          0.18867826461791992,
          0.16690635681152344,
          0.40433356165885925,
          0.31227079033851624,
          0.355304092168808,
          0.4372353255748749,
          0.3387790620326996,
          0.27081099152565,
          0.26726430654525757,
          0.2666586637496948,
          0.27081099152565,
          0.31826111674308777,
          0.36399132013320923,
          0.27081099152565,
          0.24943655729293823,
          0.189483642578125,
          0.22891861200332642,
          0.20225006341934204,
          0.36399132013320923,
          0.2960232198238373,
          0.3256456255912781,
          0.3892035484313965,
          0.2960232198238373,
          0.3434733748435974,
          0.10801597684621811,
          0.11841833591461182,
          0.1023198664188385,
          0.22380231320858002,
          0.19395220279693604,
          0.22447949647903442,
          0.1186179518699646,
          0.14846806228160858,
          0.11794077605009079,
          0.13099992275238037,
          0.19395220279693604,
          0.1588582992553711,
          0.20779205858707428,
          0.29426509141921997,
          0.2428344339132309,
          0.15298481285572052,
          0.19241979718208313,
          0.16575124859809875,
          0.24914279580116272,
          0.19241979718208313,
          0.23374520242214203,
          0.41265761852264404,
          0.07439828664064407,
          0.09496428817510605,
          0.0773751512169838,
          0.03855246305465698,
          0.09496428817510605,
          0.05202832445502281,
          0.07840774208307266,
          0.09587588161230087,
          0.07410397380590439,
          0.11019197106361389,
          0.11434431374073029,
          0.0929698720574379,
          0.32060617208480835,
          0.23124615848064423,
          0.268329918384552,
          0.27894318103790283,
          0.23124615848064423,
          0.23886974155902863,
          0.11648599803447723,
          0.15592096745967865,
          0.12925241887569427,
          0.009229187853634357,
          0.0919175073504448,
          0.03947167843580246,
          0.07205827534198761,
          0.01213914155960083,
          0.037985727190971375,
          0.025815563276410103,
          0.055665675550699234,
          0.025138385593891144,
          0.038197536021471024,
          0.055665675550699234,
          0.03389376401901245,
          0.056471046060323715,
          0.09590601921081543,
          0.06923747807741165,
          0.2401193380355835,
          0.20514285564422607,
          0.20370201766490936,
          0.07998716831207275,
          0.11942214518785477,
          0.09275360405445099,
          0.17614515125751495,
          0.11942214518785477,
          0.16074755787849426,
          0.04800892621278763,
          0.09078972041606903,
          0.06093960627913475,
          0.09146689623594284,
          0.019972221925854683,
          0.05940719321370125,
          0.03273865208029747,
          0.2119087278842926,
          0.17693226039409637,
          0.17549142241477966,
          0.2506813406944275,
          0.17693226039409637,
          0.20290778577327728,
          0.04348834976553917,
          0.20785608887672424,
          0.15075930953025818,
          0.18088845908641815,
          0.14312675595283508,
          0.15075930953025818,
          0.13511790335178375,
          0.11856294423341751,
          0.20022352039813995,
          0.15272514522075653,
          0.12007363140583038,
          0.09498239308595657,
          0.08880674839019775,
          0.13037221133708954,
          0.09498239308595657,
          0.0960889384150505,
          0.17507807910442352,
          0.2104678899049759,
          0.20936134457588196,
          0.057489585131406784,
          0.07106456160545349,
          0.05411655083298683,
          0.02876967191696167,
          0.10654892772436142,
          0.05889974161982536,
          0.25099271535873413,
          0.1589568853378296,
          0.2597658038139343,
          0.027512891218066216,
          0.003901501651853323,
          0.02906588651239872,
          0.003901501651853323,
          0.08873359858989716,
          0.11389798671007156,
          0.1188850924372673,
          0.17728200554847717,
          0.08463340252637863,
          0.15313678979873657,
          0.5467185378074646
         ]
        }
       ],
       "layout": {
        "height": 800,
        "scene": {
         "xaxis": {
          "title": {
           "text": "Progress Weight"
          }
         },
         "yaxis": {
          "title": {
           "text": "Bounds Weight"
          }
         },
         "zaxis": {
          "title": {
           "text": "Proximity Weight"
          }
         }
        },
        "template": {
         "data": {
          "bar": [
           {
            "error_x": {
             "color": "#2a3f5f"
            },
            "error_y": {
             "color": "#2a3f5f"
            },
            "marker": {
             "line": {
              "color": "#E5ECF6",
              "width": 0.5
             },
             "pattern": {
              "fillmode": "overlay",
              "size": 10,
              "solidity": 0.2
             }
            },
            "type": "bar"
           }
          ],
          "barpolar": [
           {
            "marker": {
             "line": {
              "color": "#E5ECF6",
              "width": 0.5
             },
             "pattern": {
              "fillmode": "overlay",
              "size": 10,
              "solidity": 0.2
             }
            },
            "type": "barpolar"
           }
          ],
          "carpet": [
           {
            "aaxis": {
             "endlinecolor": "#2a3f5f",
             "gridcolor": "white",
             "linecolor": "white",
             "minorgridcolor": "white",
             "startlinecolor": "#2a3f5f"
            },
            "baxis": {
             "endlinecolor": "#2a3f5f",
             "gridcolor": "white",
             "linecolor": "white",
             "minorgridcolor": "white",
             "startlinecolor": "#2a3f5f"
            },
            "type": "carpet"
           }
          ],
          "choropleth": [
           {
            "colorbar": {
             "outlinewidth": 0,
             "ticks": ""
            },
            "type": "choropleth"
           }
          ],
          "contour": [
           {
            "colorbar": {
             "outlinewidth": 0,
             "ticks": ""
            },
            "colorscale": [
             [
              0,
              "#0d0887"
             ],
             [
              0.1111111111111111,
              "#46039f"
             ],
             [
              0.2222222222222222,
              "#7201a8"
             ],
             [
              0.3333333333333333,
              "#9c179e"
             ],
             [
              0.4444444444444444,
              "#bd3786"
             ],
             [
              0.5555555555555556,
              "#d8576b"
             ],
             [
              0.6666666666666666,
              "#ed7953"
             ],
             [
              0.7777777777777778,
              "#fb9f3a"
             ],
             [
              0.8888888888888888,
              "#fdca26"
             ],
             [
              1,
              "#f0f921"
             ]
            ],
            "type": "contour"
           }
          ],
          "contourcarpet": [
           {
            "colorbar": {
             "outlinewidth": 0,
             "ticks": ""
            },
            "type": "contourcarpet"
           }
          ],
          "heatmap": [
           {
            "colorbar": {
             "outlinewidth": 0,
             "ticks": ""
            },
            "colorscale": [
             [
              0,
              "#0d0887"
             ],
             [
              0.1111111111111111,
              "#46039f"
             ],
             [
              0.2222222222222222,
              "#7201a8"
             ],
             [
              0.3333333333333333,
              "#9c179e"
             ],
             [
              0.4444444444444444,
              "#bd3786"
             ],
             [
              0.5555555555555556,
              "#d8576b"
             ],
             [
              0.6666666666666666,
              "#ed7953"
             ],
             [
              0.7777777777777778,
              "#fb9f3a"
             ],
             [
              0.8888888888888888,
              "#fdca26"
             ],
             [
              1,
              "#f0f921"
             ]
            ],
            "type": "heatmap"
           }
          ],
          "heatmapgl": [
           {
            "colorbar": {
             "outlinewidth": 0,
             "ticks": ""
            },
            "colorscale": [
             [
              0,
              "#0d0887"
             ],
             [
              0.1111111111111111,
              "#46039f"
             ],
             [
              0.2222222222222222,
              "#7201a8"
             ],
             [
              0.3333333333333333,
              "#9c179e"
             ],
             [
              0.4444444444444444,
              "#bd3786"
             ],
             [
              0.5555555555555556,
              "#d8576b"
             ],
             [
              0.6666666666666666,
              "#ed7953"
             ],
             [
              0.7777777777777778,
              "#fb9f3a"
             ],
             [
              0.8888888888888888,
              "#fdca26"
             ],
             [
              1,
              "#f0f921"
             ]
            ],
            "type": "heatmapgl"
           }
          ],
          "histogram": [
           {
            "marker": {
             "pattern": {
              "fillmode": "overlay",
              "size": 10,
              "solidity": 0.2
             }
            },
            "type": "histogram"
           }
          ],
          "histogram2d": [
           {
            "colorbar": {
             "outlinewidth": 0,
             "ticks": ""
            },
            "colorscale": [
             [
              0,
              "#0d0887"
             ],
             [
              0.1111111111111111,
              "#46039f"
             ],
             [
              0.2222222222222222,
              "#7201a8"
             ],
             [
              0.3333333333333333,
              "#9c179e"
             ],
             [
              0.4444444444444444,
              "#bd3786"
             ],
             [
              0.5555555555555556,
              "#d8576b"
             ],
             [
              0.6666666666666666,
              "#ed7953"
             ],
             [
              0.7777777777777778,
              "#fb9f3a"
             ],
             [
              0.8888888888888888,
              "#fdca26"
             ],
             [
              1,
              "#f0f921"
             ]
            ],
            "type": "histogram2d"
           }
          ],
          "histogram2dcontour": [
           {
            "colorbar": {
             "outlinewidth": 0,
             "ticks": ""
            },
            "colorscale": [
             [
              0,
              "#0d0887"
             ],
             [
              0.1111111111111111,
              "#46039f"
             ],
             [
              0.2222222222222222,
              "#7201a8"
             ],
             [
              0.3333333333333333,
              "#9c179e"
             ],
             [
              0.4444444444444444,
              "#bd3786"
             ],
             [
              0.5555555555555556,
              "#d8576b"
             ],
             [
              0.6666666666666666,
              "#ed7953"
             ],
             [
              0.7777777777777778,
              "#fb9f3a"
             ],
             [
              0.8888888888888888,
              "#fdca26"
             ],
             [
              1,
              "#f0f921"
             ]
            ],
            "type": "histogram2dcontour"
           }
          ],
          "mesh3d": [
           {
            "colorbar": {
             "outlinewidth": 0,
             "ticks": ""
            },
            "type": "mesh3d"
           }
          ],
          "parcoords": [
           {
            "line": {
             "colorbar": {
              "outlinewidth": 0,
              "ticks": ""
             }
            },
            "type": "parcoords"
           }
          ],
          "pie": [
           {
            "automargin": true,
            "type": "pie"
           }
          ],
          "scatter": [
           {
            "fillpattern": {
             "fillmode": "overlay",
             "size": 10,
             "solidity": 0.2
            },
            "type": "scatter"
           }
          ],
          "scatter3d": [
           {
            "line": {
             "colorbar": {
              "outlinewidth": 0,
              "ticks": ""
             }
            },
            "marker": {
             "colorbar": {
              "outlinewidth": 0,
              "ticks": ""
             }
            },
            "type": "scatter3d"
           }
          ],
          "scattercarpet": [
           {
            "marker": {
             "colorbar": {
              "outlinewidth": 0,
              "ticks": ""
             }
            },
            "type": "scattercarpet"
           }
          ],
          "scattergeo": [
           {
            "marker": {
             "colorbar": {
              "outlinewidth": 0,
              "ticks": ""
             }
            },
            "type": "scattergeo"
           }
          ],
          "scattergl": [
           {
            "marker": {
             "colorbar": {
              "outlinewidth": 0,
              "ticks": ""
             }
            },
            "type": "scattergl"
           }
          ],
          "scattermapbox": [
           {
            "marker": {
             "colorbar": {
              "outlinewidth": 0,
              "ticks": ""
             }
            },
            "type": "scattermapbox"
           }
          ],
          "scatterpolar": [
           {
            "marker": {
             "colorbar": {
              "outlinewidth": 0,
              "ticks": ""
             }
            },
            "type": "scatterpolar"
           }
          ],
          "scatterpolargl": [
           {
            "marker": {
             "colorbar": {
              "outlinewidth": 0,
              "ticks": ""
             }
            },
            "type": "scatterpolargl"
           }
          ],
          "scatterternary": [
           {
            "marker": {
             "colorbar": {
              "outlinewidth": 0,
              "ticks": ""
             }
            },
            "type": "scatterternary"
           }
          ],
          "surface": [
           {
            "colorbar": {
             "outlinewidth": 0,
             "ticks": ""
            },
            "colorscale": [
             [
              0,
              "#0d0887"
             ],
             [
              0.1111111111111111,
              "#46039f"
             ],
             [
              0.2222222222222222,
              "#7201a8"
             ],
             [
              0.3333333333333333,
              "#9c179e"
             ],
             [
              0.4444444444444444,
              "#bd3786"
             ],
             [
              0.5555555555555556,
              "#d8576b"
             ],
             [
              0.6666666666666666,
              "#ed7953"
             ],
             [
              0.7777777777777778,
              "#fb9f3a"
             ],
             [
              0.8888888888888888,
              "#fdca26"
             ],
             [
              1,
              "#f0f921"
             ]
            ],
            "type": "surface"
           }
          ],
          "table": [
           {
            "cells": {
             "fill": {
              "color": "#EBF0F8"
             },
             "line": {
              "color": "white"
             }
            },
            "header": {
             "fill": {
              "color": "#C8D4E3"
             },
             "line": {
              "color": "white"
             }
            },
            "type": "table"
           }
          ]
         },
         "layout": {
          "annotationdefaults": {
           "arrowcolor": "#2a3f5f",
           "arrowhead": 0,
           "arrowwidth": 1
          },
          "autotypenumbers": "strict",
          "coloraxis": {
           "colorbar": {
            "outlinewidth": 0,
            "ticks": ""
           }
          },
          "colorscale": {
           "diverging": [
            [
             0,
             "#8e0152"
            ],
            [
             0.1,
             "#c51b7d"
            ],
            [
             0.2,
             "#de77ae"
            ],
            [
             0.3,
             "#f1b6da"
            ],
            [
             0.4,
             "#fde0ef"
            ],
            [
             0.5,
             "#f7f7f7"
            ],
            [
             0.6,
             "#e6f5d0"
            ],
            [
             0.7,
             "#b8e186"
            ],
            [
             0.8,
             "#7fbc41"
            ],
            [
             0.9,
             "#4d9221"
            ],
            [
             1,
             "#276419"
            ]
           ],
           "sequential": [
            [
             0,
             "#0d0887"
            ],
            [
             0.1111111111111111,
             "#46039f"
            ],
            [
             0.2222222222222222,
             "#7201a8"
            ],
            [
             0.3333333333333333,
             "#9c179e"
            ],
            [
             0.4444444444444444,
             "#bd3786"
            ],
            [
             0.5555555555555556,
             "#d8576b"
            ],
            [
             0.6666666666666666,
             "#ed7953"
            ],
            [
             0.7777777777777778,
             "#fb9f3a"
            ],
            [
             0.8888888888888888,
             "#fdca26"
            ],
            [
             1,
             "#f0f921"
            ]
           ],
           "sequentialminus": [
            [
             0,
             "#0d0887"
            ],
            [
             0.1111111111111111,
             "#46039f"
            ],
            [
             0.2222222222222222,
             "#7201a8"
            ],
            [
             0.3333333333333333,
             "#9c179e"
            ],
            [
             0.4444444444444444,
             "#bd3786"
            ],
            [
             0.5555555555555556,
             "#d8576b"
            ],
            [
             0.6666666666666666,
             "#ed7953"
            ],
            [
             0.7777777777777778,
             "#fb9f3a"
            ],
            [
             0.8888888888888888,
             "#fdca26"
            ],
            [
             1,
             "#f0f921"
            ]
           ]
          },
          "colorway": [
           "#636efa",
           "#EF553B",
           "#00cc96",
           "#ab63fa",
           "#FFA15A",
           "#19d3f3",
           "#FF6692",
           "#B6E880",
           "#FF97FF",
           "#FECB52"
          ],
          "font": {
           "color": "#2a3f5f"
          },
          "geo": {
           "bgcolor": "white",
           "lakecolor": "white",
           "landcolor": "#E5ECF6",
           "showlakes": true,
           "showland": true,
           "subunitcolor": "white"
          },
          "hoverlabel": {
           "align": "left"
          },
          "hovermode": "closest",
          "mapbox": {
           "style": "light"
          },
          "paper_bgcolor": "white",
          "plot_bgcolor": "#E5ECF6",
          "polar": {
           "angularaxis": {
            "gridcolor": "white",
            "linecolor": "white",
            "ticks": ""
           },
           "bgcolor": "#E5ECF6",
           "radialaxis": {
            "gridcolor": "white",
            "linecolor": "white",
            "ticks": ""
           }
          },
          "scene": {
           "xaxis": {
            "backgroundcolor": "#E5ECF6",
            "gridcolor": "white",
            "gridwidth": 2,
            "linecolor": "white",
            "showbackground": true,
            "ticks": "",
            "zerolinecolor": "white"
           },
           "yaxis": {
            "backgroundcolor": "#E5ECF6",
            "gridcolor": "white",
            "gridwidth": 2,
            "linecolor": "white",
            "showbackground": true,
            "ticks": "",
            "zerolinecolor": "white"
           },
           "zaxis": {
            "backgroundcolor": "#E5ECF6",
            "gridcolor": "white",
            "gridwidth": 2,
            "linecolor": "white",
            "showbackground": true,
            "ticks": "",
            "zerolinecolor": "white"
           }
          },
          "shapedefaults": {
           "line": {
            "color": "#2a3f5f"
           }
          },
          "ternary": {
           "aaxis": {
            "gridcolor": "white",
            "linecolor": "white",
            "ticks": ""
           },
           "baxis": {
            "gridcolor": "white",
            "linecolor": "white",
            "ticks": ""
           },
           "bgcolor": "#E5ECF6",
           "caxis": {
            "gridcolor": "white",
            "linecolor": "white",
            "ticks": ""
           }
          },
          "title": {
           "x": 0.05
          },
          "xaxis": {
           "automargin": true,
           "gridcolor": "white",
           "linecolor": "white",
           "ticks": "",
           "title": {
            "standoff": 15
           },
           "zerolinecolor": "white",
           "zerolinewidth": 2
          },
          "yaxis": {
           "automargin": true,
           "gridcolor": "white",
           "linecolor": "white",
           "ticks": "",
           "title": {
            "standoff": 15
           },
           "zerolinecolor": "white",
           "zerolinewidth": 2
          }
         }
        },
        "title": {
         "text": "Is Vector Cost: 1, Metric: <function pass_test at 0x7c99a9c552d0>, Scenario: outside_edge"
        },
        "width": 1000
       }
      }
     },
     "metadata": {},
     "output_type": "display_data"
    }
   ],
   "source": [
    "# file = 'paper_data/scalar_collision_vector_pass.json'\n",
    "# plot_sembas_grid(file, start_index=4, num_plots=4)\n",
    "\n",
    "file = 'paper_data/scalar_bounds.json'\n",
    "# plot_sembas_grid(file, start_index=2, num_plots=1)\n",
    "# plot_sembas_results(file,2)\n",
    "\n",
    "file = 'paper_data/vector_pass.json'\n",
    "# plot_sembas_grid(file, start_index=6, num_plots=1)\n",
    "plot_sembas_results(file,2)\n",
    "\n",
    "\n",
    "# file = 'paper_data/scalar_pass.json'\n",
    "# plot_sembas_grid(file, start_index=0, num_plots=4)"
   ]
  }
 ],
 "metadata": {
  "kernelspec": {
   "display_name": "Python 3",
   "language": "python",
   "name": "python3"
  },
  "language_info": {
   "codemirror_mode": {
    "name": "ipython",
    "version": 3
   },
   "file_extension": ".py",
   "mimetype": "text/x-python",
   "name": "python",
   "nbconvert_exporter": "python",
   "pygments_lexer": "ipython3",
   "version": "3.13.1"
  }
 },
 "nbformat": 4,
 "nbformat_minor": 5
}
